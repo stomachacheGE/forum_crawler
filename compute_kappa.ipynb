{
 "cells": [
  {
   "cell_type": "code",
   "execution_count": 42,
   "metadata": {
    "collapsed": true
   },
   "outputs": [],
   "source": [
    "from matplotlib import pyplot as plt\n",
    "from matplotlib import style\n",
    "from matplotlib2tikz import save as tikz_save\n",
    "import numpy as np\n",
    "%matplotlib inline\n",
    "plt.rcParams['figure.figsize'] = (10.0, 8.0) # set default size of plots\n",
    "plt.rcParams['image.interpolation'] = 'nearest'\n",
    "#plt.rcParams['image.cmap'] = 'gray'"
   ]
  },
  {
   "cell_type": "code",
   "execution_count": 43,
   "metadata": {
    "collapsed": false
   },
   "outputs": [],
   "source": [
    "# initialize array for storing data\n",
    "number_data = 338\n",
    "data = {\"id\": np.empty([2, number_data], dtype=\"int32\"),\n",
    "       \"thread_id\": np.empty([2,number_data], dtype=\"int32\"),\n",
    "       \"sentiment\": np.empty([2,number_data], dtype=\"int32\"),\n",
    "        \"whoposts\": np.empty([2,number_data], dtype=\"str\"),\n",
    "       \"post_body\": np.empty([2,number_data], dtype=object)}"
   ]
  },
  {
   "cell_type": "code",
   "execution_count": 44,
   "metadata": {
    "collapsed": false
   },
   "outputs": [],
   "source": [
    "# read annotations from .csv file\n",
    "import csv\n",
    "files = ['data/posts_excel_deleted.csv', 'data/posts_excel_1_deleted.csv']\n",
    "for i in range(len(files)):\n",
    "    with open(files[i]) as csvfile:\n",
    "        reader = csv.reader(csvfile)\n",
    "        count = 0\n",
    "        for row in reader:\n",
    "            # exclude the first row, which are column names\n",
    "            if count != 0:\n",
    "                #print(\"Current line:\",count)\n",
    "                data['id'][i, count-1] = count\n",
    "                data['thread_id'][i, count-1] = row[0]\n",
    "                data['sentiment'][i, count-1] = row[1]\n",
    "                data['whoposts'][i, count-1] = row[2]\n",
    "                data['post_body'][i, count-1] = row[3]\n",
    "            count += 1"
   ]
  },
  {
   "cell_type": "code",
   "execution_count": 45,
   "metadata": {
    "collapsed": false
   },
   "outputs": [],
   "source": [
    "def validate(data):\n",
    "    temp = np.copy(data)\n",
    "    comp = temp[0,:]!=temp[1,:]\n",
    "    return np.where(comp)"
   ]
  },
  {
   "cell_type": "code",
   "execution_count": 46,
   "metadata": {
    "collapsed": false
   },
   "outputs": [],
   "source": [
    "distinct_id = validate(data['id'])\n",
    "#print(distinct_id)\n",
    "if distinct_id[0].size:\n",
    "    print(\"Error! There are \", distinct_id[0].size,\" ids not the same:\")\n",
    "    print(\"They are:\")\n",
    "    print(data['id'][distinct_id])"
   ]
  },
  {
   "cell_type": "code",
   "execution_count": 47,
   "metadata": {
    "collapsed": false
   },
   "outputs": [],
   "source": [
    "distinct_thread_id = validate(data['id'])\n",
    "#print(distinct_thread_id)\n",
    "if distinct_thread_id[0].size:\n",
    "    print(\"Error! There are \", distinct_thread_id[0].size,\" thread_ids not the same:\")\n",
    "    print(\"They are:\")\n",
    "    print(data['thread_id'][distinct_thread_id])"
   ]
  },
  {
   "cell_type": "code",
   "execution_count": 48,
   "metadata": {
    "collapsed": false
   },
   "outputs": [],
   "source": [
    "\"\"\" Computes the Fleiss' Kappa value as described in (Fleiss, 1971) \"\"\"\n",
    "\n",
    "DEBUG = True\n",
    "\n",
    "def computeKappa(mat):\n",
    "    \"\"\" Computes the Kappa value\n",
    "        @param n Number of rating per subjects (number of human raters)\n",
    "        @param mat Matrix[subjects][categories]\n",
    "        @return The Kappa value \"\"\"\n",
    "    n = checkEachLineCount(mat)   # PRE : every line count must be equal to n\n",
    "    N = len(mat)\n",
    "    k = len(mat[0])\n",
    "    \n",
    "    if DEBUG:\n",
    "        print(n, \"raters.\")\n",
    "        print(N, \"subjects.\")\n",
    "        print(k, \"categories.\")\n",
    "    \n",
    "    # Computing p[]\n",
    "    p = [0.0] * k\n",
    "    for j in range(k):\n",
    "        p[j] = 0.0\n",
    "        for i in range(N):\n",
    "            p[j] += mat[i][j]\n",
    "        p[j] /= N*n\n",
    "    if DEBUG: print(\"p =\", p)\n",
    "    \n",
    "    # Computing P[]    \n",
    "    P = [0.0] * N\n",
    "    for i in range(N):\n",
    "        P[i] = 0.0\n",
    "        for j in range(k):\n",
    "            P[i] += mat[i][j] * mat[i][j]\n",
    "        P[i] = (P[i] - n) / (n * (n - 1))\n",
    "    if DEBUG: print(\"P =\", P)\n",
    "    \n",
    "    # Computing Pbar\n",
    "    Pbar = sum(P) / N\n",
    "    if DEBUG: print(\"Pbar =\", Pbar)\n",
    "    \n",
    "    # Computing PbarE\n",
    "    PbarE = 0.0\n",
    "    for pj in p:\n",
    "        PbarE += pj * pj\n",
    "    if DEBUG: print(\"PbarE =\", PbarE)\n",
    "    \n",
    "    kappa = (Pbar - PbarE) / (1 - PbarE)\n",
    "    if DEBUG: print(\"kappa =\", kappa)\n",
    "    \n",
    "    return kappa\n",
    "\n",
    "def checkEachLineCount(mat):\n",
    "    \"\"\" Assert that each line has a constant number of ratings\n",
    "        @param mat The matrix checked\n",
    "        @return The number of ratings\n",
    "        @throws AssertionError If lines contain different number of ratings \"\"\"\n",
    "    n = sum(mat[0])\n",
    "    \n",
    "    assert all(sum(line) == n for line in mat[1:]), \"Line count != %d (n value).\" % n\n",
    "    return n\n"
   ]
  },
  {
   "cell_type": "code",
   "execution_count": 49,
   "metadata": {
    "collapsed": false
   },
   "outputs": [
    {
     "name": "stdout",
     "output_type": "stream",
     "text": [
      "(338, 2)\n",
      "338\n"
     ]
    }
   ],
   "source": [
    "print(data['sentiment'].T.shape)\n",
    "print(len(data['sentiment'].T))"
   ]
  },
  {
   "cell_type": "code",
   "execution_count": 50,
   "metadata": {
    "collapsed": false
   },
   "outputs": [
    {
     "name": "stdout",
     "output_type": "stream",
     "text": [
      "There are  90  annotations not the same:\n",
      "Indexes are:\n",
      "[[  9  10  15  25  34  35  36  46  47  48  49  50  63  64  67  71  73  77\n",
      "   79  80  81  84  94  95  96 107 109 118 119 120 123 130 134 142 143 147\n",
      "  153 155 158 164 165 166 167 168 176 178 179 180 182 184 190 193 198 200\n",
      "  207 209 210 211 213 218 219 224 227 228 234 239 243 246 248 251 255 263\n",
      "  264 270 278 279 285 290 291 299 300 310 312 314 315 317 321 322 324 334]]\n"
     ]
    }
   ],
   "source": [
    "# transform the sentiment data so that computeKappa takes it as argument\n",
    "temp = np.copy(data['sentiment'].T)\n",
    "#print(temp)\n",
    "#temp[:,0] = np.random.randint(2,size=temp.shape[0])\n",
    "#temp[300:,0]=1\n",
    "comp = temp[:,0]!=temp[:,1]\n",
    "print(\"There are \", sum(comp),\" annotations not the same:\")\n",
    "print(\"Indexes are:\")\n",
    "print(data['id'][0,np.where(comp)]+1)\n",
    "sentiment = np.empty((number_data,2),dtype=\"int\")\n",
    "sentiment[:,0] = np.sum(temp==0, axis=1)#number of \"negative\" annotations\n",
    "sentiment[:,1] = np.sum(temp==1, axis=1)#number of \"positive\" annotations"
   ]
  },
  {
   "cell_type": "code",
   "execution_count": 51,
   "metadata": {
    "collapsed": false
   },
   "outputs": [
    {
     "name": "stdout",
     "output_type": "stream",
     "text": [
      "2 raters.\n",
      "338 subjects.\n",
      "2 categories.\n",
      "p = [0.40532544378698226, 0.59467455621301779]\n",
      "P = [1.0, 1.0, 1.0, 1.0, 1.0, 1.0, 1.0, 0.0, 0.0, 1.0, 1.0, 1.0, 1.0, 0.0, 1.0, 1.0, 1.0, 1.0, 1.0, 1.0, 1.0, 1.0, 1.0, 0.0, 1.0, 1.0, 1.0, 1.0, 1.0, 1.0, 1.0, 1.0, 0.0, 0.0, 0.0, 1.0, 1.0, 1.0, 1.0, 1.0, 1.0, 1.0, 1.0, 1.0, 0.0, 0.0, 0.0, 0.0, 0.0, 1.0, 1.0, 1.0, 1.0, 1.0, 1.0, 1.0, 1.0, 1.0, 1.0, 1.0, 1.0, 0.0, 0.0, 1.0, 1.0, 0.0, 1.0, 1.0, 1.0, 0.0, 1.0, 0.0, 1.0, 1.0, 1.0, 0.0, 1.0, 0.0, 0.0, 0.0, 1.0, 1.0, 0.0, 1.0, 1.0, 1.0, 1.0, 1.0, 1.0, 1.0, 1.0, 1.0, 0.0, 0.0, 0.0, 1.0, 1.0, 1.0, 1.0, 1.0, 1.0, 1.0, 1.0, 1.0, 1.0, 0.0, 1.0, 0.0, 1.0, 1.0, 1.0, 1.0, 1.0, 1.0, 1.0, 1.0, 0.0, 0.0, 0.0, 1.0, 1.0, 0.0, 1.0, 1.0, 1.0, 1.0, 1.0, 1.0, 0.0, 1.0, 1.0, 1.0, 0.0, 1.0, 1.0, 1.0, 1.0, 1.0, 1.0, 1.0, 0.0, 0.0, 1.0, 1.0, 1.0, 0.0, 1.0, 1.0, 1.0, 1.0, 1.0, 0.0, 1.0, 0.0, 1.0, 1.0, 0.0, 1.0, 1.0, 1.0, 1.0, 1.0, 0.0, 0.0, 0.0, 0.0, 0.0, 1.0, 1.0, 1.0, 1.0, 1.0, 1.0, 1.0, 0.0, 1.0, 0.0, 0.0, 0.0, 1.0, 0.0, 1.0, 0.0, 1.0, 1.0, 1.0, 1.0, 1.0, 0.0, 1.0, 1.0, 0.0, 1.0, 1.0, 1.0, 1.0, 0.0, 1.0, 0.0, 1.0, 1.0, 1.0, 1.0, 1.0, 1.0, 0.0, 1.0, 0.0, 0.0, 0.0, 1.0, 0.0, 1.0, 1.0, 1.0, 1.0, 0.0, 0.0, 1.0, 1.0, 1.0, 1.0, 0.0, 1.0, 1.0, 0.0, 0.0, 1.0, 1.0, 1.0, 1.0, 1.0, 0.0, 1.0, 1.0, 1.0, 1.0, 0.0, 1.0, 1.0, 1.0, 0.0, 1.0, 1.0, 0.0, 1.0, 0.0, 1.0, 1.0, 0.0, 1.0, 1.0, 1.0, 0.0, 1.0, 1.0, 1.0, 1.0, 1.0, 1.0, 1.0, 0.0, 0.0, 1.0, 1.0, 1.0, 1.0, 1.0, 0.0, 1.0, 1.0, 1.0, 1.0, 1.0, 1.0, 1.0, 0.0, 0.0, 1.0, 1.0, 1.0, 1.0, 1.0, 0.0, 1.0, 1.0, 1.0, 1.0, 0.0, 0.0, 1.0, 1.0, 1.0, 1.0, 1.0, 1.0, 1.0, 0.0, 0.0, 1.0, 1.0, 1.0, 1.0, 1.0, 1.0, 1.0, 1.0, 1.0, 0.0, 1.0, 0.0, 1.0, 0.0, 0.0, 1.0, 0.0, 1.0, 1.0, 1.0, 0.0, 0.0, 1.0, 0.0, 1.0, 1.0, 1.0, 1.0, 1.0, 1.0, 1.0, 1.0, 1.0, 0.0, 1.0, 1.0, 1.0, 1.0, 1.0]\n",
      "Pbar = 0.733727810651\n",
      "PbarE = 0.517926543188\n",
      "kappa = 0.4476522497\n"
     ]
    },
    {
     "data": {
      "text/plain": [
       "0.4476522497004029"
      ]
     },
     "execution_count": 51,
     "metadata": {},
     "output_type": "execute_result"
    }
   ],
   "source": [
    "computeKappa(sentiment)"
   ]
  },
  {
   "cell_type": "code",
   "execution_count": 54,
   "metadata": {
    "collapsed": false
   },
   "outputs": [],
   "source": [
    "m = np.where(comp)[0]"
   ]
  },
  {
   "cell_type": "code",
   "execution_count": 53,
   "metadata": {
    "collapsed": false
   },
   "outputs": [
    {
     "data": {
      "text/plain": [
       "5201"
      ]
     },
     "execution_count": 53,
     "metadata": {},
     "output_type": "execute_result"
    }
   ],
   "source": [
    "data['thread_id'][0,7]"
   ]
  },
  {
   "cell_type": "code",
   "execution_count": 56,
   "metadata": {
    "collapsed": false
   },
   "outputs": [],
   "source": [
    "x = 'P'"
   ]
  },
  {
   "cell_type": "code",
   "execution_count": 61,
   "metadata": {
    "collapsed": false
   },
   "outputs": [
    {
     "name": "stdout",
     "output_type": "stream",
     "text": [
      "no\n"
     ]
    }
   ],
   "source": [
    "if x == 'P':\n",
    "    print('no')"
   ]
  },
  {
   "cell_type": "code",
   "execution_count": 60,
   "metadata": {
    "collapsed": false
   },
   "outputs": [
    {
     "name": "stdout",
     "output_type": "stream",
     "text": [
      "There are  31  annotations not the same:\n",
      "Indexes are:\n",
      "[[ 18  26  34  36  48  61  72  83  84  85  90 109 112 113 125 131 141 144\n",
      "  145 146 156 161 166 167 172 184 187 192 220 259 301]]\n"
     ]
    }
   ],
   "source": [
    "# transform the sentiment data so that computeKappa takes it as argument\n",
    "temp = np.copy(data['whoposts'].T)\n",
    "comp = temp[:,0]!=temp[:,1]\n",
    "print(\"There are \", sum(comp),\" annotations not the same:\")\n",
    "print(\"Indexes are:\")\n",
    "print(data['id'][0,np.where(comp)]+1)\n",
    "sentiment = np.empty((number_data,2),dtype=\"str\")\n",
    "sentiment[:,0] = np.sum(temp=='P', axis=1)#number of \"negative\" annotations\n",
    "sentiment[:,1] = np.sum(temp=='R', axis=1)#number of \"positive\" annotations"
   ]
  },
  {
   "cell_type": "code",
   "execution_count": 65,
   "metadata": {
    "collapsed": false
   },
   "outputs": [],
   "source": [
    "mm = np.load('data/correction_record_sentiment.npy')"
   ]
  },
  {
   "cell_type": "code",
   "execution_count": 66,
   "metadata": {
    "collapsed": false
   },
   "outputs": [
    {
     "data": {
      "text/plain": [
       "array([0, 1, 1, 1, 1, 1, 1, 1, 1, 0, 1, 1, 1, 1, 1, 1, 1, 0, 1, 0, 0, 0, 1,\n",
       "       0, 1, 1, 0, 0, 0, 1, 1, 0, 0, 0, 0, 0, 1, 1, 1, 0, 0, 0, 0, 1, 0, 0,\n",
       "       0, 0, 0, 0, 0, 0, 1, 0, 1, 0, 0, 0, 0, 0, 1, 0, 0, 1, 1, 0, 1, 1, 1,\n",
       "       0, 1, 0, 1, 0, 1, 0, 1, 0, 0, 0, 1, 1, 0, 1, 0, 1, 0, 0, 1, 1, 1, 0,\n",
       "       0, 0, 1, 1, 1, 0, 0, 1, 1, 1, 1, 0, 0, 0, 1, 0, 0, 0, 1, 1, 1, 1, 0,\n",
       "       1, 0, 0, 1, 1, 0, 0, 1, 1, 1, 1, 0, 1, 0, 1, 1, 1, 0, 1, 0, 0, 0, 1,\n",
       "       1, 0, 0, 1, 1, 1, 1, 0, 0, 1, 0, 1, 1, 1, 0, 0, 1, 0, 1, 0, 1, 1, 1,\n",
       "       1, 0, 1, 0, 0, 0, 1, 1, 0, 1, 0, 1, 1, 1, 1, 0, 0, 0, 0, 0, 0, 0, 0,\n",
       "       1, 0, 0, 0, 1, 1, 1, 1, 1, 1, 0, 0, 0, 0, 0, 1, 1, 1, 0, 0, 1, 0, 1,\n",
       "       0, 1, 0, 1, 0, 1, 1, 1, 0, 1, 0, 1, 1, 0, 1, 0, 1, 1, 0, 0, 1, 1, 0,\n",
       "       1, 1, 0, 1, 1, 1, 1, 0, 1, 1, 1, 1, 1, 1, 0, 1, 1, 1, 0, 0, 1, 1, 1,\n",
       "       1, 0, 1, 0, 1, 1, 1, 0, 1, 0, 1, 0, 0, 1, 0, 0, 0, 1, 1, 1, 1, 1, 1,\n",
       "       0, 1, 0, 0, 0, 1, 0, 0, 0, 0, 0, 1, 0, 0, 0, 1, 0, 1, 1, 0, 1, 0, 0,\n",
       "       1, 1, 1, 1, 0, 0, 0, 0, 1, 0, 0, 0, 1, 0, 0, 1, 0, 0, 1, 0, 0, 1, 1,\n",
       "       1, 1, 1, 1, 1, 0, 1, 1, 0, 1, 0, 0, 0, 1, 1, 1], dtype=int32)"
      ]
     },
     "execution_count": 66,
     "metadata": {},
     "output_type": "execute_result"
    }
   ],
   "source": [
    "mm"
   ]
  },
  {
   "cell_type": "code",
   "execution_count": null,
   "metadata": {
    "collapsed": true
   },
   "outputs": [],
   "source": []
  }
 ],
 "metadata": {
  "kernelspec": {
   "display_name": "Python 3",
   "language": "python",
   "name": "python3"
  },
  "language_info": {
   "codemirror_mode": {
    "name": "ipython",
    "version": 3
   },
   "file_extension": ".py",
   "mimetype": "text/x-python",
   "name": "python",
   "nbconvert_exporter": "python",
   "pygments_lexer": "ipython3",
   "version": "3.5.1"
  }
 },
 "nbformat": 4,
 "nbformat_minor": 1
}
