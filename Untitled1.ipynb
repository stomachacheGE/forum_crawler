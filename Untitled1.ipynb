{
 "cells": [
  {
   "cell_type": "code",
   "execution_count": 1,
   "metadata": {
    "collapsed": false
   },
   "outputs": [
    {
     "ename": "ImportError",
     "evalue": "No module named sqlalchemy",
     "output_type": "error",
     "traceback": [
      "\u001b[0;31m---------------------------------------------------------------------------\u001b[0m",
      "\u001b[0;31mImportError\u001b[0m                               Traceback (most recent call last)",
      "\u001b[0;32m<ipython-input-1-0249ea133122>\u001b[0m in \u001b[0;36m<module>\u001b[0;34m()\u001b[0m\n\u001b[0;32m----> 1\u001b[0;31m \u001b[0;32mfrom\u001b[0m \u001b[0msqlalchemy\u001b[0m \u001b[0;32mimport\u001b[0m \u001b[0mcreate_engine\u001b[0m\u001b[0;34m\u001b[0m\u001b[0m\n\u001b[0m\u001b[1;32m      2\u001b[0m \u001b[0;32mfrom\u001b[0m \u001b[0msqlalchemy\u001b[0m\u001b[0;34m.\u001b[0m\u001b[0morm\u001b[0m \u001b[0;32mimport\u001b[0m \u001b[0msessionmaker\u001b[0m\u001b[0;34m\u001b[0m\u001b[0m\n\u001b[1;32m      3\u001b[0m \u001b[0;32mfrom\u001b[0m \u001b[0mdb_initialize\u001b[0m \u001b[0;32mimport\u001b[0m \u001b[0;34m*\u001b[0m\u001b[0;34m\u001b[0m\u001b[0m\n\u001b[1;32m      4\u001b[0m \u001b[0;34m\u001b[0m\u001b[0m\n\u001b[1;32m      5\u001b[0m \u001b[0mengine\u001b[0m \u001b[0;34m=\u001b[0m \u001b[0mcreate_engine\u001b[0m\u001b[0;34m(\u001b[0m\u001b[0;34m'sqlite://///Users/Johnson/Documents/nit/thesis/forum_crawler/database.db'\u001b[0m\u001b[0;34m)\u001b[0m\u001b[0;34m\u001b[0m\u001b[0m\n",
      "\u001b[0;31mImportError\u001b[0m: No module named sqlalchemy"
     ]
    }
   ],
   "source": [
    "from sqlalchemy import create_engine\n",
    "from sqlalchemy.orm import sessionmaker\n",
    "from db_initialize import *\n",
    "\n",
    "engine = create_engine('sqlite://///Users/Johnson/Documents/nit/thesis/forum_crawler/database.db')\n",
    "Session = sessionmaker(bind=engine)\n",
    "session = Session()"
   ]
  },
  {
   "cell_type": "code",
   "execution_count": 7,
   "metadata": {
    "collapsed": false
   },
   "outputs": [
    {
     "ename": "TypeError",
     "evalue": "only length-1 arrays can be converted to Python scalars",
     "output_type": "error",
     "traceback": [
      "\u001b[0;31m---------------------------------------------------------------------------\u001b[0m",
      "\u001b[0;31mTypeError\u001b[0m                                 Traceback (most recent call last)",
      "\u001b[0;32m<ipython-input-7-df7e51b306a8>\u001b[0m in \u001b[0;36m<module>\u001b[0;34m()\u001b[0m\n\u001b[1;32m      2\u001b[0m \u001b[0mx\u001b[0m \u001b[0;34m=\u001b[0m \u001b[0mnp\u001b[0m\u001b[0;34m.\u001b[0m\u001b[0marray\u001b[0m\u001b[0;34m(\u001b[0m\u001b[0;34m[\u001b[0m\u001b[0;36m1\u001b[0m\u001b[0;34m,\u001b[0m\u001b[0;36m2\u001b[0m\u001b[0;34m]\u001b[0m\u001b[0;34m)\u001b[0m\u001b[0;34m\u001b[0m\u001b[0m\n\u001b[1;32m      3\u001b[0m \u001b[0my\u001b[0m \u001b[0;34m=\u001b[0m \u001b[0mnp\u001b[0m\u001b[0;34m.\u001b[0m\u001b[0marray\u001b[0m\u001b[0;34m(\u001b[0m\u001b[0;34m[\u001b[0m\u001b[0;36m1\u001b[0m\u001b[0;34m,\u001b[0m\u001b[0;36m2\u001b[0m\u001b[0;34m]\u001b[0m\u001b[0;34m)\u001b[0m\u001b[0;34m\u001b[0m\u001b[0m\n\u001b[0;32m----> 4\u001b[0;31m \u001b[0mz\u001b[0m \u001b[0;34m=\u001b[0m \u001b[0mnp\u001b[0m\u001b[0;34m.\u001b[0m\u001b[0mconcatenate\u001b[0m\u001b[0;34m(\u001b[0m\u001b[0mx\u001b[0m\u001b[0;34m,\u001b[0m\u001b[0my\u001b[0m\u001b[0;34m)\u001b[0m\u001b[0;34m\u001b[0m\u001b[0m\n\u001b[0m",
      "\u001b[0;31mTypeError\u001b[0m: only length-1 arrays can be converted to Python scalars"
     ]
    }
   ],
   "source": [
    "import numpy as np\n",
    "x = np.array([1,2])\n",
    "y = np.array([1,2])\n",
    "z = np.concatenate(x,y)"
   ]
  },
  {
   "cell_type": "code",
   "execution_count": 6,
   "metadata": {
    "collapsed": false
   },
   "outputs": [
    {
     "data": {
      "text/plain": [
       "array([1, 2, 1, 2])"
      ]
     },
     "execution_count": 6,
     "metadata": {},
     "output_type": "execute_result"
    }
   ],
   "source": [
    "z"
   ]
  },
  {
   "cell_type": "code",
   "execution_count": 1,
   "metadata": {
    "collapsed": true
   },
   "outputs": [],
   "source": [
    "import re\n",
    "def word_count(doc):\n",
    "    \"\"\"Function to count number of words in a string.\"\"\"\n",
    "    count = len(re.findall(r'\\w+', doc))\n",
    "    return count"
   ]
  },
  {
   "cell_type": "code",
   "execution_count": 2,
   "metadata": {
    "collapsed": true
   },
   "outputs": [],
   "source": [
    "m = \"I'm good\""
   ]
  },
  {
   "cell_type": "code",
   "execution_count": 3,
   "metadata": {
    "collapsed": false
   },
   "outputs": [
    {
     "data": {
      "text/plain": [
       "3"
      ]
     },
     "execution_count": 3,
     "metadata": {},
     "output_type": "execute_result"
    }
   ],
   "source": [
    "word_count(m)"
   ]
  },
  {
   "cell_type": "code",
   "execution_count": 4,
   "metadata": {
    "collapsed": true
   },
   "outputs": [],
   "source": [
    "from sqlalchemy import create_engine\n",
    "from sqlalchemy.orm import sessionmaker\n",
    "from db_initialize import *\n",
    "# here we assume that database.db only contains data from healingwell\n",
    "engine = create_engine('sqlite://///Users/Johnson/Documents/nit/thesis/forum_crawler/database.db')\n",
    "Session = sessionmaker(bind=engine)\n",
    "Base.metadata.bind = engine\n",
    "session = Session()"
   ]
  },
  {
   "cell_type": "code",
   "execution_count": 9,
   "metadata": {
    "collapsed": true
   },
   "outputs": [],
   "source": [
    "threads = session.query(Thread).all()"
   ]
  },
  {
   "cell_type": "code",
   "execution_count": 11,
   "metadata": {
    "collapsed": false
   },
   "outputs": [
    {
     "name": "stdout",
     "output_type": "stream",
     "text": [
      "14\n",
      "http://www.healingwell.com/community/default.aspx?f=35&m=3669180\n",
      " Ha ha.\n",
      "Just waking up the Moderators!\n",
      "\n",
      "Mel \n",
      "223\n",
      "http://www.healingwell.com/community/default.aspx?f=35&m=3679037\n",
      " Just popping in to say hello\n",
      "693\n",
      "http://www.healingwell.com/community/default.aspx?f=35&m=3662415\n",
      " latest psa < 0.05 \n",
      "837\n",
      "http://www.healingwell.com/community/default.aspx?f=35&m=3624053\n",
      " Anyone have proton beam therapy in Knoxville?\n",
      "848\n",
      "http://www.healingwell.com/community/default.aspx?f=35&m=3506094\n",
      " Anyone lost weight while on Lupron?\n",
      "\n",
      "Thanks\n",
      "Tom\n",
      "856\n",
      "http://www.healingwell.com/community/default.aspx?f=35&m=3627059\n",
      " Saturday funnies,,  slow news day… carry on!\n",
      "982\n",
      "http://www.healingwell.com/community/default.aspx?f=35&m=3633998\n",
      " My most recent MRI report stated minimal Extraprostatic Extension? \n",
      "1110\n",
      "http://www.healingwell.com/community/default.aspx?f=35&m=3590334\n",
      " lymph nodes are all negative...  \n",
      "1184\n",
      "http://www.healingwell.com/community/default.aspx?f=35&m=3594982\n",
      "  \n",
      "1190\n",
      "http://www.healingwell.com/community/default.aspx?f=35&m=3597827\n",
      "  cqrcengage.com/zerocancer/app/document/12302271\n",
      "1212\n",
      "http://www.healingwell.com/community/default.aspx?f=35&m=3599531\n",
      "  /www.youtube.com/watch?v=-_sDD0FkFa4\n",
      "1278\n",
      "http://www.healingwell.com/community/default.aspx?f=35&m=3600343\n",
      " March results-.22 \n",
      "1308\n",
      "http://www.healingwell.com/community/default.aspx?f=35&m=2185655\n",
      " How old were you the day you were diagnosed? \n",
      "1319\n",
      "http://www.healingwell.com/community/default.aspx?f=35&m=3606480\n",
      " Happy reading\n",
      "1580\n",
      "http://www.healingwell.com/community/default.aspx?f=35&m=3571500\n",
      " Gotchya!\n",
      "\n",
      "<G>\n",
      "\n",
      "Mel \n",
      "1622\n",
      "http://www.healingwell.com/community/default.aspx?f=35&m=3576933\n",
      " How do you locate your past posts \n",
      "1740\n",
      "http://www.healingwell.com/community/default.aspx?f=35&m=3584672\n",
      " Anyone on Zoladex experiencing blurry vision? I am.\n",
      "\n",
      "Mal.\n",
      "1750\n",
      "http://www.healingwell.com/community/default.aspx?f=35&m=3586015\n",
      " Stumbled across this\n",
      "\n",
      "www.spaceoar.com/what-is-spaceoar/ \n",
      "1982\n",
      "http://www.healingwell.com/community/default.aspx?f=35&m=3552242\n",
      "  VIEW IMAGE\n",
      "\n",
      "  \n",
      "2052\n",
      "http://www.healingwell.com/community/default.aspx?f=35&m=3554857\n",
      " In honor of my dad.\n",
      "2062\n",
      "http://www.healingwell.com/community/default.aspx?f=35&m=3555565\n",
      " 0.08 Dec 2015\n",
      "0.03 Dec 2014\n",
      "\n",
      "Opinions ?\n",
      "2145\n",
      "http://www.healingwell.com/community/default.aspx?f=35&m=3563246\n",
      "  www.urologyhealth.org/knowyourstats/get-the-facts \n",
      "2221\n",
      "http://www.healingwell.com/community/default.aspx?f=35&m=3514149\n",
      "  www.sciencedirect.com/science/article/pii/S1470204512703881 \n",
      "2240\n",
      "http://www.healingwell.com/community/default.aspx?f=35&m=3514830\n",
      "  www.ctvnews.ca/video?playlistId=1.2606616\n",
      "2277\n",
      "http://www.healingwell.com/community/default.aspx?f=35&m=3519507\n",
      " BF's bone scan was clean!  \n",
      "2628\n",
      "http://www.healingwell.com/community/default.aspx?f=35&m=3488784\n",
      " .1!\n",
      "\n",
      "woo-hoo  !\n",
      "\n",
      "ed\n",
      "2727\n",
      "http://www.healingwell.com/community/default.aspx?f=35&m=3498667\n",
      " Has anyone out there tried the Budwig diet?\n",
      "RETCPO \n",
      "2763\n",
      "http://www.healingwell.com/community/default.aspx?f=35&m=3500331\n",
      " Is <.05 considered an undetectable PSA?\n",
      "3133\n",
      "http://www.healingwell.com/community/default.aspx?f=35&m=3473791\n",
      "  Uggie the Dog, RIP. \n",
      "3193\n",
      "http://www.healingwell.com/community/default.aspx?f=35&m=3480002\n",
      " I needed to share my heart with my friends.\n",
      "3457\n",
      "http://www.healingwell.com/community/default.aspx?f=35&m=3435477\n",
      " I tried the search but it didn't work \n",
      "3578\n",
      "http://www.healingwell.com/community/default.aspx?f=35&m=3444226\n",
      " PSA <0.05\n",
      "great news\n",
      "3615\n",
      "http://www.healingwell.com/community/default.aspx?f=35&m=3449270\n",
      " http://www.haaretz.com/news/israel/.premium-1.663810 \n",
      "3933\n",
      "http://www.healingwell.com/community/default.aspx?f=35&m=3400085\n",
      " I explore the debate in my blog.\n",
      "3959\n",
      "http://www.healingwell.com/community/default.aspx?f=35&m=3328809\n",
      " nuff said                   \n",
      "4063\n",
      "http://www.healingwell.com/community/default.aspx?f=35&m=3411621\n",
      " http://www.bbc.com/news/health-32818060 \n",
      "4125\n",
      "http://www.healingwell.com/community/default.aspx?f=35&m=3353677\n",
      " it doesnt look like it updated \n",
      "4128\n",
      "http://www.healingwell.com/community/default.aspx?f=35&m=3353734\n",
      " I will be watching the chat room.\n",
      "4182\n",
      "http://www.healingwell.com/community/default.aspx?f=35&m=3358693\n",
      " Looking   for   one   near     Monmouth Or Ocean County    Thanks \n",
      "4260\n",
      "http://www.healingwell.com/community/default.aspx?f=35&m=3361746\n",
      " That's it. That's the question.\n",
      "\n",
      "Cheers, Doug\n",
      "4482\n",
      "http://www.healingwell.com/community/default.aspx?f=35&m=3308794\n",
      " Who will win \n",
      "4573\n",
      "http://www.healingwell.com/community/default.aspx?f=35&m=3326544\n",
      " Just a reminder that it is Wednesday Chat night. \n",
      "4602\n",
      "http://www.healingwell.com/community/default.aspx?f=35&m=3326991\n",
      " Which Day is Best for Chat Night ? \n",
      "4624\n",
      "http://www.healingwell.com/community/default.aspx?f=35&m=3333112\n",
      " Nuff said\n",
      "4645\n",
      "http://www.healingwell.com/community/default.aspx?f=35&m=3333780\n",
      " Just got my latest PSA results. 2.6.\n",
      "\n",
      "Yeah!\n",
      "4663\n",
      "http://www.healingwell.com/community/default.aspx?f=35&m=3336720\n",
      " Welcome Babs83\n",
      "4680\n",
      "http://www.healingwell.com/community/default.aspx?f=35&m=3333926\n",
      " \" Finished \" \n",
      "4797\n",
      "http://www.healingwell.com/community/default.aspx?f=35&m=3350283\n",
      " By a specific author? \n",
      "4886\n",
      "http://www.healingwell.com/community/default.aspx?f=35&m=3282724\n",
      " Any suggestions would be greatly appreciated!!!\n",
      "\n",
      "MS\n",
      "4917\n",
      "http://www.healingwell.com/community/default.aspx?f=35&m=3285047\n",
      "  \n",
      "To all:\n",
      " \n",
      "Cheers and well wishes for 2015!!!\n",
      " \n",
      "Todd\n",
      "5247\n",
      "http://www.healingwell.com/community/default.aspx?f=35&m=3239400\n",
      " Catheter comes out tomorrow.    What can i expect\n",
      "5314\n",
      "http://www.healingwell.com/community/default.aspx?f=35&m=3247366\n",
      " .....large glass of wine already in hand!\n",
      "5333\n",
      "http://www.healingwell.com/community/default.aspx?f=35&m=3230571\n",
      " Anyone here DXed and thinking about donating blood?\n",
      "5445\n",
      "http://www.healingwell.com/community/default.aspx?f=35&m=3261232\n",
      " Made ya Look!!!\n",
      "\n",
      "Mel \n",
      "5506\n",
      "http://www.healingwell.com/community/default.aspx?f=35&m=3267911\n",
      " Should an MRI be done before my biopsy?\n",
      "5637\n",
      "http://www.healingwell.com/community/default.aspx?f=35&m=3216656\n",
      "  Copper May Be Prostate Cancer’s Fatal Flaw\n",
      "5707\n",
      "http://www.healingwell.com/community/default.aspx?f=35&m=3202509\n",
      "  erader.zenfolio.com/p285251459\n",
      "\n",
      "hope you enjoy them   \n",
      "\n",
      "ed\n",
      "5747\n",
      "http://www.healingwell.com/community/default.aspx?f=35&m=3199346\n",
      " Funny the things we ponder!\n",
      "5917\n",
      "http://www.healingwell.com/community/default.aspx?f=35&m=3221610\n",
      " Here's a poll:\n",
      "5935\n",
      "http://www.healingwell.com/community/default.aspx?f=35&m=3230118\n",
      " 6 years post open Radical Prostatectomy \n",
      "psa <0.05\n",
      "6055\n",
      "http://www.healingwell.com/community/default.aspx?f=35&m=3151525\n",
      " Yep, that's me after 16 months .  Drink up !    \n",
      "6274\n",
      "http://www.healingwell.com/community/default.aspx?f=35&m=3180718\n",
      " Good news. \n",
      "6308\n",
      "http://www.healingwell.com/community/default.aspx?f=35&m=3186681\n",
      " Here is the link  click here for clickable link \n",
      "6378\n",
      "http://www.healingwell.com/community/default.aspx?f=35&m=3153051\n",
      " Moderators Must Be Crazy... \n",
      "6388\n",
      "http://www.healingwell.com/community/default.aspx?f=35&m=3133895\n",
      " Was wondering how he's been doing. \n",
      "6442\n",
      "http://www.healingwell.com/community/default.aspx?f=35&m=3123478\n",
      " http://prost8blog.com/\n",
      "6472\n",
      "http://www.healingwell.com/community/default.aspx?f=35&m=3126524\n",
      "  here\n",
      "6497\n",
      "http://www.healingwell.com/community/default.aspx?f=35&m=3126653\n",
      " Sorry it took so long\n",
      "6615\n",
      "http://www.healingwell.com/community/default.aspx?f=35&m=3141888\n",
      " Private message me for my .2 cents worth.\n",
      "6697\n",
      "http://www.healingwell.com/community/default.aspx?f=35&m=3150403\n",
      "   FYI  http://zerocancer.org/challenge/run\n",
      "6856\n",
      "http://www.healingwell.com/community/default.aspx?f=35&m=3087376\n",
      "  erader.zenfolio.com/p13922590 \n",
      "7040\n",
      "http://www.healingwell.com/community/default.aspx?f=35&m=3110305\n",
      " Does anyone have a familiarity with this test?\n",
      "7076\n",
      "http://www.healingwell.com/community/default.aspx?f=35&m=3115624\n",
      " Its starting to be real\n",
      "7093\n",
      "http://www.healingwell.com/community/default.aspx?f=35&m=3097892\n",
      " What is the dates\n",
      "7105\n",
      "http://www.healingwell.com/community/default.aspx?f=35&m=3070581\n",
      " Nov 2013, Non-nerve-sparing surgery... Erections anyone?\n",
      "7384\n",
      "http://www.healingwell.com/community/default.aspx?f=35&m=3070577\n",
      "  Treatments article\n",
      "\n",
      "Hope this helps\n",
      "7420\n",
      "http://www.healingwell.com/community/default.aspx?f=35&m=3055143\n",
      " Any experiences with this? \n",
      "7447\n",
      "http://www.healingwell.com/community/default.aspx?f=35&m=3071600\n",
      " Initial consult w dr Thomas Pugh \n",
      "7610\n",
      "http://www.healingwell.com/community/default.aspx?f=35&m=3014986\n",
      " Just a new post.... Happy reading\n",
      "7754\n",
      "http://www.healingwell.com/community/default.aspx?f=35&m=3031289\n",
      "  erader.zenfolio.com/p750343078 \n",
      "7842\n",
      "http://www.healingwell.com/community/default.aspx?f=35&m=2973840\n",
      " How does getting SSDI work in regard to PC?\n",
      "8243\n",
      "http://www.healingwell.com/community/default.aspx?f=35&m=2946442\n",
      " Has anyone had this type of prostate surgery? \n",
      "8268\n",
      "http://www.healingwell.com/community/default.aspx?f=35&m=2947585\n",
      " Has anyone had Radium 223 for metastatic prostate?\n",
      "\n",
      "8462\n",
      "http://www.healingwell.com/community/default.aspx?f=35&m=2908102\n",
      " 7 month result <0.1    \n",
      "\n",
      "\n",
      "Don\n",
      "8463\n",
      "http://www.healingwell.com/community/default.aspx?f=35&m=2904952\n",
      "  \n",
      "8483\n",
      "http://www.healingwell.com/community/default.aspx?f=35&m=2902223\n",
      " Good news. Undetectable. PSA<0.01\n",
      "8886\n",
      "http://www.healingwell.com/community/default.aspx?f=35&m=2870643\n",
      " http://erader.zenfolio.com/p25874052 \n",
      "8948\n",
      "http://www.healingwell.com/community/default.aspx?f=35&m=2876695\n",
      " this is the question! \n",
      "8962\n",
      "http://www.healingwell.com/community/default.aspx?f=35&m=2876686\n",
      " is there an answer? \n",
      "9039\n",
      "http://www.healingwell.com/community/default.aspx?f=35&m=2881263\n",
      " please feel free to comment\n",
      "9045\n",
      "http://www.healingwell.com/community/default.aspx?f=35&m=2883474\n",
      " simple question.  no commentary needed. ed  \n",
      "9097\n",
      "http://www.healingwell.com/community/default.aspx?f=35&m=2889831\n",
      " Thank you \n",
      "9135\n",
      "http://www.healingwell.com/community/default.aspx?f=35&m=2893264\n",
      " Is anyone taking this?\n",
      "\n",
      "SE?\n",
      "\n",
      "Mel \n",
      "9215\n",
      "http://www.healingwell.com/community/default.aspx?f=35&m=2843225\n",
      " If so, maybe we can get together\n",
      "\n",
      "Mel\n",
      "9282\n",
      "http://www.healingwell.com/community/default.aspx?f=35&m=2839824\n",
      " Has anyone tried hyperthermia for bone mets? \n",
      "9630\n",
      "http://www.healingwell.com/community/default.aspx?f=35&m=2794639\n",
      " Another UNDETECTABLE!!!!  Oh yea, I'm happy!!!\n",
      "9709\n",
      "http://www.healingwell.com/community/default.aspx?f=35&m=2804673\n",
      " Wishing everyone a great weekend\n",
      "9792\n",
      "http://www.healingwell.com/community/default.aspx?f=35&m=2814489\n",
      " Has anyone had any experience with cryotherapy?   \n"
     ]
    }
   ],
   "source": [
    "for thread in threads:\n",
    "    if word_count(thread.body) < 10 and thread.id < 10000:\n",
    "        print(thread.id)\n",
    "        print(thread.url)\n",
    "        print(thread.body)"
   ]
  },
  {
   "cell_type": "code",
   "execution_count": 12,
   "metadata": {
    "collapsed": true
   },
   "outputs": [],
   "source": [
    "from matplotlib import pyplot as plt\n",
    "from matplotlib import style\n",
    "from matplotlib2tikz import save as tikz_save\n",
    "import numpy as np\n",
    "%matplotlib inline\n",
    "plt.rcParams['figure.figsize'] = (10.0, 8.0) # set default size of plots\n",
    "plt.rcParams['image.interpolation'] = 'nearest'\n",
    "#plt.rcParams['image.cmap'] = 'gray"
   ]
  },
  {
   "cell_type": "code",
   "execution_count": 13,
   "metadata": {
    "collapsed": true
   },
   "outputs": [],
   "source": [
    "thread_time_spans = np.load('thread_timespan.npy')"
   ]
  },
  {
   "cell_type": "code",
   "execution_count": 17,
   "metadata": {
    "collapsed": false
   },
   "outputs": [
    {
     "name": "stdout",
     "output_type": "stream",
     "text": [
      "file encoding: UTF-8\n",
      "=========================================================\n",
      "Please add the following lines to your LaTeX preamble:\n",
      "\n",
      "\\usepackage[utf8]{inputenc}\n",
      "\\usepackage{fontspec}\n",
      "\\usepackage{pgfplots}\n",
      "\\usepgfplotslibrary{plotmarks}\n",
      "=========================================================\n"
     ]
    },
    {
     "data": {
      "image/png": "[encoded data removed]",
      "text/plain": [
       "<matplotlib.figure.Figure at 0x12ef77eb8>"
      ]
     },
     "metadata": {},
     "output_type": "display_data"
    }
   ],
   "source": [
    "timespan_bincount = np.bincount(np.squeeze(thread_time_spans))\n",
    "timespan_prob = timespan_bincount / thread_time_spans.shape[1]\n",
    "style.use('ggplot')\n",
    "plt.yscale('log')\n",
    "plt.xscale('log')\n",
    "plt.title('Distribution of the time span of threads in the forum.')\n",
    "plt.xlabel(r'Life span $T$ of a thread (in hours)')\n",
    "plt.ylabel(r'Prob. that a thread has a life span of $T$ hours')\n",
    "#plt.plot(np.arange(len(timespan_prob)), timespan_prob, 'ro')\n",
    "# since large figure file may exceed latex capactity,\n",
    "# downsampling are needed.\n",
    "first = np.arange(1000)\n",
    "second = np.rint(np.linspace(1000,len(timespan_prob),5000, endpoint=False))\n",
    "second = second.astype(int)\n",
    "index = np.concatenate((first, second))\n",
    "plt.plot(index, timespan_prob[index], 'ro')\n",
    "#plt.legend()\n",
    "plt.grid(True)\n",
    "tikz_save('thread_time_span.tex')\n",
    "plt.show()"
   ]
  },
  {
   "cell_type": "code",
   "execution_count": null,
   "metadata": {
    "collapsed": true
   },
   "outputs": [],
   "source": []
  }
 ],
 "metadata": {
  "kernelspec": {
   "display_name": "Python 3",
   "language": "python",
   "name": "python3"
  },
  "language_info": {
   "codemirror_mode": {
    "name": "ipython",
    "version": 3
   },
   "file_extension": ".py",
   "mimetype": "text/x-python",
   "name": "python",
   "nbconvert_exporter": "python",
   "pygments_lexer": "ipython3",
   "version": "3.5.1"
  }
 },
 "nbformat": 4,
 "nbformat_minor": 0
}
