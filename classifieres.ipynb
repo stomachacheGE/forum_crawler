{
 "cells": [
  {
   "cell_type": "code",
   "execution_count": 1,
   "metadata": {
    "collapsed": true
   },
   "outputs": [],
   "source": [
    "import numpy as np\n",
    "import re\n",
    "from matplotlib import pyplot as plt\n",
    "from matplotlib import style\n",
    "from matplotlib2tikz import save as tikz_save\n",
    "%matplotlib inline\n",
    "plt.rcParams['figure.figsize'] = (20.0, 8.0) # set default size of plots\n",
    "plt.rcParams['image.interpolation'] = 'nearest'"
   ]
  },
  {
   "cell_type": "code",
   "execution_count": 85,
   "metadata": {
    "collapsed": true
   },
   "outputs": [],
   "source": [
    "def get_words(doc):\n",
    "    \"\"\"Function to count number of words in a string.\"\"\"\n",
    "    words = re.findall(r'[A-Z][a-z]+|[A-Z]+|[a-z]+|', doc)\n",
    "    # a single letter is not considered as a word\n",
    "    words = [word for word in words if word in ['I','U','i','u'] or len(word)>1]\n",
    "    #print(words)\n",
    "    #count = len(words)\n",
    "    return words"
   ]
  },
  {
   "cell_type": "code",
   "execution_count": 86,
   "metadata": {
    "collapsed": true
   },
   "outputs": [],
   "source": [
    "def number_count(doc):\n",
    "    \"\"\"Function to count number of numbers in a string.\"\"\"\n",
    "    words = re.findall(r'[+-]?\\d+(?:\\.\\d+)?(?:[eE][+-]?\\d+)?', doc)\n",
    "    #print(words)\n",
    "    count = len(words)\n",
    "    return count"
   ]
  },
  {
   "cell_type": "code",
   "execution_count": 87,
   "metadata": {
    "collapsed": true
   },
   "outputs": [],
   "source": [
    "def question_mark_count(doc):\n",
    "    \"\"\"Function to count number of question mark in a string.\"\"\"\n",
    "    words = re.findall(r'\\?', doc)\n",
    "    #print(words)\n",
    "    count = len(words)\n",
    "    return count"
   ]
  },
  {
   "cell_type": "code",
   "execution_count": 88,
   "metadata": {
    "collapsed": true
   },
   "outputs": [],
   "source": [
    "def exclamation_count(doc):\n",
    "    \"\"\"Function to count number of exclamation mark in a string.\"\"\"\n",
    "    words = re.findall(r'\\!', doc)\n",
    "    #print(words)\n",
    "    count = len(words)\n",
    "    return count"
   ]
  },
  {
   "cell_type": "code",
   "execution_count": 89,
   "metadata": {
    "collapsed": true
   },
   "outputs": [],
   "source": [
    "def get_items(filename, comment=None):\n",
    "    if not comment:\n",
    "        #print(\"not comment\")\n",
    "        comment = \";\"\n",
    "    items = []\n",
    "    import codecs\n",
    "    with open(filename, encoding='ISO-8859-1') as file:\n",
    "        for line in file:\n",
    "            if line[0] == comment:\n",
    "                continue\n",
    "            else:\n",
    "                line = ' '.join(line.split())\n",
    "                items.append(line.split(\" \")[0])\n",
    "    # then delete duplicates if any\n",
    "    #seen = set()\n",
    "    #uniq = [x for x in items if x not in seen and not seen.add(x)] \n",
    "    return items"
   ]
  },
  {
   "cell_type": "code",
   "execution_count": 90,
   "metadata": {
    "collapsed": true
   },
   "outputs": [],
   "source": [
    "import subprocess\n",
    "def senti_strength(text):\n",
    "    cmd = ['java', '-jar', '../senti_strength/SentiStrengthCom.jar', 'sentidata', \n",
    "           '../senti_strength/SentStrength_Data/', 'text', text, \n",
    "           'sentenceCombineTot','paragraphCombineTot','maxWordsBeforeSentimentToNegate',\n",
    "           '3',]\n",
    "    outputs = subprocess.check_output(cmd).decode(\"utf-8\").replace('\\n','').split(\" \")\n",
    "    return (int(outputs[0]),int(outputs[1]))"
   ]
  },
  {
   "cell_type": "code",
   "execution_count": 91,
   "metadata": {
    "collapsed": false
   },
   "outputs": [],
   "source": [
    "# initialize array for storing data\n",
    "number_data = 338\n",
    "data = {\"id\": np.empty(number_data, dtype=\"int32\"),\n",
    "        \"thread_id\": np.empty(number_data, dtype=\"int32\"),\n",
    "        \"sentiment\": np.empty(number_data, dtype=\"int32\"),\n",
    "        \"whoposts\": np.empty(number_data, dtype=\"str\"),\n",
    "        \"post_body\": np.empty(number_data, dtype=object),\n",
    "        \"feature\":np.empty(number_data, dtype=object)}"
   ]
  },
  {
   "cell_type": "code",
   "execution_count": 92,
   "metadata": {
    "collapsed": false
   },
   "outputs": [],
   "source": [
    "# read annotations from .csv file\n",
    "import csv\n",
    "file = 'data/corrected_posts_delete.csv'\n",
    "with open(file) as csvfile:\n",
    "    reader = csv.reader(csvfile)\n",
    "    count = 0\n",
    "    for row in reader:\n",
    "        # exclude the first row, which are column names\n",
    "        if count != 0:\n",
    "            #print(\"Current line:\",count)\n",
    "            data['id'][count-1] = count\n",
    "            data['thread_id'][count-1] = row[0]\n",
    "            data['sentiment'][count-1] = row[1]\n",
    "            data['whoposts'][count-1] = row[2]\n",
    "            data['post_body'][count-1] = row[3]\n",
    "        count += 1"
   ]
  },
  {
   "cell_type": "code",
   "execution_count": 93,
   "metadata": {
    "collapsed": false
   },
   "outputs": [],
   "source": [
    "def extract_feature(doc):\n",
    "    num_pos = 0\n",
    "    num_neg = 0\n",
    "    num_slang = 0\n",
    "    words = get_words(doc)\n",
    "    doc_length = sum([len(word) for word in words])\n",
    "    post_length = len(words)\n",
    "    pos_words = get_items('lists/positive-words.txt')\n",
    "    neg_words = get_items('lists/negative-words.txt')\n",
    "    pos_emot = get_items('lists/positive-emoticons.txt')\n",
    "    neg_emot = get_items('lists/negative-emoticons.txt')\n",
    "    slang = get_items('lists/internet-slang.txt')\n",
    "    #slang = [item.lower() for item in slang]\n",
    "    for word in words:\n",
    "        if word.lower() in pos_words:\n",
    "            num_pos += 1\n",
    "        elif word.lower() in neg_words:\n",
    "            num_neg += 1\n",
    "        else:\n",
    "            continue\n",
    "    doc = ' '.join(doc.split())\n",
    "    any_words = doc.split(\" \")\n",
    "    for word in any_words:\n",
    "        if word in pos_emot:\n",
    "            #print(word)\n",
    "            num_pos += 1\n",
    "        elif word in neg_emot:\n",
    "            #print(word)\n",
    "            num_neg += 1\n",
    "        elif word in slang:\n",
    "            #print(word)\n",
    "            num_slang += 1\n",
    "        else:\n",
    "            continue\n",
    "    pos_strength, neg_strength = senti_strength(doc)\n",
    "    if neg_strength != 0:\n",
    "        pos_vs_neg_strength = pos_strength/neg_strength\n",
    "    else:\n",
    "        pos_vs_neg_strength = -pos_strength\n",
    "    return {\"pos\":num_pos/post_length, \"neg\":num_neg/post_length, \"num_slang\":num_slang,\n",
    "           \"pos_vs_neg\": (num_pos+1)/(num_neg+1), \"avg_word_len\": doc_length/len(words),\n",
    "           \"exclamation\": exclamation_count(doc), \"question_mark\": question_mark_count(doc),\n",
    "            \"pos_strength\": pos_strength,\"neg_strength\":neg_strength,\n",
    "            \"pos_vs_neg_strength\": pos_vs_neg_strength, \"number_number\":number_count(doc)\n",
    "           }"
   ]
  },
  {
   "cell_type": "code",
   "execution_count": 94,
   "metadata": {
    "collapsed": false
   },
   "outputs": [
    {
     "name": "stdout",
     "output_type": "stream",
     "text": [
      "dict_values([4.608695652173913, 0.0, 2, -5, 4, -0.0, 0, 1, 0, 0.057971014492753624, 0.2])\n",
      "dict_values([4.042492917847025, 0.025495750708215296, 3, -26, 24, -1.2692307692307692, 33, 0, 0, 0.026912181303116147, 0.95])\n",
      "dict_values([4.75, 0.07894736842105263, 0, -2, 1, -2.5, 5, 0, 0, 0.02631578947368421, 2.3333333333333335])\n",
      "dict_values([4.245901639344262, 0.0, 0, 0, 1, 0, 0, 0, 0, 0.01639344262295082, 0.5])\n"
     ]
    }
   ],
   "source": [
    "for i in range(4):\n",
    "    feature = extract_feature(data['post_body'][i])\n",
    "    print(feature.values())\n",
    "    "
   ]
  },
  {
   "cell_type": "code",
   "execution_count": 95,
   "metadata": {
    "collapsed": false
   },
   "outputs": [],
   "source": [
    "for idx in range(number_data):\n",
    "    data['feature'][idx] = extract_feature(data['post_body'][idx])"
   ]
  },
  {
   "cell_type": "code",
   "execution_count": 3,
   "metadata": {
    "collapsed": true
   },
   "outputs": [],
   "source": [
    "import pickle\n",
    "def save_obj(obj, name ):\n",
    "    with open('data/'+ name + '.pkl', 'wb') as f:\n",
    "        pickle.dump(obj, f, pickle.HIGHEST_PROTOCOL)\n",
    "\n",
    "def load_obj(name):\n",
    "    with open('data/' + name + '.pkl', 'rb') as f:\n",
    "        return pickle.load(f)"
   ]
  },
  {
   "cell_type": "code",
   "execution_count": 97,
   "metadata": {
    "collapsed": true
   },
   "outputs": [],
   "source": [
    "save_obj(data, 'posts_training_data')"
   ]
  },
  {
   "cell_type": "code",
   "execution_count": 4,
   "metadata": {
    "collapsed": false
   },
   "outputs": [],
   "source": [
    "data = load_obj('posts_training_data')"
   ]
  },
  {
   "cell_type": "code",
   "execution_count": 10,
   "metadata": {
    "collapsed": true
   },
   "outputs": [],
   "source": [
    "def get_accuracy(predictions, gt):\n",
    "    return np.sum(predictions==gt)/len(gt)"
   ]
  },
  {
   "cell_type": "code",
   "execution_count": 7,
   "metadata": {
    "collapsed": false
   },
   "outputs": [
    {
     "name": "stdout",
     "output_type": "stream",
     "text": [
      "(338, 11)\n"
     ]
    }
   ],
   "source": [
    "features = np.array([list(feature.values()) for feature in data['feature']])\n",
    "target = data['sentiment']\n",
    "print(features.shape)"
   ]
  },
  {
   "cell_type": "code",
   "execution_count": 5,
   "metadata": {
    "collapsed": false
   },
   "outputs": [],
   "source": [
    "# get indexes of positive sentiment\n",
    "pos_idx = np.where(data['sentiment']==1)\n",
    "neg_idx = np.where(data['sentiment']==0)"
   ]
  },
  {
   "cell_type": "code",
   "execution_count": 6,
   "metadata": {
    "collapsed": false
   },
   "outputs": [
    {
     "data": {
      "image/png": "[encoded data removed]",
      "text/plain": [
       "<matplotlib.figure.Figure at 0x1068e3080>"
      ]
     },
     "metadata": {},
     "output_type": "display_data"
    }
   ],
   "source": [
    "keys = data['feature'][0].keys()\n",
    "features_dict = dict()\n",
    "for key in keys:\n",
    "    features_dict[key] = np.array([feature[key] for feature in data['feature']])\n",
    "total_plots = len(features_dict)\n",
    "current_plot = 0\n",
    "f, axarr = plt.subplots(1,total_plots)\n",
    "for (key,value) in features_dict.items():\n",
    "    value_for_pos = value[pos_idx]\n",
    "    value_for_neg = value[neg_idx]\n",
    "    value_for_plot = [value_for_pos, value_for_neg]\n",
    "    axarr[current_plot].boxplot(value_for_plot,0,'',labels=['pos','neg'])\n",
    "    axarr[current_plot].set_title(key)\n",
    "    current_plot += 1"
   ]
  },
  {
   "cell_type": "code",
   "execution_count": 112,
   "metadata": {
    "collapsed": false
   },
   "outputs": [
    {
     "data": {
      "text/plain": [
       "array([0, 0, 0, 0, 0, 0, 0, 0, 0, 0, 0, 0, 0, 0, 0, 0, 0, 0, 0, 0, 0, 0, 0,\n",
       "       0, 0, 0, 0, 0, 0, 0, 0, 0, 0, 0, 0, 0, 0, 0, 0, 0, 0, 0, 0, 0, 0, 0,\n",
       "       0, 0, 0, 0, 0, 0, 0, 0, 0, 0, 0, 0, 0, 0, 0, 0, 0, 0, 0, 0, 0, 0, 0,\n",
       "       0, 0, 0, 0, 0, 0, 0, 0, 0, 0, 0, 0, 0, 0, 0, 0, 0, 0, 0, 0, 0, 0, 0,\n",
       "       0, 0, 0, 0, 0, 0, 0, 0, 0, 0, 0, 0, 0, 0, 0, 0, 1, 1, 1, 1, 1, 1, 1,\n",
       "       1, 1, 1, 1, 1, 2, 2, 2, 2, 2, 2, 3, 6])"
      ]
     },
     "execution_count": 112,
     "metadata": {},
     "output_type": "execute_result"
    }
   ],
   "source": [
    "m = features_dict['exclamation'][neg_idx]\n",
    "m.sort()\n",
    "m"
   ]
  },
  {
   "cell_type": "markdown",
   "metadata": {},
   "source": [
    "### Adaboost"
   ]
  },
  {
   "cell_type": "code",
   "execution_count": 11,
   "metadata": {
    "collapsed": false
   },
   "outputs": [
    {
     "name": "stdout",
     "output_type": "stream",
     "text": [
      "1.0\n",
      "1.0\n"
     ]
    }
   ],
   "source": [
    "from sklearn.cross_validation import cross_val_score\n",
    "from sklearn.ensemble import AdaBoostClassifier\n",
    "from sklearn.tree import DecisionTreeClassifier\n",
    "\n",
    "#clf = AdaBoostClassifier(n_estimators=1000)\n",
    "\n",
    "# Create and fit an AdaBoosted decision tree\n",
    "bdt = AdaBoostClassifier(DecisionTreeClassifier(max_depth=2),\n",
    "                         algorithm=\"SAMME\",\n",
    "                         n_estimators=200)\n",
    "\n",
    "bdt.fit(features, target)\n",
    "predictions = bdt.predict(features)\n",
    "accuracy = get_accuracy(predictions, target)\n",
    "#print(accuracy)\n",
    "#print(bdt.score(features, data['sentiment']))\n",
    "predictions_prob = bdt.predict_proba(features)\n",
    "#print(predictions_prob)"
   ]
  },
  {
   "cell_type": "code",
   "execution_count": 12,
   "metadata": {
    "collapsed": false
   },
   "outputs": [
    {
     "name": "stdout",
     "output_type": "stream",
     "text": [
      "[ 0.79411765  0.70588235  0.76470588  0.55882353  0.73529412  0.5\n",
      "  0.79411765  0.67647059  0.72727273  0.75757576]\n",
      "Best accuracy is: 0.794117647059\n",
      "Avarage accuracy is: 0.701426024955\n"
     ]
    }
   ],
   "source": [
    "ab_clf = AdaBoostClassifier(DecisionTreeClassifier(max_depth=2),\n",
    "                            algorithm=\"SAMME\",\n",
    "                            n_estimators=1000)\n",
    "scores = cross_val_score(ab_clf, features, target, cv=10)\n",
    "print(scores)\n",
    "print(\"Best accuracy is:\", max(scores))\n",
    "print(\"Avarage accuracy is:\",scores.mean())"
   ]
  },
  {
   "cell_type": "markdown",
   "metadata": {},
   "source": [
    "### SVM"
   ]
  },
  {
   "cell_type": "code",
   "execution_count": 14,
   "metadata": {
    "collapsed": false
   },
   "outputs": [
    {
     "name": "stdout",
     "output_type": "stream",
     "text": [
      "mean: 0.72189, std: 0.03619, params: {'C': 0.10000000000000001}\n",
      "mean: 0.75740, std: 0.05815, params: {'C': 0.21544346900318834}\n",
      "mean: 0.76923, std: 0.06267, params: {'C': 0.46415888336127786}\n",
      "mean: 0.76036, std: 0.05541, params: {'C': 1.0}\n",
      "mean: 0.75148, std: 0.05863, params: {'C': 2.1544346900318834}\n",
      "mean: 0.74556, std: 0.05392, params: {'C': 4.6415888336127775}\n",
      "mean: 0.72189, std: 0.06419, params: {'C': 10.0}\n",
      "mean: 0.71598, std: 0.06654, params: {'C': 21.544346900318821}\n",
      "mean: 0.70710, std: 0.05311, params: {'C': 46.415888336127772}\n",
      "mean: 0.70710, std: 0.07196, params: {'C': 100.0}\n",
      "{'C': 0.46415888336127786}\n"
     ]
    }
   ],
   "source": [
    "from sklearn import svm\n",
    "from sklearn.grid_search import GridSearchCV\n",
    "from sklearn import preprocessing\n",
    "\n",
    "scaled_features = preprocessing.scale(features)\n",
    "Cs = np.logspace(-1, 2, 10)\n",
    "gammas = [0.001, 0.0001]\n",
    "#Cs = [1,2]\n",
    "svc = svm.SVC()\n",
    "#svm_clf = GridSearchCV(estimator=svc, param_grid=dict(C=Cs),\n",
    "#                   n_jobs=-1, cv=10,scoring='roc_auc')\n",
    "svm_clf = GridSearchCV(estimator=svc, param_grid=dict(C=Cs),\n",
    "                   n_jobs=-1, cv=10)\n",
    "svm_clf.fit(scaled_features, target) \n",
    "#print(svm_clf.best_score_)\n",
    "#print(svm_clf.scorer_)\n",
    "for score in svm_clf.grid_scores_:\n",
    "    print(score)\n",
    "    #print(str(score[2]))\n",
    "#print(svm_clf.grid_scores_)\n",
    "print(svm_clf.best_params_)\n",
    "#predictions = svm_clf.predict(features)\n",
    "#accuracy = get_accuracy(predictions, target)\n",
    "#print(accuracy)"
   ]
  },
  {
   "cell_type": "code",
   "execution_count": 32,
   "metadata": {
    "collapsed": false
   },
   "outputs": [
    {
     "data": {
      "text/plain": [
       "array([  1.00000000e-03,   2.78255940e-02,   7.74263683e-01,\n",
       "         2.15443469e+01,   5.99484250e+02,   1.66810054e+04,\n",
       "         4.64158883e+05,   1.29154967e+07,   3.59381366e+08,\n",
       "         1.00000000e+10])"
      ]
     },
     "execution_count": 32,
     "metadata": {},
     "output_type": "execute_result"
    }
   ],
   "source": [
    "np.logspace(-3, 10, 10)"
   ]
  },
  {
   "cell_type": "code",
   "execution_count": 15,
   "metadata": {
    "collapsed": false
   },
   "outputs": [
    {
     "name": "stdout",
     "output_type": "stream",
     "text": [
      "[ 0.73529412  0.76470588  0.76470588  0.70588235  0.79411765  0.70588235\n",
      "  0.79411765  0.67647059  0.78787879  0.87878788]\n",
      "Best accuracy is: 0.878787878788\n",
      "Avarage accuracy is: 0.760784313725\n"
     ]
    }
   ],
   "source": [
    "from sklearn.cross_validation import cross_val_score\n",
    "svm_clf = svm.SVC()\n",
    "scores = cross_val_score(svm_clf, scaled_features, target, cv=10)\n",
    "print(scores)\n",
    "print(\"Best accuracy is:\", max(scores))\n",
    "print(\"Avarage accuracy is:\",scores.mean())"
   ]
  },
  {
   "cell_type": "code",
   "execution_count": 24,
   "metadata": {
    "collapsed": false
   },
   "outputs": [
    {
     "data": {
      "text/plain": [
       "SVC(C=1.0, cache_size=200, class_weight=None, coef0=0.0,\n",
       "  decision_function_shape=None, degree=3, gamma='auto', kernel='rbf',\n",
       "  max_iter=-1, probability=False, random_state=None, shrinking=True,\n",
       "  tol=0.001, verbose=False)"
      ]
     },
     "execution_count": 24,
     "metadata": {},
     "output_type": "execute_result"
    }
   ],
   "source": [
    "svc"
   ]
  },
  {
   "cell_type": "markdown",
   "metadata": {},
   "source": [
    "### Logistic Regression"
   ]
  },
  {
   "cell_type": "code",
   "execution_count": 16,
   "metadata": {
    "collapsed": false
   },
   "outputs": [
    {
     "name": "stdout",
     "output_type": "stream",
     "text": [
      "0.778106508876\n"
     ]
    }
   ],
   "source": [
    "from sklearn import linear_model\n",
    "from sklearn.grid_search import GridSearchCV\n",
    "from sklearn import preprocessing\n",
    "scaled_features = preprocessing.scale(features)\n",
    "lr_clf = linear_model.LogisticRegression()\n",
    "\n",
    "lr_clf.fit(features, target)\n",
    "predictions = lr_clf.predict(features)\n",
    "accuracy = get_accuracy(predictions, target)\n",
    "print(accuracy)"
   ]
  },
  {
   "cell_type": "code",
   "execution_count": 81,
   "metadata": {
    "collapsed": false
   },
   "outputs": [
    {
     "name": "stdout",
     "output_type": "stream",
     "text": [
      "0.772189349112\n"
     ]
    }
   ],
   "source": [
    "scaled_features = preprocessing.scale(features)\n",
    "lr_clf = linear_model.LogisticRegression()\n",
    "\n",
    "lr_clf.fit(scaled_features, target)\n",
    "predictions = lr_clf.predict(scaled_features)\n",
    "accuracy = get_accuracy(predictions, target)\n",
    "print(accuracy)"
   ]
  },
  {
   "cell_type": "code",
   "execution_count": 23,
   "metadata": {
    "collapsed": false
   },
   "outputs": [
    {
     "name": "stdout",
     "output_type": "stream",
     "text": [
      "mean: 0.75740, std: 0.02779, params: {'C': 0.10000000000000001}\n",
      "mean: 0.75740, std: 0.02142, params: {'C': 0.21544346900318834}\n",
      "mean: 0.76331, std: 0.01127, params: {'C': 0.46415888336127786}\n",
      "mean: 0.76331, std: 0.01127, params: {'C': 1.0}\n",
      "mean: 0.76036, std: 0.01449, params: {'C': 2.1544346900318834}\n",
      "mean: 0.76036, std: 0.01449, params: {'C': 4.6415888336127775}\n",
      "mean: 0.75740, std: 0.01810, params: {'C': 10.0}\n",
      "mean: 0.75740, std: 0.01810, params: {'C': 21.544346900318821}\n",
      "mean: 0.75740, std: 0.01810, params: {'C': 46.415888336127772}\n",
      "mean: 0.75740, std: 0.01810, params: {'C': 100.0}\n",
      "{'C': 0.46415888336127786}\n"
     ]
    }
   ],
   "source": [
    "scaled_features = preprocessing.scale(features)\n",
    "Cs = np.logspace(-1, 2, 10)\n",
    "lr = linear_model.LogisticRegression()\n",
    "lr_clf = GridSearchCV(estimator=lr, param_grid=dict(C=Cs),\n",
    "                   n_jobs=-1)\n",
    "lr_clf.fit(scaled_features, target) \n",
    "for score in lr_clf.grid_scores_:\n",
    "    print(score)\n",
    "    #print(str(score[2]))\n",
    "print(lr_clf.best_params_)"
   ]
  },
  {
   "cell_type": "code",
   "execution_count": 18,
   "metadata": {
    "collapsed": false
   },
   "outputs": [
    {
     "name": "stdout",
     "output_type": "stream",
     "text": [
      "[ 0.73529412  0.79411765  0.76470588  0.76470588  0.79411765  0.70588235\n",
      "  0.76470588  0.67647059  0.72727273  0.87878788]\n",
      "Best accuracy is: 0.878787878788\n",
      "Avarage accuracy is: 0.760606060606\n"
     ]
    }
   ],
   "source": [
    "lr_clf = linear_model.LogisticRegression()\n",
    "scores = cross_val_score(lr_clf, scaled_features, target, cv=10)\n",
    "print(scores)\n",
    "print(\"Best accuracy is:\", max(scores))\n",
    "print(\"Avarage accuracy is:\",scores.mean())"
   ]
  },
  {
   "cell_type": "markdown",
   "metadata": {},
   "source": [
    "## The Next\n",
    "\n",
    "* Try different types of classifiers\n",
    "* Train different classifiers with different combinations of features\n",
    "* Try with different hyperparameter (C, max_depth)"
   ]
  },
  {
   "cell_type": "code",
   "execution_count": null,
   "metadata": {
    "collapsed": true
   },
   "outputs": [],
   "source": []
  }
 ],
 "metadata": {
  "kernelspec": {
   "display_name": "Python 3",
   "language": "python",
   "name": "python3"
  },
  "language_info": {
   "codemirror_mode": {
    "name": "ipython",
    "version": 3
   },
   "file_extension": ".py",
   "mimetype": "text/x-python",
   "name": "python",
   "nbconvert_exporter": "python",
   "pygments_lexer": "ipython3",
   "version": "3.5.1"
  }
 },
 "nbformat": 4,
 "nbformat_minor": 1
}
