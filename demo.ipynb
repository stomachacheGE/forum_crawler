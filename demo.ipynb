{
 "cells": [
  {
   "cell_type": "code",
   "execution_count": 1,
   "metadata": {
    "collapsed": false
   },
   "outputs": [],
   "source": [
    "from sqlalchemy import create_engine\n",
    "from sqlalchemy.orm import sessionmaker\n",
    "from db_initialize import *\n",
    "\n",
    "engine = create_engine('sqlite://///Users/Johnson/Documents/nit/thesis/forum_crawler/database.db')\n",
    "Session = sessionmaker(bind=engine)\n",
    "Base.metadata.bind = engine\n",
    "session = Session()"
   ]
  },
  {
   "cell_type": "code",
   "execution_count": 2,
   "metadata": {
    "collapsed": false
   },
   "outputs": [
    {
     "name": "stdout",
     "output_type": "stream",
     "text": [
      "User <0311> is from forum <healing well>, has 0 threads, 1 posts.\n",
      "User <1218davinci> is from forum <healing well>, has 0 threads, 1 posts.\n",
      "User <60Michael> is from forum <healing well>, has 0 threads, 2 posts.\n",
      "User <614-2101-765-611> is from forum <healing well>, has 0 threads, 1 posts.\n",
      "User <81GyGuy> is from forum <healing well>, has 3 threads, 2 posts.\n",
      "User <ASAdvocate> is from forum <healing well>, has 0 threads, 7 posts.\n",
      "User <Aimzee> is from forum <healing well>, has 0 threads, 2 posts.\n",
      "User <Almost a 10> is from forum <healing well>, has 0 threads, 6 posts.\n",
      "User <AnotherDisplayName> is from forum <healing well>, has 0 threads, 1 posts.\n",
      "User <Artist Mark> is from forum <healing well>, has 2 threads, 4 posts.\n",
      "User <BOOGEE> is from forum <healing well>, has 0 threads, 2 posts.\n",
      "User <Berdoo/Arkansas> is from forum <healing well>, has 1 threads, 1 posts.\n",
      "User <Big Mac> is from forum <healing well>, has 0 threads, 1 posts.\n",
      "User <BillyBob@388> is from forum <healing well>, has 0 threads, 6 posts.\n",
      "User <Bobby Mac> is from forum <healing well>, has 1 threads, 9 posts.\n",
      "User <Bololidat> is from forum <healing well>, has 1 threads, 10 posts.\n",
      "User <Boon1> is from forum <healing well>, has 0 threads, 11 posts.\n",
      "User <Break60> is from forum <healing well>, has 0 threads, 8 posts.\n",
      "User <Cajun Jeff> is from forum <healing well>, has 1 threads, 3 posts.\n",
      "User <CaliJR> is from forum <healing well>, has 1 threads, 15 posts.\n",
      "User <Chask> is from forum <healing well>, has 0 threads, 3 posts.\n",
      "User <ChrisR> is from forum <healing well>, has 0 threads, 1 posts.\n",
      "User <Cigafred> is from forum <healing well>, has 1 threads, 3 posts.\n",
      "User <DYank> is from forum <healing well>, has 0 threads, 2 posts.\n",
      "User <Dan0> is from forum <healing well>, has 0 threads, 1 posts.\n",
      "User <Dave-Rockville,MD> is from forum <healing well>, has 0 threads, 2 posts.\n",
      "User <Deon124> is from forum <healing well>, has 1 threads, 4 posts.\n",
      "User <DougS> is from forum <healing well>, has 1 threads, 2 posts.\n",
      "User <Dr WHO> is from forum <healing well>, has 0 threads, 3 posts.\n",
      "User <Dugalf> is from forum <healing well>, has 1 threads, 0 posts.\n",
      "User <Easy Ace> is from forum <healing well>, has 0 threads, 1 posts.\n",
      "User <English Alf> is from forum <healing well>, has 1 threads, 1 posts.\n",
      "User <F8> is from forum <healing well>, has 0 threads, 7 posts.\n",
      "User <Fairwind> is from forum <healing well>, has 0 threads, 8 posts.\n",
      "User <Faustmann> is from forum <healing well>, has 0 threads, 1 posts.\n",
      "User <Fl Drifter> is from forum <healing well>, has 1 threads, 1 posts.\n",
      "User <FoxRun> is from forum <healing well>, has 1 threads, 5 posts.\n",
      "User <Gemlin> is from forum <healing well>, has 0 threads, 4 posts.\n",
      "User <George_> is from forum <healing well>, has 0 threads, 4 posts.\n",
      "User <Georgenyc> is from forum <healing well>, has 1 threads, 9 posts.\n",
      "User <Gleason 6> is from forum <healing well>, has 1 threads, 4 posts.\n",
      "User <Gunner34> is from forum <healing well>, has 0 threads, 2 posts.\n",
      "User <HD_Rider> is from forum <healing well>, has 0 threads, 1 posts.\n",
      "User <Hawaii-Guy> is from forum <healing well>, has 0 threads, 1 posts.\n",
      "User <Hilander64> is from forum <healing well>, has 1 threads, 4 posts.\n",
      "User <Howard3569> is from forum <healing well>, has 2 threads, 2 posts.\n",
      "User <ISU-CycloneFan> is from forum <healing well>, has 1 threads, 23 posts.\n",
      "User <InTheShop> is from forum <healing well>, has 0 threads, 27 posts.\n",
      "User <Infohound2> is from forum <healing well>, has 0 threads, 1 posts.\n",
      "User <Inspector 13> is from forum <healing well>, has 0 threads, 1 posts.\n",
      "User <JNF> is from forum <healing well>, has 0 threads, 6 posts.\n",
      "User <JackH> is from forum <healing well>, has 0 threads, 11 posts.\n",
      "User <James C.> is from forum <healing well>, has 0 threads, 4 posts.\n",
      "User <JamesE> is from forum <healing well>, has 0 threads, 4 posts.\n",
      "User <Jaybee_007> is from forum <healing well>, has 1 threads, 0 posts.\n",
      "User <Jazzman1> is from forum <healing well>, has 0 threads, 2 posts.\n",
      "User <Jerry L.> is from forum <healing well>, has 0 threads, 3 posts.\n",
      "User <JimBear> is from forum <healing well>, has 0 threads, 1 posts.\n",
      "User <Joe in Nice> is from forum <healing well>, has 0 threads, 1 posts.\n",
      "User <John T> is from forum <healing well>, has 0 threads, 1 posts.\n",
      "User <John_TX> is from forum <healing well>, has 0 threads, 3 posts.\n",
      "User <Jollytinker> is from forum <healing well>, has 1 threads, 0 posts.\n",
      "User <JustJulie> is from forum <healing well>, has 0 threads, 2 posts.\n",
      "User <Kark60> is from forum <healing well>, has 0 threads, 1 posts.\n",
      "User <KeepOnTruckin> is from forum <healing well>, has 0 threads, 2 posts.\n",
      "User <Larry E> is from forum <healing well>, has 0 threads, 1 posts.\n",
      "User <Mack54> is from forum <healing well>, has 0 threads, 1 posts.\n",
      "User <Mag E May> is from forum <healing well>, has 0 threads, 1 posts.\n",
      "User <Manfred> is from forum <healing well>, has 0 threads, 1 posts.\n",
      "User <Max Vision> is from forum <healing well>, has 0 threads, 1 posts.\n",
      "User <Michael_T> is from forum <healing well>, has 0 threads, 6 posts.\n",
      "User <MistyCoffee> is from forum <healing well>, has 0 threads, 2 posts.\n",
      "User <NY-Sooner> is from forum <healing well>, has 1 threads, 0 posts.\n",
      "User <Nell79> is from forum <healing well>, has 1 threads, 2 posts.\n",
      "User <NewDay> is from forum <healing well>, has 0 threads, 1 posts.\n",
      "User <NewspaperLover> is from forum <healing well>, has 0 threads, 1 posts.\n",
      "User <Newton451> is from forum <healing well>, has 0 threads, 14 posts.\n",
      "User <Nomar Lupron 4 Me> is from forum <healing well>, has 0 threads, 2 posts.\n",
      "User <Northern Lights> is from forum <healing well>, has 0 threads, 1 posts.\n",
      "User <Northfoot> is from forum <healing well>, has 0 threads, 1 posts.\n",
      "User <PDL17> is from forum <healing well>, has 0 threads, 2 posts.\n",
      "User <PSA3DOT7> is from forum <healing well>, has 0 threads, 1 posts.\n",
      "User <PeterDisAbelard.> is from forum <healing well>, has 0 threads, 6 posts.\n",
      "User <Pratoman> is from forum <healing well>, has 0 threads, 18 posts.\n",
      "User <Purgatory> is from forum <healing well>, has 0 threads, 2 posts.\n",
      "User <RCS> is from forum <healing well>, has 1 threads, 3 posts.\n",
      "User <RandyJoe> is from forum <healing well>, has 1 threads, 2 posts.\n",
      "User <Redwing57> is from forum <healing well>, has 0 threads, 5 posts.\n",
      "User <RobertC> is from forum <healing well>, has 0 threads, 2 posts.\n",
      "User <Roy123> is from forum <healing well>, has 0 threads, 1 posts.\n",
      "User <Sam-the-Man> is from forum <healing well>, has 0 threads, 2 posts.\n",
      "User <ShinytopPC> is from forum <healing well>, has 0 threads, 1 posts.\n",
      "User <Sonny3> is from forum <healing well>, has 1 threads, 5 posts.\n",
      "User <SophieW> is from forum <healing well>, has 1 threads, 4 posts.\n",
      "User <Southern Comfort> is from forum <healing well>, has 0 threads, 1 posts.\n",
      "User <SteelGuy> is from forum <healing well>, has 0 threads, 1 posts.\n",
      "User <Steve n Dallas> is from forum <healing well>, has 1 threads, 4 posts.\n",
      "User <SueCAll> is from forum <healing well>, has 0 threads, 2 posts.\n",
      "User <TIGER74> is from forum <healing well>, has 0 threads, 2 posts.\n",
      "User <Tall Allen> is from forum <healing well>, has 2 threads, 69 posts.\n",
      "User <Teamchris> is from forum <healing well>, has 0 threads, 1 posts.\n",
      "User <Thommy2458> is from forum <healing well>, has 1 threads, 5 posts.\n",
      "User <Tim G> is from forum <healing well>, has 0 threads, 8 posts.\n",
      "User <Todd1963> is from forum <healing well>, has 1 threads, 9 posts.\n",
      "User <Tony Crispino> is from forum <healing well>, has 0 threads, 4 posts.\n",
      "User <Traveller58> is from forum <healing well>, has 1 threads, 0 posts.\n",
      "User <Tudpock18> is from forum <healing well>, has 0 threads, 8 posts.\n",
      "User <Whippoorwill> is from forum <healing well>, has 1 threads, 11 posts.\n",
      "User <Wings of Eagles> is from forum <healing well>, has 1 threads, 2 posts.\n",
      "User <Works Out> is from forum <healing well>, has 0 threads, 4 posts.\n",
      "User <Zen9> is from forum <healing well>, has 1 threads, 0 posts.\n",
      "User <Zzarth> is from forum <healing well>, has 1 threads, 0 posts.\n",
      "User <akai> is from forum <healing well>, has 0 threads, 2 posts.\n",
      "User <alephnull> is from forum <healing well>, has 1 threads, 8 posts.\n",
      "User <ao> is from forum <healing well>, has 0 threads, 1 posts.\n",
      "User <audrey1969> is from forum <healing well>, has 0 threads, 1 posts.\n",
      "User <boyntonsteveg> is from forum <healing well>, has 2 threads, 1 posts.\n",
      "User <browntrout> is from forum <healing well>, has 1 threads, 5 posts.\n",
      "User <celebrate life> is from forum <healing well>, has 1 threads, 9 posts.\n",
      "User <cfbbneil> is from forum <healing well>, has 1 threads, 2 posts.\n",
      "User <chrisp1> is from forum <healing well>, has 1 threads, 4 posts.\n",
      "User <clocknut> is from forum <healing well>, has 0 threads, 1 posts.\n",
      "User <compiler> is from forum <healing well>, has 1 threads, 4 posts.\n",
      "User <dkob131> is from forum <healing well>, has 0 threads, 1 posts.\n",
      "User <dmlvt> is from forum <healing well>, has 1 threads, 0 posts.\n",
      "User <don826> is from forum <healing well>, has 0 threads, 3 posts.\n",
      "User <drjmo> is from forum <healing well>, has 0 threads, 1 posts.\n",
      "User <eyetat> is from forum <healing well>, has 0 threads, 1 posts.\n",
      "User <fuunit> is from forum <healing well>, has 0 threads, 1 posts.\n",
      "User <fuzzboxman> is from forum <healing well>, has 1 threads, 0 posts.\n",
      "User <goatts> is from forum <healing well>, has 0 threads, 1 posts.\n",
      "User <grumpyone99> is from forum <healing well>, has 0 threads, 1 posts.\n",
      "User <guytalk> is from forum <healing well>, has 0 threads, 1 posts.\n",
      "User <halbert> is from forum <healing well>, has 2 threads, 22 posts.\n",
      "User <island time> is from forum <healing well>, has 0 threads, 12 posts.\n",
      "User <john16> is from forum <healing well>, has 0 threads, 2 posts.\n",
      "User <junbug> is from forum <healing well>, has 1 threads, 0 posts.\n",
      "User <keysailfisher> is from forum <healing well>, has 1 threads, 1 posts.\n",
      "User <kitty19> is from forum <healing well>, has 0 threads, 1 posts.\n",
      "User <lapilot> is from forum <healing well>, has 0 threads, 3 posts.\n",
      "User <lifeguyd> is from forum <healing well>, has 0 threads, 1 posts.\n",
      "User <mitchden4> is from forum <healing well>, has 1 threads, 1 posts.\n",
      "User <mspt98> is from forum <healing well>, has 0 threads, 1 posts.\n",
      "User <nepol> is from forum <healing well>, has 1 threads, 4 posts.\n",
      "User <peanut307> is from forum <healing well>, has 1 threads, 2 posts.\n",
      "User <pjr64> is from forum <healing well>, has 0 threads, 2 posts.\n",
      "User <rob2> is from forum <healing well>, has 0 threads, 3 posts.\n",
      "User <rockyfords> is from forum <healing well>, has 0 threads, 5 posts.\n",
      "User <samster> is from forum <healing well>, has 0 threads, 3 posts.\n",
      "User <sbharley> is from forum <healing well>, has 1 threads, 0 posts.\n",
      "User <sheepguy> is from forum <healing well>, has 0 threads, 2 posts.\n",
      "User <stixandstonz> is from forum <healing well>, has 1 threads, 0 posts.\n",
      "User <suzhtz> is from forum <healing well>, has 1 threads, 12 posts.\n",
      "User <tarhoosier> is from forum <healing well>, has 0 threads, 1 posts.\n",
      "User <twash> is from forum <healing well>, has 0 threads, 1 posts.\n",
      "User <vn16> is from forum <healing well>, has 0 threads, 1 posts.\n",
      "User <weston> is from forum <healing well>, has 0 threads, 1 posts.\n"
     ]
    }
   ],
   "source": [
    "users = session.query(User).order_by(User.name).all()\n",
    "len(users)\n",
    "for user in users:\n",
    "    print(user)"
   ]
  },
  {
   "cell_type": "code",
   "execution_count": 2,
   "metadata": {
    "collapsed": false
   },
   "outputs": [
    {
     "data": {
      "text/plain": [
       "48"
      ]
     },
     "execution_count": 2,
     "metadata": {},
     "output_type": "execute_result"
    }
   ],
   "source": [
    "\n",
    "author = session.query(User).filter_by(name=\"LowRoad\", forum=\"prostatakrebs\").first()\n",
    "len(author.threads)"
   ]
  },
  {
   "cell_type": "code",
   "execution_count": 7,
   "metadata": {
    "collapsed": false
   },
   "outputs": [
    {
     "name": "stdout",
     "output_type": "stream",
     "text": [
      "Column: id\n",
      "Column: name\n",
      "Column: profile_url\n",
      "Column: forum\n",
      "Column: date_joined\n",
      "Column: total_posts\n",
      "Column: subforum\n"
     ]
    }
   ],
   "source": [
    "from sqlalchemy import inspect\n",
    "inspector = inspect(engine)\n",
    "\n",
    "inspector.get_table_names()\n",
    "for column in inspector.get_columns('users'):\n",
    "   print(\"Column: %s\" % column['name'])"
   ]
  },
  {
   "cell_type": "code",
   "execution_count": 6,
   "metadata": {
    "collapsed": false
   },
   "outputs": [
    {
     "data": {
      "text/plain": [
       "307"
      ]
     },
     "execution_count": 6,
     "metadata": {},
     "output_type": "execute_result"
    }
   ],
   "source": [
    "posts = session.query(Post).filter_by(subforum='Angehörigenforum').all()\n",
    "len(posts)"
   ]
  },
  {
   "cell_type": "code",
   "execution_count": 7,
   "metadata": {
    "collapsed": false
   },
   "outputs": [
    {
     "data": {
      "text/plain": [
       "68"
      ]
     },
     "execution_count": 7,
     "metadata": {},
     "output_type": "execute_result"
    }
   ],
   "source": [
    "threads = session.query(Thread).filter_by(subforum='Prostatakrebs und Psyche').all()\n",
    "len(threads)"
   ]
  },
  {
   "cell_type": "code",
   "execution_count": 2,
   "metadata": {
    "collapsed": false
   },
   "outputs": [],
   "source": [
    "user3 = User(name=\"liangcheng\", subforum=\"c\")\n",
    "session.add(user3)\n",
    "session.commit()"
   ]
  },
  {
   "cell_type": "code",
   "execution_count": 11,
   "metadata": {
    "collapsed": true
   },
   "outputs": [],
   "source": [
    "user = session.query(User).filter_by(name=\"liangcheng\").first()"
   ]
  },
  {
   "cell_type": "code",
   "execution_count": 12,
   "metadata": {
    "collapsed": false
   },
   "outputs": [],
   "source": [
    "user"
   ]
  },
  {
   "cell_type": "code",
   "execution_count": 10,
   "metadata": {
    "collapsed": false
   },
   "outputs": [],
   "source": [
    "session.delete(user)\n",
    "session.commit()"
   ]
  },
  {
   "cell_type": "code",
   "execution_count": 3,
   "metadata": {
    "collapsed": false
   },
   "outputs": [],
   "source": [
    "num = session.query(Thread).count()\n"
   ]
  },
  {
   "cell_type": "code",
   "execution_count": 4,
   "metadata": {
    "collapsed": false
   },
   "outputs": [
    {
     "data": {
      "text/plain": [
       "28850"
      ]
     },
     "execution_count": 4,
     "metadata": {},
     "output_type": "execute_result"
    }
   ],
   "source": [
    "num"
   ]
  },
  {
   "cell_type": "code",
   "execution_count": 5,
   "metadata": {
    "collapsed": false
   },
   "outputs": [
    {
     "name": "stdout",
     "output_type": "stream",
     "text": [
      "4105\n",
      "\n",
      "Title: NanoKnife – die richtige Therapie gegen Prostatakrebs? \n",
      "User: Georg_ \n",
      "Time: 2015-12-15 17:47:00 \n",
      "Posts: 23\n",
      "URL: http://forum.prostatakrebs-bps.de/showthread.php?9227-NanoKnife-%E2%80%93-die-richtige-Therapie-gegen-Prostatakrebs \n",
      "\n",
      "\t\t\t\t\tIn diesem Forum wurde wiederholt kontrovers über die NanoKnife Therapie diskutiert. Nachdem ich mich letzte Woche mit NanoKnife behandeln ließ, habe ich einen ausführlichen Bericht über die NanoKnife Therapie geschrieben. Dieser wurde jetzt als Text bei KISP veröffentlicht:\n",
      "\n",
      "http://www.prostatakrebse.de/informa.../Nanoknife.pdf\n",
      "\n",
      "Ich hatte mich vor meiner Behandlung eingehend mit NanoKnife und mehreren anderen Therapien auseinandergesetzt. Danach habe ich mich für NanoKnife entschieden und mein Bericht stellt daher NanoKnife positiv dar. Ich habe dies aber durch Literaturangaben, Studien und Statistiken begründet.\n",
      "\n",
      "Dabei gehe ich auf die bisher vorliegenden Studien zur Sicherheit und Wirksamkeit der Therapie ein und nehme auch zu den kritischen Veröffentlichungen über NanoKnife Stellung.\n",
      "\n",
      "Wenn sich also jemand genauer über die NanoKnife Therapie informieren möchte so sei ihm mein Bericht empfohlen.\n",
      "\n",
      "Georg\n",
      "\t\t\t\t \n",
      "\n",
      "\n",
      "Title: Potenz nach Radiotherapie \n",
      "User: Lothar M \n",
      "Time: 2016-02-25 11:01:00 \n",
      "Posts: 3\n",
      "URL: http://forum.prostatakrebs-bps.de/showthread.php?9335-Potenz-nach-Radiotherapie \n",
      "\n",
      "\t\t\t\t\tLiebes Forum,\n",
      "\n",
      "bei mir steht (bald?) eine Entscheidung über eine Radiotherapie an. RPE beidseitig nerverhaltend vor 4 Jahren.\n",
      "PSA jetzt bei 0,16. Mein PSA-Wert ist nach der RPE jährlich ca. um 0,04 gleichmäßig gestiegen. Ich könnte bei einem biochemischen Rezidiv bei 0,2 PSA bis 0,4 PSA einsteigen. Neuere Studien (vgl. kürzlichen Forumsbeitrag unseres Urologen) sehen einen Einstieg auch bei 0,4 statistisch als möglich/vorteilhaft an.\n",
      "\n",
      "Bei meiner Entscheidung spielt die Gefahr einer Inpotenz eine nicht unwesentliche Rolle.\n",
      "Wie sind Euere Erfahrungen mit diesem Thema nach einer RT?\n",
      "\n",
      "Für Eure Einschätzung wäre ich sehr dankbar.\n",
      "\n",
      "Herzlichen Gruß\n",
      "\n",
      "Lothar\n",
      "\t\t\t\t \n",
      "\n",
      "\n",
      "Title: Protonenbestrahlung als Erstbehandlung - wie ich sie erlebe. \n",
      "User: Biker61 \n",
      "Time: 2015-06-14 16:08:00 \n",
      "Posts: 43\n",
      "URL: http://forum.prostatakrebs-bps.de/showthread.php?8994-Protonenbestrahlung-als-Erstbehandlung-wie-ich-sie-erlebe \n",
      "\n",
      " Liebe Mitglieder des Prostata Diskussionsforum\n",
      "ich bin 60 Jahre alt mein PSA Wert betrug 5,0 vor der Prostata Biopsie.\n",
      "Nach der Prostata Biopsie mit 12 Stanzen habe ich folgende Diagnose bekommen:\n",
      "Fraktion 1 Rechts Apex \n",
      "7 Links Apex 90% 4 + 4 = 8\n",
      "8 Links Mitte 90% 4 + 4 = 8\n",
      "9 Links Basis 30% 4 + 4 = 8\n",
      "11 Links paraurethral Mitte 5% 3 + 3 = 6\n",
      "12 Links paraurethral cranial 3% 4 + 5(50%) = 9\n",
      "Diesen Hochrisiko Tumor hatte weder mein Urologe noch ich erwartet das war eine harte Diagnose.\n",
      "Weitere Diagnostik:\n",
      "MRT keine Vergrößerung der Lymphknoten.\n",
      "Keine Vergrößerung der Prostata.\n",
      "Keine Kapselüberschreitung.\n",
      "Knochen Ganzkörperscreening keine Knochenmetastasen.\n",
      "Das sind gute Befunde ich war sehr froh darüber.\n",
      "\n",
      "Mein Urologe geht von einem lokal begrenzten high Risiko Karzinom aus.\n",
      "Er hat mir die Operation empfohlen. \n",
      "Nach einigen Gesprächen mit dem Deutsches Krebsforschungszentrum\n",
      "69120 Heidelberg und dem Studium der Leitlinien für Prostata High Risiko Tumore\n",
      "habe mich für die Protonen Strahlentherapie mit gleichzeitiger Hormontherapie Dauer 3 Jahre entschieden.\n",
      "Mir ist das Risiko zu groß bei einer OP mit 60 Jahren dauerhaft impotent und inkontinent zu werden.\n",
      "Ich werde mit LHRH-Analoga Pamorelin (Wirkstoff: Triptorelin)  3-Monats-Depotspritze mindestens 2 Jahre\n",
      "und am Anfang Bicalutamid 50mg für 30 Tage behandelt\n",
      "Nach etwa 8 Wochen (Prostata soll bis dahin geschrumpft werden) begann die Protonen Strahlentherapie im Universitäts ProtonenTherapie Zenrum Dresden – Klinik für Strahlentherapie/OncoRay.\n",
      "Nach der Bestrahlungsplanung und dem Lagerungs CT wurden 37 Fraktionen mit 2 Gray\n",
      "insgesamt 74 Gray festgelegt.\n",
      "Die genaue Lagerung wird mit einem Röntgen Körper Scan Gerät und danach täglich mit dem In-room CT gewährleistet. Zur Verringerung der Nebenwirkungen im Darmbereich wird täglich ein Ballon in den Rektum eingeführt was sehr unangenehm ist.\n",
      "Ich werde täglich einmal von rechts oben danach von links oben bestrahlt.\n",
      "Ich habe jetzt täglich (außer Wochenende) 27 Protonen Bestrahlungen bekommen.\n",
      "Die ersten drei Wochen hatte ich keine Nebenwirkungen.\n",
      "Danach habe ich vermehrten Harndrang mit Brennen beim Wasserlassen und nachts vermehrte Anstrengung zur Blasenentleerung. Behandlung mit Tamsulosin und gegen die Schmerzen Diclofenac. Leider bestehen diese „klassischen Nebenwirkungen“ weiter und haben sich nicht gebessert. Nach den Bestrahlungen fühle ich mich müde matt und antriebslos. Jetzt habe ich noch 10 Bestrahlungen vor mir. Es ist eine sehr lange Zeit ich werde täglich mit der Taxe in die Klinik und zurück gefahren.\n",
      "So einfach und „easy“ wie es Kurt Krüger in seinem sehr guten Erfahrungsbericht über seine Behandlung in Loma Linda schreibt empfinde ich die Bestrahlung mit Protonen nicht.\n",
      "Ich würde mich freuen wenn andere Mitglieder dieses Forums mir ihre Erfahrungen bei der Protonen Bestrahlung mitteilen würden. Ich finde selten Berichte über die Erstbehandlung mit Protonen.\n",
      "\n",
      " \n",
      "\n",
      "\n",
      "Title: PET CT / neue Frage \n",
      "User: Emma2016 \n",
      "Time: 2016-06-21 18:14:00 \n",
      "Posts: 4\n",
      "URL: http://forum.prostatakrebs-bps.de/showthread.php?9493-PET-CT-neue-Frage \n",
      "\n",
      "\t\t\t\t\tHallo zusammen, nach dem wir in der ersten Klinik erfolglos waren, war gestern des Termin in der Uni Klinik Tübingen. Es war die Oberärztin der Urologide und der Strahlen Arzt da zur Beratung. Vorgeschlagen wurden sieben Wochen Bestrahlung und es sei zu prüfen ob eine Chemo mit Taxotere nötig ist dafür solle man ein PET C T gemacht werden. Wir haben allerdings gelesen das dies von den Kassen nicht bezahlt wird. Stimmt das? Zu dem könne man dies erst durch führen wenn die Wirkung der der ersten Hormon spritze nachgelassen hat, das wäre Ende August. Das ist ganz schön lange. Wir fragen uns: zu lange dir zum Beginn einer Therapie? Der Befund soll diese Woche noch der Tumor Konferenz vorgestellt werden, dann bekommt der Urologen den Bericht und mein Freund soll dann mit ihm alles weitere besprechen. Die Diagnose ist nun schon zwei Monate her und nichts geht vorwärts. Ist dass denn die Regel, dass das so lange dauert?\n",
      "\t\t\t\t \n",
      "\n",
      "\n",
      "Title: Tumor nach Biopsie festgestellt, welche Therapie? \n",
      "User: lothar1 \n",
      "Time: 2016-06-19 20:06:00 \n",
      "Posts: 3\n",
      "URL: http://forum.prostatakrebs-bps.de/showthread.php?9492-Tumor-nach-Biopsie-festgestellt-welche-Therapie \n",
      "\n",
      "\t\t\t\t\tHallo,\n",
      "meine Prostata-Biograpie (ich bin 67 Jahre alt) sieht so aus:\n",
      "\n",
      "PSA-Erhöhung auf 9 ng/ml im April 2016, davor immer etwa 4,5 ng/ml. \n",
      "PIRADS 5 Läsion im MRT im Juni 2015.\n",
      "\n",
      "MRT Prostata 20.4.16: Vol 79 mml.\n",
      "Biopsiewürdige PIRADS Läsion \n",
      "\n",
      "25.5.16 3D-gesteuerte mpMRT-fusionierte Bopsie in UMM Mannheim:\n",
      "12 Stanzzylinder entnommen\n",
      "\n",
      "Fraktion 13: Infiltrationsgrad 10%, Gleason 3+3=6\n",
      "Fraktion 15: Infiltrationsgrad 20%, Gleason 3+3=6\n",
      "Perineuralscheideninflitration: ja\n",
      "Größter zusammenhängender Tumorherd: 1,5 mm\n",
      "Tumorstadium: L0, V0, Pn1\n",
      "\n",
      "In Mannheim empfahl man mir bei dieser Daignose eine HiFu-Behandlung.\n",
      "Mein Urologe, dem ich seit Jahren vertraue, riet mir davon ab und empfahl eine Total-OP der Prostata. Alles andere wäre riskant, weil nach einer HiFu eine vielleicht später doch erforderliche Total-OP schwieriger würde, weil sich durch HiFu der Drüsenaufbau verändert.\n",
      "\n",
      "Außerdem meinte er, dass man nicht sicher sein könne trotz der Biopsie, ob wirklich alle Tumorzellen erfasst wurden.\n",
      "Das hat mich dann doch überzeugt, will mich aber vor einem solchen Schritt noch einmal umfassend informieren.\n",
      "\n",
      "Für eine OP käme die Uniklinik in Mannheim in Frage wegen der örtlichen Nähe. Die Martini-Klinik spricht mich aufgrund der hohen Operationszahlen und der Spezialisierung sehr an. Ob offene OP oder DaVinci weiß ich auch noch nicht, würde ich auch vom Vorgespräch mit dem jeweiligen Arzt abhängig machen.\n",
      "\n",
      "Über Erfahrungsberichte und Einschätzungen aus ähnlichen Verläufen würde ich mich sehr freuen.\n",
      "\n",
      "Lothar\n",
      "\t\t\t\t \n",
      "\n",
      "\n",
      "Title: Nach Bestrahlung wann nächsten PSA Bestimmen. \n",
      "User: Michi1 \n",
      "Time: 2016-06-27 10:26:00 \n",
      "Posts: 5\n",
      "URL: http://forum.prostatakrebs-bps.de/showthread.php?9496-Nach-Bestrahlung-wann-n%C3%A4chsten-PSA-Bestimmen \n",
      "\n",
      "\t\t\t\t\tIch habe gehört das nach der Bestrahlug eine Zeit abgewartet werden soll bis man wieder den PSA bestimmen lassen soll. Ist das Richtig ? Und wie lang soll ich dann warten ?\n",
      "\t\t\t\t \n",
      "\n",
      "\n",
      "Title: HIFU oder IRE bei PSA > 15? \n",
      "User: carolus1 \n",
      "Time: 2016-06-25 14:50:00 \n",
      "Posts: 9\n",
      "URL: http://forum.prostatakrebs-bps.de/showthread.php?9494-HIFU-oder-IRE-bei-PSA-gt-15 \n",
      "\n",
      "\t\t\t\t\tHallo liebe Forumteilnehmer,\n",
      "\n",
      "ich bin neu im Forum ... obwohl ich schon seit ein paar Monaten darin lese.\n",
      "\n",
      "Zu meinem Fall:\n",
      "\n",
      "Alter: 54\n",
      "\n",
      "Historie der PSA Werte:\n",
      "Juni 11    5,77\n",
      "Juli 12    6,4\n",
      "Juni 13    9,17\n",
      "März 14    12,33\n",
      "04.03.15    14,38\n",
      "26.01.16    14,5\n",
      "10.05.16    18,3\n",
      "30.05.16    15,93\n",
      "22.06.16    16,8\n",
      "\n",
      "MRT 2011: kein Befund\n",
      "aktuell: kein Tastbefund, kein Nachweis per Ultraschall\n",
      "MRT am 19.02.2016 - Ergebnis PI-RADS 5 (Regionen 9/3a und 14as), kein vergrößerter Lymphknoten.\n",
      "\n",
      "Am 21.03.2016 fand eine Biopsie statt. 12 Stanzen, 2 Stanzen mit Befund, beidseitig, Gleason Score 3+3\n",
      "\n",
      "Meine Therapiewahl war HIFU, allerdings geht dies an meiner Klinik nur im Rahmen einer Studie, woran eine Teilnahme nur mit PSA \n",
      "\n",
      "Hat schon jemand Erfahrungen zu HIFU-Behandlungen bei höheren PSA-Werten? Bzw. wie die Grenze von 15 zustande kommt? Beim Schmökern im Forum bin ich auch auf IRE gestoßen, dies würde ich auch in Betracht ziehen. Eine RPE käme für mich nur als allerletzes Mittel in Betracht.\n",
      "\n",
      "Schon mal herzlichen Dank für eure Antworten und viele Grüße,\n",
      "Karl\n",
      "\t\t\t\t \n",
      "\n",
      "\n",
      "Title: Gras als Therapie? \n",
      "User: werner m \n",
      "Time: 2015-12-29 09:48:00 \n",
      "Posts: 22\n",
      "URL: http://forum.prostatakrebs-bps.de/showthread.php?9249-Gras-als-Therapie \n",
      "\n",
      "\t\t\t\t\tHallo,\n",
      "Bin gerade auf Cannabis als 90 tägige Therapieform bei Krebs der Prostata gestoßen. Sie soll sehr wirkungsvoll sein.\n",
      "Hat jemand davon schon mal etwas seriös gehört\n",
      "(ich weiß, es ist in Deutschland nicht legal. Falls es jedoch wirkt ....)\n",
      "\t\t\t\t \n",
      "\n",
      "\n",
      "Title: Immuntherapie gegen Auszehrung \n",
      "User: eca_ch \n",
      "Time: 2016-06-30 08:02:00 \n",
      "Posts: 1\n",
      "URL: http://forum.prostatakrebs-bps.de/showthread.php?9501-Immuntherapie-gegen-Auszehrung \n",
      "\n",
      "\t\t\t\t\tSali ZusammenDer Artikel ist, wie solche Artikel oft, teilweise etwas reisserisch. Trotzdem erscheint es mir ein interessanter lesenswerter Ansatz.http://www.kommunikation.uzh.ch/dam/...magazin-10.pdf\n",
      " \n",
      "\n",
      "\n",
      "Title: Brachytherapie \n",
      "User: Warner \n",
      "Time: 2016-04-27 09:16:00 \n",
      "Posts: 17\n",
      "URL: http://forum.prostatakrebs-bps.de/showthread.php?9431-Brachytherapie \n",
      "\n",
      "\t\t\t\t\tIch habe vor einem Jahr auf Anraten meines Urologen eine Brachytherapie in Hamburg machen lassen. Etwa 2 1/2 Wochen nach dem Eingriff konnte ich kein \n",
      "Wasser lassen, so daß ein Katheter gesetzt werden mußte. Verschiedene Auslaßversuche waren ergebnislos. Mehrfach mußte ich die Notaufnahme eines Krankenhauses aufsuchen, um mir mal wieder einen Katheter setzen zu lassen. Eine Gewebeentfernung, z.B. durch Lasertechnik, ist ja erst nach 10 Monaten möglich, da diese radioaktiven seeds bis dahin immer noch strahlen. Mittlerweile wurde mir 2 mal Gewebe entfernt. Ich hoffe endlich, wieder normal leben zu können.\n",
      "Ich kann vor dieser Braxhytherapie nur warnen. Ein Urlologe hat mir das so erklärt: Es gibt Patienten mit einer harten Prostataschale. Nach der Brachytherapie quillt das Gewebe auf und kann sich in dem Falle nur nach innen, also Richtung Harnröhre ausdehnen. Das war bei mir der Fall. Also: Hände weg von d.Brachytherapie!\n",
      "\t\t\t\t \n",
      "\n",
      "\n",
      "Title: Erster PSA-Anstieg nach OP ?!? \n",
      "User: Rastaman \n",
      "Time: 2013-07-17 12:57:00 \n",
      "Posts: 44\n",
      "URL: http://forum.prostatakrebs-bps.de/showthread.php?8026-Erster-PSA-Anstieg-nach-OP-! \n",
      "\n",
      "\t\t\t\t\tHallo,\n",
      "\n",
      "meine RPE war 08/2011, seitdem PSA regelmäßig unterh.d.Nachweisgrenze, Details siehe mein Profil.\n",
      "\n",
      "Gestern nun erstmals 0,03. Shit! Anstieg? Ausreißer?\n",
      "\n",
      "1000 mal hat man nachgedacht, was wäre wenn. Und doch... \"Grau, mein Freund, ist alle Theorie\". Wie wahr!\n",
      "\n",
      "All die guten Ratschläge, egal ob für andere oder für sich selbst (Ruhe bewahren, Verlauf beobachten und erst dann...) - erstmal abgelöst durch ein dumpfes Knotengefühl in der Magengegend.\n",
      "\n",
      "Werde noch mal messen lassen in ca. 1 Monat.\n",
      "\t\t\t\t \n",
      "\n",
      "\n",
      "Title: PSA Anstieg nach RPE und Bestrahlung eines Rezidiv \n",
      "User: wesoj55 \n",
      "Time: 2013-10-09 16:25:00 \n",
      "Posts: 66\n",
      "URL: http://forum.prostatakrebs-bps.de/showthread.php?8117-PSA-Anstieg-nach-RPE-und-Bestrahlung-eines-Rezidiv \n",
      "\n",
      "\t\t\t\t\tHallo zusammen,\n",
      "\n",
      "ich bräuchte einmal eure Erfahrungen bzw. Meinungen.\n",
      "\n",
      "Mir wurde im Oktober 2011 die Prostata entfernt und genau ein Jahr später stieg der PSA Wert wieder an und es erfolgte eine Bestrahlung.\n",
      "( genaueres siehe in meinem Profil )\n",
      "\n",
      "Danach fiel der Wert wieder unter der Nachweisgrenze.\n",
      "\n",
      "Gestern bekam ich leider das Messergebnis vom 07.10.13\n",
      "\n",
      "PSA wieder nachweisbar = 0,16 ng/ml\n",
      "\n",
      "Mein Urologe wollte eine erneute Messung in 3 Monaten machen, doch ich möchte und bekomme eine neue Messung in 4 Wochen.\n",
      "\n",
      "Falls sich dann der nachweisbare Wert bestätigt, was erwartet mich dann in Zukunft ???\n",
      "\n",
      "Danke für eure sachlichen Antworten.\n",
      "\n",
      "Gruß\n",
      "Jürgen\n",
      "\t\t\t\t \n",
      "\n",
      "\n",
      "Title: LDR Brachytherapie 2006 Anstieg PSA \n",
      "User: Gisi52 \n",
      "Time: 2016-07-06 15:23:00 \n",
      "Posts: 4\n",
      "URL: http://forum.prostatakrebs-bps.de/showthread.php?9510-LDR-Brachytherapie-2006-Anstieg-PSA \n",
      "\n",
      "\t\t\t\t\t11/2015 Stanzbiopsie 12 Proben.2Proben in weniger als 5 Prozent positiv.Zweitbefundung in der Martiniklinik,hier könnte die Karzinomdiagnose nicht bestätigt werden(immunhistochemische Untersuchung.PSA 03/16 1,88 06/16 2,20.\n",
      "Urologe rät zum handeln.OP möchte ich nicht.Bicalutamid?\n",
      "Wer hat Erfahrung.\n",
      "Viele Grüsse\n",
      "Gisbert\n",
      "\t\t\t\t \n",
      "\n",
      "\n",
      "Title: Lokale Therapien beim metastasierten Prostatakrebs \n",
      "User: Georg_ \n",
      "Time: 2016-07-10 15:21:00 \n",
      "Posts: 7\n",
      "URL: http://forum.prostatakrebs-bps.de/showthread.php?9513-Lokale-Therapien-beim-metastasierten-Prostatakrebs \n",
      "\n",
      "\t\t\t\t\tÜber \"Lokale Therapien beim metastasierten Prostatakrebs\" habe ich einen neuen KISP Text geschrieben, der jetzt hier abgerufen werden kann:\n",
      "Lokale Therapien beim metastasierten Prostatakrebs\n",
      "\n",
      " In diesem Artikel wird eingehend betrachtet welche Behandlungsmöglichkeiten es neben der Hormontherapie gibt, wenn bei einer Prostatakrebserkrankung Metastasen festgestellt wurden.\n",
      "\n",
      " Die Behandlung von Metastasen beim Prostatakrebs, speziell wenigen Metastasen (Oligometastasen), interessiert mich sehr, da ich selbst vier Lymphknotenmetastasen habe.\n",
      "\n",
      " Ich habe daher Ende März angefangen diesen Artikel zu schreiben. Mir war anfangs nicht klar wie umfangreich dieses Thema ist. Ich wollte jedoch einen möglichst umfassenden Überblick geben.  \n",
      "\n",
      " Mit einem MRT, speziell einem PSMA PET/MRT oder CT, sieht man heute Metastasen, die vor einigen Jahren noch nicht erkennbar waren. Wie man diese Metastasen behandeln soll wird in der Fachwelt intensiv diskutiert. Über nicht medikamentöse Behandlungen sind allerdings erst kleinere Studien veröffentlicht worden, die nicht ausreichend sind um die ärztlichen Leitlinien entsprechend zu erweitern.  \n",
      "\n",
      " Mein Artikel gibt eine Übersicht über die Ergebnisse dieser kleineren Studien und beschreibt die Verfahren, die dabei eingesetzt werden. Ich denke, wenn diese Verfahren mit geringen Nebenwirkungen verbunden sind, kann man sich als betroffener Patient durchaus damit behandeln lassen. Meist hat man keine Zeit über zehn Jahre auf die Ergebnisse größerer Studien zu warten.  \n",
      "\n",
      " Bedanken möchte ich mich bei Ralf für die redaktionelle Überarbeitung des Artikels sowie bei LowRoad und Frank43 für kritische Anmerkungen zum Entwurf.\n",
      "\n",
      " Georg\n",
      "\t\t\t\t \n",
      "\n",
      "\n",
      "Title: HIFU-Behandlung \n",
      "User: Herbert12 \n",
      "Time: 2015-07-19 12:36:00 \n",
      "Posts: 45\n",
      "URL: http://forum.prostatakrebs-bps.de/showthread.php?9043-HIFU-Behandlung \n",
      "\n",
      "\t\t\t\t\tIm Forum Erste Hilfe/ Erster RatThread: \"Operieren oder nicht\"\n",
      "\n",
      "habe ich meine Erfahrung mit der HIFU-Behandlung meines Prostakarzinoms aufgeschrieben.\n",
      "\n",
      "Herbert\n",
      "\t\t\t\t \n",
      "\n",
      "\n",
      "Title: PSMA exprimierende CTCs (zirkulierende Tumorzellen) und PSMA-PET \n",
      "User: Benton \n",
      "Time: 2016-04-22 17:00:00 \n",
      "Posts: 9\n",
      "URL: http://forum.prostatakrebs-bps.de/showthread.php?9422-PSMA-exprimierende-CTCs-(zirkulierende-Tumorzellen)-und-PSMA-PET \n",
      "\n",
      "\t\t\t\t\tNachdem meine bisherigen PET-MRT- bzw. PET-CT-Untersuchungen mit dem PSMA-GA68-Tracer erfolglos waren und ich jetzt nach 2 weiteren Jahren und angestiegenem PSA-Wert eine erneute Untersuchungen anstrebe, wollte ich zunächst untersuchen lassen, ob überhaupt eine Aussicht besteht, eine erfolgreiche PSMA-PET-Untersuchung zu erreichen. In Ermangelung von Alternativen ließ ich vor wenigen Tagen die zirkulierenden Tumorzellen mit Hilfe der Maintrac-Methode (Labor Pachmann) untersuchen. Dabei ergab sich folgendes Ergebnis bei einem PSA-Wert von 2,4 ng/ml:\n",
      "\n",
      "HEA-positive Zellen: 350/ml\n",
      "davon PSMA exprimierend: 263/ml, also 75%.\n",
      "\n",
      "Zunächst bedeutet dieses Ergebnis, dass tatsächlich PSMA-exprimierende Zellen vorliegen, ein PSMA-PET also funktionieren könnte. Offen bleibt, ob die 263 Zellen/ml von einem oder von vielen kleinen Tumoren stammen. Nehmen wir an, es wäre nur eine Metastase vorhanden. Dann bleibt die Frage, ob 263 Zellen/ml der Hinweis auf eine ausreichend große Metastase ist, die auch detektiert werden kann.\n",
      "Ich habe dieses Thema eröffnet mit der Hoffnung, Daten von möglichst vielen Betroffenen zu sammeln, um vielleicht zukünftig etwas besser beurteilen zu können, wann (1) ein PSMA-PET Aussicht auf Erfolg hat und (2) was die Höhe der zirkulierenden Tumorzellen aussagt.\n",
      "\n",
      "Eine erster Schritt wäre, zunächst die Daten derjenigen zu sammeln, die bereits die zirkulierenden CTCs bestimmen ließen, auch wenn nur der HEA-Wert und nicht die PSMA-Exprimierung gemessen wurde. Bitte meldet die Daten in der Einheit\n",
      "\n",
      "Zellanzahl /ml.\n",
      "\n",
      "Die Zellenzahl hochgerechnet auf 5 l Blut, die auch im Untersuchungsprotokoll jeweils angegeben wird, ist nur eine sinnlose Rechnung. \n",
      "\n",
      "Ich würde mich freuen, wenn möglichst viele an der Datensammlung teilnehmen, auch diejenigen, die schon auf einer anderen Seite ihre Daten mitgeteilt haben. Hier hätten wir dann alle zusammen. Ich würde die Daten dann von Zeit zu Zeit in einer Tabelle zusammenfassen und analysieren.\n",
      " Da die meisten ihre Leidensgeschichte auf myprostate.eu einstellen, könnte man auch besser einschätzen, mit welcher CTC-Anzahl in den verschiedenen Krankheitsstadien zu rechnen ist und wie sich eine Hormon- oder Chemotherapie auf die Anzahl der CTCs auswirkt.\n",
      "\n",
      "Gruß\n",
      "\n",
      "Benton\n",
      "\t\t\t\t \n",
      "\n",
      "\n",
      "Title: Nur ein Piks statt Gewebeprobe \n",
      "User: Harald_1933 \n",
      "Time: 2016-07-14 09:06:00 \n",
      "Posts: 0\n",
      "URL: http://forum.prostatakrebs-bps.de/showthread.php?9521-Nur-ein-Piks-statt-Gewebeprobe \n",
      "\n",
      "\n",
      "\n",
      "\n",
      "\n",
      "\n",
      " Zitat von Waltraud Kirsch-Mayer\n",
      "\n",
      "Als im März 2012 bei Manfred Fricker während einer Darmspiegelung Krebs festgestellt wurde, hatten Absiedlungen bereits seine Leber massiv befallen. Lange galt solch ein Befund als Todesurteil. Der inzwischen 71-Jährige profitiert von einer personalisierten Medizin, die herausfindet, ob eine Therapie beziehungsweise ein spezieller Wirkstoff bei einem Patienten anschlägt oder nicht. In die Kette von Innovationen reiht sich ein neuer Bluttest ein, den die Universitätsmedizin Mannheim (UMM) zum Abklären von metastasierten Darmtumoren einsetzt.\n",
      "\n",
      "\n",
      "Bitte - hier - weiterlesen. \n",
      "\n",
      "Der Tag wird kommen, an dem auch für an Prostatakrebs erkrankte Männer das unangenehme Biopsieren entfallen wird.\n",
      "\n",
      "Siehe auch - hier - \n",
      "\n",
      "Bei dieser Gelegenheit sei auch noch einmal an diesen: http://forum.prostatakrebs-bps.de/sh...7385#post87385 Beitrag von Andi erinnert.\n",
      "\n",
      "Gruß Harald\n",
      "\t\t\t\t \n",
      "\n",
      "\n",
      "Title: Studien PSMA-PRT/CT zum Rezidiv-Staging \n",
      "User: Felix* \n",
      "Time: 2016-07-13 12:28:00 \n",
      "Posts: 14\n",
      "URL: http://forum.prostatakrebs-bps.de/showthread.php?9520-Studien-PSMA-PRT-CT-zum-Rezidiv-Staging \n",
      "\n",
      "\t\t\t\t\tIch möchte von einem Kostenübernahme-Antrag für ein PSMA-PET/CT und dem ablehnenden Sozialmedizinischen Gutachten des Medizinischen Dienstes berichten.\n",
      "\n",
      "Der Patient ist prostatektomiert und erlitt ein Rezidiv. Eine im Jahr 2011 durch Cholin-PET/CT gefundene LK-Metastase wurde ebenfalls 2011 adjuvant bestrahlt. Seitdem PSA-Werte im Nullbereich, nun jedoch wieder PSA-Progress.\n",
      "\n",
      "Die Krankenkasse lehnt ab. Im zugrundegelegten Gutachten heißt es unter anderem:\n",
      "\n",
      "\n",
      "\n",
      "Abgesehen davon, dass die vorgeschlagenen konventionellen Diagnosemethoden für die Detektion einer LK-Metastase recht ungeeignet sind und die Aussage zum Grenzwert der Skelett-Szintigraphie für einen Mann ohne Prostata nicht zutreffen, möchte ich mit diesem Beitrag im Forum nachfragen, ob die Angaben zu den PSMA-PET/CT - Studien jemanden geläufig sind und ob hierzu Informationen gegeben werden können.\n",
      "\n",
      "Gruß Felix\n",
      "\t\t\t\t \n",
      "\n",
      "\n",
      "Title: Warum ist VZ erst ab 1 ng relevant? \n",
      "User: reini99 \n",
      "Time: 2016-06-03 14:08:00 \n",
      "Posts: 15\n",
      "URL: http://forum.prostatakrebs-bps.de/showthread.php?9479-Warum-ist-VZ-erst-ab-1-ng-relevant \n",
      "\n",
      "\t\t\t\t\tVor einiger Zeit wurde dies von M.Schostak u. Burger in den Raum gestellt. Konrad hatte dies bestritten.\n",
      "Bei mir steigerte sich der PSA innerhalb eines Jahres nach RPE von 0,04 auf 0,19ng, also fast verfünffachung.Und steigt weiter. Kann nicht glauben, dass diese Steigerung noch keine Aussagekraft bzgl. BCR hat.Wie ist die Meinung der Mitstreiter?\n",
      "Danke\n",
      "Reinhard\n",
      "\t\t\t\t \n",
      "\n"
     ]
    }
   ],
   "source": [
    "\n",
    "thread = session.query(Thread).filter_by(subforum=\"Diagnostik, Therapien und Co.\").all()\n",
    "print(len(thread))\n",
    "#print(len(thread.posts))\n",
    "for x in range(1,20):\n",
    "    print(thread[x])"
   ]
  },
  {
   "cell_type": "code",
   "execution_count": null,
   "metadata": {
    "collapsed": true
   },
   "outputs": [],
   "source": []
  },
  {
   "cell_type": "code",
   "execution_count": 7,
   "metadata": {
    "collapsed": true
   },
   "outputs": [],
   "source": [
    "for x in range(1,20):\n",
    "    thread[x].body"
   ]
  },
  {
   "cell_type": "code",
   "execution_count": 2,
   "metadata": {
    "collapsed": false
   },
   "outputs": [
    {
     "name": "stdout",
     "output_type": "stream",
     "text": [
      "7\n",
      " \n",
      "I am having a very nice day.\n"
     ]
    }
   ],
   "source": [
    "import re\n",
    "line = \" \\nI am having a very nice day.\"\n",
    "count = len(re.findall(r'\\w+', line))\n",
    "print (count)\n",
    "print (line)"
   ]
  },
  {
   "cell_type": "code",
   "execution_count": 3,
   "metadata": {
    "collapsed": true
   },
   "outputs": [],
   "source": [
    "def word_count(doc):\n",
    "    count = len(re.findall(r'\\w+', doc))\n",
    "    return count"
   ]
  },
  {
   "cell_type": "code",
   "execution_count": 35,
   "metadata": {
    "collapsed": false
   },
   "outputs": [],
   "source": [
    "thread = session.query(Thread).get(0)"
   ]
  },
  {
   "cell_type": "code",
   "execution_count": 37,
   "metadata": {
    "collapsed": false
   },
   "outputs": [
    {
     "data": {
      "text/plain": [
       "NoneType"
      ]
     },
     "execution_count": 37,
     "metadata": {},
     "output_type": "execute_result"
    }
   ],
   "source": [
    "type(thread)"
   ]
  },
  {
   "cell_type": "code",
   "execution_count": 10,
   "metadata": {
    "collapsed": false
   },
   "outputs": [
    {
     "data": {
      "text/plain": [
       "[\n",
       " User: Newton451 \n",
       " Time: 2016-07-29 07:55:00 \n",
       " Thread: Do you have a favorite saying? \n",
       " Order: None \n",
       " URL: http://www.healingwell.com/community/default.aspx?f=35&m=3674693 \n",
       " Everywhere ya go.....there ya are!\n",
       " \n",
       " I know you think you understand what you think I said, but what you heard isn't really what I meant. ,\n",
       " \n",
       " User: alephnull \n",
       " Time: 2016-07-29 08:16:00 \n",
       " Thread: Do you have a favorite saying? \n",
       " Order: None \n",
       " URL: http://www.healingwell.com/community/default.aspx?f=35&m=3674693 \n",
       " It ain't over till it's over ,\n",
       " \n",
       " User: 81GyGuy \n",
       " Time: 2016-07-29 08:22:00 \n",
       " Thread: Do you have a favorite saying? \n",
       " Order: None \n",
       " URL: http://www.healingwell.com/community/default.aspx?f=35&m=3674693 \n",
       " \"Live above cancer.\"\n",
       " \n",
       " From a post entered here on this very forum not long ago. (By MsWorryWart, if memory serves).\n",
       " \n",
       " Well, maybe it's more of a motto than a saying, but it sure is relevant. ,\n",
       " \n",
       " User: Herophilus \n",
       " Time: 2016-07-29 08:34:00 \n",
       " Thread: Do you have a favorite saying? \n",
       " Order: None \n",
       " URL: http://www.healingwell.com/community/default.aspx?f=35&m=3674693 \n",
       " res ipsa loquitur (the facts speak for themselves) ,\n",
       " \n",
       " User: JackH \n",
       " Time: 2016-07-29 08:38:00 \n",
       " Thread: Do you have a favorite saying? \n",
       " Order: None \n",
       " URL: http://www.healingwell.com/community/default.aspx?f=35&m=3674693 \n",
       " Spelling is difficoult chalanging hard. ,\n",
       " \n",
       " User: JamesE \n",
       " Time: 2016-07-29 08:42:00 \n",
       " Thread: Do you have a favorite saying? \n",
       " Order: None \n",
       " URL: http://www.healingwell.com/community/default.aspx?f=35&m=3674693 \n",
       " I'm sure I will think of others but these first come to mind:\n",
       " \n",
       " The Nike Phrase 'Just do it' has always been good for me especially since I am self-employed. Plenty of times I'm just exhausted from work and don't want to call that customer or face that complaint or put in that extra hard day and I've had to learn to put it all aside and just get things done. It carries over in most parts of my life as well and of course doing what needed to get done for this PC deal. I come from a background of procrastinators so motivation had to be self taught.\n",
       " \n",
       " On a silly note when I was a bit younger and in a silly mood with my significant other and in the middle of some intimate relations I would sometimes use the self made line (sadly, lol) 'I'm as hard as a rock so why don't you romance the stone\". It never went over well but I really amused myself. (Romancing the Stone was an old Michael Douglas/ Kathleen Turner movie; boy was she sweet) My current girlfriend of 16 years had to put up with that line earlier in our relationship but of course I could not use that line now circumstances being what they are. If I ever return to the 'hard as a rock' stage of recovery I look forward to using that line again and this time I think it would put a smile on my lady's face for sure.....Jim ,\n",
       " \n",
       " User: JamesE \n",
       " Time: 2016-07-29 08:47:00 \n",
       " Thread: Do you have a favorite saying? \n",
       " Order: None \n",
       " URL: http://www.healingwell.com/community/default.aspx?f=35&m=3674693 \n",
       " ps...Newton, that line is a crack up...Everywhere I go I'm there too, lol... ,\n",
       " \n",
       " User: InTheShop \n",
       " Time: 2016-07-29 09:02:00 \n",
       " Thread: Do you have a favorite saying? \n",
       " Order: None \n",
       " URL: http://www.healingwell.com/community/default.aspx?f=35&m=3674693 \n",
       " I have a ton of sayings:\n",
       " \n",
       " \"If wishes were horses, we'd need more brooms and shovels.\"\n",
       " \"If I was any better they'd arrest me.\"\n",
       " \"The moon maybe smaller than the earth, but it's further away.\"\n",
       " \"It's good to be seen.\"\n",
       " \"Any day above ground is good.\"\n",
       " \"Is it lunch time yet?\"\n",
       " \"Not all who wander are lost. Some are just looking for their glasses.\"\n",
       " \n",
       " More sayings as I think of them.\n",
       " Andrew ,\n",
       " \n",
       " User: sheepguy \n",
       " Time: 2016-07-29 09:06:00 \n",
       " Thread: Do you have a favorite saying? \n",
       " Order: None \n",
       " URL: http://www.healingwell.com/community/default.aspx?f=35&m=3674693 \n",
       " \"you can't stop what's coming,  the world ain't waitin'  on  you, to think otherwise is just vanity.\"\n",
       " \n",
       " and\n",
       " \n",
       " \"not everything turns out the way you think it should\" ,\n",
       " \n",
       " User: Newton451 \n",
       " Time: 2016-07-29 09:10:00 \n",
       " Thread: Do you have a favorite saying? \n",
       " Order: None \n",
       " URL: http://www.healingwell.com/community/default.aspx?f=35&m=3674693 \n",
       " Thanks JamesE. \n",
       " I also like to say \"The earth is flat.....but it's cut in a circle\" ,\n",
       " \n",
       " User: RCS \n",
       " Time: 2016-07-29 09:15:00 \n",
       " Thread: Do you have a favorite saying? \n",
       " Order: None \n",
       " URL: http://www.healingwell.com/community/default.aspx?f=35&m=3674693 \n",
       " \"Courage is being scarred to death but saddling up anyway\"\n",
       " John Wayne ,\n",
       " \n",
       " User: JamesE \n",
       " Time: 2016-07-29 09:19:00 \n",
       " Thread: Do you have a favorite saying? \n",
       " Order: None \n",
       " URL: http://www.healingwell.com/community/default.aspx?f=35&m=3674693 \n",
       " I also like In the  Shop's 'Not all who wander are lost. Some are just looking for their glasses' Brings a smile to my face as my Mom is just this year in a nursing home and we/she are ALWAYS looking for her glasses. And the funny part is she never wears them, they always stay in the case because she does not want to lose them, lol.\n",
       " \n",
       " All is not lost Mom, hang tough....Jim ,\n",
       " \n",
       " User: compiler \n",
       " Time: 2016-07-29 09:23:00 \n",
       " Thread: Do you have a favorite saying? \n",
       " Order: None \n",
       " URL: http://www.healingwell.com/community/default.aspx?f=35&m=3674693 \n",
       " I used to have a signature line that said:\n",
       " \n",
       " Remember, if you can keep your head/wits about you when everyone else around you is panicking...then perhaps you don't fully understand the situation\n",
       " \n",
       " Mel ,\n",
       " \n",
       " User: JamesE \n",
       " Time: 2016-07-29 09:41:00 \n",
       " Thread: Do you have a favorite saying? \n",
       " Order: None \n",
       " URL: http://www.healingwell.com/community/default.aspx?f=35&m=3674693 \n",
       " That's great Mel.... ,\n",
       " \n",
       " User: Dan0 \n",
       " Time: 2016-07-29 10:19:00 \n",
       " Thread: Do you have a favorite saying? \n",
       " Order: None \n",
       " URL: http://www.healingwell.com/community/default.aspx?f=35&m=3674693 \n",
       " All men die, not all men truly live. William Wallace\n",
       " \n",
       " or from Yogi\n",
       " We may be lost, but we're making good time.\n",
       " It gets late awful early out here.\n",
       " It's too crowded, nobody goes there anymore.\n",
       " \n",
       " I could do this for awhile, but work calls \n",
       " \n",
       " I just thought of an original that I use frequently:\n",
       " Whenever I startle someone without meaning to, I quickly reply\n",
       " \"good thing I didn't say BOO!\"\n",
       " \n",
       " \n",
       " Be Well ,\n",
       " \n",
       " User: JamesE \n",
       " Time: 2016-07-29 10:27:00 \n",
       " Thread: Do you have a favorite saying? \n",
       " Order: None \n",
       " URL: http://www.healingwell.com/community/default.aspx?f=35&m=3674693 \n",
       " My girlfriend just reminded me, when she would threaten me (yeah, she's a tough talking redhead) I would say: 'If I was wearing boots I'd be shaking in them' ,\n",
       " \n",
       " User: Bololidat \n",
       " Time: 2016-07-29 10:41:00 \n",
       " Thread: Do you have a favorite saying? \n",
       " Order: None \n",
       " URL: http://www.healingwell.com/community/default.aspx?f=35&m=3674693 \n",
       " Do at least one thing each day that you don't want to do... ,\n",
       " \n",
       " User: Biker56 \n",
       " Time: 2016-07-29 10:45:00 \n",
       " Thread: Do you have a favorite saying? \n",
       " Order: None \n",
       " URL: http://www.healingwell.com/community/default.aspx?f=35&m=3674693 \n",
       " An on-stage one liner oft recited by Keith Richards:\n",
       " \"Its great to be here, its great to be anywhere!\"\n",
       " \n",
       " The ADT lament, credit to someone on this site:\n",
       " \"I am indifferent to naked women.\" ,\n",
       " \n",
       " User: Herophilus \n",
       " Time: 2016-07-29 00:37:00 \n",
       " Thread: Do you have a favorite saying? \n",
       " Order: None \n",
       " URL: http://www.healingwell.com/community/default.aspx?f=35&m=3674693 \n",
       " work the problem people, let's don't complicate things by guessing... (Apollo 13) ,\n",
       " \n",
       " User: Tony Crispino \n",
       " Time: 2016-07-29 00:50:00 \n",
       " Thread: Do you have a favorite saying? \n",
       " Order: None \n",
       " URL: http://www.healingwell.com/community/default.aspx?f=35&m=3674693 \n",
       " Vancouver, Vancouver!  This is it! ,\n",
       " \n",
       " User: Tudpock18 \n",
       " Time: 2016-07-29 00:55:00 \n",
       " Thread: Do you have a favorite saying? \n",
       " Order: None \n",
       " URL: http://www.healingwell.com/community/default.aspx?f=35&m=3674693 \n",
       " \"Measure twice, cut once\"\n",
       " \n",
       " \"Use spell-check before hitting send\".\n",
       " \n",
       " Jim ,\n",
       " \n",
       " User: Newton451 \n",
       " Time: 2016-07-29 13:09:00 \n",
       " Thread: Do you have a favorite saying? \n",
       " Order: None \n",
       " URL: http://www.healingwell.com/community/default.aspx?f=35&m=3674693 \n",
       " Dyslexics of the world, Untie! ,\n",
       " \n",
       " User: JackH \n",
       " Time: 2016-07-29 13:10:00 \n",
       " Thread: Do you have a favorite saying? \n",
       " Order: None \n",
       " URL: http://www.healingwell.com/community/default.aspx?f=35&m=3674693 \n",
       " If you are going to have an unnecessary surgery for low-risk PC, make sure you have the very best surgeon perform it.\n",
       "  -- Dr Patrick Walsh, father of the nerve-sparing prostatectomy ,\n",
       " \n",
       " User: RandyJoe \n",
       " Time: 2016-07-29 14:34:00 \n",
       " Thread: Do you have a favorite saying? \n",
       " Order: None \n",
       " URL: http://www.healingwell.com/community/default.aspx?f=35&m=3674693 \n",
       " .....but the one who's worthwhile is the one who will smile even when his sandwich falls jelly side down - Charlie Brown.\n",
       " \n",
       " This is part of a short poem.  I can't remember the rest of if, but I always loved this line. ]"
      ]
     },
     "execution_count": 10,
     "metadata": {},
     "output_type": "execute_result"
    }
   ],
   "source": [
    "thread = session.query(Thread).filter_by(url=\"http://www.healingwell.com/community/default.aspx?f=35&m=3674693\").first()\n",
    "thread.posts[1].forum\n",
    "thread.posts"
   ]
  },
  {
   "cell_type": "code",
   "execution_count": 46,
   "metadata": {
    "collapsed": false
   },
   "outputs": [],
   "source": [
    "import csv\n",
    "with open('posts.csv', 'w') as csvfile:\n",
    "    spamwriter = csv.writer(csvfile)\n",
    "    for x in range(0,10):\n",
    "        thread = session.query(Thread).get(x+1)\n",
    "        spamwriter.writerow([thread.title, thread.timestamp, thread.body])"
   ]
  },
  {
   "cell_type": "code",
   "execution_count": 35,
   "metadata": {
    "collapsed": true
   },
   "outputs": [],
   "source": [
    "from bs4 import BeautifulSoup\n",
    "def body_parser(body):\n",
    "    if body.find('<hr class=\"PostHR\">') != -1:\n",
    "        body = body[:body.find('<hr class=\"PostHR\">')]\n",
    "    body = body.replace(\"<br>\",\"NEWLINE\")\n",
    "    soup = BeautifulSoup(body, 'html.parser')\n",
    "    text = soup.get_text()\n",
    "    return text.replace(\"NEWLINE\", \"\\n\")"
   ]
  },
  {
   "cell_type": "code",
   "execution_count": 36,
   "metadata": {
    "collapsed": false
   },
   "outputs": [
    {
     "name": "stdout",
     "output_type": "stream",
     "text": [
      "Hi all\n",
      "\n",
      "I have been waking up with some discomfort on my right side, i believe it's my lymph node... when I feel carefully I can fill it inflamed.... my CT showed no lymph node involvement, but I'm having some considerable discomfort on the same side my cancer was found with the biopsy (R apex)... feels like a small swollen small rock.\n",
      "\n",
      "Going for my Cysto tomorrow, I think I'm going to ask my urologist about it ... has anyone else had similar symptoms?\n",
      "\n",
      "Thanks\n",
      "Zzarth\n"
     ]
    }
   ],
   "source": [
    "s = \"<div class=\\\"PostMessageBody\\\">Hi all<br><br>I have been waking up with some discomfort on my right side, i believe it's my lymph node... when I feel carefully I can fill it inflamed.... my CT showed no lymph node involvement, but I'm having some considerable discomfort on the same side my cancer was found with the biopsy (R apex)... feels like a small swollen small rock.<br><br>Going for my Cysto tomorrow, I think I'm going to ask my urologist about<strong></strong> it ... has anyone else had similar symptoms?<br><br>Thanks<br>Zzarth<hr class=\\\"PostHR\\\">6/10/16 - first ever PSA results in a 15.1<br>7/25/16 - Biopsy results in G6, 4mm 30% of tissue<br>8/1/16 - started antibiotics to rule out prostatitis  <br>8/5/16 - Hopkins Results in Upgrade to G3+4=7 (Grade group 2), 70%, 10% G4<br>8/5/16 - CT of Prostate shows no lymph node involvement<br>8/10/16 - Laid off from new job when boss learns of my cancer<br>8/17/16 - PSA tested @ 18.0</div>\"\n",
    "ss = body_parser(s)\n",
    "print(ss)"
   ]
  },
  {
   "cell_type": "code",
   "execution_count": 33,
   "metadata": {
    "collapsed": false
   },
   "outputs": [],
   "source": [
    "body = s\n",
    "body = body.replace(\"<br>\",\"NEWLINE\")\n",
    "body\n",
    "soup = BeautifulSoup(body,\"html.parser\")"
   ]
  },
  {
   "cell_type": "code",
   "execution_count": 34,
   "metadata": {
    "collapsed": false
   },
   "outputs": [
    {
     "data": {
      "text/plain": [
       "<div class=\"PostMessageBody\">Hi allNEWLINENEWLINEI have been waking up with some discomfort on my right side, i believe it's my lymph node... when I feel carefully I can fill it inflamed.... my CT showed no lymph node involvement, but I'm having some considerable discomfort on the same side my cancer was found with the biopsy (R apex)... feels like a small swollen small rock.NEWLINENEWLINEGoing for my Cysto tomorrow, I think I'm going to ask my urologist about<strong></strong> it ... has anyone else had similar symptoms?NEWLINENEWLINEThanksNEWLINEZzarth<hr class=\"PostHR\">6/10/16 - first ever PSA results in a 15.1NEWLINE7/25/16 - Biopsy results in G6, 4mm 30% of tissueNEWLINE8/1/16 - started antibiotics to rule out prostatitis  NEWLINE8/5/16 - Hopkins Results in Upgrade to G3+4=7 (Grade group 2), 70%, 10% G4NEWLINE8/5/16 - CT of Prostate shows no lymph node involvementNEWLINE8/10/16 - Laid off from new job when boss learns of my cancerNEWLINE8/17/16 - PSA tested @ 18.0</hr></div>"
      ]
     },
     "execution_count": 34,
     "metadata": {},
     "output_type": "execute_result"
    }
   ],
   "source": [
    "soup"
   ]
  },
  {
   "cell_type": "code",
   "execution_count": 12,
   "metadata": {
    "collapsed": true
   },
   "outputs": [],
   "source": [
    "import numpy as np\n",
    "y = [1,2,3,4,6]\n",
    "y_np = np.array(y)"
   ]
  },
  {
   "cell_type": "code",
   "execution_count": 8,
   "metadata": {
    "collapsed": false
   },
   "outputs": [
    {
     "data": {
      "text/plain": [
       "(array([1, 1, 2]), array([1, 2, 3, 4]))"
      ]
     },
     "execution_count": 8,
     "metadata": {},
     "output_type": "execute_result"
    }
   ],
   "source": [
    "np.histogram(y_np, np.arange(1, len(y_np)+1))"
   ]
  },
  {
   "cell_type": "code",
   "execution_count": 13,
   "metadata": {
    "collapsed": false
   },
   "outputs": [
    {
     "data": {
      "text/plain": [
       "array([0, 1, 1, 1, 1, 0, 1])"
      ]
     },
     "execution_count": 13,
     "metadata": {},
     "output_type": "execute_result"
    }
   ],
   "source": [
    "np.bincount(y_np)"
   ]
  },
  {
   "cell_type": "code",
   "execution_count": 11,
   "metadata": {
    "collapsed": false
   },
   "outputs": [
    {
     "ename": "AttributeError",
     "evalue": "'numpy.ndarray' object has no attribute 'head'",
     "output_type": "error",
     "traceback": [
      "\u001b[0;31m---------------------------------------------------------------------------\u001b[0m",
      "\u001b[0;31mAttributeError\u001b[0m                            Traceback (most recent call last)",
      "\u001b[0;32m<ipython-input-11-3bb874d5dd53>\u001b[0m in \u001b[0;36m<module>\u001b[0;34m()\u001b[0m\n\u001b[0;32m----> 1\u001b[0;31m \u001b[0my_np\u001b[0m\u001b[0;34m.\u001b[0m\u001b[0mhead\u001b[0m\u001b[0;34m\u001b[0m\u001b[0m\n\u001b[0m",
      "\u001b[0;31mAttributeError\u001b[0m: 'numpy.ndarray' object has no attribute 'head'"
     ]
    }
   ],
   "source": []
  },
  {
   "cell_type": "code",
   "execution_count": 7,
   "metadata": {
    "collapsed": false
   },
   "outputs": [],
   "source": [
    "import numpy as np\n",
    "thread = session.query(Thread).get(3)\n",
    "post_timestamps = np.array([post.timestamp for post in thread.posts], dtype='datetime64')"
   ]
  },
  {
   "cell_type": "code",
   "execution_count": 8,
   "metadata": {
    "collapsed": false
   },
   "outputs": [
    {
     "data": {
      "text/plain": [
       "array(['2016-08-29T09:41:00', '2016-08-29T00:55:00', '2016-08-29T13:26:00',\n",
       "       '2016-08-29T22:58:00'], dtype='datetime64[s]')"
      ]
     },
     "execution_count": 8,
     "metadata": {},
     "output_type": "execute_result"
    }
   ],
   "source": [
    "post_timestamps"
   ]
  },
  {
   "cell_type": "code",
   "execution_count": 10,
   "metadata": {
    "collapsed": false
   },
   "outputs": [
    {
     "data": {
      "text/plain": [
       "numpy.datetime64('2016-08-29T00:55:00')"
      ]
     },
     "execution_count": 10,
     "metadata": {},
     "output_type": "execute_result"
    }
   ],
   "source": [
    "min(post_timestamps)"
   ]
  },
  {
   "cell_type": "code",
   "execution_count": 11,
   "metadata": {
    "collapsed": false
   },
   "outputs": [
    {
     "data": {
      "text/plain": [
       "[\n",
       " User: tarhoosier \n",
       " Time: 2016-08-29 09:41:00 \n",
       " Thread: NOLA Doc \n",
       " Order: None \n",
       " URL: http://www.healingwell.com/community/default.aspx?f=35&m=3691941 \n",
       " I have no information about aforesaid doctor. It may be helpful for you to know that if you are in the NOLA area that Tulane has one of the very best Prostate Cancer doctors around. He is an oncologist Oliver Sartor. He is all over the web and is highly recommended by other doctors, including Charles Myers. If not information for now, perhaps for later. ,\n",
       " \n",
       " User: Tony Crispino \n",
       " Time: 2016-08-29 00:55:00 \n",
       " Thread: NOLA Doc \n",
       " Order: None \n",
       " URL: http://www.healingwell.com/community/default.aspx?f=35&m=3691941 \n",
       " Vanlangendonck is a choice for surgery if that's the rout you choose.  Certainly not a bad idea to have Sartor on the team moving ahead. ,\n",
       " \n",
       " User: Concerned56 \n",
       " Time: 2016-08-29 13:26:00 \n",
       " Thread: NOLA Doc \n",
       " Order: None \n",
       " URL: http://www.healingwell.com/community/default.aspx?f=35&m=3691941 \n",
       " Tony Crispino- do you know anything about Dr. Vanlangendonck? ,\n",
       " \n",
       " User: NolaVette \n",
       " Time: 2016-08-29 22:58:00 \n",
       " Thread: NOLA Doc \n",
       " Order: None \n",
       " URL: http://www.healingwell.com/community/default.aspx?f=35&m=3691941 \n",
       " Sartor has been my MO at Tulane since August 2011. Looks like the surgeon you mentioned is at Touro. \n",
       " My surgeon at Tulane, Benjamin. Lee, had performed more than 900 DaVincis when he did mine. You'll want to make sure whoever you go with has done many of these procedures already. Dr. Lee has recently left Tulane to take a new position as head of Urology dept. at Arizona State U. ]"
      ]
     },
     "execution_count": 11,
     "metadata": {},
     "output_type": "execute_result"
    }
   ],
   "source": [
    "thread.posts"
   ]
  },
  {
   "cell_type": "code",
   "execution_count": 12,
   "metadata": {
    "collapsed": false
   },
   "outputs": [
    {
     "name": "stdout",
     "output_type": "stream",
     "text": [
      "4\n"
     ]
    }
   ],
   "source": [
    "x = 4\n",
    "if 3 <= x <= 5:\n",
    "    print(x)"
   ]
  },
  {
   "cell_type": "code",
   "execution_count": 13,
   "metadata": {
    "collapsed": false
   },
   "outputs": [
    {
     "name": "stdout",
     "output_type": "stream",
     "text": [
      "4\n"
     ]
    }
   ],
   "source": [
    "if 3<=x and x<=5:\n",
    "    print(x)"
   ]
  },
  {
   "cell_type": "code",
   "execution_count": null,
   "metadata": {
    "collapsed": true
   },
   "outputs": [],
   "source": []
  }
 ],
 "metadata": {
  "kernelspec": {
   "display_name": "Python 3",
   "language": "python",
   "name": "python3"
  },
  "language_info": {
   "codemirror_mode": {
    "name": "ipython",
    "version": 3
   },
   "file_extension": ".py",
   "mimetype": "text/x-python",
   "name": "python",
   "nbconvert_exporter": "python",
   "pygments_lexer": "ipython3",
   "version": "3.5.1"
  }
 },
 "nbformat": 4,
 "nbformat_minor": 0
}
