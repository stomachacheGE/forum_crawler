{
 "cells": [
  {
   "cell_type": "code",
   "execution_count": 1,
   "metadata": {
    "collapsed": false
   },
   "outputs": [],
   "source": [
    "from sqlalchemy import create_engine\n",
    "from sqlalchemy.orm import sessionmaker\n",
    "from db_initialize import *\n",
    "\n",
    "engine = create_engine('sqlite://///Users/Johnson/Documents/nit/thesis/forum_crawler/database.db')\n",
    "Session = sessionmaker(bind=engine)\n",
    "Base.metadata.bind = engine\n",
    "session = Session()"
   ]
  },
  {
   "cell_type": "code",
   "execution_count": 2,
   "metadata": {
    "collapsed": false
   },
   "outputs": [
    {
     "name": "stdout",
     "output_type": "stream",
     "text": [
      "User <0311> is from forum <healing well>, has 0 threads, 1 posts.\n",
      "User <1218davinci> is from forum <healing well>, has 0 threads, 1 posts.\n",
      "User <60Michael> is from forum <healing well>, has 0 threads, 2 posts.\n",
      "User <614-2101-765-611> is from forum <healing well>, has 0 threads, 1 posts.\n",
      "User <81GyGuy> is from forum <healing well>, has 3 threads, 2 posts.\n",
      "User <ASAdvocate> is from forum <healing well>, has 0 threads, 7 posts.\n",
      "User <Aimzee> is from forum <healing well>, has 0 threads, 2 posts.\n",
      "User <Almost a 10> is from forum <healing well>, has 0 threads, 6 posts.\n",
      "User <AnotherDisplayName> is from forum <healing well>, has 0 threads, 1 posts.\n",
      "User <Artist Mark> is from forum <healing well>, has 2 threads, 4 posts.\n",
      "User <BOOGEE> is from forum <healing well>, has 0 threads, 2 posts.\n",
      "User <Berdoo/Arkansas> is from forum <healing well>, has 1 threads, 1 posts.\n",
      "User <Big Mac> is from forum <healing well>, has 0 threads, 1 posts.\n",
      "User <BillyBob@388> is from forum <healing well>, has 0 threads, 6 posts.\n",
      "User <Bobby Mac> is from forum <healing well>, has 1 threads, 9 posts.\n",
      "User <Bololidat> is from forum <healing well>, has 1 threads, 10 posts.\n",
      "User <Boon1> is from forum <healing well>, has 0 threads, 11 posts.\n",
      "User <Break60> is from forum <healing well>, has 0 threads, 8 posts.\n",
      "User <Cajun Jeff> is from forum <healing well>, has 1 threads, 3 posts.\n",
      "User <CaliJR> is from forum <healing well>, has 1 threads, 15 posts.\n",
      "User <Chask> is from forum <healing well>, has 0 threads, 3 posts.\n",
      "User <ChrisR> is from forum <healing well>, has 0 threads, 1 posts.\n",
      "User <Cigafred> is from forum <healing well>, has 1 threads, 3 posts.\n",
      "User <DYank> is from forum <healing well>, has 0 threads, 2 posts.\n",
      "User <Dan0> is from forum <healing well>, has 0 threads, 1 posts.\n",
      "User <Dave-Rockville,MD> is from forum <healing well>, has 0 threads, 2 posts.\n",
      "User <Deon124> is from forum <healing well>, has 1 threads, 4 posts.\n",
      "User <DougS> is from forum <healing well>, has 1 threads, 2 posts.\n",
      "User <Dr WHO> is from forum <healing well>, has 0 threads, 3 posts.\n",
      "User <Dugalf> is from forum <healing well>, has 1 threads, 0 posts.\n",
      "User <Easy Ace> is from forum <healing well>, has 0 threads, 1 posts.\n",
      "User <English Alf> is from forum <healing well>, has 1 threads, 1 posts.\n",
      "User <F8> is from forum <healing well>, has 0 threads, 7 posts.\n",
      "User <Fairwind> is from forum <healing well>, has 0 threads, 8 posts.\n",
      "User <Faustmann> is from forum <healing well>, has 0 threads, 1 posts.\n",
      "User <Fl Drifter> is from forum <healing well>, has 1 threads, 1 posts.\n",
      "User <FoxRun> is from forum <healing well>, has 1 threads, 5 posts.\n",
      "User <Gemlin> is from forum <healing well>, has 0 threads, 4 posts.\n",
      "User <George_> is from forum <healing well>, has 0 threads, 4 posts.\n",
      "User <Georgenyc> is from forum <healing well>, has 1 threads, 9 posts.\n",
      "User <Gleason 6> is from forum <healing well>, has 1 threads, 4 posts.\n",
      "User <Gunner34> is from forum <healing well>, has 0 threads, 2 posts.\n",
      "User <HD_Rider> is from forum <healing well>, has 0 threads, 1 posts.\n",
      "User <Hawaii-Guy> is from forum <healing well>, has 0 threads, 1 posts.\n",
      "User <Hilander64> is from forum <healing well>, has 1 threads, 4 posts.\n",
      "User <Howard3569> is from forum <healing well>, has 2 threads, 2 posts.\n",
      "User <ISU-CycloneFan> is from forum <healing well>, has 1 threads, 23 posts.\n",
      "User <InTheShop> is from forum <healing well>, has 0 threads, 27 posts.\n",
      "User <Infohound2> is from forum <healing well>, has 0 threads, 1 posts.\n",
      "User <Inspector 13> is from forum <healing well>, has 0 threads, 1 posts.\n",
      "User <JNF> is from forum <healing well>, has 0 threads, 6 posts.\n",
      "User <JackH> is from forum <healing well>, has 0 threads, 11 posts.\n",
      "User <James C.> is from forum <healing well>, has 0 threads, 4 posts.\n",
      "User <JamesE> is from forum <healing well>, has 0 threads, 4 posts.\n",
      "User <Jaybee_007> is from forum <healing well>, has 1 threads, 0 posts.\n",
      "User <Jazzman1> is from forum <healing well>, has 0 threads, 2 posts.\n",
      "User <Jerry L.> is from forum <healing well>, has 0 threads, 3 posts.\n",
      "User <JimBear> is from forum <healing well>, has 0 threads, 1 posts.\n",
      "User <Joe in Nice> is from forum <healing well>, has 0 threads, 1 posts.\n",
      "User <John T> is from forum <healing well>, has 0 threads, 1 posts.\n",
      "User <John_TX> is from forum <healing well>, has 0 threads, 3 posts.\n",
      "User <Jollytinker> is from forum <healing well>, has 1 threads, 0 posts.\n",
      "User <JustJulie> is from forum <healing well>, has 0 threads, 2 posts.\n",
      "User <Kark60> is from forum <healing well>, has 0 threads, 1 posts.\n",
      "User <KeepOnTruckin> is from forum <healing well>, has 0 threads, 2 posts.\n",
      "User <Larry E> is from forum <healing well>, has 0 threads, 1 posts.\n",
      "User <Mack54> is from forum <healing well>, has 0 threads, 1 posts.\n",
      "User <Mag E May> is from forum <healing well>, has 0 threads, 1 posts.\n",
      "User <Manfred> is from forum <healing well>, has 0 threads, 1 posts.\n",
      "User <Max Vision> is from forum <healing well>, has 0 threads, 1 posts.\n",
      "User <Michael_T> is from forum <healing well>, has 0 threads, 6 posts.\n",
      "User <MistyCoffee> is from forum <healing well>, has 0 threads, 2 posts.\n",
      "User <NY-Sooner> is from forum <healing well>, has 1 threads, 0 posts.\n",
      "User <Nell79> is from forum <healing well>, has 1 threads, 2 posts.\n",
      "User <NewDay> is from forum <healing well>, has 0 threads, 1 posts.\n",
      "User <NewspaperLover> is from forum <healing well>, has 0 threads, 1 posts.\n",
      "User <Newton451> is from forum <healing well>, has 0 threads, 14 posts.\n",
      "User <Nomar Lupron 4 Me> is from forum <healing well>, has 0 threads, 2 posts.\n",
      "User <Northern Lights> is from forum <healing well>, has 0 threads, 1 posts.\n",
      "User <Northfoot> is from forum <healing well>, has 0 threads, 1 posts.\n",
      "User <PDL17> is from forum <healing well>, has 0 threads, 2 posts.\n",
      "User <PSA3DOT7> is from forum <healing well>, has 0 threads, 1 posts.\n",
      "User <PeterDisAbelard.> is from forum <healing well>, has 0 threads, 6 posts.\n",
      "User <Pratoman> is from forum <healing well>, has 0 threads, 18 posts.\n",
      "User <Purgatory> is from forum <healing well>, has 0 threads, 2 posts.\n",
      "User <RCS> is from forum <healing well>, has 1 threads, 3 posts.\n",
      "User <RandyJoe> is from forum <healing well>, has 1 threads, 2 posts.\n",
      "User <Redwing57> is from forum <healing well>, has 0 threads, 5 posts.\n",
      "User <RobertC> is from forum <healing well>, has 0 threads, 2 posts.\n",
      "User <Roy123> is from forum <healing well>, has 0 threads, 1 posts.\n",
      "User <Sam-the-Man> is from forum <healing well>, has 0 threads, 2 posts.\n",
      "User <ShinytopPC> is from forum <healing well>, has 0 threads, 1 posts.\n",
      "User <Sonny3> is from forum <healing well>, has 1 threads, 5 posts.\n",
      "User <SophieW> is from forum <healing well>, has 1 threads, 4 posts.\n",
      "User <Southern Comfort> is from forum <healing well>, has 0 threads, 1 posts.\n",
      "User <SteelGuy> is from forum <healing well>, has 0 threads, 1 posts.\n",
      "User <Steve n Dallas> is from forum <healing well>, has 1 threads, 4 posts.\n",
      "User <SueCAll> is from forum <healing well>, has 0 threads, 2 posts.\n",
      "User <TIGER74> is from forum <healing well>, has 0 threads, 2 posts.\n",
      "User <Tall Allen> is from forum <healing well>, has 2 threads, 69 posts.\n",
      "User <Teamchris> is from forum <healing well>, has 0 threads, 1 posts.\n",
      "User <Thommy2458> is from forum <healing well>, has 1 threads, 5 posts.\n",
      "User <Tim G> is from forum <healing well>, has 0 threads, 8 posts.\n",
      "User <Todd1963> is from forum <healing well>, has 1 threads, 9 posts.\n",
      "User <Tony Crispino> is from forum <healing well>, has 0 threads, 4 posts.\n",
      "User <Traveller58> is from forum <healing well>, has 1 threads, 0 posts.\n",
      "User <Tudpock18> is from forum <healing well>, has 0 threads, 8 posts.\n",
      "User <Whippoorwill> is from forum <healing well>, has 1 threads, 11 posts.\n",
      "User <Wings of Eagles> is from forum <healing well>, has 1 threads, 2 posts.\n",
      "User <Works Out> is from forum <healing well>, has 0 threads, 4 posts.\n",
      "User <Zen9> is from forum <healing well>, has 1 threads, 0 posts.\n",
      "User <Zzarth> is from forum <healing well>, has 1 threads, 0 posts.\n",
      "User <akai> is from forum <healing well>, has 0 threads, 2 posts.\n",
      "User <alephnull> is from forum <healing well>, has 1 threads, 8 posts.\n",
      "User <ao> is from forum <healing well>, has 0 threads, 1 posts.\n",
      "User <audrey1969> is from forum <healing well>, has 0 threads, 1 posts.\n",
      "User <boyntonsteveg> is from forum <healing well>, has 2 threads, 1 posts.\n",
      "User <browntrout> is from forum <healing well>, has 1 threads, 5 posts.\n",
      "User <celebrate life> is from forum <healing well>, has 1 threads, 9 posts.\n",
      "User <cfbbneil> is from forum <healing well>, has 1 threads, 2 posts.\n",
      "User <chrisp1> is from forum <healing well>, has 1 threads, 4 posts.\n",
      "User <clocknut> is from forum <healing well>, has 0 threads, 1 posts.\n",
      "User <compiler> is from forum <healing well>, has 1 threads, 4 posts.\n",
      "User <dkob131> is from forum <healing well>, has 0 threads, 1 posts.\n",
      "User <dmlvt> is from forum <healing well>, has 1 threads, 0 posts.\n",
      "User <don826> is from forum <healing well>, has 0 threads, 3 posts.\n",
      "User <drjmo> is from forum <healing well>, has 0 threads, 1 posts.\n",
      "User <eyetat> is from forum <healing well>, has 0 threads, 1 posts.\n",
      "User <fuunit> is from forum <healing well>, has 0 threads, 1 posts.\n",
      "User <fuzzboxman> is from forum <healing well>, has 1 threads, 0 posts.\n",
      "User <goatts> is from forum <healing well>, has 0 threads, 1 posts.\n",
      "User <grumpyone99> is from forum <healing well>, has 0 threads, 1 posts.\n",
      "User <guytalk> is from forum <healing well>, has 0 threads, 1 posts.\n",
      "User <halbert> is from forum <healing well>, has 2 threads, 22 posts.\n",
      "User <island time> is from forum <healing well>, has 0 threads, 12 posts.\n",
      "User <john16> is from forum <healing well>, has 0 threads, 2 posts.\n",
      "User <junbug> is from forum <healing well>, has 1 threads, 0 posts.\n",
      "User <keysailfisher> is from forum <healing well>, has 1 threads, 1 posts.\n",
      "User <kitty19> is from forum <healing well>, has 0 threads, 1 posts.\n",
      "User <lapilot> is from forum <healing well>, has 0 threads, 3 posts.\n",
      "User <lifeguyd> is from forum <healing well>, has 0 threads, 1 posts.\n",
      "User <mitchden4> is from forum <healing well>, has 1 threads, 1 posts.\n",
      "User <mspt98> is from forum <healing well>, has 0 threads, 1 posts.\n",
      "User <nepol> is from forum <healing well>, has 1 threads, 4 posts.\n",
      "User <peanut307> is from forum <healing well>, has 1 threads, 2 posts.\n",
      "User <pjr64> is from forum <healing well>, has 0 threads, 2 posts.\n",
      "User <rob2> is from forum <healing well>, has 0 threads, 3 posts.\n",
      "User <rockyfords> is from forum <healing well>, has 0 threads, 5 posts.\n",
      "User <samster> is from forum <healing well>, has 0 threads, 3 posts.\n",
      "User <sbharley> is from forum <healing well>, has 1 threads, 0 posts.\n",
      "User <sheepguy> is from forum <healing well>, has 0 threads, 2 posts.\n",
      "User <stixandstonz> is from forum <healing well>, has 1 threads, 0 posts.\n",
      "User <suzhtz> is from forum <healing well>, has 1 threads, 12 posts.\n",
      "User <tarhoosier> is from forum <healing well>, has 0 threads, 1 posts.\n",
      "User <twash> is from forum <healing well>, has 0 threads, 1 posts.\n",
      "User <vn16> is from forum <healing well>, has 0 threads, 1 posts.\n",
      "User <weston> is from forum <healing well>, has 0 threads, 1 posts.\n"
     ]
    }
   ],
   "source": [
    "users = session.query(User).order_by(User.name).all()\n",
    "len(users)\n",
    "for user in users:\n",
    "    print(user)"
   ]
  },
  {
   "cell_type": "code",
   "execution_count": 2,
   "metadata": {
    "collapsed": false
   },
   "outputs": [
    {
     "data": {
      "text/plain": [
       "48"
      ]
     },
     "execution_count": 2,
     "metadata": {},
     "output_type": "execute_result"
    }
   ],
   "source": [
    "\n",
    "author = session.query(User).filter_by(name=\"LowRoad\", forum=\"prostatakrebs\").first()\n",
    "len(author.threads)"
   ]
  },
  {
   "cell_type": "code",
   "execution_count": 7,
   "metadata": {
    "collapsed": false
   },
   "outputs": [
    {
     "name": "stdout",
     "output_type": "stream",
     "text": [
      "Column: id\n",
      "Column: name\n",
      "Column: profile_url\n",
      "Column: forum\n",
      "Column: date_joined\n",
      "Column: total_posts\n",
      "Column: subforum\n"
     ]
    }
   ],
   "source": [
    "from sqlalchemy import inspect\n",
    "inspector = inspect(engine)\n",
    "\n",
    "inspector.get_table_names()\n",
    "for column in inspector.get_columns('users'):\n",
    "   print(\"Column: %s\" % column['name'])"
   ]
  },
  {
   "cell_type": "code",
   "execution_count": 6,
   "metadata": {
    "collapsed": false
   },
   "outputs": [
    {
     "data": {
      "text/plain": [
       "307"
      ]
     },
     "execution_count": 6,
     "metadata": {},
     "output_type": "execute_result"
    }
   ],
   "source": [
    "posts = session.query(Post).filter_by(subforum='Angehörigenforum').all()\n",
    "len(posts)"
   ]
  },
  {
   "cell_type": "code",
   "execution_count": 7,
   "metadata": {
    "collapsed": false
   },
   "outputs": [
    {
     "data": {
      "text/plain": [
       "68"
      ]
     },
     "execution_count": 7,
     "metadata": {},
     "output_type": "execute_result"
    }
   ],
   "source": [
    "threads = session.query(Thread).filter_by(subforum='Prostatakrebs und Psyche').all()\n",
    "len(threads)"
   ]
  },
  {
   "cell_type": "code",
   "execution_count": 2,
   "metadata": {
    "collapsed": false
   },
   "outputs": [],
   "source": [
    "user3 = User(name=\"liangcheng\", subforum=\"c\")\n",
    "session.add(user3)\n",
    "session.commit()"
   ]
  },
  {
   "cell_type": "code",
   "execution_count": 11,
   "metadata": {
    "collapsed": true
   },
   "outputs": [],
   "source": [
    "user = session.query(User).filter_by(name=\"liangcheng\").first()"
   ]
  },
  {
   "cell_type": "code",
   "execution_count": 12,
   "metadata": {
    "collapsed": false
   },
   "outputs": [],
   "source": [
    "user"
   ]
  },
  {
   "cell_type": "code",
   "execution_count": 10,
   "metadata": {
    "collapsed": false
   },
   "outputs": [],
   "source": [
    "session.delete(user)\n",
    "session.commit()"
   ]
  },
  {
   "cell_type": "code",
   "execution_count": 3,
   "metadata": {
    "collapsed": false
   },
   "outputs": [],
   "source": [
    "num = session.query(Thread).count()\n"
   ]
  },
  {
   "cell_type": "code",
   "execution_count": 4,
   "metadata": {
    "collapsed": false
   },
   "outputs": [
    {
     "data": {
      "text/plain": [
       "28850"
      ]
     },
     "execution_count": 4,
     "metadata": {},
     "output_type": "execute_result"
    }
   ],
   "source": [
    "num"
   ]
  },
  {
   "cell_type": "code",
   "execution_count": 4,
   "metadata": {
    "collapsed": false
   },
   "outputs": [
    {
     "name": "stdout",
     "output_type": "stream",
     "text": [
      "\n",
      "Title: Anyone have pain in their groin lymph node area? \n",
      "User: Zzarth \n",
      "Time: 2016-08-30 08:18:00 \n",
      "Posts: 3\n",
      "URL: http://www.healingwell.com/community/default.aspx?f=35&m=3692688 \n",
      "Hi all\n",
      " \n",
      "\n",
      "\n",
      "Title: Progression of Mets /  PSA constant? \n",
      "User: Larry E \n",
      "Time: 2016-08-17 04:50:00 \n",
      "Posts: 17\n",
      "URL: http://www.healingwell.com/community/default.aspx?f=35&m=3684974 \n",
      "I repeated the same scans I had last year, just read the3 page reports from patient portal but will not see the doctor till September. My psa is staying low .26 now. The report says I have mets progression; would this qualify as my cancer advancing so I could get additional treatment. Has anyone had experience with mets progression without psa increase?\n",
      " \n",
      "\n",
      "\n",
      "Title: Cause for concern??? Probably not! Opinions? \n",
      "User: Todd1963 \n",
      "Time: 2016-08-17 18:57:00 \n",
      "Posts: 16\n",
      "URL: http://www.healingwell.com/community/default.aspx?f=35&m=3685397 \n",
      "For 3 years my psa was always >0.05. For the last 6 months it came back as >0.02 Today it came back as >0.05 again. Obviously it is lower than the test will show so I am sure it is nothing to worry about but..... I know you guys understand. What do you guys really think??? \n",
      "\n",
      "\n",
      "Title: PSA lab conventions \n",
      "User: RH1970 \n",
      "Time: 2016-08-18 10:56:00 \n",
      "Posts: 2\n",
      "URL: http://www.healingwell.com/community/default.aspx?f=35&m=3685718 \n",
      "Just received lab results for my 4.5 year mark after RPP.\n",
      " \n",
      "\n",
      "\n",
      "Title: only vas deferens invasion \n",
      "User: Demir \n",
      "Time: 2016-03-23 06:48:00 \n",
      "Posts: 16\n",
      "URL: http://www.healingwell.com/community/default.aspx?f=35&m=3605194 \n",
      "hi ,my fathers is 64 years old.Preop psa:7,biopsi gleason 3+3 ,T2b\n",
      " \n",
      "\n",
      "\n",
      "Title: (No Subject) \n",
      "User: fuzzboxman \n",
      "Time: 2016-08-22 07:51:00 \n",
      "Posts: 2\n",
      "URL: http://www.healingwell.com/community/default.aspx?f=35&m=3687975 \n",
      "Hi\n",
      " \n",
      "\n",
      "\n",
      "Title: Still a zero! \n",
      "User: keysailfisher \n",
      "Time: 2016-08-09 16:16:00 \n",
      "Posts: 7\n",
      "URL: http://www.healingwell.com/community/default.aspx?f=35&m=3680581 \n",
      "Got my 6 1/2 year results today, it came in at 0.05. I will take it. I guess this is where it has leveled out at, first 3 yrs. it was <0.01. Sure do miss that <0.01 though.\n",
      " \n",
      "\n",
      "\n",
      "Title: psa rise \n",
      "User: Mickey Childress \n",
      "Time: 2015-05-18 17:24:00 \n",
      "Posts: 24\n",
      "URL: http://www.healingwell.com/community/default.aspx?f=35&m=3409434 \n",
      "my last psa test showed an increase from3.34 to 5.32,but my testosterone was still <10. it started a year ago this past august with my psa at 96,gleason 8 with a bone met on my left hip.psa got to a low of 2.96 about 3 months ago.any need to worry?thanks \n",
      "\n",
      "\n",
      "Title: More guidance needed again \n",
      "User: chrisp1 \n",
      "Time: 2016-08-04 18:59:00 \n",
      "Posts: 8\n",
      "URL: http://www.healingwell.com/community/default.aspx?f=35&m=3678204 \n",
      "I posted several weeks ago looking for advice as surgery in mid-February failed my husband and his first post-op PSA was.86 in late May. Tall Allen suggested we see a radiation oncologist.  We were scheduled to meet with the RO on my husband's surgeon's team at Hopkins in late June.  In early June my husband had a 3t MP MRI locally which suggested <4mm lymph node involvement in two spots, one above the navel and one near the sacrum.\n",
      " \n",
      "\n",
      "\n",
      "Title: Gleason 9s & 10s do better with brachy boost than with surgery or external beam alone \n",
      "User: Tall Allen \n",
      "Time: 2016-07-31 13:12:00 \n",
      "Posts: 14\n",
      "URL: http://www.healingwell.com/community/default.aspx?f=35&m=3675828 \n",
      "This will not come as a great surprise to JNF, Michael-T, CaliJr, and other HW members who have gone for the \"triple play\" of external beam radiation (EBRT) with a brachy boost (BT) and hormone therapy (ADT). But for men newly diagnosed with a GS 9 or 10, this study adds to the evidence that the combination is the preferred alternative.\n",
      " \n",
      "\n",
      "\n",
      "Title: I can not find information gl 9 pc prognosis \n",
      "User: Easy Ace \n",
      "Time: 2016-07-25 17:09:00 \n",
      "Posts: 13\n",
      "URL: http://www.healingwell.com/community/default.aspx?f=35&m=3672760 \n",
      "Ok I have to admit that I am having a rough time I have selected my treatment that starts 7/26/2016> I am doing the : EBRT with IMRT and daily IGRT + long term (2 years) ADT.\n",
      " \n",
      "\n",
      "\n",
      "Title: A handy way around the hard-to-use search engines on some websites (OT) \n",
      "User: 81GyGuy \n",
      "Time: 2016-07-29 08:59:00 \n",
      "Posts: 5\n",
      "URL: http://www.healingwell.com/community/default.aspx?f=35&m=3674758 \n",
      "We've all seen them. Built-in search engines on some websites (often appearing in the upper right hand corner of the opening screen) that turn out to be hard to use, confusing, non-user-friendly, generally disappointing, and, in a word, ineffective.\n",
      " \n",
      "\n",
      "\n",
      "Title: anyone, tell me about docetaxel as I am getting prepared most likley to do first chemo \n",
      "User: boyntonsteveg \n",
      "Time: 2016-07-20 13:09:00 \n",
      "Posts: 6\n",
      "URL: http://www.healingwell.com/community/default.aspx?f=35&m=3670003 \n",
      "HI,\n",
      " \n",
      "\n",
      "\n",
      "Title: New therapy for systemic micrometastases - first in-human proof of concept \n",
      "User: Tall Allen \n",
      "Time: 2016-07-15 00:42:00 \n",
      "Posts: 24\n",
      "URL: http://www.healingwell.com/community/default.aspx?f=35&m=3667267 \n",
      "I don't usually post about unproven new therapies, but this one has unusual potential to destroy systemic micrometastases. They only tried it in 2 patients, so don't fly to Heidelberg just yet, but it is something to watch. Hopefully, they will announce a clinical trial sometime soon.\n",
      " \n",
      "\n",
      "\n",
      "Title: Eight Year Report \n",
      "User: Zen9 \n",
      "Time: 2016-07-13 17:45:00 \n",
      "Posts: 11\n",
      "URL: http://www.healingwell.com/community/default.aspx?f=35&m=3666267 \n",
      "This is my annual post.\n",
      " \n",
      "\n",
      "\n",
      "Title: Bicalutamide and leg pain \n",
      "User: Dugalf \n",
      "Time: 2016-07-09 20:03:00 \n",
      "Posts: 4\n",
      "URL: http://www.healingwell.com/community/default.aspx?f=35&m=3664256 \n",
      "Greetings all, \n",
      " \n",
      "\n",
      "\n",
      "Title: Ideas or Trials as HT looms \n",
      "User: Cigafred \n",
      "Time: 2016-07-12 08:58:00 \n",
      "Posts: 4\n",
      "URL: http://www.healingwell.com/community/default.aspx?f=35&m=3665400 \n",
      "After two versions of SR (see bsignature), the second with four Firmagon injections, PSA has begun rising.  I had my focus on NCT02649439, both arms receiving Prostvac (about which I have heard excellent anecdotal reports).  After zeros during Firmagon my PSA started rising quickly but the rate was steadily slowing (doubling times increasing), and I expected this time or next I would get above the 5-month doubling time which is a minimum for this trial.  But this time my PSA took a bigger jump so my doubling time is back to running between 2 and 3 months and I do not expect it to come back within the trial parameters in time to qualify, if ever.  I have started going through various other trials, including one for \"Abi alone or Abi+Firmagon together or Firmagon alone\" (for which my MO is the local manager).  As I work through my notes and the many trials available, any suggestions (ie like Tall Allen’s list of favorite clinical trials for those castrate resistant) for good trials or good ideas? \n",
      "\n",
      "\n",
      "Title: Cryoablation Treatment of High Risk Patients \n",
      "User: DougS \n",
      "Time: 2015-12-14 20:44:00 \n",
      "Posts: 22\n",
      "URL: http://www.healingwell.com/community/default.aspx?f=35&m=3550333 \n",
      "Have appreciated this forum for a long time.....\n",
      " \n",
      "\n",
      "\n",
      "Title: Recently Diagnosed \n",
      "User: mitchden4 \n",
      "Time: 2016-07-09 17:21:00 \n",
      "Posts: 9\n",
      "URL: http://www.healingwell.com/community/default.aspx?f=35&m=3664197 \n",
      "I'm 67 years old and I was diagnosed with prostate cancer 6 weeks ago. My PSA had risen from around 2 to 4 in 2 years. My urologist did a DRE and the left lobe was \"rubbery\". He  did a 12-core biopsy and 1 core was cancerous with a Gleason 7 (3+4) in less than 5% of the tissue. An adjacent core had a high PIN.   \n",
      " \n",
      "\n",
      "\n",
      "Title: MpMRI results .... help? \n",
      "User: Whippoorwill \n",
      "Time: 2016-06-29 21:36:00 \n",
      "Posts: 23\n",
      "URL: http://www.healingwell.com/community/default.aspx?f=35&m=3659347 \n",
      "Hi folks!\n",
      " \n",
      "\n"
     ]
    }
   ],
   "source": [
    "for x in range(0,20):\n",
    "    thread = session.query(Thread).get(x+1)\n",
    "    print(thread)"
   ]
  },
  {
   "cell_type": "code",
   "execution_count": 2,
   "metadata": {
    "collapsed": false
   },
   "outputs": [
    {
     "name": "stdout",
     "output_type": "stream",
     "text": [
      "7\n",
      " \n",
      "I am having a very nice day.\n"
     ]
    }
   ],
   "source": [
    "import re\n",
    "line = \" \\nI am having a very nice day.\"\n",
    "count = len(re.findall(r'\\w+', line))\n",
    "print (count)\n",
    "print (line)"
   ]
  },
  {
   "cell_type": "code",
   "execution_count": 3,
   "metadata": {
    "collapsed": true
   },
   "outputs": [],
   "source": [
    "def word_count(doc):\n",
    "    count = len(re.findall(r'\\w+', doc))\n",
    "    return count"
   ]
  },
  {
   "cell_type": "code",
   "execution_count": 35,
   "metadata": {
    "collapsed": false
   },
   "outputs": [],
   "source": [
    "thread = session.query(Thread).get(0)"
   ]
  },
  {
   "cell_type": "code",
   "execution_count": 37,
   "metadata": {
    "collapsed": false
   },
   "outputs": [
    {
     "data": {
      "text/plain": [
       "NoneType"
      ]
     },
     "execution_count": 37,
     "metadata": {},
     "output_type": "execute_result"
    }
   ],
   "source": [
    "type(thread)"
   ]
  },
  {
   "cell_type": "code",
   "execution_count": 42,
   "metadata": {
    "collapsed": false
   },
   "outputs": [
    {
     "data": {
      "text/plain": [
       "'\\nWe have a lot of collective wisdom at this site.\\xa0 Let’s make a value-added list of posts with wisdom that newcomers might not be initially aware of, and help get them off to a great start on their “patient education” journey.\\xa0 When we see a newcomer joining HW/PC, we can say, \"Welcome!\\xa0 Be sure to visit the thread called, \\'Newly diagnosed with PC? — read this thread first.\\'\"\\nLet’s please avoid the goofy “posts about other posts” that don’t add value but consume space…let’s add to this thread only with information valuable to the PC newcomers in mind.\\xa0 Also, let’s please avoid the posts that begin with “Well, in my case…” which becomes a post \"all about you,\" because this thread is not intended to be about what you did or what your case was.\\xa0 It’s intended to be a general\\xa0reference thread of information for the PC newcomers.\\xa0 There are plenty of other threads to tell everyone all about you.\\nFurther to this same point, my message to the newcomers who will benefit from this thread\\xa0in the future is that you can save your “thank you” replies for other threads because these types of messages will, similarly, clog the space in the thread.\\xa0 Let’s keep the all the thread entries focused on the points newcomers may not be initially know about prostate cancer.\\xa0 \\n\\nAdded later as an edit:\\xa0 I’ll say “you are welcome” here to all those who have emailed me an offline\\xa0“thank you” for having created this thread...\\nThis thread has the potential to live on for a long time, and be referenced by many people in the future.\\xa0 Let’s put our best foot forward.\\xa0 Let’s see if we can turn this into some good…\\n\\xa0\\nIMPORTANT (although perhaps obvious) NOTE:\\xa0 this is not \"medical advice,\" and should not be a substitute for medical advice; it is merely a collection of learnings and information about PC which often takes a while to be educated about\\n\\xa0\\nI’ll get this started with a post which will help to guide future posts, and then you guys can help to carry this legacy forward.\\xa0\\xa0 Here we go...best foot forward...\\n\\n\\xa0\\n\\xa0\\nSome of the tidbits of lessons learned/wisdom which may be added to this thread following this post will be intended for only one of these risk categories, others will be generic.\\xa0 If it is going to be valuable for only one of the risk categories, it will be helpful to indicate which one.\\xa0 For example, just say something like, “This input is for HIGH RISK men…”\\n\\xa0\\nSUMMARY:\\xa0 Know your “risk category”\\nProstate cancer is really like two, or perhaps three, very different diseases.\\xa0 The recommended treatments (or non-treatment recommendations) are based largely on the NCCN Clinical Guidelines.\\xa0\\xa0 Step #1 for all PC newcomers is to be able to answer the question, “What is your risk category?”\\xa0 \\n\\xa0\\nThe NCCN “risk categories” are listed below:\\n·\\xa0\\xa0\\xa0\\xa0\\xa0\\xa0\\xa0\\xa0 HIGH RECURRENCE RISK\\no\\xa0\\xa0\\xa0 PSA > 20 ng/mL\\no\\xa0\\xa0\\xa0 and/or Gleason 8-10\\no\\xa0\\xa0\\xa0 and/or cT3 tumor\\n\\xa0\\n·\\xa0\\xa0\\xa0\\xa0\\xa0\\xa0\\xa0\\xa0 INTERMEDIATE RECURRENCE RISK\\no\\xa0\\xa0\\xa0 PSA between 10-20 ng/mL\\no\\xa0\\xa0\\xa0 and/or Gleason = 7\\no\\xa0\\xa0\\xa0 and/or cT2b-c tumor\\n\\xa0\\n·\\xa0\\xa0\\xa0\\xa0\\xa0\\xa0\\xa0\\xa0 LOW RECURRENCE RISK\\no\\xa0\\xa0\\xa0 PSA < 10 ng/mL\\no\\xa0\\xa0\\xa0 and Gleason < 7\\no\\xa0\\xa0\\xa0 and cT1-T2a tumor\\n\\xa0\\n·\\xa0\\xa0\\xa0\\xa0\\xa0\\xa0\\xa0\\xa0 VERY LOW RECURRENCE RISK\\no\\xa0\\xa0\\xa0 PSA < 10 ng/mL\\no\\xa0\\xa0\\xa0 and Gleason < 7\\no\\xa0\\xa0\\xa0 and cT1c tumor\\no\\xa0\\xa0\\xa0 and PSA density <0.15\\no\\xa0\\xa0\\xa0 and <3 biopsy cores positive, <=50% cancer in any core\\n\\xa0\\n\\xa0\\nNewly diagnosed?\\xa0 What\\'s your risk category?\\n\\n\\xa0\\n\\xa0\\n\\xa0Post Edited (Casey59) : 7/12/2013 2:57:26 PM (GMT-6)'"
      ]
     },
     "execution_count": 42,
     "metadata": {},
     "output_type": "execute_result"
    }
   ],
   "source": [
    "thread = session.query(Thread).get(1)\n",
    "thread.body"
   ]
  },
  {
   "cell_type": "code",
   "execution_count": 46,
   "metadata": {
    "collapsed": false
   },
   "outputs": [],
   "source": [
    "import csv\n",
    "with open('posts.csv', 'w') as csvfile:\n",
    "    spamwriter = csv.writer(csvfile)\n",
    "    for x in range(0,10):\n",
    "        thread = session.query(Thread).get(x+1)\n",
    "        spamwriter.writerow([thread.title, thread.timestamp, thread.body])"
   ]
  },
  {
   "cell_type": "code",
   "execution_count": 35,
   "metadata": {
    "collapsed": true
   },
   "outputs": [],
   "source": [
    "from bs4 import BeautifulSoup\n",
    "def body_parser(body):\n",
    "    if body.find('<hr class=\"PostHR\">') != -1:\n",
    "        body = body[:body.find('<hr class=\"PostHR\">')]\n",
    "    body = body.replace(\"<br>\",\"NEWLINE\")\n",
    "    soup = BeautifulSoup(body, 'html.parser')\n",
    "    text = soup.get_text()\n",
    "    return text.replace(\"NEWLINE\", \"\\n\")"
   ]
  },
  {
   "cell_type": "code",
   "execution_count": 36,
   "metadata": {
    "collapsed": false
   },
   "outputs": [
    {
     "name": "stdout",
     "output_type": "stream",
     "text": [
      "Hi all\n",
      "\n",
      "I have been waking up with some discomfort on my right side, i believe it's my lymph node... when I feel carefully I can fill it inflamed.... my CT showed no lymph node involvement, but I'm having some considerable discomfort on the same side my cancer was found with the biopsy (R apex)... feels like a small swollen small rock.\n",
      "\n",
      "Going for my Cysto tomorrow, I think I'm going to ask my urologist about it ... has anyone else had similar symptoms?\n",
      "\n",
      "Thanks\n",
      "Zzarth\n"
     ]
    }
   ],
   "source": [
    "s = \"<div class=\\\"PostMessageBody\\\">Hi all<br><br>I have been waking up with some discomfort on my right side, i believe it's my lymph node... when I feel carefully I can fill it inflamed.... my CT showed no lymph node involvement, but I'm having some considerable discomfort on the same side my cancer was found with the biopsy (R apex)... feels like a small swollen small rock.<br><br>Going for my Cysto tomorrow, I think I'm going to ask my urologist about<strong></strong> it ... has anyone else had similar symptoms?<br><br>Thanks<br>Zzarth<hr class=\\\"PostHR\\\">6/10/16 - first ever PSA results in a 15.1<br>7/25/16 - Biopsy results in G6, 4mm 30% of tissue<br>8/1/16 - started antibiotics to rule out prostatitis  <br>8/5/16 - Hopkins Results in Upgrade to G3+4=7 (Grade group 2), 70%, 10% G4<br>8/5/16 - CT of Prostate shows no lymph node involvement<br>8/10/16 - Laid off from new job when boss learns of my cancer<br>8/17/16 - PSA tested @ 18.0</div>\"\n",
    "ss = body_parser(s)\n",
    "print(ss)"
   ]
  },
  {
   "cell_type": "code",
   "execution_count": 33,
   "metadata": {
    "collapsed": false
   },
   "outputs": [],
   "source": [
    "body = s\n",
    "body = body.replace(\"<br>\",\"NEWLINE\")\n",
    "body\n",
    "soup = BeautifulSoup(body,\"html.parser\")"
   ]
  },
  {
   "cell_type": "code",
   "execution_count": 34,
   "metadata": {
    "collapsed": false
   },
   "outputs": [
    {
     "data": {
      "text/plain": [
       "<div class=\"PostMessageBody\">Hi allNEWLINENEWLINEI have been waking up with some discomfort on my right side, i believe it's my lymph node... when I feel carefully I can fill it inflamed.... my CT showed no lymph node involvement, but I'm having some considerable discomfort on the same side my cancer was found with the biopsy (R apex)... feels like a small swollen small rock.NEWLINENEWLINEGoing for my Cysto tomorrow, I think I'm going to ask my urologist about<strong></strong> it ... has anyone else had similar symptoms?NEWLINENEWLINEThanksNEWLINEZzarth<hr class=\"PostHR\">6/10/16 - first ever PSA results in a 15.1NEWLINE7/25/16 - Biopsy results in G6, 4mm 30% of tissueNEWLINE8/1/16 - started antibiotics to rule out prostatitis  NEWLINE8/5/16 - Hopkins Results in Upgrade to G3+4=7 (Grade group 2), 70%, 10% G4NEWLINE8/5/16 - CT of Prostate shows no lymph node involvementNEWLINE8/10/16 - Laid off from new job when boss learns of my cancerNEWLINE8/17/16 - PSA tested @ 18.0</hr></div>"
      ]
     },
     "execution_count": 34,
     "metadata": {},
     "output_type": "execute_result"
    }
   ],
   "source": [
    "soup"
   ]
  },
  {
   "cell_type": "code",
   "execution_count": null,
   "metadata": {
    "collapsed": true
   },
   "outputs": [],
   "source": []
  }
 ],
 "metadata": {
  "kernelspec": {
   "display_name": "Python 3",
   "language": "python",
   "name": "python3"
  },
  "language_info": {
   "codemirror_mode": {
    "name": "ipython",
    "version": 3
   },
   "file_extension": ".py",
   "mimetype": "text/x-python",
   "name": "python",
   "nbconvert_exporter": "python",
   "pygments_lexer": "ipython3",
   "version": "3.5.1"
  }
 },
 "nbformat": 4,
 "nbformat_minor": 0
}
