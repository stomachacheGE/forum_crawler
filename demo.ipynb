{
 "cells": [
  {
   "cell_type": "code",
   "execution_count": 1,
   "metadata": {
    "collapsed": false
   },
   "outputs": [],
   "source": [
    "from sqlalchemy import create_engine\n",
    "from sqlalchemy.orm import sessionmaker\n",
    "from db_initialize import *\n",
    "\n",
    "engine = create_engine('sqlite://///Users/Johnson/Documents/nit/thesis/forum_crawler/database_test.db')\n",
    "Session = sessionmaker(bind=engine)\n",
    "Base.metadata.bind = engine\n",
    "session = Session()"
   ]
  },
  {
   "cell_type": "code",
   "execution_count": 2,
   "metadata": {
    "collapsed": false
   },
   "outputs": [
    {
     "name": "stdout",
     "output_type": "stream",
     "text": [
      "User <0311> is from forum <healing well>, has 0 threads, 1 posts.\n",
      "User <1218davinci> is from forum <healing well>, has 0 threads, 1 posts.\n",
      "User <60Michael> is from forum <healing well>, has 0 threads, 2 posts.\n",
      "User <614-2101-765-611> is from forum <healing well>, has 0 threads, 1 posts.\n",
      "User <81GyGuy> is from forum <healing well>, has 3 threads, 2 posts.\n",
      "User <ASAdvocate> is from forum <healing well>, has 0 threads, 7 posts.\n",
      "User <Aimzee> is from forum <healing well>, has 0 threads, 2 posts.\n",
      "User <Almost a 10> is from forum <healing well>, has 0 threads, 6 posts.\n",
      "User <AnotherDisplayName> is from forum <healing well>, has 0 threads, 1 posts.\n",
      "User <Artist Mark> is from forum <healing well>, has 2 threads, 4 posts.\n",
      "User <BOOGEE> is from forum <healing well>, has 0 threads, 2 posts.\n",
      "User <Berdoo/Arkansas> is from forum <healing well>, has 1 threads, 1 posts.\n",
      "User <Big Mac> is from forum <healing well>, has 0 threads, 1 posts.\n",
      "User <BillyBob@388> is from forum <healing well>, has 0 threads, 6 posts.\n",
      "User <Bobby Mac> is from forum <healing well>, has 1 threads, 9 posts.\n",
      "User <Bololidat> is from forum <healing well>, has 1 threads, 10 posts.\n",
      "User <Boon1> is from forum <healing well>, has 0 threads, 11 posts.\n",
      "User <Break60> is from forum <healing well>, has 0 threads, 8 posts.\n",
      "User <Cajun Jeff> is from forum <healing well>, has 1 threads, 3 posts.\n",
      "User <CaliJR> is from forum <healing well>, has 1 threads, 15 posts.\n",
      "User <Chask> is from forum <healing well>, has 0 threads, 3 posts.\n",
      "User <ChrisR> is from forum <healing well>, has 0 threads, 1 posts.\n",
      "User <Cigafred> is from forum <healing well>, has 1 threads, 3 posts.\n",
      "User <DYank> is from forum <healing well>, has 0 threads, 2 posts.\n",
      "User <Dan0> is from forum <healing well>, has 0 threads, 1 posts.\n",
      "User <Dave-Rockville,MD> is from forum <healing well>, has 0 threads, 2 posts.\n",
      "User <Deon124> is from forum <healing well>, has 1 threads, 4 posts.\n",
      "User <DougS> is from forum <healing well>, has 1 threads, 2 posts.\n",
      "User <Dr WHO> is from forum <healing well>, has 0 threads, 3 posts.\n",
      "User <Dugalf> is from forum <healing well>, has 1 threads, 0 posts.\n",
      "User <Easy Ace> is from forum <healing well>, has 0 threads, 1 posts.\n",
      "User <English Alf> is from forum <healing well>, has 1 threads, 1 posts.\n",
      "User <F8> is from forum <healing well>, has 0 threads, 7 posts.\n",
      "User <Fairwind> is from forum <healing well>, has 0 threads, 8 posts.\n",
      "User <Faustmann> is from forum <healing well>, has 0 threads, 1 posts.\n",
      "User <Fl Drifter> is from forum <healing well>, has 1 threads, 1 posts.\n",
      "User <FoxRun> is from forum <healing well>, has 1 threads, 5 posts.\n",
      "User <Gemlin> is from forum <healing well>, has 0 threads, 4 posts.\n",
      "User <George_> is from forum <healing well>, has 0 threads, 4 posts.\n",
      "User <Georgenyc> is from forum <healing well>, has 1 threads, 9 posts.\n",
      "User <Gleason 6> is from forum <healing well>, has 1 threads, 4 posts.\n",
      "User <Gunner34> is from forum <healing well>, has 0 threads, 2 posts.\n",
      "User <HD_Rider> is from forum <healing well>, has 0 threads, 1 posts.\n",
      "User <Hawaii-Guy> is from forum <healing well>, has 0 threads, 1 posts.\n",
      "User <Hilander64> is from forum <healing well>, has 1 threads, 4 posts.\n",
      "User <Howard3569> is from forum <healing well>, has 2 threads, 2 posts.\n",
      "User <ISU-CycloneFan> is from forum <healing well>, has 1 threads, 23 posts.\n",
      "User <InTheShop> is from forum <healing well>, has 0 threads, 27 posts.\n",
      "User <Infohound2> is from forum <healing well>, has 0 threads, 1 posts.\n",
      "User <Inspector 13> is from forum <healing well>, has 0 threads, 1 posts.\n",
      "User <JNF> is from forum <healing well>, has 0 threads, 6 posts.\n",
      "User <JackH> is from forum <healing well>, has 0 threads, 11 posts.\n",
      "User <James C.> is from forum <healing well>, has 0 threads, 4 posts.\n",
      "User <JamesE> is from forum <healing well>, has 0 threads, 4 posts.\n",
      "User <Jaybee_007> is from forum <healing well>, has 1 threads, 0 posts.\n",
      "User <Jazzman1> is from forum <healing well>, has 0 threads, 2 posts.\n",
      "User <Jerry L.> is from forum <healing well>, has 0 threads, 3 posts.\n",
      "User <JimBear> is from forum <healing well>, has 0 threads, 1 posts.\n",
      "User <Joe in Nice> is from forum <healing well>, has 0 threads, 1 posts.\n",
      "User <John T> is from forum <healing well>, has 0 threads, 1 posts.\n",
      "User <John_TX> is from forum <healing well>, has 0 threads, 3 posts.\n",
      "User <Jollytinker> is from forum <healing well>, has 1 threads, 0 posts.\n",
      "User <JustJulie> is from forum <healing well>, has 0 threads, 2 posts.\n",
      "User <Kark60> is from forum <healing well>, has 0 threads, 1 posts.\n",
      "User <KeepOnTruckin> is from forum <healing well>, has 0 threads, 2 posts.\n",
      "User <Larry E> is from forum <healing well>, has 0 threads, 1 posts.\n",
      "User <Mack54> is from forum <healing well>, has 0 threads, 1 posts.\n",
      "User <Mag E May> is from forum <healing well>, has 0 threads, 1 posts.\n",
      "User <Manfred> is from forum <healing well>, has 0 threads, 1 posts.\n",
      "User <Max Vision> is from forum <healing well>, has 0 threads, 1 posts.\n",
      "User <Michael_T> is from forum <healing well>, has 0 threads, 6 posts.\n",
      "User <MistyCoffee> is from forum <healing well>, has 0 threads, 2 posts.\n",
      "User <NY-Sooner> is from forum <healing well>, has 1 threads, 0 posts.\n",
      "User <Nell79> is from forum <healing well>, has 1 threads, 2 posts.\n",
      "User <NewDay> is from forum <healing well>, has 0 threads, 1 posts.\n",
      "User <NewspaperLover> is from forum <healing well>, has 0 threads, 1 posts.\n",
      "User <Newton451> is from forum <healing well>, has 0 threads, 14 posts.\n",
      "User <Nomar Lupron 4 Me> is from forum <healing well>, has 0 threads, 2 posts.\n",
      "User <Northern Lights> is from forum <healing well>, has 0 threads, 1 posts.\n",
      "User <Northfoot> is from forum <healing well>, has 0 threads, 1 posts.\n",
      "User <PDL17> is from forum <healing well>, has 0 threads, 2 posts.\n",
      "User <PSA3DOT7> is from forum <healing well>, has 0 threads, 1 posts.\n",
      "User <PeterDisAbelard.> is from forum <healing well>, has 0 threads, 6 posts.\n",
      "User <Pratoman> is from forum <healing well>, has 0 threads, 18 posts.\n",
      "User <Purgatory> is from forum <healing well>, has 0 threads, 2 posts.\n",
      "User <RCS> is from forum <healing well>, has 1 threads, 3 posts.\n",
      "User <RandyJoe> is from forum <healing well>, has 1 threads, 2 posts.\n",
      "User <Redwing57> is from forum <healing well>, has 0 threads, 5 posts.\n",
      "User <RobertC> is from forum <healing well>, has 0 threads, 2 posts.\n",
      "User <Roy123> is from forum <healing well>, has 0 threads, 1 posts.\n",
      "User <Sam-the-Man> is from forum <healing well>, has 0 threads, 2 posts.\n",
      "User <ShinytopPC> is from forum <healing well>, has 0 threads, 1 posts.\n",
      "User <Sonny3> is from forum <healing well>, has 1 threads, 5 posts.\n",
      "User <SophieW> is from forum <healing well>, has 1 threads, 4 posts.\n",
      "User <Southern Comfort> is from forum <healing well>, has 0 threads, 1 posts.\n",
      "User <SteelGuy> is from forum <healing well>, has 0 threads, 1 posts.\n",
      "User <Steve n Dallas> is from forum <healing well>, has 1 threads, 4 posts.\n",
      "User <SueCAll> is from forum <healing well>, has 0 threads, 2 posts.\n",
      "User <TIGER74> is from forum <healing well>, has 0 threads, 2 posts.\n",
      "User <Tall Allen> is from forum <healing well>, has 2 threads, 69 posts.\n",
      "User <Teamchris> is from forum <healing well>, has 0 threads, 1 posts.\n",
      "User <Thommy2458> is from forum <healing well>, has 1 threads, 5 posts.\n",
      "User <Tim G> is from forum <healing well>, has 0 threads, 8 posts.\n",
      "User <Todd1963> is from forum <healing well>, has 1 threads, 9 posts.\n",
      "User <Tony Crispino> is from forum <healing well>, has 0 threads, 4 posts.\n",
      "User <Traveller58> is from forum <healing well>, has 1 threads, 0 posts.\n",
      "User <Tudpock18> is from forum <healing well>, has 0 threads, 8 posts.\n",
      "User <Whippoorwill> is from forum <healing well>, has 1 threads, 11 posts.\n",
      "User <Wings of Eagles> is from forum <healing well>, has 1 threads, 2 posts.\n",
      "User <Works Out> is from forum <healing well>, has 0 threads, 4 posts.\n",
      "User <Zen9> is from forum <healing well>, has 1 threads, 0 posts.\n",
      "User <Zzarth> is from forum <healing well>, has 1 threads, 0 posts.\n",
      "User <akai> is from forum <healing well>, has 0 threads, 2 posts.\n",
      "User <alephnull> is from forum <healing well>, has 1 threads, 8 posts.\n",
      "User <ao> is from forum <healing well>, has 0 threads, 1 posts.\n",
      "User <audrey1969> is from forum <healing well>, has 0 threads, 1 posts.\n",
      "User <boyntonsteveg> is from forum <healing well>, has 2 threads, 1 posts.\n",
      "User <browntrout> is from forum <healing well>, has 1 threads, 5 posts.\n",
      "User <celebrate life> is from forum <healing well>, has 1 threads, 9 posts.\n",
      "User <cfbbneil> is from forum <healing well>, has 1 threads, 2 posts.\n",
      "User <chrisp1> is from forum <healing well>, has 1 threads, 4 posts.\n",
      "User <clocknut> is from forum <healing well>, has 0 threads, 1 posts.\n",
      "User <compiler> is from forum <healing well>, has 1 threads, 4 posts.\n",
      "User <dkob131> is from forum <healing well>, has 0 threads, 1 posts.\n",
      "User <dmlvt> is from forum <healing well>, has 1 threads, 0 posts.\n",
      "User <don826> is from forum <healing well>, has 0 threads, 3 posts.\n",
      "User <drjmo> is from forum <healing well>, has 0 threads, 1 posts.\n",
      "User <eyetat> is from forum <healing well>, has 0 threads, 1 posts.\n",
      "User <fuunit> is from forum <healing well>, has 0 threads, 1 posts.\n",
      "User <fuzzboxman> is from forum <healing well>, has 1 threads, 0 posts.\n",
      "User <goatts> is from forum <healing well>, has 0 threads, 1 posts.\n",
      "User <grumpyone99> is from forum <healing well>, has 0 threads, 1 posts.\n",
      "User <guytalk> is from forum <healing well>, has 0 threads, 1 posts.\n",
      "User <halbert> is from forum <healing well>, has 2 threads, 22 posts.\n",
      "User <island time> is from forum <healing well>, has 0 threads, 12 posts.\n",
      "User <john16> is from forum <healing well>, has 0 threads, 2 posts.\n",
      "User <junbug> is from forum <healing well>, has 1 threads, 0 posts.\n",
      "User <keysailfisher> is from forum <healing well>, has 1 threads, 1 posts.\n",
      "User <kitty19> is from forum <healing well>, has 0 threads, 1 posts.\n",
      "User <lapilot> is from forum <healing well>, has 0 threads, 3 posts.\n",
      "User <lifeguyd> is from forum <healing well>, has 0 threads, 1 posts.\n",
      "User <mitchden4> is from forum <healing well>, has 1 threads, 1 posts.\n",
      "User <mspt98> is from forum <healing well>, has 0 threads, 1 posts.\n",
      "User <nepol> is from forum <healing well>, has 1 threads, 4 posts.\n",
      "User <peanut307> is from forum <healing well>, has 1 threads, 2 posts.\n",
      "User <pjr64> is from forum <healing well>, has 0 threads, 2 posts.\n",
      "User <rob2> is from forum <healing well>, has 0 threads, 3 posts.\n",
      "User <rockyfords> is from forum <healing well>, has 0 threads, 5 posts.\n",
      "User <samster> is from forum <healing well>, has 0 threads, 3 posts.\n",
      "User <sbharley> is from forum <healing well>, has 1 threads, 0 posts.\n",
      "User <sheepguy> is from forum <healing well>, has 0 threads, 2 posts.\n",
      "User <stixandstonz> is from forum <healing well>, has 1 threads, 0 posts.\n",
      "User <suzhtz> is from forum <healing well>, has 1 threads, 12 posts.\n",
      "User <tarhoosier> is from forum <healing well>, has 0 threads, 1 posts.\n",
      "User <twash> is from forum <healing well>, has 0 threads, 1 posts.\n",
      "User <vn16> is from forum <healing well>, has 0 threads, 1 posts.\n",
      "User <weston> is from forum <healing well>, has 0 threads, 1 posts.\n"
     ]
    }
   ],
   "source": [
    "users = session.query(User).order_by(User.name).all()\n",
    "len(users)\n",
    "for user in users:\n",
    "    print(user)"
   ]
  },
  {
   "cell_type": "code",
   "execution_count": 2,
   "metadata": {
    "collapsed": false
   },
   "outputs": [
    {
     "data": {
      "text/plain": [
       "48"
      ]
     },
     "execution_count": 2,
     "metadata": {},
     "output_type": "execute_result"
    }
   ],
   "source": [
    "\n",
    "author = session.query(User).filter_by(name=\"LowRoad\", forum=\"prostatakrebs\").first()\n",
    "len(author.threads)"
   ]
  },
  {
   "cell_type": "code",
   "execution_count": 2,
   "metadata": {
    "collapsed": false
   },
   "outputs": [
    {
     "name": "stdout",
     "output_type": "stream",
     "text": [
      "Column: id\n",
      "Column: user_id\n",
      "Column: url\n",
      "Column: body\n",
      "Column: timestamp\n",
      "Column: title\n",
      "Column: forum\n",
      "Column: subforum\n",
      "Column: subforum_url\n"
     ]
    }
   ],
   "source": [
    "from sqlalchemy import inspect\n",
    "inspector = inspect(engine)\n",
    "\n",
    "inspector.get_table_names()\n",
    "for column in inspector.get_columns('threads'):\n",
    "   print(\"Column: %s\" % column['name'])"
   ]
  },
  {
   "cell_type": "code",
   "execution_count": 6,
   "metadata": {
    "collapsed": false
   },
   "outputs": [
    {
     "data": {
      "text/plain": [
       "307"
      ]
     },
     "execution_count": 6,
     "metadata": {},
     "output_type": "execute_result"
    }
   ],
   "source": [
    "posts = session.query(Post).filter_by(subforum='Angehörigenforum').all()\n",
    "len(posts)"
   ]
  },
  {
   "cell_type": "code",
   "execution_count": 7,
   "metadata": {
    "collapsed": false
   },
   "outputs": [
    {
     "data": {
      "text/plain": [
       "68"
      ]
     },
     "execution_count": 7,
     "metadata": {},
     "output_type": "execute_result"
    }
   ],
   "source": [
    "threads = session.query(Thread).filter_by(subforum='Prostatakrebs und Psyche').all()\n",
    "len(threads)"
   ]
  },
  {
   "cell_type": "code",
   "execution_count": 2,
   "metadata": {
    "collapsed": false
   },
   "outputs": [],
   "source": [
    "user3 = User(name=\"liangcheng\", subforum=\"c\")\n",
    "session.add(user3)\n",
    "session.commit()"
   ]
  },
  {
   "cell_type": "code",
   "execution_count": 11,
   "metadata": {
    "collapsed": true
   },
   "outputs": [],
   "source": [
    "user = session.query(User).filter_by(name=\"liangcheng\").first()"
   ]
  },
  {
   "cell_type": "code",
   "execution_count": 12,
   "metadata": {
    "collapsed": false
   },
   "outputs": [],
   "source": [
    "user"
   ]
  },
  {
   "cell_type": "code",
   "execution_count": 10,
   "metadata": {
    "collapsed": false
   },
   "outputs": [],
   "source": [
    "session.delete(user)\n",
    "session.commit()"
   ]
  },
  {
   "cell_type": "code",
   "execution_count": 3,
   "metadata": {
    "collapsed": false
   },
   "outputs": [],
   "source": [
    "num = session.query(Thread).count()\n"
   ]
  },
  {
   "cell_type": "code",
   "execution_count": 4,
   "metadata": {
    "collapsed": false
   },
   "outputs": [
    {
     "data": {
      "text/plain": [
       "28850"
      ]
     },
     "execution_count": 4,
     "metadata": {},
     "output_type": "execute_result"
    }
   ],
   "source": [
    "num"
   ]
  },
  {
   "cell_type": "code",
   "execution_count": 3,
   "metadata": {
    "collapsed": false
   },
   "outputs": [
    {
     "name": "stdout",
     "output_type": "stream",
     "text": [
      "46\n",
      "\n",
      "Title: Viagra, Cialis u.s.w. Einfluss auf Tumorprogression? \n",
      "User: Conobar \n",
      "Time: 2011-01-14 16:59:00 \n",
      "Posts: 22\n",
      "URL: http://forum.prostatakrebs-bps.de/showthread.php?6220-Viagra-Cialis-u-s-w-Einfluss-auf-Tumorprogression \n",
      "\n",
      "\t\t\t\t\tHallo, \n",
      "\n",
      "mich würde interessieren, ob Studien existieren über den Einfluss von Viagra, Cialis,Levitra u.ä. auf das Tumorverhalten bei Patienten , welche als Therapie die intermittierende Hormontherpie gewählt haben.\n",
      "\n",
      "MfG\n",
      "\t\t\t\t \n",
      "\n",
      "\n",
      "Title: Zytiga: häufige Nebenwirkungen Herzversagen, Sepsis? \n",
      "User: wolfgang61 \n",
      "Time: 2015-06-05 19:40:00 \n",
      "Posts: 9\n",
      "URL: http://forum.prostatakrebs-bps.de/showthread.php?8981-Zytiga-h%C3%A4ufige-Nebenwirkungen-Herzversagen-Sepsis \n",
      "\n",
      "\t\t\t\t\tHallo,\n",
      "\n",
      "seit zwei Monaten bekomme ich Zytiga. Seit kurzer Zeit macht das Herz Extraschläge. Laut Internist liegt es noch im Toleranzbereich. Aber im Beipackzettel findet man auch unter häufigen Nebenwirkungen (1 von 10) Herzversagen. \n",
      "\n",
      "Wer hat Erfahrung mit Zytiga oder entsprechende Informationsquellen.\n",
      "\n",
      "Im Beipackzettel steht auch unter häufig \"Sepsis (eine schwere Infektion)\". Ich werde mir nächste Woche die Goldmarker für eine Bestrahlung setzen lassen. Wie gefährlich ist dann so ein Eingiff wegen möglicher Infektion?\n",
      "\n",
      "Viele Grüße\n",
      "Wolfgang\n",
      "\t\t\t\t \n",
      "\n",
      "\n",
      "Title: PSA Wert von 566 \n",
      "User: Sandra 7231 \n",
      "Time: 2016-03-19 13:42:00 \n",
      "Posts: 23\n",
      "URL: http://forum.prostatakrebs-bps.de/showthread.php?9368-PSA-Wert-von-566 \n",
      "\n",
      "\t\t\t\t\tBei meinem Vater 75 Jahre wurde ein PSA Wert von 566 festgestellt . Wer kann helfen? Und hat Erfahrungen damit?\n",
      "\t\t\t\t \n",
      "\n",
      "\n",
      "Title: Progesteron und Einfluss auf Prostata \n",
      "User: highlander \n",
      "Time: 2016-03-04 11:50:00 \n",
      "Posts: 6\n",
      "URL: http://forum.prostatakrebs-bps.de/showthread.php?9350-Progesteron-und-Einfluss-auf-Prostata \n",
      "\n",
      "\t\t\t\t\tHallo liebe User\n",
      "Meine Hausärztin welche auch naturheilkundlich unterwegs ist  meinte dass ich in einem speziellen Labor meinen Progesteronspiegel messen lassen sollte wegen meiner chronischen Prostatitis.Sie hat mir das so ungefähr erklärt dass ein zu niedriger Spiegel von Progesteron auch dafür verantwortlich sein kann.Der test soll 90 Euro kosten und dann gibt es wohl so spezielle Kapseln die man dann falls der Spiegel zu niedrig ist schlucken soll.Das Ganze hat wohl dieser Arzt ins Rollen gebracht\n",
      "\n",
      "http://www.dr.rimkus.ike.de/cgi-bin/show/show.pl\n",
      "\n",
      "Ich weiss nicht so recht was ich davon halten soll.\n",
      "Hat jemand dazu eine Meinung?\n",
      "\t\t\t\t \n",
      "\n",
      "\n",
      "Title: Hormontherapie vor oder nach Bestrahlung ? \n",
      "User: KatrinRo \n",
      "Time: 2016-05-19 11:47:00 \n",
      "Posts: 3\n",
      "URL: http://forum.prostatakrebs-bps.de/showthread.php?9462-Hormontherapie-vor-oder-nach-Bestrahlung \n",
      "\n",
      "Guten Tag\n",
      "\n",
      "Ich (selbst Ärztin) wende mich vertrauensvoll an die User dieses Forums. \n",
      "\n",
      "Es geht um einen Vater, Alter 63: \n",
      "\n",
      "\n",
      "\n",
      "Zusammenfassend besteht ein Prostatakarzinom (Stadium 3b; Gleason Grad 5+4), ED 2015 mit erfolgter radikaler Prostataektomie (nicht nervenschonend) im Januar 2016. Der Resektionsrand war histologisch positiv, zudem waren die operativ entfernten Lymphknoten (2/20) positiv. \n",
      "\n",
      "\n",
      "Der postoperative aktuelle PSA Wert liegt bei 0,2. \n",
      "\n",
      "\n",
      "Mittlerweile wurde in Braunschweig ein PSMA-PET-CT durchgeführt, wobei sich positive Lymphknoten-Metastasen sowie ein Lokalbefund im Operationsgebiet zeigt. Der Therapievorschlag seitens Prof. Hoffmann, Strahlentherapie Klinikum Braunschweig ist eine Bestrahlung sowie eine begleitende Hormontherapie (Rezeptorblockade + LHRH Analoga für 12 Monate).\n",
      "\n",
      "Der Therapievorschlag seitens Prof. Schostak, Uniklinik Magdeburg ist eine Bestrahlung und erst im Anschluss eine, wenn dann Androgenrezeptorblockade.\n",
      "\n",
      "Der Therapieweg des Prof. Schostak ist uns sympathischer, da zum einen der Effekt der Bestrahlung besser beurteilt werden kann und im Falle einer guten Wirkung die Hormontherapie doch noch verzögert werden kann, sodass im Falle eines Rezidivs (ja nicht unwahrscheinlich bei der Tumoraggressivität) mehr Behandlungsspielraum vorhanden ist. Zudem besteht eine kardinale Grunderkrankung sodass mit der Gabe von LHRH Analog sowieso aufgepasst werden muss.\n",
      "\n",
      "Jedoch spricht gegen diesen Weg eventuell, dass nur durch eine jetzige Kombination von Rezeptorblockade und Bestrahlung der Tumor noch egalisiert werden kann und im Nachhinein nicht mehr, denn ganz egal wie weit nach der Bestrahlung die Hormontherapie beginnt - kurativ wirkt diese nie.\n",
      "\n",
      "Die Entscheidung ist und bleibt schwierig und ich hoffe auf Kommentare, Meinungen und Erfahrungen... Vielen Dank\n",
      " \n",
      "\n",
      "\n",
      "Title: Kardiovaskuläre Risikopatienten unter Androgenentzugstherapie \n",
      "User: Heribert \n",
      "Time: 2016-05-28 10:01:00 \n",
      "Posts: 4\n",
      "URL: http://forum.prostatakrebs-bps.de/showthread.php?9473-Kardiovaskul%C3%A4re-Risikopatienten-unter-Androgenentzugstherapie \n",
      "\n",
      "Geringeres Risiko mit GnRH-Antagonisten im Vergleich zu LHRH-Agonisten?\n",
      "\n",
      "Wird in Springer Medizin \"Der Urologe 2016/2\" diskutiert. (Anmeldung erforderlich)\n",
      "\n",
      "Demnach haben Kardiovaskuläre Risikopatienten mit GnRH-Antagonisten deutlich geringere Auswirkungen auf ihre Grunderkrankung zu befürchten als mit LHRH-Agonisten.\n",
      "\n",
      "Gruß Heribert\n",
      "\t\t\t\t \n",
      "\n",
      "\n",
      "Title: Neues Teilforum \"Active Surveillance\" \n",
      "User: RalfDm \n",
      "Time: 2015-03-19 08:57:00 \n",
      "Posts: 6\n",
      "URL: http://forum.prostatakrebs-bps.de/showthread.php?8854-Neues-Teilforum-quot-Active-Surveillance-quot \n",
      "\n",
      "\t\t\t\t\tLiebe Forumsbenutzer,\n",
      "\n",
      "ab dem heutigen Tage gibt es dieses neue Teilforum \"Zum Austausch von Gedanken und Erfahrungen und Stellen von Fragen zur Active Surveillance\". Die Forumsbetreiber BPS und KISP möchten mit diesem Schritt auch signalisieren, dass sie diesem Thema eine hohe Bedeutung zumessen. \n",
      "Gleichzeitig wurde das Teilforum \"HAROW-Studie\" herausgenommen, in dem es schon lange keine neuen Beiträge mehr gegeben hatte.\n",
      "\n",
      "Ralf\n",
      "\t\t\t\t \n",
      "\n",
      "\n",
      "Title: Dronabinol \n",
      "User: Briele \n",
      "Time: 2012-07-21 16:28:00 \n",
      "Posts: 52\n",
      "URL: http://forum.prostatakrebs-bps.de/showthread.php?7400-Dronabinol \n",
      "\n",
      "\t\t\t\t\tGuten Tag,\n",
      "\n",
      "hat jemand Erfahrung mit Dronabinol? Die letzten Eintragungen zu diesem Thema im Forum sind von 2008. Inzwischen wird es (angeblich) verschrieben. \n",
      "Es soll ein gutes Schmerzmittel sein, den Appetit steigern, nicht benommen machen, zum Unterschied zu Morphium keine Übelkeit erzeugen.\n",
      "Der Schmerzarzt meines Mannes hält nicht viel davon, will es auch nicht verschreiben.\n",
      "Vielleicht kann mir hier jemand von eigenen Erfahrungen berichten.\n",
      "\n",
      "liebe Grüße von Briele\n",
      "\t\t\t\t \n",
      "\n",
      "\n",
      "Title: Testosteron and Prostate-Cancer \n",
      "User: LowRoad \n",
      "Time: 2013-11-20 10:21:00 \n",
      "Posts: 26\n",
      "URL: http://forum.prostatakrebs-bps.de/showthread.php?8177-Testosteron-and-Prostate-Cancer \n",
      "\n",
      "\t\t\t\t\tTestosteron and Prostate-Cancer - Part-I\n",
      "\n",
      "Einleitung:\n",
      "Ein uraltes Thema, kontrovers diskutiert und mit Tabus belegt. Ist Testosteron der Prostatakrebsverursacher? Oder treibt er einen okkulten Krebs \"nur\" an? Wird Östrogen zu Krebsauslösung benötigt oder ist fehlendes Progesteron der Schuldige? Viele Fragen und noch mehr Antworten, die sich, wie kann es anders sein, widersprechen. Viele kluge Leute haben Bücher darüber geschrieben, wollen es immer besser wissen als andere, ein Dogma gegen ein anderes tauschen.\n",
      "\n",
      "Ich will jetzt mal kurz auf das Thema Testosteron als Krebsverursacher eingehen, um dann im Part-II der Frage nachzugehen, ob eine Testosterontherapie bei festgestelltem PCa sinnvoll sein könnte. Part-III sollte sich dann mit der Frage beschäftigen, ob in späten Stadien der Krankheit Testosteron-Hochdosis Therapie Vorteile bringt.\n",
      "\n",
      "\n",
      "Part-I, Testosteron und PCa Entstehung\n",
      "Eunuchen bekommen keinen Prostatakrebs. Heutzutage schwer in Studien zu untersuchen, aber wenn Jungen vor der Pubertät kastriert wurden, entwickeln sie keinen Prostatakrebs. Allerdings kann man auch Männern mit niedrigem Testosteronwerten ein Testosteronersatz anbieten, ohne dass sich Prostatkrebs bildet[1]. Dieses Vorgehen könnte dennoch eine bereits vorhandene okkulte Erkrankung zum Ausbruch bringen. Coward und Kollegen untersuchten 2009 bei 81 Männern, ob eine Testosteronergänzung unschädlich wäre[2]:\n",
      "\n",
      "\n",
      "\n",
      "\n",
      "\n",
      "\t\t\t\n",
      "\t\t\t\tIn men without prostate cancer, PSA levels did not increase significantly at 1-year intervals for 5 years. \n",
      "In men with prostate cancer there was an increase in mean PSA level from baseline to 18 months of 1.8ng/mL, and to 36 months of 3.2ng/mL). \n",
      "\t\t\t\n",
      "\t\t\n",
      "\n",
      "Barqawi & Crawford schreiben in Medscape [5] u.a.\n",
      "\n",
      "\n",
      "\n",
      "\n",
      "\n",
      "\t\t\t\n",
      "\t\t\t\tShaneyfelt et al. conducted a meta-analysis that found a two-fold increase in the risk of prostate cancer in men with testosterone levels in the upper quartile of the population...\n",
      "\t\t\t\n",
      "\t\t\n",
      "\n",
      "Eine Australische Studie[4] hat herausgefunden, dass alte Männer mit einem höheren Testosteronwert 9% öfter von Prostatakrebs betroffen sind - oder werden sie nur öfters diagnostiziert? Andere Untersuchungen konnten zeigen, dass von diesem PSA Anstieg unter Testosteronersatz nur Männer mit einem Gleason >6 betroffen sind. Ganz aktuell aus dem HW Forum[3]:\n",
      "\n",
      "\n",
      "\n",
      "\n",
      "\n",
      "\t\t\t\n",
      "\t\t\t\tIch begann mit der Testosteron-Ergänzungs-Therapie im Jahr 2006, nach einer Konsultation bei meinem Hausarzt wegen stressbedingter Angst im Job. Er testete meinen Testosteronwert, empfand ihn als zu niedrig und schlug vor Testosteron Gel einzusetzen. Zu dieser Zeit war ich 39. Ich habe dieses Gel ein paar Jahre eingesetzt, und die letzten Jahre habe ich mir Testosterone Cypionate selbst injiziert. Das hat sicherlich geholfen, unterstützte die Libido und meine Energie, aber ich war auch temperamentvoll und schnell aufgeregt. \n",
      "\n",
      "Mein PSA wurde eng überwacht, und mir wurde gesagt, dass das Testosteron meine Prostata vergrößern würde, womit sich der PSA-Wert erhöhen könnte. Dieser erreichte nach 6 Jahren 3,8, eine Schwelle wo einige Alarmglocken anfingen zu läuten. Ich hatte auch regelmäßig eine DRE, während ich auf Testosteronergänzung war, und das Ergebnis war stets normal bis zu diesem Zeitpunkt, wo der Urologe ein kleines Knötchen fühlte, und eine anschließende Biopsie ergab 2 von 16 positiven Stanzen mit einem Gleason von 3+4.\n",
      "\n",
      "Ich glaube, dass in meinem Fall das zusätzliche Testosteron einige sonst ruhende PCa-Zellen angetrieben und beschleunigt, sie in einen G7 Krebs verwandelt haben, bei meinem jungen Alter von 45 Jahren. Ich hatte keine familiäre Vorbelastung mit PCa, und es erscheint seltsam. Ich glaube, wenn ich den Weg der Testosteron-Therapie nicht eingeschlagen hätte, wäre meine Diagnose viele Jahre später erfolgt, oder vielleicht auch überhaupt nicht. Während ich die Jahre der Testosteron Behandlung genossen hatte, kann ich mir nicht vorstellen das in Zukunft wieder einzusetzen, aus Angst kleine mikroskopischen PCa-Zellen, die noch vorhanden sind, anzutreiben.\n",
      "\t\t\t\n",
      "\t\t\n",
      "\n",
      "Eine weitere Beobachtung betrifft hohe Werte von Dihydrotestosteron, welches aus Testosteron durch Umwandlung von Testosteron im Körper hergestellt wird. Hohe Werte von DHT schädigen die Haarwurzeln und verstärken das Aufkommen von PCa. Umwandlungsblocker (5ARIs) könnten bis zu 25% der Prostatakrebsfälle verhindern. Diese wirken aber wieder nur, wenn der Gleason Grad den Wert 6 nicht übersteigt, was sowieso eher ungefährlich wäre.\n",
      "\n",
      "Was aber tun, wenn ein behandlunsbedürftiger Krebs entstanden ist, und Primärtherapien ausgeschöpft, unmöglich oder nicht erwünscht sind? Gibt es hier ein Potential für eine Testosterontherapie?\n",
      "\n",
      "To be continued...\n",
      "\n",
      "---------------------------------------------------------------\n",
      "[1]: Gary Bellman, Testosterone not to blame for prostate cancer\n",
      "[2]: Coward, Prostate-specific antigen changes and prostate cancer in hypogonadal men treated with testosterone replacement therapy.\n",
      "[3]: powellst, HW Forum, I started testosterone replacement therapy in 2006...\n",
      "[4]: High Testosterone Linked to Prostate Cancer Risk\n",
      "[5]: arqawi & Crawford, Testosterone Replacement Therapy and the Risk of Prostate Cancer. Is There a Link?\n",
      "\t\t\t\t \n",
      "\n",
      "\n",
      "Title: Viagra, Cialis u.s.w. Einfluss auf Tumorprogression? \n",
      "User: LowRoad \n",
      "Time: 2015-01-29 08:21:00 \n",
      "Posts: 0\n",
      "URL: http://forum.prostatakrebs-bps.de/showthread.php?6220-Viagra-Cialis-u-s-w-Einfluss-auf-Tumorprogression/page2 \n",
      "\n",
      "\t\t\t\t\tIn einer retrospektiven Bewertung der Health Professionals' Follow-up Study (HPFS) von 25848 Männern, die zwischen den Jahren 2000 und 2010 den PDE5 Hemmer Sildenafil regelmäßig eingenommen hatten, konnte etwa eine Verdopplung der Hautkrebshäufigkeit beobachtet werden. In der Bewertung dieser Daten wird empfohlen älteren Männern, die ein PDE5 Blocker einsetzen auf Anzeichen von Hautkrebs hin zu untersuchen.\n",
      "\n",
      "Wie jede retrospektive Studie, ist auch diese nicht mit abschließender Evidenz belegt – weitere Forschung wäre wünschenswert.\n",
      "\t\t\t\t \n",
      "\n",
      "\n",
      "Title: Jetzt medikamentöse Therapie ? \n",
      "User: Gabriele \n",
      "Time: 2013-05-16 07:36:00 \n",
      "Posts: 19\n",
      "URL: http://forum.prostatakrebs-bps.de/showthread.php?7929-Jetzt-medikament%C3%B6se-Therapie \n",
      "\n",
      "\t\t\t\t\tLiebe Mitglieder,\n",
      "\n",
      "Ihr seht den Verlauf meines Mannes in den vorherigen Beiträgen.\n",
      "BEi wieder steigenden PSA von zuletzt 0,211 etnschloss man sich zur Bestrahlung.\n",
      "Ihr alle hattet es auch geraten.\n",
      "März bis MAi 2012 wurde eine Radiotherapie mit 68 Gy durchgeführt und der PSA sank bis zum Dezember 2012 auf 0,086.\n",
      "Jetzt, genau 1 JAhr nach Bestrahlungsende beträgt er 0,1.\n",
      "Wie muss man das bewerten ?\n",
      "Vielen Dank für Eure Enschätzung.\n",
      "Gabriele\n",
      "\t\t\t\t \n",
      "\n",
      "\n",
      "Title: Hormonblockade Testo bei 0,18 aber PSA fällt nur noch minimal \n",
      "User: Matthias_K \n",
      "Time: 2016-05-22 21:12:00 \n",
      "Posts: 1\n",
      "URL: http://forum.prostatakrebs-bps.de/showthread.php?9467-Hormonblockade-Testo-bei-0-18-aber-PSA-f%C3%A4llt-nur-noch-minimal \n",
      "\n",
      "\t\t\t\t\tHallo,\n",
      "\n",
      "ich bekomme nach RPE und Strahlentherapie eine Trenantone Drei-Monatsspritze zwecks Hormonblockade (Rezidiv metastasierter Gleason 9, VZ zuletzt unter 3 Wochen). Der PSA-Level ist anfänglich der Hormonblockade binnen eines Monats von 5.x auf 1,6 gefallen - und danach im folgenden Monat auf 0,49. Leider fiel der PSA-Level vom besagten Wert 0,49 nur noch auf 0,3 - in ganzen 7 Wochen. Der Testosteronwert fiel anfänglich bereits rasant auf 0,21 und liegt jetzt bei 0,18.\n",
      "\n",
      "Ich frage mich, ob der Wechsel von Trenantone auf Eligard ein weiteres deutlicheres Fallen begünstigen würde. Wer hat Erfahrungen mit dem Wechsel?\n",
      "\n",
      "Ich frage mich, ob ich nicht zusätzlich Finasterid zu mir nehmen sollte, u. o. Bicalutamid.\n",
      "\n",
      "Bin ich zu nervös und sollte einfach noch ein paar Monate abwarten?\n",
      "---\n",
      "\n",
      "Ich glaube, dass im gleichen Atemzug wie der PSA-Level sinkt, gleichzeitig bei meiner VZ von unter 3 Wochen im gleichen Zeitraum leider auch immer schön was nachwächst. Vielleicht fällt daher der PSA-Level nur noch langsam?\n",
      "\n",
      "Besten Dank für Eure Erfahrungen und Grüße von Matthias\n",
      "\t\t\t\t \n",
      "\n",
      "\n",
      "Title: Lycopene, Selenium, and Green Tea Catechins - safety concerns \n",
      "User: LowRoad \n",
      "Time: 2015-04-27 09:59:00 \n",
      "Posts: 4\n",
      "URL: http://forum.prostatakrebs-bps.de/showthread.php?8919-Lycopene-Selenium-and-Green-Tea-Catechins-safety-concerns \n",
      "\n",
      "HINTERGRUND\n",
      "Die antioxidative Wirkung zur Chemoprävention bei Prostatakrebs (PCA) wurde, vor allem nach den jüngsten Ergebnissen der Selen und Vitamin E Cancer Prevention Studie, in Frage gestellt. Wir präsentieren hier die Ergebnisse einer verblindeten, randomisierten und prospektiven Studie welche die Pharmakokinetik sowie die klinische und molekulare Aktivität der Nahrungsergänzungsmittel Lycopin, Selen und Grüntee-Catechine (GTC) bei Männern mit Prostata-multifokaler hochgradiger intraepitheliale Neoplasie (HGPIN ) und/oder Atypische mikroazinäre Proliferation (ASAP) untersucht hat.\n",
      " \n",
      "METHODEN\n",
      "Von 2009 bis 2014 haben wir eine entsprechende Studie mit 60 Patienten mit primärer HGPIN und/oder ASAP durchgeführt, die über 6 Monate täglich 35mg Lycopin + 55µG Selen + 600mg GTC oder Placebos erhielten. Die pharmakokinetische Analyse wurde mit spektrophotometrischen Tests im Standard- oder beschleunigten Verfahren durchgeführt. Patienten mit einer Plasma Lycopinkonzentrationen im erwarteten Bereich (1,2-90 µg/l) und ohne größer Grad 1 Nebenwirkungen, wurden in die Phase-II überführt (n = 50). Nach der Entblindung der Ergebnisse wurden bei acht zufällig ausgewählten Männer (4 pro Arm, 2 ohne und 2 mit PCA)  die RNA aus \"nicht-pathologischen\" Geweben extrahiert. Ein Micro RNA Profiling wurde mit der Agilent-Plattform durchgeführt.\n",
      "\n",
      "ERGEBNISSE\n",
      "Die Proben, mit Ausnahme von Lycopin, wo eine signifikante Konzentrationsabnahme eintrat, zeigten sich stabil. Lycopin wurde deshalb in einer lichtgeschützten Verpackung unter Vakuum stabilisiert. Die mittlere Lycopin Plasma-Konzentration betrug 1,45±0,4µM. Nach 6 Monaten wurde bei 53 Männern eine Wiederholungsbiopsie durchgeführt, wobei bei 13 Männern (24,5%) PCA diagnostiziert wurde, 10 im Ergänzungsarm und 3 im Placeboarm der Studie. Bei einer mittleren Nachbeobachtungszeit von 37 Monaten wurden 3 zusätzliche Prostatakrebse in der Placebo-Gruppe gefunden. Es konnten keine signifikanten Unterschiede bei PSA, IPSS (International Prostate Symptom Score) und PR25 (Quality of Life Questionnaire) Fragebögen beobachtet werden. Eine verstärkte Beeinflussung der microRNAs war in den Wiederholungsbiopsien nur bei der Ergänzungs Gruppe im Vergleich zur Placebo Gruppe nachweisbar:\n",
      "\n",
      "Überexpression von microRNA in PCA- gegenüber normalem Gewebe;Unterexpression von PCA unterdrücken microRNAs;Nachweis von 35 microRNAs in PCA-Patienten im Vergleich zu krankheitsfreien Männer, darunter Androgen-regulierende microRNAs, wie miR-125b-5p und PTEN miR-92a-3P (beide hochreguliert).\n",
      "\n",
      "FAZIT\n",
      "Verabreichung hoher Dosen von Lycopin, Grüntee-Catechine und Selen bei Männern mit HGPIN und/oder ASAP ist mit einer höheren Inzidenz von Prostatakrebs in Wiederholungsbiopsien assoziiert. Ebenso erscheint die Expression von PCA Progressionsfördernden microRNAs bei molekularer Analyse erhöht. Die Verwendung dieser Zusätze sollte deshalb vermieden werden. \n",
      "\n",
      "\n",
      "Not all research provides the outcomes we want to hear, but we need to know all the facts. \n",
      "\n",
      "----------------------------------------------------------------------------------------------------\n",
      "[1]: A randomized double-blind placebo controlled phase I–II study on clinical and molecular effects of dietary supplements in men with precancerous prostatic lesions. Chemoprevention or “chemopromotion”?\n",
      "\t\t\t\t \n",
      "\n",
      "\n",
      "Title: Tumorformationen Nierenbecken, Nierenvene und Ausbreitung Nebennierenloge \n",
      "User: Hirschkäfer \n",
      "Time: 2016-01-08 14:13:00 \n",
      "Posts: 4\n",
      "URL: http://forum.prostatakrebs-bps.de/showthread.php?9264-Tumorformationen-Nierenbecken-Nierenvene-und-Ausbreitung-Nebennierenloge \n",
      "\n",
      "\t\t\t\t\tLiebe Mitglieder, \n",
      "\n",
      "vielleicht kann mir hierzu jemand etwas berichten,...... hab ein CT machen lassen, es heißt:\n",
      "Tumorformationen Nierenbecken, Nierenvene und Ausbreitung Nebennierenloge. \n",
      "Mache grade eine Chemotherapie, aber der PSA sinkt nicht, ist bei 11. Warum schafft diese Chemodocetaxel das denn nicht? Ich habe jetzt die 6. Behandlung.\n",
      "Der Krebs soll vom Prostatakrebs kommen, aber wie kann ICH da sicher sein??????\n",
      "Tut mir leid, wenn ich vielleicht ungenau schreibe, aber man muss ja ALLES erst einmal verdauen und weiß gar nicht so gut Bescheid!!! Deswegen bin ich ja hier. \n",
      "\n",
      "\n",
      "Kennt hier jemand so einen Fall und was evtl. zu tun ist? Ich bin immer dankbar für jeden Hinweis, also dann danke und herzlicher Gruss Hannes.\n",
      "\t\t\t\t \n",
      "\n",
      "\n",
      "Title: Dronabinol \n",
      "User: Briele \n",
      "Time: 2012-08-19 22:10:00 \n",
      "Posts: 0\n",
      "URL: http://forum.prostatakrebs-bps.de/showthread.php?7400-Dronabinol/page2 \n",
      "\n",
      "\t\t\t\t\tHallo Hvielemi,\n",
      "\n",
      "ein Ausflug nach Österreich lohnt nicht immer, kann aber schon auch nett sein.\n",
      "Ergänzend zu meiner Bemerkung, daß in Österreich Dronabinol verschrieben wird, möchte ich vor Deiner Reise aber schnell die Information hinterher schicken, daß dies (soweit ich darüber gehört habe) vom Krankenhaus aus geschah, in dem die Patienten länger bekannt waren, Behandlungen hatten - auch die Schmerztherapie betreffend.\n",
      "\n",
      "Grüße Briele\n",
      "\t\t\t\t \n",
      "\n",
      "\n",
      "Title: NW einer PSMA-Radiorezeptorligandentherapie \n",
      "User: helmut (i) \n",
      "Time: 2016-01-10 14:39:00 \n",
      "Posts: 3\n",
      "URL: http://forum.prostatakrebs-bps.de/showthread.php?9266-NW-einer-PSMA-Radiorezeptorligandentherapie \n",
      "\n",
      "  Hallo Forum!\n",
      "\n",
      "  Wie schon öfters geschehen, suche ich Rat zur Situation meines Bruders.\n",
      "\n",
      "  Nach RPE, RT, HB, Xtandi zeigte eine vor wenigen Tagen durchgeführte PSMA-PET-CT erneute Aktivität einer bereits vor 2 Jahren bestrahlten Beckenmetastase. Sein Urologe rät zur Durchführung einer PSMA-Radiorezeptorligandentherapie in Heidelberg.\n",
      "\n",
      "  Mit ist von anderen Forumsmitgliedern bekannt, dass diese Therapie u.a. eine Schädigung von Speichel- und Tränendrüsen bewirkt.\n",
      "\n",
      "  Meine Frage: Gibt es irgendwelche vorbeugenden oder begleitenden Maßnahmen, um diese NW zu minimieren? \n",
      "\n",
      "  Danke für hilfreiche Hinweise\n",
      "  Helmut\n",
      "\n",
      " \n",
      "\n",
      "\n",
      "Title: Testosteron and Prostate-Cancer \n",
      "User: LowRoad \n",
      "Time: 2013-11-29 10:46:00 \n",
      "Posts: 0\n",
      "URL: http://forum.prostatakrebs-bps.de/showthread.php?8177-Testosteron-and-Prostate-Cancer/page2 \n",
      "\n",
      "\n",
      "\n",
      "\n",
      "\n",
      "\n",
      " Zitat von Harald_1933\n",
      "\n",
      "\n",
      "...ich habe meiner Frau in's Ohr geflüstert, 90 werden zu wollen...\n",
      "\n",
      "\n",
      "Ich hoffe aber jetzt mal, dass das nicht das einzige war, was du deiner Frau ins Ohr geflüstert hast!? Bei solchen Gelegenheiten sollte man sich immer den alten Journalistenspruch zu Herzen nehmen:\n",
      "\n",
      "\"Don’t make it too long and make it somewhat sexy\"\n",
      " \n",
      "\n",
      "\n",
      "Title: Viagra, Cialis u.s.w. Einfluss auf Tumorprogression? \n",
      "User: buschreiter \n",
      "Time: 2016-02-15 19:05:00 \n",
      "Posts: 0\n",
      "URL: http://forum.prostatakrebs-bps.de/showthread.php?6220-Viagra-Cialis-u-s-w-Einfluss-auf-Tumorprogression/page3 \n",
      "\n",
      "\n",
      "\n",
      "\n",
      "\n",
      "\n",
      " Zitat von W.Rellok\n",
      "\n",
      "\n",
      "Lieber Marc,\n",
      "\n",
      "deine Antwort auf LowRoad\n",
      "\n",
      "möchte ich soweit ergänzen, dass PKV Kassen durchaus zur Erstattung bereit sind, wenn es sich bei der Anwendung um eine \"krankheitsbezogene\" Anwendung handelt.\n",
      "Bei den gesetzlichen Kassen GKV dürfte es Widerstand geben: BSG, Urteil vom 10. 5. 2005 – B 1 KR 25/03 R.\n",
      "\n",
      "Winfried\n",
      "\n",
      "\n",
      "So auch meine PKV: Aus Kulanzgründen würden 4 Tabletten Cialis pro Monat erstattet. Die Beihilfe zählt nix...lediglich die 5 mg Cialis bei BPH (was mich ehrlich gesagt sehr wundert;-))\n",
      "\t\t\t\t \n",
      "\n",
      "\n",
      "Title: Wunderstoff in Rotwein entzaubert \n",
      "User: Harald_1933 \n",
      "Time: 2014-07-23 17:39:00 \n",
      "Posts: 6\n",
      "URL: http://forum.prostatakrebs-bps.de/showthread.php?8493-Wunderstoff-in-Rotwein-entzaubert \n",
      "\n",
      "\t\t\t\t\tNachfolgend einige Links zum Thema:\n",
      "\n",
      "http://www.spiegel.de/gesundheit/ern...-a-969089.html\n",
      "http://www.t-online.de/lifestyle/ges...in-mythos.html\n",
      "http://article.wn.com/view/2014/05/1..._entzaubern_R/\n",
      "http://www.mayamedia.de/b/6/651/der-...ocation_id=651\n",
      "\n",
      "Der feste Glaube an etwas versetzt Voreingenommenheit und Miesmacherei in die unterste Schublade. Ich lasse mich von meiner sehr persönlichen Ansicht zum Wirken des mir täglich gut bekommenden Rotweins nicht durch Zweifler und Ignoranten vom Glauben an der Wirksamkeit abbringen. Und wenn es letztendlich ein Irrglaube gewesen sein sollte, so kann mir niemand mehr den täglichen Genuss eines guten Rotweines am Ende meines Lebens vermiesen, denn ich habe es genossen, und das hat mir neben anderen wichtigen täglichen Lebensabläufen geholfen, das Leben auch im Alter als erträglich zu empfinden.\n",
      "\n",
      "\"Man führt gegen den Wein nur die bösen Taten an, zu denen er verleitet, allein er verleitet auch zu hundert guten, die nicht so bekannt werden\"\n",
      "(Georg Christoph Lichtenberg)\n",
      "\n",
      "Gruß Harald\n",
      "\t\t\t\t \n",
      "\n"
     ]
    }
   ],
   "source": [
    "\n",
    "thread = session.query(Thread).all()\n",
    "print(len(thread))\n",
    "#print(len(thread.posts))\n",
    "for x in range(1,20):\n",
    "    print(thread[x])"
   ]
  },
  {
   "cell_type": "code",
   "execution_count": null,
   "metadata": {
    "collapsed": true
   },
   "outputs": [],
   "source": []
  },
  {
   "cell_type": "code",
   "execution_count": 7,
   "metadata": {
    "collapsed": true
   },
   "outputs": [],
   "source": [
    "for x in range(1,20):\n",
    "    thread[x].body"
   ]
  },
  {
   "cell_type": "code",
   "execution_count": 2,
   "metadata": {
    "collapsed": false
   },
   "outputs": [
    {
     "name": "stdout",
     "output_type": "stream",
     "text": [
      "7\n",
      " \n",
      "I am having a very nice day.\n"
     ]
    }
   ],
   "source": [
    "import re\n",
    "line = \" \\nI am having a very nice day.\"\n",
    "count = len(re.findall(r'\\w+', line))\n",
    "print (count)\n",
    "print (line)"
   ]
  },
  {
   "cell_type": "code",
   "execution_count": 3,
   "metadata": {
    "collapsed": true
   },
   "outputs": [],
   "source": [
    "def word_count(doc):\n",
    "    count = len(re.findall(r'\\w+', doc))\n",
    "    return count"
   ]
  },
  {
   "cell_type": "code",
   "execution_count": 35,
   "metadata": {
    "collapsed": false
   },
   "outputs": [],
   "source": [
    "thread = session.query(Thread).get(0)"
   ]
  },
  {
   "cell_type": "code",
   "execution_count": 37,
   "metadata": {
    "collapsed": false
   },
   "outputs": [
    {
     "data": {
      "text/plain": [
       "NoneType"
      ]
     },
     "execution_count": 37,
     "metadata": {},
     "output_type": "execute_result"
    }
   ],
   "source": [
    "type(thread)"
   ]
  },
  {
   "cell_type": "code",
   "execution_count": 10,
   "metadata": {
    "collapsed": false
   },
   "outputs": [
    {
     "data": {
      "text/plain": [
       "[\n",
       " User: Newton451 \n",
       " Time: 2016-07-29 07:55:00 \n",
       " Thread: Do you have a favorite saying? \n",
       " Order: None \n",
       " URL: http://www.healingwell.com/community/default.aspx?f=35&m=3674693 \n",
       " Everywhere ya go.....there ya are!\n",
       " \n",
       " I know you think you understand what you think I said, but what you heard isn't really what I meant. ,\n",
       " \n",
       " User: alephnull \n",
       " Time: 2016-07-29 08:16:00 \n",
       " Thread: Do you have a favorite saying? \n",
       " Order: None \n",
       " URL: http://www.healingwell.com/community/default.aspx?f=35&m=3674693 \n",
       " It ain't over till it's over ,\n",
       " \n",
       " User: 81GyGuy \n",
       " Time: 2016-07-29 08:22:00 \n",
       " Thread: Do you have a favorite saying? \n",
       " Order: None \n",
       " URL: http://www.healingwell.com/community/default.aspx?f=35&m=3674693 \n",
       " \"Live above cancer.\"\n",
       " \n",
       " From a post entered here on this very forum not long ago. (By MsWorryWart, if memory serves).\n",
       " \n",
       " Well, maybe it's more of a motto than a saying, but it sure is relevant. ,\n",
       " \n",
       " User: Herophilus \n",
       " Time: 2016-07-29 08:34:00 \n",
       " Thread: Do you have a favorite saying? \n",
       " Order: None \n",
       " URL: http://www.healingwell.com/community/default.aspx?f=35&m=3674693 \n",
       " res ipsa loquitur (the facts speak for themselves) ,\n",
       " \n",
       " User: JackH \n",
       " Time: 2016-07-29 08:38:00 \n",
       " Thread: Do you have a favorite saying? \n",
       " Order: None \n",
       " URL: http://www.healingwell.com/community/default.aspx?f=35&m=3674693 \n",
       " Spelling is difficoult chalanging hard. ,\n",
       " \n",
       " User: JamesE \n",
       " Time: 2016-07-29 08:42:00 \n",
       " Thread: Do you have a favorite saying? \n",
       " Order: None \n",
       " URL: http://www.healingwell.com/community/default.aspx?f=35&m=3674693 \n",
       " I'm sure I will think of others but these first come to mind:\n",
       " \n",
       " The Nike Phrase 'Just do it' has always been good for me especially since I am self-employed. Plenty of times I'm just exhausted from work and don't want to call that customer or face that complaint or put in that extra hard day and I've had to learn to put it all aside and just get things done. It carries over in most parts of my life as well and of course doing what needed to get done for this PC deal. I come from a background of procrastinators so motivation had to be self taught.\n",
       " \n",
       " On a silly note when I was a bit younger and in a silly mood with my significant other and in the middle of some intimate relations I would sometimes use the self made line (sadly, lol) 'I'm as hard as a rock so why don't you romance the stone\". It never went over well but I really amused myself. (Romancing the Stone was an old Michael Douglas/ Kathleen Turner movie; boy was she sweet) My current girlfriend of 16 years had to put up with that line earlier in our relationship but of course I could not use that line now circumstances being what they are. If I ever return to the 'hard as a rock' stage of recovery I look forward to using that line again and this time I think it would put a smile on my lady's face for sure.....Jim ,\n",
       " \n",
       " User: JamesE \n",
       " Time: 2016-07-29 08:47:00 \n",
       " Thread: Do you have a favorite saying? \n",
       " Order: None \n",
       " URL: http://www.healingwell.com/community/default.aspx?f=35&m=3674693 \n",
       " ps...Newton, that line is a crack up...Everywhere I go I'm there too, lol... ,\n",
       " \n",
       " User: InTheShop \n",
       " Time: 2016-07-29 09:02:00 \n",
       " Thread: Do you have a favorite saying? \n",
       " Order: None \n",
       " URL: http://www.healingwell.com/community/default.aspx?f=35&m=3674693 \n",
       " I have a ton of sayings:\n",
       " \n",
       " \"If wishes were horses, we'd need more brooms and shovels.\"\n",
       " \"If I was any better they'd arrest me.\"\n",
       " \"The moon maybe smaller than the earth, but it's further away.\"\n",
       " \"It's good to be seen.\"\n",
       " \"Any day above ground is good.\"\n",
       " \"Is it lunch time yet?\"\n",
       " \"Not all who wander are lost. Some are just looking for their glasses.\"\n",
       " \n",
       " More sayings as I think of them.\n",
       " Andrew ,\n",
       " \n",
       " User: sheepguy \n",
       " Time: 2016-07-29 09:06:00 \n",
       " Thread: Do you have a favorite saying? \n",
       " Order: None \n",
       " URL: http://www.healingwell.com/community/default.aspx?f=35&m=3674693 \n",
       " \"you can't stop what's coming,  the world ain't waitin'  on  you, to think otherwise is just vanity.\"\n",
       " \n",
       " and\n",
       " \n",
       " \"not everything turns out the way you think it should\" ,\n",
       " \n",
       " User: Newton451 \n",
       " Time: 2016-07-29 09:10:00 \n",
       " Thread: Do you have a favorite saying? \n",
       " Order: None \n",
       " URL: http://www.healingwell.com/community/default.aspx?f=35&m=3674693 \n",
       " Thanks JamesE. \n",
       " I also like to say \"The earth is flat.....but it's cut in a circle\" ,\n",
       " \n",
       " User: RCS \n",
       " Time: 2016-07-29 09:15:00 \n",
       " Thread: Do you have a favorite saying? \n",
       " Order: None \n",
       " URL: http://www.healingwell.com/community/default.aspx?f=35&m=3674693 \n",
       " \"Courage is being scarred to death but saddling up anyway\"\n",
       " John Wayne ,\n",
       " \n",
       " User: JamesE \n",
       " Time: 2016-07-29 09:19:00 \n",
       " Thread: Do you have a favorite saying? \n",
       " Order: None \n",
       " URL: http://www.healingwell.com/community/default.aspx?f=35&m=3674693 \n",
       " I also like In the  Shop's 'Not all who wander are lost. Some are just looking for their glasses' Brings a smile to my face as my Mom is just this year in a nursing home and we/she are ALWAYS looking for her glasses. And the funny part is she never wears them, they always stay in the case because she does not want to lose them, lol.\n",
       " \n",
       " All is not lost Mom, hang tough....Jim ,\n",
       " \n",
       " User: compiler \n",
       " Time: 2016-07-29 09:23:00 \n",
       " Thread: Do you have a favorite saying? \n",
       " Order: None \n",
       " URL: http://www.healingwell.com/community/default.aspx?f=35&m=3674693 \n",
       " I used to have a signature line that said:\n",
       " \n",
       " Remember, if you can keep your head/wits about you when everyone else around you is panicking...then perhaps you don't fully understand the situation\n",
       " \n",
       " Mel ,\n",
       " \n",
       " User: JamesE \n",
       " Time: 2016-07-29 09:41:00 \n",
       " Thread: Do you have a favorite saying? \n",
       " Order: None \n",
       " URL: http://www.healingwell.com/community/default.aspx?f=35&m=3674693 \n",
       " That's great Mel.... ,\n",
       " \n",
       " User: Dan0 \n",
       " Time: 2016-07-29 10:19:00 \n",
       " Thread: Do you have a favorite saying? \n",
       " Order: None \n",
       " URL: http://www.healingwell.com/community/default.aspx?f=35&m=3674693 \n",
       " All men die, not all men truly live. William Wallace\n",
       " \n",
       " or from Yogi\n",
       " We may be lost, but we're making good time.\n",
       " It gets late awful early out here.\n",
       " It's too crowded, nobody goes there anymore.\n",
       " \n",
       " I could do this for awhile, but work calls \n",
       " \n",
       " I just thought of an original that I use frequently:\n",
       " Whenever I startle someone without meaning to, I quickly reply\n",
       " \"good thing I didn't say BOO!\"\n",
       " \n",
       " \n",
       " Be Well ,\n",
       " \n",
       " User: JamesE \n",
       " Time: 2016-07-29 10:27:00 \n",
       " Thread: Do you have a favorite saying? \n",
       " Order: None \n",
       " URL: http://www.healingwell.com/community/default.aspx?f=35&m=3674693 \n",
       " My girlfriend just reminded me, when she would threaten me (yeah, she's a tough talking redhead) I would say: 'If I was wearing boots I'd be shaking in them' ,\n",
       " \n",
       " User: Bololidat \n",
       " Time: 2016-07-29 10:41:00 \n",
       " Thread: Do you have a favorite saying? \n",
       " Order: None \n",
       " URL: http://www.healingwell.com/community/default.aspx?f=35&m=3674693 \n",
       " Do at least one thing each day that you don't want to do... ,\n",
       " \n",
       " User: Biker56 \n",
       " Time: 2016-07-29 10:45:00 \n",
       " Thread: Do you have a favorite saying? \n",
       " Order: None \n",
       " URL: http://www.healingwell.com/community/default.aspx?f=35&m=3674693 \n",
       " An on-stage one liner oft recited by Keith Richards:\n",
       " \"Its great to be here, its great to be anywhere!\"\n",
       " \n",
       " The ADT lament, credit to someone on this site:\n",
       " \"I am indifferent to naked women.\" ,\n",
       " \n",
       " User: Herophilus \n",
       " Time: 2016-07-29 00:37:00 \n",
       " Thread: Do you have a favorite saying? \n",
       " Order: None \n",
       " URL: http://www.healingwell.com/community/default.aspx?f=35&m=3674693 \n",
       " work the problem people, let's don't complicate things by guessing... (Apollo 13) ,\n",
       " \n",
       " User: Tony Crispino \n",
       " Time: 2016-07-29 00:50:00 \n",
       " Thread: Do you have a favorite saying? \n",
       " Order: None \n",
       " URL: http://www.healingwell.com/community/default.aspx?f=35&m=3674693 \n",
       " Vancouver, Vancouver!  This is it! ,\n",
       " \n",
       " User: Tudpock18 \n",
       " Time: 2016-07-29 00:55:00 \n",
       " Thread: Do you have a favorite saying? \n",
       " Order: None \n",
       " URL: http://www.healingwell.com/community/default.aspx?f=35&m=3674693 \n",
       " \"Measure twice, cut once\"\n",
       " \n",
       " \"Use spell-check before hitting send\".\n",
       " \n",
       " Jim ,\n",
       " \n",
       " User: Newton451 \n",
       " Time: 2016-07-29 13:09:00 \n",
       " Thread: Do you have a favorite saying? \n",
       " Order: None \n",
       " URL: http://www.healingwell.com/community/default.aspx?f=35&m=3674693 \n",
       " Dyslexics of the world, Untie! ,\n",
       " \n",
       " User: JackH \n",
       " Time: 2016-07-29 13:10:00 \n",
       " Thread: Do you have a favorite saying? \n",
       " Order: None \n",
       " URL: http://www.healingwell.com/community/default.aspx?f=35&m=3674693 \n",
       " If you are going to have an unnecessary surgery for low-risk PC, make sure you have the very best surgeon perform it.\n",
       "  -- Dr Patrick Walsh, father of the nerve-sparing prostatectomy ,\n",
       " \n",
       " User: RandyJoe \n",
       " Time: 2016-07-29 14:34:00 \n",
       " Thread: Do you have a favorite saying? \n",
       " Order: None \n",
       " URL: http://www.healingwell.com/community/default.aspx?f=35&m=3674693 \n",
       " .....but the one who's worthwhile is the one who will smile even when his sandwich falls jelly side down - Charlie Brown.\n",
       " \n",
       " This is part of a short poem.  I can't remember the rest of if, but I always loved this line. ]"
      ]
     },
     "execution_count": 10,
     "metadata": {},
     "output_type": "execute_result"
    }
   ],
   "source": [
    "thread = session.query(Thread).filter_by(url=\"http://www.healingwell.com/community/default.aspx?f=35&m=3674693\").first()\n",
    "thread.posts[1].forum\n",
    "thread.posts"
   ]
  },
  {
   "cell_type": "code",
   "execution_count": 46,
   "metadata": {
    "collapsed": false
   },
   "outputs": [],
   "source": [
    "import csv\n",
    "with open('posts.csv', 'w') as csvfile:\n",
    "    spamwriter = csv.writer(csvfile)\n",
    "    for x in range(0,10):\n",
    "        thread = session.query(Thread).get(x+1)\n",
    "        spamwriter.writerow([thread.title, thread.timestamp, thread.body])"
   ]
  },
  {
   "cell_type": "code",
   "execution_count": 35,
   "metadata": {
    "collapsed": true
   },
   "outputs": [],
   "source": [
    "from bs4 import BeautifulSoup\n",
    "def body_parser(body):\n",
    "    if body.find('<hr class=\"PostHR\">') != -1:\n",
    "        body = body[:body.find('<hr class=\"PostHR\">')]\n",
    "    body = body.replace(\"<br>\",\"NEWLINE\")\n",
    "    soup = BeautifulSoup(body, 'html.parser')\n",
    "    text = soup.get_text()\n",
    "    return text.replace(\"NEWLINE\", \"\\n\")"
   ]
  },
  {
   "cell_type": "code",
   "execution_count": 36,
   "metadata": {
    "collapsed": false
   },
   "outputs": [
    {
     "name": "stdout",
     "output_type": "stream",
     "text": [
      "Hi all\n",
      "\n",
      "I have been waking up with some discomfort on my right side, i believe it's my lymph node... when I feel carefully I can fill it inflamed.... my CT showed no lymph node involvement, but I'm having some considerable discomfort on the same side my cancer was found with the biopsy (R apex)... feels like a small swollen small rock.\n",
      "\n",
      "Going for my Cysto tomorrow, I think I'm going to ask my urologist about it ... has anyone else had similar symptoms?\n",
      "\n",
      "Thanks\n",
      "Zzarth\n"
     ]
    }
   ],
   "source": [
    "s = \"<div class=\\\"PostMessageBody\\\">Hi all<br><br>I have been waking up with some discomfort on my right side, i believe it's my lymph node... when I feel carefully I can fill it inflamed.... my CT showed no lymph node involvement, but I'm having some considerable discomfort on the same side my cancer was found with the biopsy (R apex)... feels like a small swollen small rock.<br><br>Going for my Cysto tomorrow, I think I'm going to ask my urologist about<strong></strong> it ... has anyone else had similar symptoms?<br><br>Thanks<br>Zzarth<hr class=\\\"PostHR\\\">6/10/16 - first ever PSA results in a 15.1<br>7/25/16 - Biopsy results in G6, 4mm 30% of tissue<br>8/1/16 - started antibiotics to rule out prostatitis  <br>8/5/16 - Hopkins Results in Upgrade to G3+4=7 (Grade group 2), 70%, 10% G4<br>8/5/16 - CT of Prostate shows no lymph node involvement<br>8/10/16 - Laid off from new job when boss learns of my cancer<br>8/17/16 - PSA tested @ 18.0</div>\"\n",
    "ss = body_parser(s)\n",
    "print(ss)"
   ]
  },
  {
   "cell_type": "code",
   "execution_count": 33,
   "metadata": {
    "collapsed": false
   },
   "outputs": [],
   "source": [
    "body = s\n",
    "body = body.replace(\"<br>\",\"NEWLINE\")\n",
    "body\n",
    "soup = BeautifulSoup(body,\"html.parser\")"
   ]
  },
  {
   "cell_type": "code",
   "execution_count": 34,
   "metadata": {
    "collapsed": false
   },
   "outputs": [
    {
     "data": {
      "text/plain": [
       "<div class=\"PostMessageBody\">Hi allNEWLINENEWLINEI have been waking up with some discomfort on my right side, i believe it's my lymph node... when I feel carefully I can fill it inflamed.... my CT showed no lymph node involvement, but I'm having some considerable discomfort on the same side my cancer was found with the biopsy (R apex)... feels like a small swollen small rock.NEWLINENEWLINEGoing for my Cysto tomorrow, I think I'm going to ask my urologist about<strong></strong> it ... has anyone else had similar symptoms?NEWLINENEWLINEThanksNEWLINEZzarth<hr class=\"PostHR\">6/10/16 - first ever PSA results in a 15.1NEWLINE7/25/16 - Biopsy results in G6, 4mm 30% of tissueNEWLINE8/1/16 - started antibiotics to rule out prostatitis  NEWLINE8/5/16 - Hopkins Results in Upgrade to G3+4=7 (Grade group 2), 70%, 10% G4NEWLINE8/5/16 - CT of Prostate shows no lymph node involvementNEWLINE8/10/16 - Laid off from new job when boss learns of my cancerNEWLINE8/17/16 - PSA tested @ 18.0</hr></div>"
      ]
     },
     "execution_count": 34,
     "metadata": {},
     "output_type": "execute_result"
    }
   ],
   "source": [
    "soup"
   ]
  },
  {
   "cell_type": "code",
   "execution_count": 12,
   "metadata": {
    "collapsed": true
   },
   "outputs": [],
   "source": [
    "import numpy as np\n",
    "y = [1,2,3,4,6]\n",
    "y_np = np.array(y)"
   ]
  },
  {
   "cell_type": "code",
   "execution_count": 8,
   "metadata": {
    "collapsed": false
   },
   "outputs": [
    {
     "data": {
      "text/plain": [
       "(array([1, 1, 2]), array([1, 2, 3, 4]))"
      ]
     },
     "execution_count": 8,
     "metadata": {},
     "output_type": "execute_result"
    }
   ],
   "source": [
    "np.histogram(y_np, np.arange(1, len(y_np)+1))"
   ]
  },
  {
   "cell_type": "code",
   "execution_count": 13,
   "metadata": {
    "collapsed": false
   },
   "outputs": [
    {
     "data": {
      "text/plain": [
       "array([0, 1, 1, 1, 1, 0, 1])"
      ]
     },
     "execution_count": 13,
     "metadata": {},
     "output_type": "execute_result"
    }
   ],
   "source": [
    "np.bincount(y_np)"
   ]
  },
  {
   "cell_type": "code",
   "execution_count": 11,
   "metadata": {
    "collapsed": false
   },
   "outputs": [
    {
     "ename": "AttributeError",
     "evalue": "'numpy.ndarray' object has no attribute 'head'",
     "output_type": "error",
     "traceback": [
      "\u001b[0;31m---------------------------------------------------------------------------\u001b[0m",
      "\u001b[0;31mAttributeError\u001b[0m                            Traceback (most recent call last)",
      "\u001b[0;32m<ipython-input-11-3bb874d5dd53>\u001b[0m in \u001b[0;36m<module>\u001b[0;34m()\u001b[0m\n\u001b[0;32m----> 1\u001b[0;31m \u001b[0my_np\u001b[0m\u001b[0;34m.\u001b[0m\u001b[0mhead\u001b[0m\u001b[0;34m\u001b[0m\u001b[0m\n\u001b[0m",
      "\u001b[0;31mAttributeError\u001b[0m: 'numpy.ndarray' object has no attribute 'head'"
     ]
    }
   ],
   "source": []
  },
  {
   "cell_type": "code",
   "execution_count": 17,
   "metadata": {
    "collapsed": false
   },
   "outputs": [],
   "source": [
    "import numpy as np\n",
    "thread = session.query(Thread).get(8)\n",
    "post_timestamps = np.array([post.timestamp for post in thread.posts], dtype='datetime64')"
   ]
  },
  {
   "cell_type": "code",
   "execution_count": 18,
   "metadata": {
    "collapsed": false
   },
   "outputs": [
    {
     "data": {
      "text/plain": [
       "array(['2016-08-10T01:02:00', '2016-08-10T01:09:00', '2016-08-10T02:49:00',\n",
       "       '2016-08-10T03:10:00', '2016-08-10T03:44:00', '2016-08-10T05:41:00',\n",
       "       '2016-08-10T05:54:00', '2016-08-10T07:01:00', '2016-08-10T08:16:00',\n",
       "       '2016-08-10T08:20:00', '2016-08-10T09:07:00', '2016-08-10T09:39:00',\n",
       "       '2016-08-10T10:06:00', '2016-08-10T10:08:00', '2016-08-10T10:30:00',\n",
       "       '2016-08-10T10:34:00', '2016-08-10T11:14:00', '2016-08-10T11:47:00',\n",
       "       '2016-08-10T00:13:00', '2016-08-10T00:14:00', '2016-08-10T17:02:00',\n",
       "       '2016-08-10T17:41:00', '2016-08-10T19:07:00', '2016-08-10T20:45:00',\n",
       "       '2016-08-11T12:06:00', '2016-08-11T12:36:00', '2016-08-11T08:24:00',\n",
       "       '2016-08-11T21:07:00', '2016-08-12T21:03:00', '2016-08-13T20:57:00',\n",
       "       '2016-08-14T02:05:00', '2016-08-14T08:59:00'], dtype='datetime64[s]')"
      ]
     },
     "execution_count": 18,
     "metadata": {},
     "output_type": "execute_result"
    }
   ],
   "source": [
    "post_timestamps"
   ]
  },
  {
   "cell_type": "code",
   "execution_count": 10,
   "metadata": {
    "collapsed": false
   },
   "outputs": [
    {
     "data": {
      "text/plain": [
       "numpy.datetime64('2016-08-29T00:55:00')"
      ]
     },
     "execution_count": 10,
     "metadata": {},
     "output_type": "execute_result"
    }
   ],
   "source": [
    "min(post_timestamps)"
   ]
  },
  {
   "cell_type": "code",
   "execution_count": 19,
   "metadata": {
    "collapsed": false
   },
   "outputs": [
    {
     "data": {
      "text/plain": [
       "[\n",
       " User: island time \n",
       " Time: 2016-08-10 01:02:00 \n",
       " Thread: Against all odds \n",
       " Order: None \n",
       " URL: http://www.healingwell.com/community/default.aspx?f=35&m=3680792 \n",
       " That's what I'm talking about !!\n",
       " \n",
       " Smile , \n",
       " User: Maryanddan \n",
       " Time: 2016-08-10 01:09:00 \n",
       " Thread: Against all odds \n",
       " Order: None \n",
       " URL: http://www.healingwell.com/community/default.aspx?f=35&m=3680792 \n",
       " Congratulations! What wonderful news! It provides much needed encouragement as Dan's PSA continues to rise throughout taxotere treatments. I showed him your history of treatments just today so he'd realize there are still many options. Thanks for sharing. Mary , \n",
       " User: CaliJR \n",
       " Time: 2016-08-10 02:49:00 \n",
       " Thread: Against all odds \n",
       " Order: None \n",
       " URL: http://www.healingwell.com/community/default.aspx?f=35&m=3680792 \n",
       " Wow Beth, that is a great update!  I wish you and Gary continued success with the new treatments.  Take care! -JR , \n",
       " User: Tall Allen \n",
       " Time: 2016-08-10 03:10:00 \n",
       " Thread: Against all odds \n",
       " Order: None \n",
       " URL: http://www.healingwell.com/community/default.aspx?f=35&m=3680792 \n",
       " Who would have thunk it! An old drug like mitoxantrone! It teaches me a lesson that I keep learning over and over again: statistics only predict for the group as a whole -- not for the individual. I wonder, too, if the spironolactone played a role. It's an old steroidal androgen receptor antagonist and it's a 17.20-lyase inhibitor (like Zytiga and galeterone). It is also a partial androgen agonist, which may help keep the receptors from becoming totally androgen independent. And it's an estrogen enhancer - estrogen is also an old drug for PC that's getting a second look. Whatever worked -- we'll take it! Great news!\n",
       " \n",
       " - Allen , \n",
       " User: SueCAll \n",
       " Time: 2016-08-10 03:44:00 \n",
       " Thread: Against all odds \n",
       " Order: None \n",
       " URL: http://www.healingwell.com/community/default.aspx?f=35&m=3680792 \n",
       " What wonderful news, Beth! I'm smiling from ear to ear for both of you. Wishing you continued success! Sue , \n",
       " User: montee \n",
       " Time: 2016-08-10 05:41:00 \n",
       " Thread: Against all odds \n",
       " Order: None \n",
       " URL: http://www.healingwell.com/community/default.aspx?f=35&m=3680792 \n",
       " That's a fighter right there.  Like Valvano said, \"never give up, never give up\"\n",
       " \n",
       " Ron , \n",
       " User: DYank \n",
       " Time: 2016-08-10 05:54:00 \n",
       " Thread: Against all odds \n",
       " Order: None \n",
       " URL: http://www.healingwell.com/community/default.aspx?f=35&m=3680792 \n",
       " Such good news!  You both are so brave and determined--that's inspirational for me.  Blessings to you both! , \n",
       " User: don826 \n",
       " Time: 2016-08-10 07:01:00 \n",
       " Thread: Against all odds \n",
       " Order: None \n",
       " URL: http://www.healingwell.com/community/default.aspx?f=35&m=3680792 \n",
       " Beth,\n",
       " \n",
       " This is great. I think sometimes we are too quick to abandon the old meds in favor of the new. Another old med that doctors will not use is DES. Was once the standard for PCa. Reading your story makes me feel a bit sheepish for my own complaining over the weekend. I wish you and Gary the best of results. He is a trooper.\n",
       " \n",
       " Don , \n",
       " User: RandyJoe \n",
       " Time: 2016-08-10 08:16:00 \n",
       " Thread: Against all odds \n",
       " Order: None \n",
       " URL: http://www.healingwell.com/community/default.aspx?f=35&m=3680792 \n",
       " Oh, Beth,\n",
       " \n",
       " That's awesome.  I'll be praying for your continued success; for PSA values spiraling downward and for Gary to pack on the pounds!\n",
       " \n",
       " Donna. , \n",
       " User: BillyBob@388 \n",
       " Time: 2016-08-10 08:20:00 \n",
       " Thread: Against all odds \n",
       " Order: None \n",
       " URL: http://www.healingwell.com/community/default.aspx?f=35&m=3680792 \n",
       " HooooooRayyyyyyy! An oldie but goodie!   , \n",
       " User: InTheShop \n",
       " Time: 2016-08-10 09:07:00 \n",
       " Thread: Against all odds \n",
       " Order: None \n",
       " URL: http://www.healingwell.com/community/default.aspx?f=35&m=3680792 \n",
       " Great news!.\n",
       " \n",
       " Keep it going,\n",
       " Andrew , \n",
       " User: john16 \n",
       " Time: 2016-08-10 09:39:00 \n",
       " Thread: Against all odds \n",
       " Order: None \n",
       " URL: http://www.healingwell.com/community/default.aspx?f=35&m=3680792 \n",
       " That's awesome.  So happy for you. , \n",
       " User: Micah68 \n",
       " Time: 2016-08-10 10:06:00 \n",
       " Thread: Against all odds \n",
       " Order: None \n",
       " URL: http://www.healingwell.com/community/default.aspx?f=35&m=3680792 \n",
       " FANTASTIC!\n",
       " \n",
       " Mike , \n",
       " User: Pratoman \n",
       " Time: 2016-08-10 10:08:00 \n",
       " Thread: Against all odds \n",
       " Order: None \n",
       " URL: http://www.healingwell.com/community/default.aspx?f=35&m=3680792 \n",
       " What an amazing result. So happy for you both, and hoping the trend continues. Nothing is impossible. My mothers favorite saying was \"where there's life, there's hope\" , \n",
       " User: Michael_T \n",
       " Time: 2016-08-10 10:30:00 \n",
       " Thread: Against all odds \n",
       " Order: None \n",
       " URL: http://www.healingwell.com/community/default.aspx?f=35&m=3680792 \n",
       " Fantastic news to someone that really deserves it! Great, great, great!!!! , \n",
       " User: rockyfords \n",
       " Time: 2016-08-10 10:34:00 \n",
       " Thread: Against all odds \n",
       " Order: None \n",
       " URL: http://www.healingwell.com/community/default.aspx?f=35&m=3680792 \n",
       " Beth and Gary-\n",
       " \n",
       " such fantastic news! thank you for sharing! \n",
       " what a remarkable outcome from \"ancient\" therapy.\n",
       " wishing you oh so much comfort and QOL...\n",
       " \n",
       " rf , \n",
       " User: ISU-CycloneFan \n",
       " Time: 2016-08-10 11:14:00 \n",
       " Thread: Against all odds \n",
       " Order: None \n",
       " URL: http://www.healingwell.com/community/default.aspx?f=35&m=3680792 \n",
       " Dear Beth and Gary ~\n",
       " \n",
       " Summer day and time to do some CELEBRATING, I say !   I'm giving true thanks RIGHT NOW !\n",
       " \n",
       " I'll tell you the truth --- I've been taking early morning walks this summer, and I always pray for my \"Healing Well BROTHERS and SISTERS\" and I had just been thinking of you both while I was walking this morning ---\n",
       " \n",
       " Got back from my walk  --- and then saw your message.  Truly thankful for both of you !\n",
       " \n",
       " I know you have had setbacks along the way ... most of us have, I guess, in some form or another ... but what is really meaningful to ALL OF US is that you keep finding SUCCESSES, even after the setbacks.\n",
       " \n",
       " Both of you are a true testament to the idea of living life each day and FACING FORWARD ... with determination, fortitude, and courage ... \n",
       " \n",
       " In terms of treatments ... I know it's been a long and winding road ... but your ongoing story is truly inspirational and it gives all of us hope that other approaches and other medications and other treatments CAN MAKE A DIFFERENCE.   \n",
       " \n",
       " More than that, your STORY makes a difference ... SHARING your story, as you have continued to do over time.   That's giving hope to others  ... \n",
       " \n",
       " It's a nice summer day, Beth and Gary ... I'm going to take your online \"pen name\" and \"CELEBRATE LIFE\" today ---  and hope you do the same !\n",
       " \n",
       " Thanks for your friendship over time --- you have my unwavering support, each and every day !\n",
       " \n",
       " \"CYCLONE TEAM FAN\" ~ Hoping For Some Team VICTORIES In The Upcoming Football Season ! , \n",
       " User: ziggymonster \n",
       " Time: 2016-08-10 11:47:00 \n",
       " Thread: Against all odds \n",
       " Order: None \n",
       " URL: http://www.healingwell.com/community/default.aspx?f=35&m=3680792 \n",
       " Beth, that is indeed good news....it will make my day a bit brighter.I was supposed to do cycle 6 today but ended up in the hospital for the last 4 days with a bowel obstruction...NG tube !!!! Onc says I'm l not well enough for this cycle, but your news will make the day better. , \n",
       " User: Bololidat \n",
       " Time: 2016-08-10 00:13:00 \n",
       " Thread: Against all odds \n",
       " Order: None \n",
       " URL: http://www.healingwell.com/community/default.aspx?f=35&m=3680792 \n",
       " Thank you!! , \n",
       " User: Faustmann \n",
       " Time: 2016-08-10 00:14:00 \n",
       " Thread: Against all odds \n",
       " Order: None \n",
       " URL: http://www.healingwell.com/community/default.aspx?f=35&m=3680792 \n",
       " What uplifting news!  Gary is a true warrior.  I am happy about the positive news you shared with us. , \n",
       " User: F8 \n",
       " Time: 2016-08-10 17:02:00 \n",
       " Thread: Against all odds \n",
       " Order: None \n",
       " URL: http://www.healingwell.com/community/default.aspx?f=35&m=3680792 \n",
       " Gary is THEE MAN  !\n",
       " \n",
       " ed , \n",
       " User: nepol \n",
       " Time: 2016-08-10 17:41:00 \n",
       " Thread: Against all odds \n",
       " Order: None \n",
       " URL: http://www.healingwell.com/community/default.aspx?f=35&m=3680792 \n",
       " Beth & Gary what a man what a woman what a team !! pulling off the wall! I am so happy for you finally getting good news.This is an inspiration to all fighters stay safe NEPOL , \n",
       " User: 1snake \n",
       " Time: 2016-08-10 19:07:00 \n",
       " Thread: Against all odds \n",
       " Order: None \n",
       " URL: http://www.healingwell.com/community/default.aspx?f=35&m=3680792 \n",
       " Absolutely fantastic!! Made my day! Strength and courage to you both. , \n",
       " User: Tim G \n",
       " Time: 2016-08-10 20:45:00 \n",
       " Thread: Against all odds \n",
       " Order: None \n",
       " URL: http://www.healingwell.com/community/default.aspx?f=35&m=3680792 \n",
       " Wow, this is really good news! , \n",
       " User: celebrate life \n",
       " Time: 2016-08-11 12:06:00 \n",
       " Thread: Against all odds \n",
       " Order: None \n",
       " URL: http://www.healingwell.com/community/default.aspx?f=35&m=3680792&p=2 \n",
       " Thank you all so very much for all the well wishes, thoughts and continued prayers.\n",
       " @ Maryanddan...yours was a tough dx, but YES, lots more tx options.  Have faith and hope.  Sending healing thoughts Dan's way.\n",
       " @Ziggy monster..so sorry to hear that you had to be back in hospital.  I think of you often and I hope your stay there is short lived. You deserve a break and I hope you get one very soon.  Best wishes for better days, Ziggy. \n",
       " Beth n Gary\n",
       " PS.  T.A. I read your post to Gary.  He didn't understand it like I did, but he appreciated knowing that our doc in the sticks here is on the right track most of the time.\n",
       "    , \n",
       " User: Wings of Eagles \n",
       " Time: 2016-08-11 12:36:00 \n",
       " Thread: Against all odds \n",
       " Order: None \n",
       " URL: http://www.healingwell.com/community/default.aspx?f=35&m=3680792&p=2 \n",
       " Beth and Gary\n",
       " That is indeed very good news and very encouraging. Been thinking about you two a lot lately, and praying also. You are both great role models. Keep up the fight and as always, keep the Faith!\n",
       " \n",
       " Wings\n",
       " \n",
       " PS -I have always loved your log in name \"Celebrate Life\", thats what we need to do each and every day!!!   Thanks for that reminder.Post Edited (Wings of Eagles) : 8/10/2016 11:42:04 PM (GMT-6) , \n",
       " User: Almost a 10 \n",
       " Time: 2016-08-11 08:24:00 \n",
       " Thread: Against all odds \n",
       " Order: None \n",
       " URL: http://www.healingwell.com/community/default.aspx?f=35&m=3680792&p=2 \n",
       " Dear Gary and Beth, \n",
       " I am so happy for the wonderful news and that Gary is responding to treatment. He just amazes me how he has been able to fight this diseasemformso long. And what an inspiration for us all, especially those of us faced with rising PSA and failing treatment. There is always hope. We just have to believe.  Wishing you and Gary more success in the weeks and months to come. , \n",
       " User: Jaybee&GG \n",
       " Time: 2016-08-11 21:07:00 \n",
       " Thread: Against all odds \n",
       " Order: None \n",
       " URL: http://www.healingwell.com/community/default.aspx?f=35&m=3680792&p=2 \n",
       " Beth, you are amazing to share Gary's inspirational story with everyone in this way.  And you are always so kind and generous with your encouragement of others on this forum.  \n",
       " I wish you all the very best in the world.\n",
       " Jaybee , \n",
       " User: Todd1963 \n",
       " Time: 2016-08-12 21:03:00 \n",
       " Thread: Against all odds \n",
       " Order: None \n",
       " URL: http://www.healingwell.com/community/default.aspx?f=35&m=3680792&p=2 \n",
       " Congrats to the two both of you. This is the best news ever. I tried to read and reply a few days ago but had terrible service. God bless you. I am so so so happy to hear this. , \n",
       " User: sue saddened wife \n",
       " Time: 2016-08-13 20:57:00 \n",
       " Thread: Against all odds \n",
       " Order: None \n",
       " URL: http://www.healingwell.com/community/default.aspx?f=35&m=3680792&p=2 \n",
       " Beth I am so very happy for you and Gary . It all comes down to funding the right treatment  at the right time. I haven't  been on here in awhile and not from lack of concern. It's been a fairly emotional  month as it will be a year since I lost Dave. But when I read about some good news  like what you have it makes the world seem alot better . 💙💙🌞💙Awsome! , \n",
       " User: celebrate life \n",
       " Time: 2016-08-14 02:05:00 \n",
       " Thread: Against all odds \n",
       " Order: None \n",
       " URL: http://www.healingwell.com/community/default.aspx?f=35&m=3680792&p=2 \n",
       " Thank you so very much for your posts Wings, Almost, Jaybee and of course, brother Todd.  \n",
       " It seems that most news these days is not so good from Dr visits.  It's great to finally be able to share something hopeful.\n",
       " Sue, I am so happy to see a post from a dear friend from the past.  You helped me keep up the determination to move forward through your example.  I pray you are finding as.much joy as possible in life with your best friend no longer at your side.  I can understand that this kind of anniversary looming would bring a lot of sad moments in your day.  But know that you are a wonderful and loving soul, and there must be a purpose for you here for now.\n",
       " With gratitude,\n",
       " Beth n Gary , \n",
       " User: Newton451 \n",
       " Time: 2016-08-14 08:59:00 \n",
       " Thread: Against all odds \n",
       " Order: None \n",
       " URL: http://www.healingwell.com/community/default.aspx?f=35&m=3680792&p=2 \n",
       " Well, this is inspirational Beth. I am certain that with you and Gary teamed up, PCa will quit before you guys will. True fighters you both are! ]"
      ]
     },
     "execution_count": 19,
     "metadata": {},
     "output_type": "execute_result"
    }
   ],
   "source": [
    "thread.posts"
   ]
  },
  {
   "cell_type": "code",
   "execution_count": 12,
   "metadata": {
    "collapsed": false
   },
   "outputs": [
    {
     "name": "stdout",
     "output_type": "stream",
     "text": [
      "4\n"
     ]
    }
   ],
   "source": [
    "x = 4\n",
    "if 3 <= x <= 5:\n",
    "    print(x)"
   ]
  },
  {
   "cell_type": "code",
   "execution_count": 36,
   "metadata": {
    "collapsed": false
   },
   "outputs": [
    {
     "name": "stdout",
     "output_type": "stream",
     "text": [
      "4\n"
     ]
    },
    {
     "data": {
      "text/plain": [
       "'2016-08-10 12:47:00'"
      ]
     },
     "execution_count": 36,
     "metadata": {},
     "output_type": "execute_result"
    }
   ],
   "source": [
    "if 3<=x and x<=5:\n",
    "    print(x)\n",
    "thread.timestamp"
   ]
  },
  {
   "cell_type": "code",
   "execution_count": 33,
   "metadata": {
    "collapsed": true
   },
   "outputs": [],
   "source": [
    "from datetime import datetime\n",
    "\n",
    "date_object = datetime.strptime('Jun 1 2005  1:33PM', '%b %d %Y %I:%M%p')\n",
    "def get_time_span(thread):\n",
    "    #post_timestamps = np.array([post.timestamp for post in thread.posts], dtype='datetime64')\n",
    "    # assume the last post in thread.posts is the last reply\n",
    "    thread_time = datetime.strptime(thread.timestamp, '%Y-%m-%d %H:%M:%S')\n",
    "    last_reply_time = datetime.strptime(thread.posts[-1].timestamp, '%Y-%m-%d %H:%M:%S')\n",
    "    time_delta = last_reply_time - thread_time\n",
    "    print(time_delta)\n",
    "    #calculate the time span in hours\n",
    "    time_span = 24*int(time_delta.days) + time_delta.seconds//3600\n",
    "    return time_span"
   ]
  },
  {
   "cell_type": "code",
   "execution_count": 34,
   "metadata": {
    "collapsed": false
   },
   "outputs": [
    {
     "name": "stdout",
     "output_type": "stream",
     "text": [
      "3 days, 20:12:00\n"
     ]
    },
    {
     "data": {
      "text/plain": [
       "92"
      ]
     },
     "execution_count": 34,
     "metadata": {},
     "output_type": "execute_result"
    }
   ],
   "source": [
    "get_time_span(thread)"
   ]
  },
  {
   "cell_type": "code",
   "execution_count": 26,
   "metadata": {
    "collapsed": false
   },
   "outputs": [],
   "source": [
    "import numpy as np\n",
    "x = np.empty([1,2],dtype=\"int32\")"
   ]
  },
  {
   "cell_type": "code",
   "execution_count": 27,
   "metadata": {
    "collapsed": false
   },
   "outputs": [
    {
     "name": "stdout",
     "output_type": "stream",
     "text": [
      "(1, 2)\n"
     ]
    },
    {
     "ename": "IndexError",
     "evalue": "index 1 is out of bounds for axis 0 with size 1",
     "output_type": "error",
     "traceback": [
      "\u001b[0;31m---------------------------------------------------------------------------\u001b[0m",
      "\u001b[0;31mIndexError\u001b[0m                                Traceback (most recent call last)",
      "\u001b[0;32m<ipython-input-27-e167e0b4fd86>\u001b[0m in \u001b[0;36m<module>\u001b[0;34m()\u001b[0m\n\u001b[1;32m      1\u001b[0m \u001b[0mprint\u001b[0m\u001b[0;34m(\u001b[0m\u001b[0mx\u001b[0m\u001b[0;34m.\u001b[0m\u001b[0mshape\u001b[0m\u001b[0;34m)\u001b[0m\u001b[0;34m\u001b[0m\u001b[0m\n\u001b[0;32m----> 2\u001b[0;31m \u001b[0mx\u001b[0m\u001b[0;34m[\u001b[0m\u001b[0;36m1\u001b[0m\u001b[0;34m]\u001b[0m \u001b[0;34m=\u001b[0m \u001b[0;36m2\u001b[0m\u001b[0;34m\u001b[0m\u001b[0m\n\u001b[0m",
      "\u001b[0;31mIndexError\u001b[0m: index 1 is out of bounds for axis 0 with size 1"
     ]
    }
   ],
   "source": [
    "print(x.shape)\n",
    "x[1] = 2"
   ]
  },
  {
   "cell_type": "code",
   "execution_count": 15,
   "metadata": {
    "collapsed": false
   },
   "outputs": [
    {
     "data": {
      "text/plain": [
       "1"
      ]
     },
     "execution_count": 15,
     "metadata": {},
     "output_type": "execute_result"
    }
   ],
   "source": [
    "5%2"
   ]
  },
  {
   "cell_type": "code",
   "execution_count": 28,
   "metadata": {
    "collapsed": true
   },
   "outputs": [],
   "source": [
    "a = [1,2,3]\n",
    "np.save('test_save',a)"
   ]
  },
  {
   "cell_type": "code",
   "execution_count": 29,
   "metadata": {
    "collapsed": true
   },
   "outputs": [],
   "source": [
    "b = np.load('test_save.npy')"
   ]
  },
  {
   "cell_type": "code",
   "execution_count": 30,
   "metadata": {
    "collapsed": false
   },
   "outputs": [
    {
     "data": {
      "text/plain": [
       "array([1, 2, 3])"
      ]
     },
     "execution_count": 30,
     "metadata": {},
     "output_type": "execute_result"
    }
   ],
   "source": [
    "b"
   ]
  },
  {
   "cell_type": "code",
   "execution_count": null,
   "metadata": {
    "collapsed": true
   },
   "outputs": [],
   "source": []
  }
 ],
 "metadata": {
  "kernelspec": {
   "display_name": "Python 3",
   "language": "python",
   "name": "python3"
  },
  "language_info": {
   "codemirror_mode": {
    "name": "ipython",
    "version": 3
   },
   "file_extension": ".py",
   "mimetype": "text/x-python",
   "name": "python",
   "nbconvert_exporter": "python",
   "pygments_lexer": "ipython3",
   "version": "3.5.1"
  }
 },
 "nbformat": 4,
 "nbformat_minor": 0
}
