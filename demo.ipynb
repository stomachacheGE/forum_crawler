{
 "cells": [
  {
   "cell_type": "code",
   "execution_count": 1,
   "metadata": {
    "collapsed": false
   },
   "outputs": [],
   "source": [
    "from sqlalchemy import create_engine\n",
    "from sqlalchemy.orm import sessionmaker\n",
    "from db_initialize import *\n",
    "\n",
    "engine = create_engine('sqlite://///Users/Johnson/Documents/nit/thesis/forum_crawler/database_healingwell.db')\n",
    "Session = sessionmaker(bind=engine)\n",
    "Base.metadata.bind = engine\n",
    "session = Session()"
   ]
  },
  {
   "cell_type": "code",
   "execution_count": 3,
   "metadata": {
    "collapsed": false
   },
   "outputs": [
    {
     "name": "stdout",
     "output_type": "stream",
     "text": [
      "User <Albert B.> is from forum <prostatakrebs>, has 2 threads, 10 posts.\n",
      "User <AndreaC> is from forum <prostatakrebs>, has 0 threads, 1 posts.\n",
      "User <Andreas S.> is from forum <prostatakrebs>, has 0 threads, 1 posts.\n",
      "User <AndresN> is from forum <prostatakrebs>, has 1 threads, 1 posts.\n",
      "User <Angi 345> is from forum <prostatakrebs>, has 0 threads, 1 posts.\n",
      "User <Annlisa> is from forum <prostatakrebs>, has 1 threads, 7 posts.\n",
      "User <Barbara> is from forum <prostatakrebs>, has 0 threads, 1 posts.\n",
      "User <Briele> is from forum <prostatakrebs>, has 0 threads, 5 posts.\n",
      "User <BurgerH> is from forum <prostatakrebs>, has 1 threads, 7 posts.\n",
      "User <Carl70> is from forum <prostatakrebs>, has 0 threads, 2 posts.\n",
      "User <Carlos> is from forum <prostatakrebs>, has 0 threads, 1 posts.\n",
      "User <Daniel Schmidt> is from forum <prostatakrebs>, has 0 threads, 4 posts.\n",
      "User <Dieterkarl> is from forum <prostatakrebs>, has 0 threads, 1 posts.\n",
      "User <Diogenes_57> is from forum <prostatakrebs>, has 0 threads, 4 posts.\n",
      "User <Ehefrau58> is from forum <prostatakrebs>, has 0 threads, 1 posts.\n",
      "User <Eheweib> is from forum <prostatakrebs>, has 0 threads, 2 posts.\n",
      "User <Emil43> is from forum <prostatakrebs>, has 0 threads, 2 posts.\n",
      "User <Fee.Scholz> is from forum <prostatakrebs>, has 1 threads, 2 posts.\n",
      "User <Frank1958> is from forum <prostatakrebs>, has 0 threads, 2 posts.\n",
      "User <Fuchs55> is from forum <prostatakrebs>, has 0 threads, 1 posts.\n",
      "User <GeorgS> is from forum <prostatakrebs>, has 0 threads, 3 posts.\n",
      "User <Georg_> is from forum <prostatakrebs>, has 0 threads, 5 posts.\n",
      "User <Gertrud> is from forum <prostatakrebs>, has 1 threads, 6 posts.\n",
      "User <Giorgios> is from forum <prostatakrebs>, has 0 threads, 1 posts.\n",
      "User <Günter55> is from forum <prostatakrebs>, has 1 threads, 5 posts.\n",
      "User <HWLPORTA> is from forum <prostatakrebs>, has 0 threads, 2 posts.\n",
      "User <Hans-J.> is from forum <prostatakrebs>, has 2 threads, 10 posts.\n",
      "User <Hans60> is from forum <prostatakrebs>, has 1 threads, 3 posts.\n",
      "User <Hans72> is from forum <prostatakrebs>, has 1 threads, 2 posts.\n",
      "User <HansiB> is from forum <prostatakrebs>, has 0 threads, 2 posts.\n",
      "User <Harald> is from forum <prostatakrebs>, has 1 threads, 0 posts.\n",
      "User <Harald_1933> is from forum <prostatakrebs>, has 9 threads, 37 posts.\n",
      "User <Hartmut S> is from forum <prostatakrebs>, has 1 threads, 4 posts.\n",
      "User <Helena> is from forum <prostatakrebs>, has 1 threads, 2 posts.\n",
      "User <Helmut.2> is from forum <prostatakrebs>, has 0 threads, 2 posts.\n",
      "User <Heribert> is from forum <prostatakrebs>, has 0 threads, 4 posts.\n",
      "User <Hirschkäfer> is from forum <prostatakrebs>, has 0 threads, 3 posts.\n",
      "User <Horst1> is from forum <prostatakrebs>, has 0 threads, 2 posts.\n",
      "User <Horst1949> is from forum <prostatakrebs>, has 0 threads, 1 posts.\n",
      "User <HorstK> is from forum <prostatakrebs>, has 0 threads, 1 posts.\n",
      "User <Hvielemi> is from forum <prostatakrebs>, has 2 threads, 39 posts.\n",
      "User <Jacekw> is from forum <prostatakrebs>, has 1 threads, 3 posts.\n",
      "User <JürgenM> is from forum <prostatakrebs>, has 2 threads, 2 posts.\n",
      "User <LowRoad> is from forum <prostatakrebs>, has 5 threads, 10 posts.\n",
      "User <LudwigS> is from forum <prostatakrebs>, has 0 threads, 2 posts.\n",
      "User <M Schostak> is from forum <prostatakrebs>, has 0 threads, 2 posts.\n",
      "User <Mafred> is from forum <prostatakrebs>, has 0 threads, 2 posts.\n",
      "User <Magdalena79> is from forum <prostatakrebs>, has 1 threads, 2 posts.\n",
      "User <Maik75> is from forum <prostatakrebs>, has 1 threads, 2 posts.\n",
      "User <Manfred Roems> is from forum <prostatakrebs>, has 0 threads, 1 posts.\n",
      "User <Marion K.> is from forum <prostatakrebs>, has 1 threads, 0 posts.\n",
      "User <Markus45> is from forum <prostatakrebs>, has 0 threads, 1 posts.\n",
      "User <MarleneH> is from forum <prostatakrebs>, has 1 threads, 1 posts.\n",
      "User <Michael A.> is from forum <prostatakrebs>, has 0 threads, 2 posts.\n",
      "User <Michi1> is from forum <prostatakrebs>, has 0 threads, 2 posts.\n",
      "User <Mikael> is from forum <prostatakrebs>, has 0 threads, 1 posts.\n",
      "User <Muggelino> is from forum <prostatakrebs>, has 0 threads, 3 posts.\n",
      "User <Nessaya65> is from forum <prostatakrebs>, has 1 threads, 0 posts.\n",
      "User <Norbert52> is from forum <prostatakrebs>, has 0 threads, 1 posts.\n",
      "User <Peter49> is from forum <prostatakrebs>, has 1 threads, 0 posts.\n",
      "User <PeterP> is from forum <prostatakrebs>, has 0 threads, 3 posts.\n",
      "User <Pinguin> is from forum <prostatakrebs>, has 0 threads, 2 posts.\n",
      "User <RalfDm> is from forum <prostatakrebs>, has 3 threads, 15 posts.\n",
      "User <Rastaman> is from forum <prostatakrebs>, has 0 threads, 1 posts.\n",
      "User <Reinardo> is from forum <prostatakrebs>, has 1 threads, 4 posts.\n",
      "User <Reinhold2> is from forum <prostatakrebs>, has 0 threads, 2 posts.\n",
      "User <Rhava13> is from forum <prostatakrebs>, has 1 threads, 4 posts.\n",
      "User <RolandE> is from forum <prostatakrebs>, has 0 threads, 1 posts.\n",
      "User <RuStra> is from forum <prostatakrebs>, has 0 threads, 1 posts.\n",
      "User <SAGI00> is from forum <prostatakrebs>, has 0 threads, 3 posts.\n",
      "User <SabiMa> is from forum <prostatakrebs>, has 0 threads, 1 posts.\n",
      "User <Sam187> is from forum <prostatakrebs>, has 1 threads, 2 posts.\n",
      "User <Samba500> is from forum <prostatakrebs>, has 1 threads, 3 posts.\n",
      "User <Siegfried51> is from forum <prostatakrebs>, has 0 threads, 1 posts.\n",
      "User <Snoopy1958> is from forum <prostatakrebs>, has 2 threads, 4 posts.\n",
      "User <Starlight> is from forum <prostatakrebs>, has 0 threads, 1 posts.\n",
      "User <Steffi82> is from forum <prostatakrebs>, has 2 threads, 1 posts.\n",
      "User <Sunny05> is from forum <prostatakrebs>, has 1 threads, 1 posts.\n",
      "User <Tedham Porterhouse> is from forum <prostatakrebs>, has 0 threads, 1 posts.\n",
      "User <Tom_HH> is from forum <prostatakrebs>, has 1 threads, 3 posts.\n",
      "User <Urologe> is from forum <prostatakrebs>, has 0 threads, 9 posts.\n",
      "User <Volkmar> is from forum <prostatakrebs>, has 0 threads, 1 posts.\n",
      "User <W. Werner> is from forum <prostatakrebs>, has 0 threads, 1 posts.\n",
      "User <W.Rellok> is from forum <prostatakrebs>, has 3 threads, 9 posts.\n",
      "User <WenerR.> is from forum <prostatakrebs>, has 0 threads, 1 posts.\n",
      "User <WernerE> is from forum <prostatakrebs>, has 0 threads, 3 posts.\n",
      "User <WinfriedW> is from forum <prostatakrebs>, has 1 threads, 1 posts.\n",
      "User <Wolfgang aus Berlin> is from forum <prostatakrebs>, has 0 threads, 1 posts.\n",
      "User <Wolfjanz> is from forum <prostatakrebs>, has 0 threads, 2 posts.\n",
      "User <Wolleapp> is from forum <prostatakrebs>, has 1 threads, 0 posts.\n",
      "User <adson3492> is from forum <prostatakrebs>, has 0 threads, 1 posts.\n",
      "User <anjadaniela> is from forum <prostatakrebs>, has 1 threads, 4 posts.\n",
      "User <artisun51> is from forum <prostatakrebs>, has 0 threads, 2 posts.\n",
      "User <blume218> is from forum <prostatakrebs>, has 0 threads, 1 posts.\n",
      "User <buschreiter> is from forum <prostatakrebs>, has 0 threads, 2 posts.\n",
      "User <carloso> is from forum <prostatakrebs>, has 1 threads, 6 posts.\n",
      "User <cligensa> is from forum <prostatakrebs>, has 1 threads, 2 posts.\n",
      "User <daniela3> is from forum <prostatakrebs>, has 1 threads, 0 posts.\n",
      "User <django3> is from forum <prostatakrebs>, has 0 threads, 1 posts.\n",
      "User <dreispitz> is from forum <prostatakrebs>, has 1 threads, 3 posts.\n",
      "User <gunssy> is from forum <prostatakrebs>, has 0 threads, 1 posts.\n",
      "User <hartmuth> is from forum <prostatakrebs>, has 0 threads, 1 posts.\n",
      "User <helmut (i)> is from forum <prostatakrebs>, has 0 threads, 1 posts.\n",
      "User <helmut.a.g.> is from forum <prostatakrebs>, has 1 threads, 10 posts.\n",
      "User <helmutS> is from forum <prostatakrebs>, has 0 threads, 2 posts.\n",
      "User <highlander> is from forum <prostatakrebs>, has 1 threads, 12 posts.\n",
      "User <jürgvw> is from forum <prostatakrebs>, has 0 threads, 2 posts.\n",
      "User <klaus42> is from forum <prostatakrebs>, has 0 threads, 1 posts.\n",
      "User <kleiner Kolibri> is from forum <prostatakrebs>, has 0 threads, 2 posts.\n",
      "User <klinkum> is from forum <prostatakrebs>, has 1 threads, 0 posts.\n",
      "User <knut.krueger> is from forum <prostatakrebs>, has 0 threads, 1 posts.\n",
      "User <lumberjack> is from forum <prostatakrebs>, has 1 threads, 6 posts.\n",
      "User <m.wins> is from forum <prostatakrebs>, has 1 threads, 4 posts.\n",
      "User <meni.li.> is from forum <prostatakrebs>, has 1 threads, 2 posts.\n",
      "User <muehli_01> is from forum <prostatakrebs>, has 0 threads, 2 posts.\n",
      "User <oog360> is from forum <prostatakrebs>, has 0 threads, 1 posts.\n",
      "User <ottoasta> is from forum <prostatakrebs>, has 0 threads, 1 posts.\n",
      "User <premme> is from forum <prostatakrebs>, has 1 threads, 2 posts.\n",
      "User <silver dollar> is from forum <prostatakrebs>, has 0 threads, 8 posts.\n",
      "User <skipper> is from forum <prostatakrebs>, has 0 threads, 1 posts.\n",
      "User <spertel> is from forum <prostatakrebs>, has 0 threads, 2 posts.\n",
      "User <tom aus lu> is from forum <prostatakrebs>, has 0 threads, 5 posts.\n",
      "User <tomblr> is from forum <prostatakrebs>, has 0 threads, 12 posts.\n",
      "User <uthterii> is from forum <prostatakrebs>, has 0 threads, 1 posts.\n",
      "User <uwes2403> is from forum <prostatakrebs>, has 0 threads, 5 posts.\n",
      "User <vaukaa> is from forum <prostatakrebs>, has 0 threads, 1 posts.\n",
      "User <wassermann> is from forum <prostatakrebs>, has 1 threads, 1 posts.\n",
      "User <wesoj55> is from forum <prostatakrebs>, has 0 threads, 1 posts.\n",
      "User <willho> is from forum <prostatakrebs>, has 0 threads, 3 posts.\n",
      "User <zimi03> is from forum <prostatakrebs>, has 1 threads, 10 posts.\n"
     ]
    }
   ],
   "source": [
    "users = session.query(User).order_by(User.name).all()\n",
    "len(users)\n",
    "for user in users:\n",
    "    print(user)"
   ]
  },
  {
   "cell_type": "code",
   "execution_count": 2,
   "metadata": {
    "collapsed": false
   },
   "outputs": [
    {
     "data": {
      "text/plain": [
       "48"
      ]
     },
     "execution_count": 2,
     "metadata": {},
     "output_type": "execute_result"
    }
   ],
   "source": [
    "\n",
    "author = session.query(User).filter_by(name=\"LowRoad\", forum=\"prostatakrebs\").first()\n",
    "len(author.threads)"
   ]
  },
  {
   "cell_type": "code",
   "execution_count": 7,
   "metadata": {
    "collapsed": false
   },
   "outputs": [
    {
     "name": "stdout",
     "output_type": "stream",
     "text": [
      "Column: id\n",
      "Column: name\n",
      "Column: profile_url\n",
      "Column: forum\n",
      "Column: date_joined\n",
      "Column: total_posts\n",
      "Column: subforum\n"
     ]
    }
   ],
   "source": [
    "from sqlalchemy import inspect\n",
    "inspector = inspect(engine)\n",
    "\n",
    "inspector.get_table_names()\n",
    "for column in inspector.get_columns('users'):\n",
    "   print(\"Column: %s\" % column['name'])"
   ]
  },
  {
   "cell_type": "code",
   "execution_count": 6,
   "metadata": {
    "collapsed": false
   },
   "outputs": [
    {
     "data": {
      "text/plain": [
       "307"
      ]
     },
     "execution_count": 6,
     "metadata": {},
     "output_type": "execute_result"
    }
   ],
   "source": [
    "posts = session.query(Post).filter_by(subforum='Angehörigenforum').all()\n",
    "len(posts)"
   ]
  },
  {
   "cell_type": "code",
   "execution_count": 7,
   "metadata": {
    "collapsed": false
   },
   "outputs": [
    {
     "data": {
      "text/plain": [
       "68"
      ]
     },
     "execution_count": 7,
     "metadata": {},
     "output_type": "execute_result"
    }
   ],
   "source": [
    "threads = session.query(Thread).filter_by(subforum='Prostatakrebs und Psyche').all()\n",
    "len(threads)"
   ]
  },
  {
   "cell_type": "code",
   "execution_count": 2,
   "metadata": {
    "collapsed": false
   },
   "outputs": [],
   "source": [
    "user3 = User(name=\"liangcheng\", subforum=\"c\")\n",
    "session.add(user3)\n",
    "session.commit()"
   ]
  },
  {
   "cell_type": "code",
   "execution_count": 11,
   "metadata": {
    "collapsed": true
   },
   "outputs": [],
   "source": [
    "user = session.query(User).filter_by(name=\"liangcheng\").first()"
   ]
  },
  {
   "cell_type": "code",
   "execution_count": 12,
   "metadata": {
    "collapsed": false
   },
   "outputs": [],
   "source": [
    "user"
   ]
  },
  {
   "cell_type": "code",
   "execution_count": 10,
   "metadata": {
    "collapsed": false
   },
   "outputs": [],
   "source": [
    "session.delete(user)\n",
    "session.commit()"
   ]
  },
  {
   "cell_type": "code",
   "execution_count": 3,
   "metadata": {
    "collapsed": false
   },
   "outputs": [],
   "source": [
    "num = session.query(Thread).count()\n"
   ]
  },
  {
   "cell_type": "code",
   "execution_count": 4,
   "metadata": {
    "collapsed": false
   },
   "outputs": [
    {
     "data": {
      "text/plain": [
       "28850"
      ]
     },
     "execution_count": 4,
     "metadata": {},
     "output_type": "execute_result"
    }
   ],
   "source": [
    "num"
   ]
  },
  {
   "cell_type": "code",
   "execution_count": 39,
   "metadata": {
    "collapsed": false
   },
   "outputs": [
    {
     "name": "stdout",
     "output_type": "stream",
     "text": [
      "1\n",
      "\n",
      "We have a lot of collective wisdom at this site.  Let’s make a value-added list of posts with wisdom that newcomers might not be initially aware of, and help get them off to a great start on their “patient education” journey.  When we see a newcomer joining HW/PC, we can say, \"Welcome!  Be sure to visit the thread called, 'Newly diagnosed with PC? — read this thread first.'\"\n",
      "Let’s please avoid the goofy “posts about other posts” that don’t add value but consume space…let’s add to this thread only with information valuable to the PC newcomers in mind.  Also, let’s please avoid the posts that begin with “Well, in my case…” which becomes a post \"all about you,\" because this thread is not intended to be about what you did or what your case was.  It’s intended to be a general reference thread of information for the PC newcomers.  There are plenty of other threads to tell everyone all about you.\n",
      "Further to this same point, my message to the newcomers who will benefit from this thread in the future is that you can save your “thank you” replies for other threads because these types of messages will, similarly, clog the space in the thread.  Let’s keep the all the thread entries focused on the points newcomers may not be initially know about prostate cancer.  \n",
      "\n",
      "Added later as an edit:  I’ll say “you are welcome” here to all those who have emailed me an offline “thank you” for having created this thread...\n",
      "This thread has the potential to live on for a long time, and be referenced by many people in the future.  Let’s put our best foot forward.  Let’s see if we can turn this into some good…\n",
      " \n",
      "IMPORTANT (although perhaps obvious) NOTE:  this is not \"medical advice,\" and should not be a substitute for medical advice; it is merely a collection of learnings and information about PC which often takes a while to be educated about\n",
      " \n",
      "I’ll get this started with a post which will help to guide future posts, and then you guys can help to carry this legacy forward.   Here we go...best foot forward...\n",
      "\n",
      " \n",
      " \n",
      "Some of the tidbits of lessons learned/wisdom which may be added to this thread following this post will be intended for only one of these risk categories, others will be generic.  If it is going to be valuable for only one of the risk categories, it will be helpful to indicate which one.  For example, just say something like, “This input is for HIGH RISK men…”\n",
      " \n",
      "SUMMARY:  Know your “risk category”\n",
      "Prostate cancer is really like two, or perhaps three, very different diseases.  The recommended treatments (or non-treatment recommendations) are based largely on the NCCN Clinical Guidelines.   Step #1 for all PC newcomers is to be able to answer the question, “What is your risk category?”  \n",
      " \n",
      "The NCCN “risk categories” are listed below:\n",
      "·         HIGH RECURRENCE RISK\n",
      "o    PSA > 20 ng/mL\n",
      "o    and/or Gleason 8-10\n",
      "o    and/or cT3 tumor\n",
      " \n",
      "·         INTERMEDIATE RECURRENCE RISK\n",
      "o    PSA between 10-20 ng/mL\n",
      "o    and/or Gleason = 7\n",
      "o    and/or cT2b-c tumor\n",
      " \n",
      "·         LOW RECURRENCE RISK\n",
      "o    PSA < 10 ng/mL\n",
      "o    and Gleason < 7\n",
      "o    and cT1-T2a tumor\n",
      " \n",
      "·         VERY LOW RECURRENCE RISK\n",
      "o    PSA < 10 ng/mL\n",
      "o    and Gleason < 7\n",
      "o    and cT1c tumor\n",
      "o    and PSA density <0.15\n",
      "o    and <3 biopsy cores positive, <=50% cancer in any core\n",
      " \n",
      " \n",
      "Newly diagnosed?  What's your risk category?\n",
      "\n",
      " \n",
      " \n",
      " Post Edited (Casey59) : 7/12/2013 2:57:26 PM (GMT-6)\n",
      "607\n",
      "2\n",
      "Just swinging by for a quicky.Have had a lot going on lately, haven't even had time to lurk in the background.For starters, my long term oncologist of 5 years either got fired or quit.  Found out at my June regular session.  Something bad happened, still trying to find out.  Still waiting to see if Gibbs is going to assign me a new doctor.  Really upsetting to me, as all my prescriptions were being handled by him, those are up in the air, and I have been faithfully following his \"plan\" for my PC situation.  In the meantime, I am searching for a new one, either outside of Gibbs, or if I have to, through the VA - though the VA still tells me that in my area, they don't have anyone as remotely qualified as my ex-doctor.  This event really  took me off guard.I have begun treatment long term for PTSD.  Met with my VA doctor just today after 2 sessions, and he transferred me from short term to long term care.  Not sure where its really going.Finally got a proper dx. of all the burning and numbing in my left side (sometimes right), found out earlier this week that I have Merlalgia Paresthetica.  That's a mouthful.  Going to a higher level Surgical Neurologist team.  Not certain, but will probably involve major surgery in my hip and thigh.So the battle goes on and on, but feel better just getting some positive dx. of some of this.Oh, almost forgot, can't wear my dentures, because I now have a weird infection in my upper gums and the bones beneath them, related to the radiation damage that caused me to have all my teeth removed in 2014.  The dental radiation specialist with the VA is coming in from Columbia to access the new damage.And people wonder why I am so \"down\" on radiation.  For me, both my radiation events basically destroyed me from one end to the other.  Wished I had never undertaken either time.Still hanging in there, don't have many options other than that.  When I get the chance, I need to come back and catch up with friends here.\n",
      "371\n",
      "3\n",
      "I'm scheduled for the initial consult with an RO on Monday to discuss salvage radiation. Do you normally get some sort of imaging done prior to further treatment to rule out mets?  Is there anything out there that can pick up something with a PSA below 0.1 ?  I don't think the standard CT/Bone scan can.  Does a PET scan show anything with a PSA at that level or do you just blindly hope at this point, do the treatment and test your PSA when it's done?Jon\n",
      "92\n",
      "4\n",
      "Ok.... This week I will undergo the Radical Prostitechomy with the lymph node dissection and most likely the right nerve bundle removed as we.. All 3 of my Gleason 9's, reduced to 8's are in the right side. The CT/Bone/MRI of Pelvis and TRUS all show no escaping the prostate gland. I am praying for the zero or negative margin?  Meaning, they don't see it having got out at the cellular level. It was a miracle that I got into see Dr. Porter to begin with.  I am PRAYING all goes well and that the GOOD LORD will continue to show his miracles in my life. Tomorrow is my 13th year since my aorta dissected on 8.22.2002. BrianTinsley.comPSA, 5.03 of 12 cores Gleason 8Trus Biopsy july 15, 2016MRI Pelvis  July 4, 2016Surgery Date: 8/26/2016Surgery Choice: RP with Lymph node dissection, left nerve hopefully spared\n",
      "155\n",
      "5\n",
      "This is my first post, hopefully my newly created signature will provide some info leading up to my recent P-ca diagnosis. I got my results two weeks ago and have been trying to research like mad to find out more information and in trying to deal with having this life changing diagnosis.  In the process I was fortunate enough to find this site and have found helpful info on the sticky for the newly diagnosed and gained some strength in reading some of the posts to help me deal with things.  The amount of info that is available though, is overwhelming at times and confusing at other times.    I also just came from an USTOO meeting tonight and still don't have a clear idea of what I should do with regard to treatment.  I've been told that I fit in the intermediate category but the concern is that 6 of the 13 cores taken were positive and that two were at 80% Some have said that with my low Gleason score, and relatively young age, it might be advantageous to to a RALP...but I am also having to consider dealing with all the side effects for a long period of time.  Thanks in advance for any advice/suggestion you can share.\n",
      "215\n",
      "6\n",
      "So, last night after returning from an awesome Family day on the lake, and after an awesome steak dinner, I asked my daughter to walk over to the local grocery store at the end of our street to get some dish soap Mrs Newt had put on the DEMAND list. My daughter was up for the task, but stipulated that maybe it was a good time to take her Iphone with her, since she recalls seeing something called a Pokemon Stop close by. Well, I agreed, and off we went. We walked over to the local park to work our way back to the grocery store after capturing (or what ever you call it) the ellusive Pokemon Stop thingie.\n",
      "119\n",
      "7\n",
      " Long-Running and/or Quasi-Sticky Thread List.From time to time members ask that some thread they find particularly valuable be made sticky (like this thread) so they can always be found.  Unfortunately, having too many sticky threads clutters up the first page of the forum and Peter is reluctant to approve more than two sticky's per forum.  As a compromise, I am starting a thread to hold a list of long-running threads.  You can always find that list by Clicking Here -- PeterDisAbelardProstate Cancer-Related AbbreviationsThe rest of this thread is dedicated to those abbreviations that all see from time to time on our medical reports, online sites (like this one), or in medical literature. I welcome all entries. So if there are any you encounter let me know here and I will organize them and update the list.Updated: 03/20/2013AAT - androgen ablation therapy (same as ADT and HT)AAWR – anti-androgen withdrawal responseABDCTSCAN - abdominal CAT scanACTH - adrenal corticotropic hormone, also known as corticotropinADT - androgen deprivation therapy (same as AAT and HT)ADT2 - androgen deprivation therapy using two agents (typically the same as just ADT)ADT3 - triple androgen deprivation therapy (same as ADT but with the addition of finasteride/Proscar or dutasteride/Avodart)AG - aminoglutethemideALK PHOS - alkaline phosphataseALT - alanine aminotransferaseANEUP – aneuploidAS – active surveillanceAST - aspartate aminotransferaseAT - aneuploid/tetraploidAUS - artificial urinary sphincterBCR - biochemical recurranceBILI - bilirubinBMD - bone mineral densityBMI - Body Mass IndexBP - Bluestein prediction BPH - benign prostatic hyperplasia (also hypertrophy)BPSA - baseline PSA (used to mean an initial PSA value taken long before any risk of prostate cancer is suspected or a PSA value at the time of diagnosis)BRACHY - brachytherapyBS - bone scanBT - brachytherapyBTW - by the wayBUN - blood urea nitrogenB/P - blood pressureBX - biopsyCAB - complete androgen blockade (the combination of either surgical or medical castration with an antiandrogen like bicalutamide/Casodex)CADT - continuous androgen deprivation therapyCaP - cancer of the prostateCATH - catheterCAT SCAN - computerized axial tomography (same as CT scan)CBC - complete blood countCDUS - color-flow Doppler ultrasoundCEA - carcinoembryonic antigenCGA - chromogranin ACHB - combined hormone blockade (see also CAB, CHT, CHB2, CHT2)CHB2 - CHB with 2 medications (e.g., Lupron + Casodex)CHB3 - CHB with 3 medications (e.g. CHB2 + Proscar)CHBNDT - CHB non-detectable [PSA] timeCHEMO - chemotherapyCHT - combined hormonal therapy or treatment (see also CAB, CHB)CHTx3 or CHT3 - see CHB3CIS - cancer information service (of the National Cancer Institute)CPA - cyproterone acetateCP - capsular penetrationCRPC – castration-resistant prostate cancerCREAT - creatinineCRYO - cryotherapy, cryoablation, cryosurgeryCS - clinical stageCT SCAN - computerized tomography (also known as CAT scan or CT scan) D - diploidDES – diethylstilbestrol (an estrogen)DHEA - dihydroepiandrosteroneDHEA-S - DHEA-sulfateDHT - dihydrotestosteroneDI - diploid indexDIP - diploidDNA - deoxyribonucleic acidDRE - digital rectal examinationDX - diagnosisDXM - dexamethasone (Decadron)EBR - external beam radiationEBRT - external beam radiation therapyED – erectile dysfunctionEKG - electrocardiogramELISA - enzyme-linked immunosorbent assayEPE - extra prostatic extensionEPO - erythropoeitin (Procrit, Epogen)EXBT - external beam therapyEXRT - external radiation therapyFDA - Food and Drug Administration (USA)FP – family practitionerFYA - for your amusementFYI - for your informationG - Gleason's scoreGG - Gleason's gradeGNRH - gonadotropin-releasing hormone (see also LHRH)GP - general practitionerGray - GY - an amount of radiation absorbed (One Gy = 100 rad)GS - Gleason scoreGY - Gray - an amount of radiation absorbed (One Gy = 100 rad)HA - hormone ablationHB - hormone blockadeHC - hydrocortisoneHCT - hemotocritHDK - high dose ketoconazole (Nizoral)HDR – high dose rate (usually pertains to brachytherapyHEM/ONC – hematologic oncologistHGB - hemoglobinHIFU- high intensity focused ultrasoundHMO - health maintenance organizationHPF - high powered field (under a microscope)HRPC – hormone-refractory (or hormone-resistant) prostate cancerHT - hormone therapy (same as AAT and ADT)HW - Healing Well (this site)HX – medical historyIADT – intermittent androgen deprivation therapyIAS - intermittent androgen suppressionIHT – intermittent hormone therapyICHT - intermittent combined hormone therapyIGRT – image guided radiation therapyIHT - intermittent hormone therapyIMHO - in my humble opinionIMNSHO- in my not so humble opinioIMPT - intensity modulated proton therapyIMRT – intensity modulated radiation therapyIVP - intravenous pyelogramIV - intravenous, into a veinKeto - ketoconazole (Nizoral)LAFB - Left Anterior Fascicular BlockLARP – laproscopic robotic prostatectomyLF - laser fulguration (also: left side or flank)LHRH - luteinizing hormone releasing hormoneLNCaP - cell line of human prostate cancer used in laboratory studiesLRP - laparoscopic radical prostatectomyM0-1 – Status of cancer metastasis, subset of stagingMAB - maximal androgen blockade (same as CAB)MAD - maximal androgen deprivation (same as CAB)MCP - modified citrus pectinMD - moderately differentiated, medical doctorMED/ONC – medical oncologistMIP - Molecular Imaging ProgramMIRs - micro RNA'sMRI - magnetic resonance imagingN0-N3 - status of cancer in the lymph nodes (subset of staging)NDPSA - non-detectable PSANDX - new diagnosisNEG - negativeNHB - neoadjuvant hormone blockageNHT - neoadjuvant hormone therapyNIH - National Institutes of Health (USA)NL - nil (non-detectable response)NP - Narayan predictionNSAID - Non-Seroidal Anti-Inflamatory Drug (Ibuprophen, Aspirin)NSE - neuron-specific enolaseONC - oncologistONJ - osteonecrosis of the jawORCH - orchiectomyP53 - p53 genePAACT - Patient Advocates for Advancement in Cancer TherapyPAP - prostatic acid phosphatasePARP - poly(adenosine diphosphate [ADP]-ribose) polymerasePBRT - proton beam radiation therapy, or also, prostate bed radiation therapyPBT - proton beam therapyPC - prostate cancerPCa - prostate cancerPCA3 - prostate cancer gene 3 (a genetic marker for prostate cancer), also used to mean a urine test designed to indentify the presence or absence of this genetic marker (properly “PCA3 test”)PCD - prostate cancer [personal] digestPET Scan - Positron emission tomography scanPD - poorly differentiatedPDQ - Physician's Data Query ( a service of the National Cancer Institute)PIN - prostatic intraepithelial (or intraductal) neoplasiaPNI - perineural invasionPOS - positivePP - Partin predictionPPI - post prostatectomy incontinencePPO - preferred provider organizationPRL – prolactinPRP – see RPPPSA - prostate specific antigenPSA II - prostate-specific antigen type II assayPSA RT-PCR - PSA reverse transcriptase-polymerase chain reactionPSADT - PSA doubling timePSAV - PSA velocityPSM - prostate specific membranePSMA - prostate specific membrane antigenPV - prostate volumeQCT - quantitative computerized tomography (bone density scan)QOL – quality of lifeRAD/ONC – radiation oncologistRALP – robot-assisted laparoscopic prostatectomy (similar to LRP but with “robotic” assistance)RO – radiation oncologistRP - radical prostatectomyRPP - radical perineal prostatectomyRRP - radical retropubic prostatectomyRT - radiation therapy; also: right sideRT-PCR or RTPCR - reverse transcriptase polymerase chain reactionRT PCR PSA - reverse transcriptase-polymerase chain reaction done on PSART PCR PSM - reverse transcriptase-polymerase chain reaction done on PSMRX – prescriptionSBRT - stereotactic body radiation therapySE – side effectsSEEDS - brachytherapySI - seed implantationSRT - salvage radiation therapySTP - stereotactic transperineal prostate biopsySVI - seminal vesicle invasion (or involvement)T - testosterone, also tetraploidT0-T4 - status of cancer in the prostate itself (subset of staging)TAB - total androgen blockadeTETRA - tetraploidTFT - targeted focal therapy TIP - timed intervention periot (time in period)TOP - time off periodTRT - testosterone replacement therapy TRUS - transrectal ultrasoundTRUS-P or TRUSP - transrectal ultrasound of the prostate TTND - time to non-detectableTURP, TUR/P - transurethral resection of the prostateTX - treatmentTZ - transition zone (of prostate)URO - urologistUS - ultrasoundUTI - urinary tract infectionURL - universal resource locator; e.g., an address on theUTI - urinary track infectionVED - vacuum erection deviceWBC - white blood cell countWBC/HPF - white blood cells counted per high powered field (of a microscope.)WD - well differentiatedWPRT - whole pelvic radiation therapyWW - watchful waitingXRT - external radiation therapyYO - year(s) oldPost Edited By Moderator (PeterDisAbelard.) : 12/13/2014 6:51:55 PM (GMT-7)\n",
      "1112\n",
      "8\n",
      "I got my most recent PSA results of .06, after being undetectable (<.01) for 4 and a half years post Da Vinci. My uro had me retest yesterday in case it was a bad test (11 days after the first test) and it came back at .05. It didn't drop much, but at least it didn't go any higher. It had been a full year since I had my last annual test in April 2015, so the mystery is, when did the it begin to go up during the past year?  I'm scheduled to do another PSA test in early July which should give us some idea what the deal is. My surgeon/urologist, Benjamin Lee at Tulane Med Ctr. is leaving Tulane to take a new position as Head of the Urology Division at the University of Arizona. My new uro/oncologist will be Dr. Oliver Sartor.Any feedback is appreciated.NolaVette\n",
      "156\n",
      "9\n",
      "Notes from 08/16/2016 discussion with Dr. K:-\tPSA density is high.  Mine is (5.69/38) = .15; normal is about .08-\tTumors detected in biopsy are very small -\tSurgery is an option, either open or robot; Dr. K does them – has done over 1,000; procedure takes 2-2.5 hrs; patient usually home next day; cath out in about a week; admits there will be some “temporary” incontinence, can’t say durationWe began by discussing my particular pathology.  In my case, there were 4/12 cores positive – 3 @ GS3+3, 5-10% involvement; 1 @ GS3+4, 15% involvement.  Also 1 core HGPIN.  Tumor involvement approx. 2% of gland.  He indicated again that this is a very “favorable” result, if such exists.  We touched on Active Surveillance as a treatment option.  Dr. K feels that it could be applicable for me, but only if I was comfortable knowing that the cancer is there and will always need to be monitored closely.  I said that I appreciated the thought, but personally I didn’t feel that AS was for me, and that I prefer to treat this sooner rather than later.  (Why let it get any worse?)Dr. K indicated that in cases like my own, literally any of the standard treatments will “get the job done.”  He did indicate that in general, surgery and radiation have the same long-term cure rates.  He also said that, for all practical purposes, we can use the word “cure” as he believes that the standard treatments can kill or control my disease well enough that I should be disease-free for my normal life span.  He surprised me by not playing the “. . . you won’t know if it is successful for a long time with radiation” card.  He then indicated that the choice of treatment modalities is really down to the side effects.  He said that I should learn what these are, when they are likely to happen and how long they usually last, and then think of how they would affect me.  That is really, to him, the only useful data for treatment choice when all of the options are viable.He spoke of the wonders of modern robotic laparoscopic prostatectomy and gave us the 10-minute course on what is done in the procedure, indicating that he has performed over 1,000 prostatectomies (including robot).  He said that this (surgery) is great for patients who want “to get this disease out of my body.” He than asked if any of the standard treatments are “off the table” to me.  I reiterated that even if I was considered eligible for AS, I would not be comfortable with that, but that at this early stage of my learning all other treatments are options to me.  I then expressed some interest in radiation therapy.Dr. K then surprised me by saying that in my case, he felt that many of the current radiation therapies could be viable.  He did say that he has little confidence yet in any of the focal therapies (HIFU, cryo, etc.) due to the multi-focal nature of PCa.  I agreed with him in this.  We then went on to briefly touch on other radiation modalities.  He indicated that they used to do many LDR procedures, but with all of the advances in other forms of radiation treatment, this has fallen in popularity in the last 8 or 10 years.  He also indicated that there are more urinary side effects with the seeds, but that the main reason for the decline in its popularity is the growing efficacy (hence popularity) of other radiation therapies.  He did not discuss HDR brachy – not sure why.From there we went on to the external beam radiation modes.  He again surprised me by saying that for most men, he could not understand why they would choose conventional IMRT over vehicles such as CyberKnife.  He said “Why go for 40 daily treatments when you can get the same or better results with 5 treatments with CK?”  He said that their practice has had numerous patients opting for all forms of radiation and that in his opinion either IMRT or CK would be appropriate, but that CK is more convenient.  He did not go into the alpha/beta ratio discussion which asserts some superior efficacy for hypofractionated radiation treatments for PCa, nor did he bring up the claims that CK generates fewer side effects due to its tighter beam focus.He did seem a bit disappointed that I did not immediately jump deeply into discussions about surgery, but when asked, he freely recommend that I see Dr. Arica Hirsch at Lutheran General Hospital.  He said that she is the “go-to” radiation oncologist for their urology practice.  She is also the RO that I had found in my research into CK at LGH.All-in-all, this meeting was as good as I could expect.  No conclusions, but Dr. K did like my summation that, much like my heart condition, for my PCa treatment options there are no bad choices.  The only bad choice would be to choose not to treat. Next steps:  Meetings with radiation oncologists (Dr. Mohideen on 9/16; Dr. Hirsch TBD).Have I missed anything that I should have covered at this early point in my journey?I'll most definitely be around here for the long haul.\n",
      "898\n",
      "10\n",
      "Has anyone tried CRT? What has been your experience with CRT?Thank you,Rick\n",
      "14\n",
      "11\n",
      "I was informed today that I needed to get a urine flow and post void test. I didn't test very well but also not real good.. Both of my RO's agree that I need to get another after IMRT. If IMRT causes further urinary symptoms I might not be getting my Brachy. Has anyone experienced this and what are the alternatives if I can't have brachy. This all came completely out of left field and has has me shook up a bit. I haven't read any posts that even mention this , or maybe I'm just not finding them. It's been a dejecting day again....  Mark\n",
      "111\n",
      "12\n",
      "New tests that show aggressiveness of PC tumorsI have a low grade prostate tumor. All my info has been posted in the past and have gotten some very informative information from this group. Currently I am under what we all know as the \"watchful waiting program\"  which means the Dr. wants me to have another biopsy in about six months. I am going in for a PSA test six months after my last biopsy this Friday. My PSA three months after the biopsy was actually lower than before which I thought was odd. But I know that can fluctuate. My real question is how many of you out there have had their blood sample screened using the \"Prolaris\" procedure or one of the other new tests that supposedly can accurately show how aggressive the tumor is and the percentage of chances of it spreading VS it staying the same. I've read some research on this new test....I'd like to hear opinions from those in a similar situation(without going into much detail I have one tumor that is a 3+3 so a gleason score of 6)on Finesteride before biopsy psa 3.1   3 months later it was 2.7)  It slowly increased from 2.3 to 3.1 over the previous year....slow change.  If my PSA is in fact still lower....this test shows its not aggressive.....perhaps my watchful waiting will only include psa....this new test....a 3D dopplar ultrasound...and possibly an MRI every year. Not another Biopsy where the Dr. wants to compare the tissue with the sample taken a year earlier. If everything is the same then an MRI every year. But with this new test perhaps I can forgo anther biopsy. Opinions?\n",
      "294\n",
      "13\n",
      "I haven't been on my road bike since 2009, and having my RRP that year. Then a year later I had the artificial urinary sphincter implanted. I had just put together a decent road bike then all this started and was thinking I need to either figure something out or give up and get rid of it. After the AUS implant my doc. told me that even a skinny bike seat, which I have, will not hurt the AUS or me, but pressure on the cuff from the seat deflates it somewhat causing it to be ineffective in stopping the flow. The other day I started looking at ways I could use a trusty old condom catheter and leg bag. Now I'm not too shy about people seeing my bag but we've all seen the \"Walmart People\" pictures. So there are some devices to suspend the bag at your thigh so that it can be under your riding shorts but the \"garter\" style with suspension straps from a waist band didn't look like they were made for active sports. There was a leg or thigh \"sock\" that holds a bag but I tried that, it quickly wanted to slide down my leg, no good for cycling. Now I started thinking that some type of garment like compression shorts or a women's girdle. Had bought myself a women's girdle back during recovery from dual implants (AUS and IPP) as nothing I tried including compression shorts could add support pressure under my crotch and at the same time hold the pad, the girdle worked great and kept that aching pain that being on your feet caused in the crotch area. So I tried the girdle again, this time to solve several problems with leg bag biking. It holds my penis pointing up and holds the extension tube and it holds the bag firmly on the outside of my thigh. Everything was held in place and no leaks, the bag migrated a little but some buttons sew in to hold the bag better will fix that. Some people may not want to wear a women's girdle but hey, it works and they are cheap. If anyone wants to try, I think a long leg high waist is best as the top part is holding the tube. And also about condom catheters, I tried them all back when they were part of my daily routine, the Hollister Extended Wear works good for a person who is active. Those clear ones kink and after a bit of activity become uncomfortable, a lot of the external catheters seem to be made for bed or chair bound people.Well, anyway this saved my road bike from the dust bin and don't need one of those stupid seats that did not work for me. The down side of all this is I discovered that my legs are totally out of shape for biking, it will take awhile. I had put one of those \"hornless\" seats on my mountain bike and no matter how I adjusted it, I couldn't make it comfortable enough to want to ride.\n",
      "527\n",
      "14\n",
      "Hello all,I finally found the courage to look at my PSA result on-line. This was the most anxiety I have ever experienced on a PSA test. Have appointment with Uro on Monday and I always want my results ahead to get my advice from here to be ready with questions. Result is <.01 to which I am very relieved. I recently read NolaVette's post below so I get that it is really a result and not necessarily a cure.I will take it, be happy and wait for the next 3 months to see if we keep the good news going.On the continence side I am doing well. It is weird, I will have 4 great days and then get up from a chair and have a what was that????? It only happens once in a while and not a lot of leakage. This week I have pretty much been fully continent, an occasional drip. Seems the last two weeks have been vast improvement weeks although my experience has been above average based on some of the posts I have seen here.On the ED side not much success. I do get a partial erection after an orgasm which lasts a few minutes. Any thoughts on that? I am continuing with daily Cialis and will be asking the Uro for some direction on where to go from here.So all in all, I am pleased to date with my decision and recovery results, still have a ways to go.Have a great weekend friends,Greg\n",
      "259\n",
      "15\n",
      "Hello all,Some good news...My 4.5 year test came back at 0.03!It's up from my previous, but my Uro isn't concerned about it.  He feels that it's not significant, and I guess I'm allowing myself to believe him.I'm so grateful to this forum for keeping me sane.  Having a community of support like this is invaluable.Cheers!\n",
      "67\n",
      "16\n",
      "I used to get videos from Snuffy Meyers with new treatments that he may be administering,however haven't received anything in a long while.Does anyone know his status?Thank you, BOOGEE\n",
      "33\n",
      "17\n",
      "Latest result is in and I don't like what I'm seeing.  Sure is looking like a trend and not just noise.PSA @ 3 & 06 Months <.05  PSA @ 9 & 12 Months  .03PSA @ 15 Months .05PSA @ 18 Months .07Jon\n",
      "39\n",
      "18\n",
      "I had a great conversation the other night with my older son, the computer programmer. We were talking about computer developments in general and how sophisticated they are getting to be. (For example, we discussed those new-fangled cars that drive themselves). And as we were talking, somehow the subject of the famous \"Turning test\" came up.I'm sure you know the one I mean. It's the one where an examiner talks to two entities in separate rooms, one is a computer, the other a human (the examiner can see neither), and the examiner tries to deduce merely from conversation with each which is which. If he is unable to do so, then the conclusion is that artificial intelligence in the computer has been achieved.Following our conversation, just for fun I later did some websearching about the Turing test and turned up some very interesting facts about it that I hadn't known before. For example,Original version of the test:\"Alan Turing, in a 1951 paper, proposed a test called \"The Imitation Game\" that might finally settle the issue of machine intelligence. The first version of the game he explained involved no computer intelligence whatsoever. Imagine three rooms, each connected via computer screen and keyboard to the others. In one room sits a man, in the second a woman, and in the third sits a person - call him or her the \"judge\". The judge's job is to decide which of the two people talking to him through the computer is the man. The man will attempt to help the judge, offering whatever evidence he can (the computer terminals are used so that physical clues cannot be used) to prove his manhood. The woman's job is to trick the judge, so she will attempt to deceive him, and counteract her opponent's claims, in hopes that the judge will erroneously identify her as the male.\"Then applied to computers:\" What does any of this have to do with machine intelligence? Turing then proposed a modification of the game, in which instead of a man and a woman as contestants, there was a human, of either gender, and a computer at the other terminal. Now the judge's job is to decide which of the contestants is human, and which the machine. Turing proposed that if, under these conditions, a judge were less than 50% accurate, that is, if a judge is as likely to pick either human or computer, then the computer must be a passable simulation of a human being and hence, intelligent. The game has been recently modified so that there is only one contestant, and the judge's job is not to choose between two contestants, but simply to decide whether the single contestant is human or machine.\"Source: www.psych.utoronto.ca/users/reingold/courses/ai/turing.htmlDuring our discussion, my son, who I'm convinced has great insight into where computer developments are likely to be going, also described what he said would be the next Turing test, or \"Turing  test, 21st century version,\" as he put it. Namely, we would walk into a room, meet and shake hands with a person there, and then sit down and have a good conversation with him or her about anything. Then after a while the two of us would stop talking, we would stand up, we would say goodbye to the person, shake hands again, and we would then leave the room. Then, once outside the room, we would be approached by an examiner who would ask \"Was that a real person or a robot you just interacted with?\" If we would then find ourselves not sure or unable to decide, then the robot we just encountered would have passed the \"Turing test, 21st century version,\" and be considered artificially intelligent, as well as being a \"perfect\" robot (actually, android being the better term).But now, on to the Friday humor aspect of this. Namely, in a way, we experience the conditions of the Turing test right here every day on this forum, every day that we sign on here and post and read messages. Specifically, for my part (and for yours too when you think about it) all I (or you) ever see here is usernames and text messages. So how am I to know that all of you aren't, in reality, computers spread across the globe, posting here machine-generated replies in response to the text that I, the only real person here, post, and that all you machines read, analyze, and reply to, by some sophisticated AI program? Or, how do you know that I'm not just a mainframe in somebody's basement somewhere, posting responses back to what you all have posted, using some similar kind of program? <grin>Naah, I don't really believe that, and neither do you. And I know this thread is rather a bit silly. But maybe just thinking about the possibility of it makes for a little Friday fun. After all, it must be admitted that the possibility that it could be true is there, which is at the same time a bit humorous as well as a bit chilling!  A while back I posted a thread about how lifelike computer-generated telemarketer voices had become, perhaps beginning to approach the point where we might actually start to have trouble distinguishing them from real humans. Here's the link to that thread:www.healingwell.com/community/default.aspx?f=35&m=3470144(Click on the link at the bottom of the first post to hear the life-like computer-generated voice)Of course this has always been a major staple of modern science fiction, that gray area between being human, and the android encroachment that can take place into that area of being human, including the disturbing outcomes which that may bring:For example:/www.youtube.com/watch?v=vQ6gEt00a-YBut who knows what things will be like in a few decades, or even sooner? The coming cyberworld, androids and all, may well be, to paraphrase Shakespeare, \"… a  strange new world that has such creatures in it.\"So maybe good for a Friday laugh … but maybe for a little serious thought as well.(Oh and BTW, I do want to make it clear that I am not a machine… not a machine… not a machine…)    \n",
      "1065\n",
      "19\n",
      "I am starting a new thread for the Gat Goren discussion since there is a limit of 9 continuation pages on the forum before a thread becomes corrupted and lost. Please continue that discussion here.If you want to read the previous (Part 6) thread it is here:www.healingwell.com/community/default.aspx?f=35&m=3270919\n",
      "58\n",
      "20\n",
      "I have posted on similar issues in the past...but I know that there are constantly new users and thus thought I would seek some additional guidance.No history of prostate cancer, mid 40s...with PSA's over the last 5-6 years that have ranged from 2.5-3.9....however, the 3.9 was followed by a 2.6 without ABX after a three month wait.  In short, lots of up and down numbers, most recent a 3.4Saw competent urologist from one of the prime teaching hospitals in the Country...and he decided to go with the mpMRI 3T in essence as a screening test in lieu of the biopsy.  Seemed generally to make sense to me given that biopsies can have false negatives.  I appreciate the limitations of MRI...results consistent with prostatitis, no lesion, tumor or capsule compromise noted.The plan was to follow up with 2 more PSA's at 6 month and 12 months and reevaluate...sound like a good plan....my sense from all that I have read is that MRI would have picked up anything significant...but potentially not a Gleason 6 small tumor?  Am I correct on this....and more importantly what is the thoughts for others on the board as to whether this plan makes sense....I know a lot of individuals are resistant to the thought of a biopsy...will we reach the stage where MRI will place biopsy as second step in screening....and while biopsies clearly can show +/- as to cancer and necessary to obtain paths specimens...keeping $$$ aside...whats your thoughts as to how this will ultimately trend.Thanks\n",
      "274\n",
      "21\n",
      "OK - If I thought it would be difficult to talk about having prostate cancer, this one is even more difficult for me.As I \"hint\" in my signature, I was diagnosed as symptomatic hypogonadal some years ago.  For the past 3 1/2 years I've been using Testim gel for hormone replacement with very good results.  Symptoms are gone, I feel really good.  Until my PCa diagnosis, I was sure I was in great health - especially for my age.But now, I hear from my uro that once PCa is detected, hormone replacement therapy is contra-indicated.  So, I imagine that as soon as I make a treatment decision, he will direct me to stop the hormone replacement.  I asked him if he would prescribe ADT for a hypothetical patient who had my exact pathology but was not hypogonadal, and he said \"I guess not.\"  But he didn't change his stance that my HRT should stop.  I know that there are some studies now being done to refute the \"common practice\" of HRT cessation, but he apparently doesn't accept the findings yet.  So, I'm likely to be forced back into my previous status of being symptomatic hypogonadal.  I actually fear this more than I fear the diagnosis or treatment of the cancer.I've searched this site to some degree about SE's of ADT, as I expect that my SE's will likely be similar.  I know the ones I experienced in the past - loss of libido (yeah - what's that?), mood swings, hot flashes, night sweats, changes in hair growth (I'm not balding, so no upside here), depression, crying for no reason, loss of cognitive function. . . I was kind of a wreck.  Now I feel that I'm being railroaded back down that train wreck path.  The fact that makes it worse for me to look ahead at this probability is that it is likely to exist for life, not for just a set time period.  It becomes especially murky for me because I am not considering surgery - too many other medical issues for me to feel confident about the outcome.  (Sorry for venting, but I'm sure you understand where I'm coming from.)Anyway, for all of you who have experienced ADT, how did you cope with the SE's?  Where did you turn for help?  I expect my uro to only be slightly helpful.  He spoke about all the wondrous things that can be done for ED, but what if you simply don't GAF about that because your body doesn't know sex exists?  (I was there, too.)I've tried my usual self-talk therapy (learned that many years ago), and I do believe that I can manage to deal with the physical changes, to a degree.  I know, again from experience, that I will have many of the body composition effects like weight gain, loss of muscle mass, loss of energy, aches and pains, etc.  I understand that my choice there is to either live a potentially shorter lifespan as I feel now, or to live a likely much longer lifespan but feel and look my age.  I can make that decision and accept the outcome.  I know that I can probably delay the worst of it by spending more time in the gym (almost an hour a day now, though.  Time?), but the SE's will come to be.I'm most concerned about the emotional/cognitive issues that I experienced in the past.  I was a nasty SOB much of the time, and I couldn't help myself.  I was not the person I am now, and people sensed it.  I was making mistakes in my work - and I can't tolerate that.I'm really sorry to be burdening all of you with this sort of issue.  It obviously is related to PCa, but is not likely to be an issue of survival or disease control for me.  It is just that I'm at a loss to know where in my care team to seek help, or what sort of help I might find to try to manage my QOL when the articles I've found (here and other sources) only say that the doctor should make \"appropriate referrals\" for patients experiencing these symptoms.  I can't seem to find any guidance as to what can actually be done, and thus far I've only seen and heard \"lip service\" to the impact these SE's have on patient QOL.As one of the TV commercials of decades ago noted. . . \"A mind is a terrible thing to waste.\"I'm Scared.\n",
      "778\n",
      "22\n",
      "Greetings,My first post here. Thanks so much for your info and support. I have been lurking here for a few months- thought I would say hi and give my story.I am 57; diagnosed in October with Gleason 6. 2 out of 12 cores positive. One was 10% the other 50%. DRE negative. PSA is now up to 6 (as of May).  It was over 4 in January- over 5 after a round of antibiotics. Another PSA is pending because I was called in earlier than expected after a Prolaris score of 3.7 (more aggressive).  With all of these numbers, my urologist would like me to get treatment within the next 9 months.I feel thankful that this was caught early. Of course at the same time this is all pretty scary. I am not interested in radiation. So my choice is to have surgery sooner, or to wait and get another biopsy in January.  I am leaning toward the surgery soon for various reasons. Timing is good for sure. The weird thing is that I feel great physically. I have done a lot of reading and the education you can get on line is pretty amazing. I know to take some things with a grain of salt, but you all seem pretty practical and logical.  Nice group.Anyways, thanks for listening. Any advice is welcome.Be well, DougPost Edited (Depov) : 8/20/2016 8:25:00 PM (GMT-6)\n",
      "242\n",
      "23\n",
      "A kind Hello from RicktheRock (I guess there is an RTR already)Just stopped by to say hi and say this is quite a ride.There sure are some knowledgable people on here. Thank you for all the information and concern for our brothers.Rick\n",
      "45\n",
      "24\n",
      "HiFirst of all, what a wonderful forum ... I've trudged around and read the newly diagnosed FAQ ... thank you all for adding to this knowledge base.So, I never had my PSA read before, and during my last physical, since I'm 44yr old, my primary care performed it for me, and wa-la ... a 15.1So I then got a biopsy, and only the Right Lateral Apex came back with a Positive hit with a gleason score of 3+3 4mm 30%I asked me doctor to re-submit the samples to a separate reference lab, he said he would.He also said, at my age, he _highly_ recommended a Robotic surgery.... Anyone have a similar experience from what I'm in?I'm looking for a PRO's / CON's type chart for the different options... Radiation, Proton beam, etc etc... does one exist?Also, has anyone seen something like this before where it was a mistake?Would it make sense to wait and do another biopsy to verify the results?Or, should I suck it up and just go get the Robotic surgery? ... Any advice, or links to help me get a grasp on my options?Thanks!Zzarth\n",
      "201\n",
      "25\n",
      "Here is an article that details how Xtandi was developed with public funding, patented, but then the patent sold to a private drug company who has been accused of price gouging...keionline.org/sites/default/files/Xtandi-Press-Release.pdf\n",
      "40\n",
      "26\n",
      "I repeated the same scans I had last year, just read the3 page reports from patient portal but will not see the doctor till September. My psa is staying low .26 now. The report says I have mets progression; would this qualify as my cancer advancing so I could get additional treatment. Has anyone had experience with mets progression without psa increase?NUCLEAR MEDICINE WHOLE BODY BONE SCAN 8/12/16Partial-FINDINGS:There is bilateral renal activity. There is accumulation of activity in the urinary bladder. There is focal increased uptake involving the left inferior ischial ramus. This is suspicious forosseous metastasis.There is mild increased uptake involving the shoulders and ankles. These findings are likelydegenerative in nature. No other areas of abnormally increased osseous uptake are identified.CT ABDOMEN AND PELVIS WITH CONTRAST 8/12/16Partial report:TECHNIQUE: CT images were obtained through the abdomen and pelvis following oral contrastand intravenous administration of 100 cc Isovue 370. The exam was performed utilizingautomated exposure control for dose reductionIMPRESSION:1)\tThere are multiple sclerotic bone lesions. 2)\tThe findings suggest osseous metastasis. 3)\tThere are sclerotic lesions involving the lumbar spine and bony pelvis as described. There has been progression of the abnormality in the left acetabulum as well as the left superior and inferior ischial and pubic rami as described. Increased uptake was noted on the recent bone scan.\n",
      "229\n",
      "27\n",
      "Greetings Brothers & Forumites. This post may be more of a rant than anything, but it's time to start paying forward....AND backwards.\n",
      "23\n",
      "28\n",
      "OK - I'm new here, but I am not new to internet boards and their search functions.  I am newly diagnosed with, I think, favorable intermediate risk PCa (PSA 5.7, 4 of 12 cores positive, 3 are G3+3, 1 is G3+4, all low percentages with only the 3+4 core at 15%, others less).  At the moment, due to my age and some other cardiac conditions I have, I am thinking that radiation may be my choice for primary therapy.  When I read the postings here (and on another board), it looks like the vast majority of patients either have no experience with radiation, or it was used as a salvage therapy.  I haven't seen anything from folks who chose radiation as their first-line therapy.  (Did I miss it?)From what I've read of published studies, it is generally accepted that radiation is about as effective, in general, as surgery for low and intermediate risk PCa.  Does anyone know why there is so little (none?) activity on the boards from patients who had radiation as their primary therapy?  (I'll exclude the sites like the CyberKnife forum, as that is almost entirely radiation patients, but not general info, mainly specific to that delivery vehicle).One thought that I had was that many of the low and intermediate-risk patients are not deeply affected by their diagnoses, so they simply pick their treatment, get it done, and go back to their lives.  Patients having more serious pathology or having multiple complications may be more affected, and more inclined to participate in online support groups.  (I have found this to be the case on boards dedicated to some other medical conditions.)So. . . does anybody really know?  Does anybody know where I can go to learn about why some patients chose or did not choose radiation and what the patients' experiences were (specifically with respect to radiation as primary therapy - all due respect to those who chose radiation as a salvage therapy, but that is a very different situation)?Any help is appreciated.\n",
      "346\n",
      "29\n",
      "A month or so ago, I started a thread about what was then \"possible\" changes coming in my personal life, well those changes are no longer possibilities, they are reality.  And, my tie back to PC is this: I think the life changes that a significant medical issue forces on us (certainly forced on me) has made it possible to look at the situation as an opportunity, not as a disaster.Briefly, for nearly 36 years (yes, if you add it up, I started just after my 22nd birthday), I have worked in the coal-fired power generation business.  I've been at the current plant for just under 26 years.  I have ridden through the transition from being part of a regulated Utility to a deregulated (sort of) independent production facility.  A few months ago, our corporate leadership announced plans to mothball 1/2 of the plant I work at, with the subsequent elimination of 49 jobs on October 3.  Guessing that my job might be on the elimination list, I started being proactive, and have found and accepted a position at a consulting and service company based a long way from my current home in southeastern Illinois.  So, on October 17, I start my new job based in the northside suburbs of Philadelphia.Big changes.  Opportunities.  And not nearly as stressful or challenging as hearing the \"your biopsy came back positive\".  I've written before about how my diagnosis and treatment changed me.  Not about the physical changes, but about the mental ones.  I know I'm better at listening, I'm more thoughtful and introspective.  I'm more willing to embrace life on life's terms.  And so, as I prepare to sign a real estate sales contract in the next few days, and plan a house-hunting trip to the new area, and wonder if I'm really capable of doing the job I'm being hired to do....I know that I've weathered harder things, and this will just be another blip on the road.\n",
      "341\n",
      "30\n",
      "If you're going to post a Link/URL to an article etc...Please follow these steps to make the link clickable.Click the URL button above and you'll see:[URL ]   (but without the space)Then paste in the link-> http://www.healingwell.com/community/default.aspx?f=35Then click the URL Button again and you'll see:[/URL ]The Finished results before you click the submit button will look like:[URL ] http://www.healingwell.com/community/default.aspx?f=35 [/URL ]And it'll end up like:www.healingwell.com/community/default.aspx?f=35NOTE that you can also manually type the [URL ]   [/URL ] before and after the link you paste... Just don't use the space.\n",
      "119\n"
     ]
    }
   ],
   "source": [
    "for x in range(30):\n",
    "    print(x+1)\n",
    "    thread = session.query(Thread).get(x+1)\n",
    "    print(thread.body)\n",
    "    print(word_count(thread.body))"
   ]
  },
  {
   "cell_type": "code",
   "execution_count": 10,
   "metadata": {
    "collapsed": false
   },
   "outputs": [
    {
     "name": "stdout",
     "output_type": "stream",
     "text": [
      "7\n",
      " \n",
      "I am having a very nice day.\n"
     ]
    }
   ],
   "source": [
    "import re\n",
    "line = \" \\nI am having a very nice day.\"\n",
    "count = len(re.findall(r'\\w+', line))\n",
    "print (count)\n",
    "print (line)"
   ]
  },
  {
   "cell_type": "code",
   "execution_count": 25,
   "metadata": {
    "collapsed": true
   },
   "outputs": [],
   "source": [
    "def word_count(doc):\n",
    "    count = len(re.findall(r'\\w+', doc))\n",
    "    return count"
   ]
  },
  {
   "cell_type": "code",
   "execution_count": 35,
   "metadata": {
    "collapsed": false
   },
   "outputs": [],
   "source": [
    "thread = session.query(Thread).get(0)"
   ]
  },
  {
   "cell_type": "code",
   "execution_count": 37,
   "metadata": {
    "collapsed": false
   },
   "outputs": [
    {
     "data": {
      "text/plain": [
       "NoneType"
      ]
     },
     "execution_count": 37,
     "metadata": {},
     "output_type": "execute_result"
    }
   ],
   "source": [
    "type(thread)"
   ]
  },
  {
   "cell_type": "code",
   "execution_count": 42,
   "metadata": {
    "collapsed": false
   },
   "outputs": [
    {
     "data": {
      "text/plain": [
       "'\\nWe have a lot of collective wisdom at this site.\\xa0 Let’s make a value-added list of posts with wisdom that newcomers might not be initially aware of, and help get them off to a great start on their “patient education” journey.\\xa0 When we see a newcomer joining HW/PC, we can say, \"Welcome!\\xa0 Be sure to visit the thread called, \\'Newly diagnosed with PC? — read this thread first.\\'\"\\nLet’s please avoid the goofy “posts about other posts” that don’t add value but consume space…let’s add to this thread only with information valuable to the PC newcomers in mind.\\xa0 Also, let’s please avoid the posts that begin with “Well, in my case…” which becomes a post \"all about you,\" because this thread is not intended to be about what you did or what your case was.\\xa0 It’s intended to be a general\\xa0reference thread of information for the PC newcomers.\\xa0 There are plenty of other threads to tell everyone all about you.\\nFurther to this same point, my message to the newcomers who will benefit from this thread\\xa0in the future is that you can save your “thank you” replies for other threads because these types of messages will, similarly, clog the space in the thread.\\xa0 Let’s keep the all the thread entries focused on the points newcomers may not be initially know about prostate cancer.\\xa0 \\n\\nAdded later as an edit:\\xa0 I’ll say “you are welcome” here to all those who have emailed me an offline\\xa0“thank you” for having created this thread...\\nThis thread has the potential to live on for a long time, and be referenced by many people in the future.\\xa0 Let’s put our best foot forward.\\xa0 Let’s see if we can turn this into some good…\\n\\xa0\\nIMPORTANT (although perhaps obvious) NOTE:\\xa0 this is not \"medical advice,\" and should not be a substitute for medical advice; it is merely a collection of learnings and information about PC which often takes a while to be educated about\\n\\xa0\\nI’ll get this started with a post which will help to guide future posts, and then you guys can help to carry this legacy forward.\\xa0\\xa0 Here we go...best foot forward...\\n\\n\\xa0\\n\\xa0\\nSome of the tidbits of lessons learned/wisdom which may be added to this thread following this post will be intended for only one of these risk categories, others will be generic.\\xa0 If it is going to be valuable for only one of the risk categories, it will be helpful to indicate which one.\\xa0 For example, just say something like, “This input is for HIGH RISK men…”\\n\\xa0\\nSUMMARY:\\xa0 Know your “risk category”\\nProstate cancer is really like two, or perhaps three, very different diseases.\\xa0 The recommended treatments (or non-treatment recommendations) are based largely on the NCCN Clinical Guidelines.\\xa0\\xa0 Step #1 for all PC newcomers is to be able to answer the question, “What is your risk category?”\\xa0 \\n\\xa0\\nThe NCCN “risk categories” are listed below:\\n·\\xa0\\xa0\\xa0\\xa0\\xa0\\xa0\\xa0\\xa0 HIGH RECURRENCE RISK\\no\\xa0\\xa0\\xa0 PSA > 20 ng/mL\\no\\xa0\\xa0\\xa0 and/or Gleason 8-10\\no\\xa0\\xa0\\xa0 and/or cT3 tumor\\n\\xa0\\n·\\xa0\\xa0\\xa0\\xa0\\xa0\\xa0\\xa0\\xa0 INTERMEDIATE RECURRENCE RISK\\no\\xa0\\xa0\\xa0 PSA between 10-20 ng/mL\\no\\xa0\\xa0\\xa0 and/or Gleason = 7\\no\\xa0\\xa0\\xa0 and/or cT2b-c tumor\\n\\xa0\\n·\\xa0\\xa0\\xa0\\xa0\\xa0\\xa0\\xa0\\xa0 LOW RECURRENCE RISK\\no\\xa0\\xa0\\xa0 PSA < 10 ng/mL\\no\\xa0\\xa0\\xa0 and Gleason < 7\\no\\xa0\\xa0\\xa0 and cT1-T2a tumor\\n\\xa0\\n·\\xa0\\xa0\\xa0\\xa0\\xa0\\xa0\\xa0\\xa0 VERY LOW RECURRENCE RISK\\no\\xa0\\xa0\\xa0 PSA < 10 ng/mL\\no\\xa0\\xa0\\xa0 and Gleason < 7\\no\\xa0\\xa0\\xa0 and cT1c tumor\\no\\xa0\\xa0\\xa0 and PSA density <0.15\\no\\xa0\\xa0\\xa0 and <3 biopsy cores positive, <=50% cancer in any core\\n\\xa0\\n\\xa0\\nNewly diagnosed?\\xa0 What\\'s your risk category?\\n\\n\\xa0\\n\\xa0\\n\\xa0Post Edited (Casey59) : 7/12/2013 2:57:26 PM (GMT-6)'"
      ]
     },
     "execution_count": 42,
     "metadata": {},
     "output_type": "execute_result"
    }
   ],
   "source": [
    "thread = session.query(Thread).get(1)\n",
    "thread.body"
   ]
  },
  {
   "cell_type": "code",
   "execution_count": null,
   "metadata": {
    "collapsed": true
   },
   "outputs": [],
   "source": []
  }
 ],
 "metadata": {
  "kernelspec": {
   "display_name": "Python 3",
   "language": "python",
   "name": "python3"
  },
  "language_info": {
   "codemirror_mode": {
    "name": "ipython",
    "version": 3
   },
   "file_extension": ".py",
   "mimetype": "text/x-python",
   "name": "python",
   "nbconvert_exporter": "python",
   "pygments_lexer": "ipython3",
   "version": "3.5.1"
  }
 },
 "nbformat": 4,
 "nbformat_minor": 0
}
