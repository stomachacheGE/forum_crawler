{
 "cells": [
  {
   "cell_type": "code",
   "execution_count": 1,
   "metadata": {
    "collapsed": false
   },
   "outputs": [],
   "source": [
    "from sqlalchemy import create_engine\n",
    "from sqlalchemy.orm import sessionmaker\n",
    "from db_initialize import *\n",
    "\n",
    "engine = create_engine('sqlite://///Users/Johnson/Documents/nit/thesis/forum_crawler/database.db')\n",
    "Session = sessionmaker(bind=engine)\n",
    "Base.metadata.bind = engine\n",
    "session = Session()"
   ]
  },
  {
   "cell_type": "code",
   "execution_count": 2,
   "metadata": {
    "collapsed": false
   },
   "outputs": [
    {
     "name": "stdout",
     "output_type": "stream",
     "text": [
      "User <0311> is from forum <healing well>, has 0 threads, 1 posts.\n",
      "User <1218davinci> is from forum <healing well>, has 0 threads, 1 posts.\n",
      "User <60Michael> is from forum <healing well>, has 0 threads, 2 posts.\n",
      "User <614-2101-765-611> is from forum <healing well>, has 0 threads, 1 posts.\n",
      "User <81GyGuy> is from forum <healing well>, has 3 threads, 2 posts.\n",
      "User <ASAdvocate> is from forum <healing well>, has 0 threads, 7 posts.\n",
      "User <Aimzee> is from forum <healing well>, has 0 threads, 2 posts.\n",
      "User <Almost a 10> is from forum <healing well>, has 0 threads, 6 posts.\n",
      "User <AnotherDisplayName> is from forum <healing well>, has 0 threads, 1 posts.\n",
      "User <Artist Mark> is from forum <healing well>, has 2 threads, 4 posts.\n",
      "User <BOOGEE> is from forum <healing well>, has 0 threads, 2 posts.\n",
      "User <Berdoo/Arkansas> is from forum <healing well>, has 1 threads, 1 posts.\n",
      "User <Big Mac> is from forum <healing well>, has 0 threads, 1 posts.\n",
      "User <BillyBob@388> is from forum <healing well>, has 0 threads, 6 posts.\n",
      "User <Bobby Mac> is from forum <healing well>, has 1 threads, 9 posts.\n",
      "User <Bololidat> is from forum <healing well>, has 1 threads, 10 posts.\n",
      "User <Boon1> is from forum <healing well>, has 0 threads, 11 posts.\n",
      "User <Break60> is from forum <healing well>, has 0 threads, 8 posts.\n",
      "User <Cajun Jeff> is from forum <healing well>, has 1 threads, 3 posts.\n",
      "User <CaliJR> is from forum <healing well>, has 1 threads, 15 posts.\n",
      "User <Chask> is from forum <healing well>, has 0 threads, 3 posts.\n",
      "User <ChrisR> is from forum <healing well>, has 0 threads, 1 posts.\n",
      "User <Cigafred> is from forum <healing well>, has 1 threads, 3 posts.\n",
      "User <DYank> is from forum <healing well>, has 0 threads, 2 posts.\n",
      "User <Dan0> is from forum <healing well>, has 0 threads, 1 posts.\n",
      "User <Dave-Rockville,MD> is from forum <healing well>, has 0 threads, 2 posts.\n",
      "User <Deon124> is from forum <healing well>, has 1 threads, 4 posts.\n",
      "User <DougS> is from forum <healing well>, has 1 threads, 2 posts.\n",
      "User <Dr WHO> is from forum <healing well>, has 0 threads, 3 posts.\n",
      "User <Dugalf> is from forum <healing well>, has 1 threads, 0 posts.\n",
      "User <Easy Ace> is from forum <healing well>, has 0 threads, 1 posts.\n",
      "User <English Alf> is from forum <healing well>, has 1 threads, 1 posts.\n",
      "User <F8> is from forum <healing well>, has 0 threads, 7 posts.\n",
      "User <Fairwind> is from forum <healing well>, has 0 threads, 8 posts.\n",
      "User <Faustmann> is from forum <healing well>, has 0 threads, 1 posts.\n",
      "User <Fl Drifter> is from forum <healing well>, has 1 threads, 1 posts.\n",
      "User <FoxRun> is from forum <healing well>, has 1 threads, 5 posts.\n",
      "User <Gemlin> is from forum <healing well>, has 0 threads, 4 posts.\n",
      "User <George_> is from forum <healing well>, has 0 threads, 4 posts.\n",
      "User <Georgenyc> is from forum <healing well>, has 1 threads, 9 posts.\n",
      "User <Gleason 6> is from forum <healing well>, has 1 threads, 4 posts.\n",
      "User <Gunner34> is from forum <healing well>, has 0 threads, 2 posts.\n",
      "User <HD_Rider> is from forum <healing well>, has 0 threads, 1 posts.\n",
      "User <Hawaii-Guy> is from forum <healing well>, has 0 threads, 1 posts.\n",
      "User <Hilander64> is from forum <healing well>, has 1 threads, 4 posts.\n",
      "User <Howard3569> is from forum <healing well>, has 2 threads, 2 posts.\n",
      "User <ISU-CycloneFan> is from forum <healing well>, has 1 threads, 23 posts.\n",
      "User <InTheShop> is from forum <healing well>, has 0 threads, 27 posts.\n",
      "User <Infohound2> is from forum <healing well>, has 0 threads, 1 posts.\n",
      "User <Inspector 13> is from forum <healing well>, has 0 threads, 1 posts.\n",
      "User <JNF> is from forum <healing well>, has 0 threads, 6 posts.\n",
      "User <JackH> is from forum <healing well>, has 0 threads, 11 posts.\n",
      "User <James C.> is from forum <healing well>, has 0 threads, 4 posts.\n",
      "User <JamesE> is from forum <healing well>, has 0 threads, 4 posts.\n",
      "User <Jaybee_007> is from forum <healing well>, has 1 threads, 0 posts.\n",
      "User <Jazzman1> is from forum <healing well>, has 0 threads, 2 posts.\n",
      "User <Jerry L.> is from forum <healing well>, has 0 threads, 3 posts.\n",
      "User <JimBear> is from forum <healing well>, has 0 threads, 1 posts.\n",
      "User <Joe in Nice> is from forum <healing well>, has 0 threads, 1 posts.\n",
      "User <John T> is from forum <healing well>, has 0 threads, 1 posts.\n",
      "User <John_TX> is from forum <healing well>, has 0 threads, 3 posts.\n",
      "User <Jollytinker> is from forum <healing well>, has 1 threads, 0 posts.\n",
      "User <JustJulie> is from forum <healing well>, has 0 threads, 2 posts.\n",
      "User <Kark60> is from forum <healing well>, has 0 threads, 1 posts.\n",
      "User <KeepOnTruckin> is from forum <healing well>, has 0 threads, 2 posts.\n",
      "User <Larry E> is from forum <healing well>, has 0 threads, 1 posts.\n",
      "User <Mack54> is from forum <healing well>, has 0 threads, 1 posts.\n",
      "User <Mag E May> is from forum <healing well>, has 0 threads, 1 posts.\n",
      "User <Manfred> is from forum <healing well>, has 0 threads, 1 posts.\n",
      "User <Max Vision> is from forum <healing well>, has 0 threads, 1 posts.\n",
      "User <Michael_T> is from forum <healing well>, has 0 threads, 6 posts.\n",
      "User <MistyCoffee> is from forum <healing well>, has 0 threads, 2 posts.\n",
      "User <NY-Sooner> is from forum <healing well>, has 1 threads, 0 posts.\n",
      "User <Nell79> is from forum <healing well>, has 1 threads, 2 posts.\n",
      "User <NewDay> is from forum <healing well>, has 0 threads, 1 posts.\n",
      "User <NewspaperLover> is from forum <healing well>, has 0 threads, 1 posts.\n",
      "User <Newton451> is from forum <healing well>, has 0 threads, 14 posts.\n",
      "User <Nomar Lupron 4 Me> is from forum <healing well>, has 0 threads, 2 posts.\n",
      "User <Northern Lights> is from forum <healing well>, has 0 threads, 1 posts.\n",
      "User <Northfoot> is from forum <healing well>, has 0 threads, 1 posts.\n",
      "User <PDL17> is from forum <healing well>, has 0 threads, 2 posts.\n",
      "User <PSA3DOT7> is from forum <healing well>, has 0 threads, 1 posts.\n",
      "User <PeterDisAbelard.> is from forum <healing well>, has 0 threads, 6 posts.\n",
      "User <Pratoman> is from forum <healing well>, has 0 threads, 18 posts.\n",
      "User <Purgatory> is from forum <healing well>, has 0 threads, 2 posts.\n",
      "User <RCS> is from forum <healing well>, has 1 threads, 3 posts.\n",
      "User <RandyJoe> is from forum <healing well>, has 1 threads, 2 posts.\n",
      "User <Redwing57> is from forum <healing well>, has 0 threads, 5 posts.\n",
      "User <RobertC> is from forum <healing well>, has 0 threads, 2 posts.\n",
      "User <Roy123> is from forum <healing well>, has 0 threads, 1 posts.\n",
      "User <Sam-the-Man> is from forum <healing well>, has 0 threads, 2 posts.\n",
      "User <ShinytopPC> is from forum <healing well>, has 0 threads, 1 posts.\n",
      "User <Sonny3> is from forum <healing well>, has 1 threads, 5 posts.\n",
      "User <SophieW> is from forum <healing well>, has 1 threads, 4 posts.\n",
      "User <Southern Comfort> is from forum <healing well>, has 0 threads, 1 posts.\n",
      "User <SteelGuy> is from forum <healing well>, has 0 threads, 1 posts.\n",
      "User <Steve n Dallas> is from forum <healing well>, has 1 threads, 4 posts.\n",
      "User <SueCAll> is from forum <healing well>, has 0 threads, 2 posts.\n",
      "User <TIGER74> is from forum <healing well>, has 0 threads, 2 posts.\n",
      "User <Tall Allen> is from forum <healing well>, has 2 threads, 69 posts.\n",
      "User <Teamchris> is from forum <healing well>, has 0 threads, 1 posts.\n",
      "User <Thommy2458> is from forum <healing well>, has 1 threads, 5 posts.\n",
      "User <Tim G> is from forum <healing well>, has 0 threads, 8 posts.\n",
      "User <Todd1963> is from forum <healing well>, has 1 threads, 9 posts.\n",
      "User <Tony Crispino> is from forum <healing well>, has 0 threads, 4 posts.\n",
      "User <Traveller58> is from forum <healing well>, has 1 threads, 0 posts.\n",
      "User <Tudpock18> is from forum <healing well>, has 0 threads, 8 posts.\n",
      "User <Whippoorwill> is from forum <healing well>, has 1 threads, 11 posts.\n",
      "User <Wings of Eagles> is from forum <healing well>, has 1 threads, 2 posts.\n",
      "User <Works Out> is from forum <healing well>, has 0 threads, 4 posts.\n",
      "User <Zen9> is from forum <healing well>, has 1 threads, 0 posts.\n",
      "User <Zzarth> is from forum <healing well>, has 1 threads, 0 posts.\n",
      "User <akai> is from forum <healing well>, has 0 threads, 2 posts.\n",
      "User <alephnull> is from forum <healing well>, has 1 threads, 8 posts.\n",
      "User <ao> is from forum <healing well>, has 0 threads, 1 posts.\n",
      "User <audrey1969> is from forum <healing well>, has 0 threads, 1 posts.\n",
      "User <boyntonsteveg> is from forum <healing well>, has 2 threads, 1 posts.\n",
      "User <browntrout> is from forum <healing well>, has 1 threads, 5 posts.\n",
      "User <celebrate life> is from forum <healing well>, has 1 threads, 9 posts.\n",
      "User <cfbbneil> is from forum <healing well>, has 1 threads, 2 posts.\n",
      "User <chrisp1> is from forum <healing well>, has 1 threads, 4 posts.\n",
      "User <clocknut> is from forum <healing well>, has 0 threads, 1 posts.\n",
      "User <compiler> is from forum <healing well>, has 1 threads, 4 posts.\n",
      "User <dkob131> is from forum <healing well>, has 0 threads, 1 posts.\n",
      "User <dmlvt> is from forum <healing well>, has 1 threads, 0 posts.\n",
      "User <don826> is from forum <healing well>, has 0 threads, 3 posts.\n",
      "User <drjmo> is from forum <healing well>, has 0 threads, 1 posts.\n",
      "User <eyetat> is from forum <healing well>, has 0 threads, 1 posts.\n",
      "User <fuunit> is from forum <healing well>, has 0 threads, 1 posts.\n",
      "User <fuzzboxman> is from forum <healing well>, has 1 threads, 0 posts.\n",
      "User <goatts> is from forum <healing well>, has 0 threads, 1 posts.\n",
      "User <grumpyone99> is from forum <healing well>, has 0 threads, 1 posts.\n",
      "User <guytalk> is from forum <healing well>, has 0 threads, 1 posts.\n",
      "User <halbert> is from forum <healing well>, has 2 threads, 22 posts.\n",
      "User <island time> is from forum <healing well>, has 0 threads, 12 posts.\n",
      "User <john16> is from forum <healing well>, has 0 threads, 2 posts.\n",
      "User <junbug> is from forum <healing well>, has 1 threads, 0 posts.\n",
      "User <keysailfisher> is from forum <healing well>, has 1 threads, 1 posts.\n",
      "User <kitty19> is from forum <healing well>, has 0 threads, 1 posts.\n",
      "User <lapilot> is from forum <healing well>, has 0 threads, 3 posts.\n",
      "User <lifeguyd> is from forum <healing well>, has 0 threads, 1 posts.\n",
      "User <mitchden4> is from forum <healing well>, has 1 threads, 1 posts.\n",
      "User <mspt98> is from forum <healing well>, has 0 threads, 1 posts.\n",
      "User <nepol> is from forum <healing well>, has 1 threads, 4 posts.\n",
      "User <peanut307> is from forum <healing well>, has 1 threads, 2 posts.\n",
      "User <pjr64> is from forum <healing well>, has 0 threads, 2 posts.\n",
      "User <rob2> is from forum <healing well>, has 0 threads, 3 posts.\n",
      "User <rockyfords> is from forum <healing well>, has 0 threads, 5 posts.\n",
      "User <samster> is from forum <healing well>, has 0 threads, 3 posts.\n",
      "User <sbharley> is from forum <healing well>, has 1 threads, 0 posts.\n",
      "User <sheepguy> is from forum <healing well>, has 0 threads, 2 posts.\n",
      "User <stixandstonz> is from forum <healing well>, has 1 threads, 0 posts.\n",
      "User <suzhtz> is from forum <healing well>, has 1 threads, 12 posts.\n",
      "User <tarhoosier> is from forum <healing well>, has 0 threads, 1 posts.\n",
      "User <twash> is from forum <healing well>, has 0 threads, 1 posts.\n",
      "User <vn16> is from forum <healing well>, has 0 threads, 1 posts.\n",
      "User <weston> is from forum <healing well>, has 0 threads, 1 posts.\n"
     ]
    }
   ],
   "source": [
    "users = session.query(User).order_by(User.name).all()\n",
    "len(users)\n",
    "for user in users:\n",
    "    print(user)"
   ]
  },
  {
   "cell_type": "code",
   "execution_count": 2,
   "metadata": {
    "collapsed": false
   },
   "outputs": [
    {
     "data": {
      "text/plain": [
       "48"
      ]
     },
     "execution_count": 2,
     "metadata": {},
     "output_type": "execute_result"
    }
   ],
   "source": [
    "\n",
    "author = session.query(User).filter_by(name=\"LowRoad\", forum=\"prostatakrebs\").first()\n",
    "len(author.threads)"
   ]
  },
  {
   "cell_type": "code",
   "execution_count": 7,
   "metadata": {
    "collapsed": false
   },
   "outputs": [
    {
     "name": "stdout",
     "output_type": "stream",
     "text": [
      "Column: id\n",
      "Column: name\n",
      "Column: profile_url\n",
      "Column: forum\n",
      "Column: date_joined\n",
      "Column: total_posts\n",
      "Column: subforum\n"
     ]
    }
   ],
   "source": [
    "from sqlalchemy import inspect\n",
    "inspector = inspect(engine)\n",
    "\n",
    "inspector.get_table_names()\n",
    "for column in inspector.get_columns('users'):\n",
    "   print(\"Column: %s\" % column['name'])"
   ]
  },
  {
   "cell_type": "code",
   "execution_count": 6,
   "metadata": {
    "collapsed": false
   },
   "outputs": [
    {
     "data": {
      "text/plain": [
       "307"
      ]
     },
     "execution_count": 6,
     "metadata": {},
     "output_type": "execute_result"
    }
   ],
   "source": [
    "posts = session.query(Post).filter_by(subforum='Angehörigenforum').all()\n",
    "len(posts)"
   ]
  },
  {
   "cell_type": "code",
   "execution_count": 7,
   "metadata": {
    "collapsed": false
   },
   "outputs": [
    {
     "data": {
      "text/plain": [
       "68"
      ]
     },
     "execution_count": 7,
     "metadata": {},
     "output_type": "execute_result"
    }
   ],
   "source": [
    "threads = session.query(Thread).filter_by(subforum='Prostatakrebs und Psyche').all()\n",
    "len(threads)"
   ]
  },
  {
   "cell_type": "code",
   "execution_count": 2,
   "metadata": {
    "collapsed": false
   },
   "outputs": [],
   "source": [
    "user3 = User(name=\"liangcheng\", subforum=\"c\")\n",
    "session.add(user3)\n",
    "session.commit()"
   ]
  },
  {
   "cell_type": "code",
   "execution_count": 11,
   "metadata": {
    "collapsed": true
   },
   "outputs": [],
   "source": [
    "user = session.query(User).filter_by(name=\"liangcheng\").first()"
   ]
  },
  {
   "cell_type": "code",
   "execution_count": 12,
   "metadata": {
    "collapsed": false
   },
   "outputs": [],
   "source": [
    "user"
   ]
  },
  {
   "cell_type": "code",
   "execution_count": 10,
   "metadata": {
    "collapsed": false
   },
   "outputs": [],
   "source": [
    "session.delete(user)\n",
    "session.commit()"
   ]
  },
  {
   "cell_type": "code",
   "execution_count": 3,
   "metadata": {
    "collapsed": false
   },
   "outputs": [],
   "source": [
    "num = session.query(Thread).count()\n"
   ]
  },
  {
   "cell_type": "code",
   "execution_count": 4,
   "metadata": {
    "collapsed": false
   },
   "outputs": [
    {
     "data": {
      "text/plain": [
       "28850"
      ]
     },
     "execution_count": 4,
     "metadata": {},
     "output_type": "execute_result"
    }
   ],
   "source": [
    "num"
   ]
  },
  {
   "cell_type": "code",
   "execution_count": 3,
   "metadata": {
    "collapsed": false
   },
   "outputs": [
    {
     "name": "stdout",
     "output_type": "stream",
     "text": [
      "\n",
      "Title: Just Starting The Journey \n",
      "User: TeeItUp \n",
      "Time: 2015-09-14 07:29:00 \n",
      "Posts: 24\n",
      "URL: http://www.healingwell.com/community/default.aspx?f=35&m=3496329 \n",
      "Hello All, \n",
      "\n",
      "24\n",
      "\n",
      "Title: why are we so afraid of death when we know we ll die \n",
      "User: Bololidat \n",
      "Time: 2015-11-05 22:10:00 \n",
      "Posts: 24\n",
      "URL: http://www.healingwell.com/community/default.aspx?f=35&m=3529134 \n",
      "Im curious to know how the men with pca feel about this, significant others also.\n",
      "Why are grown men so leary to live out side the box, take some chances, even with odds that are so in their favor Where is the zest for life, the excitement of life. Why do some have it while most do not what is the difference in men that makes this a reality.  You can start this adventure by answering from the gut.. You know gut feelings the thing that makes us real and not shadows on the cave wall. do not be ashamed to question the premise, but have solid thoughts. having said that say what you will its all part of ,as gov jerry brown said back in the day part of the mosaic \n",
      "\n",
      "24\n",
      "\n",
      "Title: Sorry guys! \n",
      "User: BillyBob@388 \n",
      "Time: 2015-11-09 21:09:00 \n",
      "Posts: 1\n",
      "URL: http://www.healingwell.com/community/default.aspx?f=35&m=3531443 \n",
      "Well, it took me to get the thread locked! I don't think I have ever accomplished such before. So, my apologies to all involved. I could never have dreamed my few words briefly referencing past history could have done that, but they did. So I imagine this thread will also be immediately closed, but I am at least hoping to get that apology in to the group having the discussion. Sorry guys!\n",
      "Bill \n",
      "\n",
      "1\n",
      "\n",
      "Title: Info on PSA’s > 50 \n",
      "User: adjust \n",
      "Time: 2013-01-12 13:09:00 \n",
      "Posts: 24\n",
      "URL: http://www.healingwell.com/community/default.aspx?f=35&m=2612429 \n",
      "  Date------^\n",
      "\n",
      "Before you post a response, two things: First, this is an old thread and, second, the original postger -- Don aka adjust -- has passed away.  \n",
      "\n",
      "RIP\n",
      "\n",
      "  -- PeterDisAbelard\n",
      "\n",
      "Hi all,\n",
      "First off, I sincerely appreciate all of those who share their experiences here and elsewhere. There is no substitute for leaning from those who have experienced.\n",
      "\n",
      "Got my initial PSA results and it was a whopping 84.7. It didn’t take much internet reading to figure out that this is not a good number. I have symptoms of an enlarged prostate and the urologist did detect a nodule. My biopsy is not schedule for a couple weeks out and I do understand that a DRE/PSA alone does not provide a complete picture. \n",
      "\n",
      "However, since I have some time between now and my biopsy, I’m looking for some help on what I should start preparing for, based upon the experiences of others having extra high PSA numbers. \n",
      "\n",
      "I’ve already done a lot of internet research and as such I am prepared that the biopsy will return a cancer prognosis. What I’m having a difficult time assessing, is the likelihood of the cancer still being confined to the prostate, and hence the treatment options to continue researching.  When I asked my GP if he’s ever had a patient with this high a PSA whom didn’t have cancer, he could recall one with a PSA > 100 (he may have said 1000), who was diagnosed with cancer, but was still confined to the prostate (so I already know it is possible).\n",
      "\n",
      "The vast majority of prostate cancer patients that I’ve found on forums, have detected their problem much earlier in its development cycle (lower PSA’s), which is great, and a strong testament to early screening. \n",
      "\n",
      "I’ve been spending a lot of time focusing on advanced cancer and aggressive treatment options, but maybe I’m being too pessimistic. Some might say, “Be careful what you ask for”, but I can accept the facts, and would rather be prepared.  I also know that even if I have to deal with fighting an advanced cancer stage, there are an ever growing number of treatment options available and many success stories.\n",
      "\n",
      " Thanks in advance!Post Edited By Moderator (PeterDisAbelard.) : 11/9/2015 3:04:42 PM (GMT-7) \n",
      "\n",
      "24\n",
      "\n",
      "Title: Sad news - our friend \"adjust\" (Don) passed away \n",
      "User: Gunner34 \n",
      "Time: 2015-11-08 20:20:00 \n",
      "Posts: 20\n",
      "URL: http://www.healingwell.com/community/default.aspx?f=35&m=3530821 \n",
      "I'm sorry if this news was already shared on this site.  I haven't seen anything and couldn't find anything by searching his name.  I was looking for info on him when I didn't hear back from him on our last set of emails.  I came across his obituary tonight and it really took me by surprise.  He died on September 9th.  Don's HW handle was \"adjust\".\n",
      "\n",
      "I drove down to meet him for lunch at Mayo not long ago.  I'm a little shocked right now.  \n",
      "\n",
      "I'll miss you Don.  Thoughts and prayers for Wendy and your family.Post Edited (Gunner34) : 11/8/2015 8:55:26 PM (GMT-7) \n",
      "\n",
      "20\n",
      "\n",
      "Title: Radiation Started Today \n",
      "User: RioMedinaBill \n",
      "Time: 2015-11-09 16:02:00 \n",
      "Posts: 6\n",
      "URL: http://www.healingwell.com/community/default.aspx?f=35&m=3531285 \n",
      "I started my 9 week treatment today with 45 visits scheduled just before I start work. It will be 180 cgy dose with a machine called Varian Rapid Arc Triology model. Pretty well routine with nothing outstanding to comment on. I thank all the members who helped me get to this point in one piece, and moving forward. It is a humbling experience to realize in order to deal with this cancer you must be able to accept help, that being the hardest for me. I look forward to a positive outcome solely as a result of the Healing Well Forum.  Bill \n",
      "\n",
      "6\n",
      "\n",
      "Title: Prostate Swelling, Prostatitis \n",
      "User: RxOk2015 \n",
      "Time: 2015-11-08 13:27:00 \n",
      "Posts: 2\n",
      "URL: http://www.healingwell.com/community/default.aspx?f=35&m=3530641 \n",
      "For most of the last 19 years I have a job where I stand a lot; I am a Pharmacist. So the last 4 years I started noticing that I urinate a lot. I drink a lot of Diet Coke and so I thought it was due to that. But about 3 years ago, I noticed when I urinated I had to push my 2 fingers behind my testicles and push up to get the urine stream to go faster. I did not think much about it. Than I started getting pain in the middle of the night under my testicles and I went to the urologist and took a PSA and it was about 3.25; few years previous I had one by my regular physician it was 2 I think. So than he gave me antibiotics and it did not work , I think doxycycline and ciprofloxacin 500mg twice daily. So than he did another PSA ; now 5.4 and with urinary retention of 500ml in bladder constantly. He told me last year to do the laser to core out the prostate; I hesitated. I have had 2 biopsies; one about 12 months ago, Psa remains about 5-6 but biopsy with MRI overlay was normal. Urination appeared ok for last 12 months not too much pain, I take one tablespoonful of Pumpkin oil daily. eat a lot of vegetables all types but now the pain comes back, all night nagging pain with slow urine flow; my appointment is with urologist Tuesday .  I do not know what is going on. I do lots of weightlifting ; squats and pull ups and push up and you name it. WHen I do the weightlifting the prostate hurts more. The Gat-Goren technique interests me; can you do in the U.S and will insurance cover it. I can not achieve erection and have numbness in my penis and whole scrotum area; it has been like that for a while. Once in a blue moon my penis will become erect and than you can achieve sexual climax; however it goes away and will not come back. Advice.?  G-G or core out with laser; or I do not know what is wrong now. \n",
      "\n",
      "2\n",
      "\n",
      "Title: Revisiting our old PSA controversy \n",
      "User: compiler \n",
      "Time: 2015-11-09 11:31:00 \n",
      "Posts: 21\n",
      "URL: http://www.healingwell.com/community/default.aspx?f=35&m=3531130 \n",
      "Dr. Scholz has a very reasoned commentary about it.\n",
      "\n",
      "http://prostatesnatchers.blogspot.com/2015/11/biopsy-not-psa-leads-to-prostate-cancer_3.html\n",
      "\n",
      "Mel \n",
      "\n",
      "21\n",
      "\n",
      "Title: Acute prostatitis post biopsy - Hospital, or not? \n",
      "User: balingtwine \n",
      "Time: 2015-10-24 15:09:00 \n",
      "Posts: 8\n",
      "URL: http://www.healingwell.com/community/default.aspx?f=35&m=3521836 \n",
      "Guys, may I kindly ask for your advice again.  My web searches have not provided with the amount of information I would have liked.\n",
      "\n",
      "I started suffering from acute prostatitis 30 days after my biopsy.  I am now on my second round of antibiotics (amoxicillin) and, although I thought it cleared the UTI quite fast, I am now quite poorly seven days after starting the treatment.  I am reluctant to visit a hospital on the weekend and my plan is to wait until next week.  I managed to get an appointment for Wednesday.\n",
      "\n",
      "Is there really a relevant risk of delaying medical attention?\n",
      "\n",
      "Many thanks in advance. \n",
      "\n",
      "8\n",
      "\n",
      "Title: Dangerous Pain Meds \n",
      "User: Tim G \n",
      "Time: 2015-11-08 15:44:00 \n",
      "Posts: 10\n",
      "URL: http://www.healingwell.com/community/default.aspx?f=35&m=3530698 \n",
      "I posted an article a long time ago about the dangers of opioids.  Today's NY Times has an editorial spelling out the dangers of opioid pain medications.\n",
      "\n",
      "For anyone interested, here is the link to the article:\n",
      "\n",
      "  \n",
      "www.nytimes.com/2015/11/08/opinion/sunday/how-doctors-helped-drive-the-addiction-crisis.html?action=click&pgtype=Homepage&module=opinion-c-col-top-region®ion=opinion-c-col-top-region&WT.nav=opinion-c-col-top-region&_r=0 \n",
      "\n",
      "10\n",
      "\n",
      "Title: Recent High Gleason, low PSA study \n",
      "User: spouse21 \n",
      "Time: 2015-11-10 08:00:00 \n",
      "Posts: 0\n",
      "URL: http://www.healingwell.com/community/default.aspx?f=35&m=3531549 \n",
      "Some men, like my husband (Gleason 9, PSA 3.32 at dx) , present with symptoms (his included a lot of visible blood in urine and sudden urinary problems) or fast doubling times, despite low PSA. This recent study found that the combination of high Gleason, low PSA, can represent an aggressive form of prostate cancer. Not much is known about this anomaly since it's relatively rare, so there aren't too many men to study. I'm passing it this link, so if anyone with high Gleason 8,9,10, low PSA, can further research the original study.\n",
      "\n",
      "http://prostatecancerinfolink.net/2015/11/09/low-psa-gleason-8-to-10-disease-predictive-of-higher-risk-worse-survival/?utm_source=feedburner&utm_medium=email&utm_campaign=Feed%3A+TheProstateCancerInfolink+%28The+Prostate+Cancer+InfoLink%29 \n",
      "\n",
      "0\n",
      "\n",
      "Title: 3t-Mri results today \n",
      "User: 0311 \n",
      "Time: 2015-11-10 09:02:00 \n",
      "Posts: 5\n",
      "URL: http://www.healingwell.com/community/default.aspx?f=35&m=3531560 \n",
      "Hello Men,Im going in 1 hour to get results from my 3t-MRI with Wifey.As I have not had any Biopsy yet,I am scheduled for a fusion Biopsy next week.A 12 core will be done also regardless of 3T-mri results.This will be my Uros first Fusion guided Biopsy,but has 20 yrs exp.My stress level has been very high since all this started in Jan.2015.I feel lucky to have you guys and girls to fall back on.Thanks John \n",
      "\n",
      "5\n",
      "\n",
      "Title: 1st year in the 0 psa club \n",
      "User: johncaelen \n",
      "Time: 2015-01-07 11:10:00 \n",
      "Posts: 19\n",
      "URL: http://www.healingwell.com/community/default.aspx?f=35&m=3291039 \n",
      "Just got my results <0.1 psa, my surgery was exactly a year ago, thanks for all of the advice this year and help with ED, post surgury ect. THANKS TO EVERYONE who responded to my questions. To my friend who had his surgery the same day as mine (1-6-14) (forgot name drmvt or something like that), I am hoping the same news for you and everyone else on this site!!!!!!!!!!!!!!!!!!!!!!!!!!!! \n",
      "\n",
      "19\n",
      "\n",
      "Title: Feedback from members with IMRT in past years and Quality of Life. \n",
      "User: lapilot \n",
      "Time: 2015-11-08 09:12:00 \n",
      "Posts: 13\n",
      "URL: http://www.healingwell.com/community/default.aspx?f=35&m=3530528 \n",
      "I just completed my first week of IMRT/IGRT and was wondering what is further down the road for me.  Looking for feedback from people that have undergone radiotherapy  1, 3, 5 and more years ago.  Specifically how is your Quality of Life compared to prior radiotherapy.   I am 62 years old and in very good health and 99.8% continent with NO ED problems.\n",
      "\n",
      "Any information is greatly appreciated!\n",
      "Nick \n",
      "\n",
      "13\n",
      "\n",
      "Title: Has a chill been created? \n",
      "User: Bololidat \n",
      "Time: 2015-11-10 10:56:00 \n",
      "Posts: 1\n",
      "URL: http://www.healingwell.com/community/default.aspx?f=35&m=3531625 \n",
      "While I was not the moderator involved in the previous lock, I respect his opinion that the subject matter had moved to an area that was offensive to some members -- that's why he locked it.  As Steve points out below this is a prostate cancer support forum.  We have been extremely tolerant re OT subject matter but the other moderator drew a line.  Please respect that and move on.\n",
      "\n",
      "Logo, I simply chose to delete your entire post on this one rather than trying to edit.  \n",
      "\n",
      "JimPost Edited By Moderator (Tudpock18) : 11/10/2015 9:26:45 AM (GMT-7) \n",
      "\n",
      "1\n",
      "\n",
      "Title: Trial for those with rising PSA, castrate-resistent, but no mets \n",
      "User: SpecialLady \n",
      "Time: 2015-11-10 15:23:00 \n",
      "Posts: 0\n",
      "URL: http://www.healingwell.com/community/default.aspx?f=35&m=3531801 \n",
      "I have been seeing lately a few posters here in a situation with rising PSA, no evidence of metastatc disease, but already castrate-resistant.  There is a trial, that I know about, that is recruiting all over the world exactly such patients:  a new generation androgen receptor inhibitor (sort of like Casodex on steroids), potentially a competitor for Xtandi: clinicaltrials.gov/ct2/show/study/NCT02200614  \n",
      "\n",
      "There are some exciting new immunotherapies and vaccine trials for PC that are also recruiting, always good to keep an eye on the clinical trials website.  At times the inclusion criteria are very specific (like above) but the obvious advantage is access to new generation medication for free.  It is also very important to read the conditions of the trial and discuss with your oncologist (plan A, B, C, what if, what when....). \n",
      "\n",
      "0\n",
      "\n",
      "Title: HT - short term/long term \n",
      "User: chatalaine \n",
      "Time: 2015-11-10 00:30:00 \n",
      "Posts: 6\n",
      "URL: http://www.healingwell.com/community/default.aspx?f=35&m=3531671 \n",
      "We're curious. Many members on HW have received ADT for quite a while - 2 years and more. BF's uro is recommending Lupron for only 6 months (2 q 3 months). Not that I'm wishing ugly SEs on the love of my life for an extended period of time, but what are we missing? \n",
      "\n",
      "6\n",
      "\n",
      "Title: Biopsy tip... \n",
      "User: Paul65 \n",
      "Time: 2015-11-10 11:24:00 \n",
      "Posts: 11\n",
      "URL: http://www.healingwell.com/community/default.aspx?f=35&m=3531639 \n",
      "Just had my UroNav biopsy a couple of hours ago... Of course many here are old hands but for newbies like me here was my recipie:\n",
      "\n",
      "1. I had a Xanax and a Tylenol on board as a pre-emotive strike.\n",
      "2. Music REALLY freakin helps! Once again 'Kasmir' very loud literally saved my sorry ass. It turns the click into a distant 'THUMP'.\n",
      "\n",
      "No blood in post biopsy urine which was encouraging. Now just a dull ache. The worst parts?\n",
      "\n",
      "1. Waiting 8 mutherfarking weeks\n",
      "2. The initial lidocaine shots sting a bit\n",
      "3. Trying not to count the thumps!\n",
      "4. When they pulled the post coital 'Manpon' outta my ass!\n",
      "\n",
      "Not something to have on your bucket list but not as bad as ones imagination tricks you into believing...\n",
      "\n",
      "Now I wait... And lick the windows.\n",
      "\n",
      "Northwestern, you're welcome to Schaeffer, the man is a Vulcan ;o)\n",
      "\n",
      "PaulPost Edited (Paul65) : 11/10/2015 4:25:15 PM (GMT-7) \n",
      "\n",
      "11\n",
      "\n",
      "Title: Can PSA go Undetectable with only ADT (no Prostatectomy?) \n",
      "User: sankalp \n",
      "Time: 2015-11-09 00:54:00 \n",
      "Posts: 4\n",
      "URL: http://www.healingwell.com/community/default.aspx?f=35&m=3531183 \n",
      "Hi everyone, \n",
      "\n",
      "My father was diagnosed with Stage 4 D2 disease a month back and took his first Degarelix injection right away. His PSA was 58 at diagnosis and dropped to 27 four days after starting Degarelix . My question is that how would we know if ALL his cancer is hormone-sensitive? What is the PSA level we can hope to achieve (we are getting the test done again later this week)? Can PSA go undetectable on just ADT? Given he hasn't had a prostatectomy, isn't undetectable PSA an impossibility given his Prostate cells (not prostate cancer cells) would keep producing PSA? I'm trying to understand the biology here....do Prostate cells also become inactive if they don't get Testosterone and therefore stop producing PSA? \n",
      "\n",
      "Any insight would be much appreciated. Thanks a ton!\n",
      "\n",
      "Best,\n",
      "Sankalp \n",
      "\n",
      "4\n",
      "\n",
      "Title: 3t-mpMRI results \n",
      "User: 0311 \n",
      "Time: 2015-11-10 13:21:00 \n",
      "Posts: 10\n",
      "URL: http://www.healingwell.com/community/default.aspx?f=35&m=3531716 \n",
      "Hello Men,just came back from visit with Uro to discuss my results.He seemed to down play them but when Wifey and me read them on the way home we are very concerned.My Fusion guided Biopsy is next Wed.Here are my results:\n",
      "The prostate measures 3.3x4.7x3.5cm in anterior to posterior x transverse x craniocaudal dimensions.Prostate volume is 27.4 mL.PSA density is 0.21 ng/ml based on the most recent reported PSA.\n",
      "Most suspicious lesion labeled lesion #1 on this study is in the left mid to lateral apex of the gland.This lesion measures 7x5x6mm.There is markedly decreased T2 signal.There is low signal on the ADC map consistent with diffusion restriction.Legion demonstrares malignent enhancement characteristics with wash out as well as increasd rate of influx(Ktrans) and increased rate of effux(KEP).This lesion is highly suspicious for prostate malignancy\n",
      "Second lesion was in the right medial base.This lesion measures 8x5x6mm.This demonstrates mild decreased signal on the T2 sequence.There is no significant effusion here. Lesion demonstrates borderline malignant contrast enhancement characteristics with wash out and increased rate of influx and efflux.This lesion is of moderate suspicion.\n",
      "Both of these lesions were marked with regions of interest for purpose of transfer to the ultrasound biopsy fusion unit.\n",
      "Impressions:Mri demonstrating highly suspicious lesion in the left apex and modertly suspicious lesion in the right base.These lesions were marked with regions of interest for purpose of transferring to uro-Nav softwear for ultra-sound-guided biopsy.\n",
      "\n",
      "Anyony have similar Dx,or anyone can translate some of this would be helpful.It sounds like Im in the Hurt Locker with these findings.Gees,and this is only the beginning.Thank You,SemperFi,0311 \n",
      "\n",
      "10\n"
     ]
    }
   ],
   "source": [
    "for x in range(2000,2020):\n",
    "    thread = session.query(Thread).get(x+1)\n",
    "    print(thread)\n",
    "    print(len(thread.posts))"
   ]
  },
  {
   "cell_type": "code",
   "execution_count": 2,
   "metadata": {
    "collapsed": false
   },
   "outputs": [
    {
     "name": "stdout",
     "output_type": "stream",
     "text": [
      "7\n",
      " \n",
      "I am having a very nice day.\n"
     ]
    }
   ],
   "source": [
    "import re\n",
    "line = \" \\nI am having a very nice day.\"\n",
    "count = len(re.findall(r'\\w+', line))\n",
    "print (count)\n",
    "print (line)"
   ]
  },
  {
   "cell_type": "code",
   "execution_count": 3,
   "metadata": {
    "collapsed": true
   },
   "outputs": [],
   "source": [
    "def word_count(doc):\n",
    "    count = len(re.findall(r'\\w+', doc))\n",
    "    return count"
   ]
  },
  {
   "cell_type": "code",
   "execution_count": 35,
   "metadata": {
    "collapsed": false
   },
   "outputs": [],
   "source": [
    "thread = session.query(Thread).get(0)"
   ]
  },
  {
   "cell_type": "code",
   "execution_count": 37,
   "metadata": {
    "collapsed": false
   },
   "outputs": [
    {
     "data": {
      "text/plain": [
       "NoneType"
      ]
     },
     "execution_count": 37,
     "metadata": {},
     "output_type": "execute_result"
    }
   ],
   "source": [
    "type(thread)"
   ]
  },
  {
   "cell_type": "code",
   "execution_count": 10,
   "metadata": {
    "collapsed": false
   },
   "outputs": [
    {
     "data": {
      "text/plain": [
       "[\n",
       " User: Newton451 \n",
       " Time: 2016-07-29 07:55:00 \n",
       " Thread: Do you have a favorite saying? \n",
       " Order: None \n",
       " URL: http://www.healingwell.com/community/default.aspx?f=35&m=3674693 \n",
       " Everywhere ya go.....there ya are!\n",
       " \n",
       " I know you think you understand what you think I said, but what you heard isn't really what I meant. ,\n",
       " \n",
       " User: alephnull \n",
       " Time: 2016-07-29 08:16:00 \n",
       " Thread: Do you have a favorite saying? \n",
       " Order: None \n",
       " URL: http://www.healingwell.com/community/default.aspx?f=35&m=3674693 \n",
       " It ain't over till it's over ,\n",
       " \n",
       " User: 81GyGuy \n",
       " Time: 2016-07-29 08:22:00 \n",
       " Thread: Do you have a favorite saying? \n",
       " Order: None \n",
       " URL: http://www.healingwell.com/community/default.aspx?f=35&m=3674693 \n",
       " \"Live above cancer.\"\n",
       " \n",
       " From a post entered here on this very forum not long ago. (By MsWorryWart, if memory serves).\n",
       " \n",
       " Well, maybe it's more of a motto than a saying, but it sure is relevant. ,\n",
       " \n",
       " User: Herophilus \n",
       " Time: 2016-07-29 08:34:00 \n",
       " Thread: Do you have a favorite saying? \n",
       " Order: None \n",
       " URL: http://www.healingwell.com/community/default.aspx?f=35&m=3674693 \n",
       " res ipsa loquitur (the facts speak for themselves) ,\n",
       " \n",
       " User: JackH \n",
       " Time: 2016-07-29 08:38:00 \n",
       " Thread: Do you have a favorite saying? \n",
       " Order: None \n",
       " URL: http://www.healingwell.com/community/default.aspx?f=35&m=3674693 \n",
       " Spelling is difficoult chalanging hard. ,\n",
       " \n",
       " User: JamesE \n",
       " Time: 2016-07-29 08:42:00 \n",
       " Thread: Do you have a favorite saying? \n",
       " Order: None \n",
       " URL: http://www.healingwell.com/community/default.aspx?f=35&m=3674693 \n",
       " I'm sure I will think of others but these first come to mind:\n",
       " \n",
       " The Nike Phrase 'Just do it' has always been good for me especially since I am self-employed. Plenty of times I'm just exhausted from work and don't want to call that customer or face that complaint or put in that extra hard day and I've had to learn to put it all aside and just get things done. It carries over in most parts of my life as well and of course doing what needed to get done for this PC deal. I come from a background of procrastinators so motivation had to be self taught.\n",
       " \n",
       " On a silly note when I was a bit younger and in a silly mood with my significant other and in the middle of some intimate relations I would sometimes use the self made line (sadly, lol) 'I'm as hard as a rock so why don't you romance the stone\". It never went over well but I really amused myself. (Romancing the Stone was an old Michael Douglas/ Kathleen Turner movie; boy was she sweet) My current girlfriend of 16 years had to put up with that line earlier in our relationship but of course I could not use that line now circumstances being what they are. If I ever return to the 'hard as a rock' stage of recovery I look forward to using that line again and this time I think it would put a smile on my lady's face for sure.....Jim ,\n",
       " \n",
       " User: JamesE \n",
       " Time: 2016-07-29 08:47:00 \n",
       " Thread: Do you have a favorite saying? \n",
       " Order: None \n",
       " URL: http://www.healingwell.com/community/default.aspx?f=35&m=3674693 \n",
       " ps...Newton, that line is a crack up...Everywhere I go I'm there too, lol... ,\n",
       " \n",
       " User: InTheShop \n",
       " Time: 2016-07-29 09:02:00 \n",
       " Thread: Do you have a favorite saying? \n",
       " Order: None \n",
       " URL: http://www.healingwell.com/community/default.aspx?f=35&m=3674693 \n",
       " I have a ton of sayings:\n",
       " \n",
       " \"If wishes were horses, we'd need more brooms and shovels.\"\n",
       " \"If I was any better they'd arrest me.\"\n",
       " \"The moon maybe smaller than the earth, but it's further away.\"\n",
       " \"It's good to be seen.\"\n",
       " \"Any day above ground is good.\"\n",
       " \"Is it lunch time yet?\"\n",
       " \"Not all who wander are lost. Some are just looking for their glasses.\"\n",
       " \n",
       " More sayings as I think of them.\n",
       " Andrew ,\n",
       " \n",
       " User: sheepguy \n",
       " Time: 2016-07-29 09:06:00 \n",
       " Thread: Do you have a favorite saying? \n",
       " Order: None \n",
       " URL: http://www.healingwell.com/community/default.aspx?f=35&m=3674693 \n",
       " \"you can't stop what's coming,  the world ain't waitin'  on  you, to think otherwise is just vanity.\"\n",
       " \n",
       " and\n",
       " \n",
       " \"not everything turns out the way you think it should\" ,\n",
       " \n",
       " User: Newton451 \n",
       " Time: 2016-07-29 09:10:00 \n",
       " Thread: Do you have a favorite saying? \n",
       " Order: None \n",
       " URL: http://www.healingwell.com/community/default.aspx?f=35&m=3674693 \n",
       " Thanks JamesE. \n",
       " I also like to say \"The earth is flat.....but it's cut in a circle\" ,\n",
       " \n",
       " User: RCS \n",
       " Time: 2016-07-29 09:15:00 \n",
       " Thread: Do you have a favorite saying? \n",
       " Order: None \n",
       " URL: http://www.healingwell.com/community/default.aspx?f=35&m=3674693 \n",
       " \"Courage is being scarred to death but saddling up anyway\"\n",
       " John Wayne ,\n",
       " \n",
       " User: JamesE \n",
       " Time: 2016-07-29 09:19:00 \n",
       " Thread: Do you have a favorite saying? \n",
       " Order: None \n",
       " URL: http://www.healingwell.com/community/default.aspx?f=35&m=3674693 \n",
       " I also like In the  Shop's 'Not all who wander are lost. Some are just looking for their glasses' Brings a smile to my face as my Mom is just this year in a nursing home and we/she are ALWAYS looking for her glasses. And the funny part is she never wears them, they always stay in the case because she does not want to lose them, lol.\n",
       " \n",
       " All is not lost Mom, hang tough....Jim ,\n",
       " \n",
       " User: compiler \n",
       " Time: 2016-07-29 09:23:00 \n",
       " Thread: Do you have a favorite saying? \n",
       " Order: None \n",
       " URL: http://www.healingwell.com/community/default.aspx?f=35&m=3674693 \n",
       " I used to have a signature line that said:\n",
       " \n",
       " Remember, if you can keep your head/wits about you when everyone else around you is panicking...then perhaps you don't fully understand the situation\n",
       " \n",
       " Mel ,\n",
       " \n",
       " User: JamesE \n",
       " Time: 2016-07-29 09:41:00 \n",
       " Thread: Do you have a favorite saying? \n",
       " Order: None \n",
       " URL: http://www.healingwell.com/community/default.aspx?f=35&m=3674693 \n",
       " That's great Mel.... ,\n",
       " \n",
       " User: Dan0 \n",
       " Time: 2016-07-29 10:19:00 \n",
       " Thread: Do you have a favorite saying? \n",
       " Order: None \n",
       " URL: http://www.healingwell.com/community/default.aspx?f=35&m=3674693 \n",
       " All men die, not all men truly live. William Wallace\n",
       " \n",
       " or from Yogi\n",
       " We may be lost, but we're making good time.\n",
       " It gets late awful early out here.\n",
       " It's too crowded, nobody goes there anymore.\n",
       " \n",
       " I could do this for awhile, but work calls \n",
       " \n",
       " I just thought of an original that I use frequently:\n",
       " Whenever I startle someone without meaning to, I quickly reply\n",
       " \"good thing I didn't say BOO!\"\n",
       " \n",
       " \n",
       " Be Well ,\n",
       " \n",
       " User: JamesE \n",
       " Time: 2016-07-29 10:27:00 \n",
       " Thread: Do you have a favorite saying? \n",
       " Order: None \n",
       " URL: http://www.healingwell.com/community/default.aspx?f=35&m=3674693 \n",
       " My girlfriend just reminded me, when she would threaten me (yeah, she's a tough talking redhead) I would say: 'If I was wearing boots I'd be shaking in them' ,\n",
       " \n",
       " User: Bololidat \n",
       " Time: 2016-07-29 10:41:00 \n",
       " Thread: Do you have a favorite saying? \n",
       " Order: None \n",
       " URL: http://www.healingwell.com/community/default.aspx?f=35&m=3674693 \n",
       " Do at least one thing each day that you don't want to do... ,\n",
       " \n",
       " User: Biker56 \n",
       " Time: 2016-07-29 10:45:00 \n",
       " Thread: Do you have a favorite saying? \n",
       " Order: None \n",
       " URL: http://www.healingwell.com/community/default.aspx?f=35&m=3674693 \n",
       " An on-stage one liner oft recited by Keith Richards:\n",
       " \"Its great to be here, its great to be anywhere!\"\n",
       " \n",
       " The ADT lament, credit to someone on this site:\n",
       " \"I am indifferent to naked women.\" ,\n",
       " \n",
       " User: Herophilus \n",
       " Time: 2016-07-29 00:37:00 \n",
       " Thread: Do you have a favorite saying? \n",
       " Order: None \n",
       " URL: http://www.healingwell.com/community/default.aspx?f=35&m=3674693 \n",
       " work the problem people, let's don't complicate things by guessing... (Apollo 13) ,\n",
       " \n",
       " User: Tony Crispino \n",
       " Time: 2016-07-29 00:50:00 \n",
       " Thread: Do you have a favorite saying? \n",
       " Order: None \n",
       " URL: http://www.healingwell.com/community/default.aspx?f=35&m=3674693 \n",
       " Vancouver, Vancouver!  This is it! ,\n",
       " \n",
       " User: Tudpock18 \n",
       " Time: 2016-07-29 00:55:00 \n",
       " Thread: Do you have a favorite saying? \n",
       " Order: None \n",
       " URL: http://www.healingwell.com/community/default.aspx?f=35&m=3674693 \n",
       " \"Measure twice, cut once\"\n",
       " \n",
       " \"Use spell-check before hitting send\".\n",
       " \n",
       " Jim ,\n",
       " \n",
       " User: Newton451 \n",
       " Time: 2016-07-29 13:09:00 \n",
       " Thread: Do you have a favorite saying? \n",
       " Order: None \n",
       " URL: http://www.healingwell.com/community/default.aspx?f=35&m=3674693 \n",
       " Dyslexics of the world, Untie! ,\n",
       " \n",
       " User: JackH \n",
       " Time: 2016-07-29 13:10:00 \n",
       " Thread: Do you have a favorite saying? \n",
       " Order: None \n",
       " URL: http://www.healingwell.com/community/default.aspx?f=35&m=3674693 \n",
       " If you are going to have an unnecessary surgery for low-risk PC, make sure you have the very best surgeon perform it.\n",
       "  -- Dr Patrick Walsh, father of the nerve-sparing prostatectomy ,\n",
       " \n",
       " User: RandyJoe \n",
       " Time: 2016-07-29 14:34:00 \n",
       " Thread: Do you have a favorite saying? \n",
       " Order: None \n",
       " URL: http://www.healingwell.com/community/default.aspx?f=35&m=3674693 \n",
       " .....but the one who's worthwhile is the one who will smile even when his sandwich falls jelly side down - Charlie Brown.\n",
       " \n",
       " This is part of a short poem.  I can't remember the rest of if, but I always loved this line. ]"
      ]
     },
     "execution_count": 10,
     "metadata": {},
     "output_type": "execute_result"
    }
   ],
   "source": [
    "thread = session.query(Thread).filter_by(url=\"http://www.healingwell.com/community/default.aspx?f=35&m=3674693\").first()\n",
    "thread.posts[1].forum\n",
    "thread.posts"
   ]
  },
  {
   "cell_type": "code",
   "execution_count": 46,
   "metadata": {
    "collapsed": false
   },
   "outputs": [],
   "source": [
    "import csv\n",
    "with open('posts.csv', 'w') as csvfile:\n",
    "    spamwriter = csv.writer(csvfile)\n",
    "    for x in range(0,10):\n",
    "        thread = session.query(Thread).get(x+1)\n",
    "        spamwriter.writerow([thread.title, thread.timestamp, thread.body])"
   ]
  },
  {
   "cell_type": "code",
   "execution_count": 35,
   "metadata": {
    "collapsed": true
   },
   "outputs": [],
   "source": [
    "from bs4 import BeautifulSoup\n",
    "def body_parser(body):\n",
    "    if body.find('<hr class=\"PostHR\">') != -1:\n",
    "        body = body[:body.find('<hr class=\"PostHR\">')]\n",
    "    body = body.replace(\"<br>\",\"NEWLINE\")\n",
    "    soup = BeautifulSoup(body, 'html.parser')\n",
    "    text = soup.get_text()\n",
    "    return text.replace(\"NEWLINE\", \"\\n\")"
   ]
  },
  {
   "cell_type": "code",
   "execution_count": 36,
   "metadata": {
    "collapsed": false
   },
   "outputs": [
    {
     "name": "stdout",
     "output_type": "stream",
     "text": [
      "Hi all\n",
      "\n",
      "I have been waking up with some discomfort on my right side, i believe it's my lymph node... when I feel carefully I can fill it inflamed.... my CT showed no lymph node involvement, but I'm having some considerable discomfort on the same side my cancer was found with the biopsy (R apex)... feels like a small swollen small rock.\n",
      "\n",
      "Going for my Cysto tomorrow, I think I'm going to ask my urologist about it ... has anyone else had similar symptoms?\n",
      "\n",
      "Thanks\n",
      "Zzarth\n"
     ]
    }
   ],
   "source": [
    "s = \"<div class=\\\"PostMessageBody\\\">Hi all<br><br>I have been waking up with some discomfort on my right side, i believe it's my lymph node... when I feel carefully I can fill it inflamed.... my CT showed no lymph node involvement, but I'm having some considerable discomfort on the same side my cancer was found with the biopsy (R apex)... feels like a small swollen small rock.<br><br>Going for my Cysto tomorrow, I think I'm going to ask my urologist about<strong></strong> it ... has anyone else had similar symptoms?<br><br>Thanks<br>Zzarth<hr class=\\\"PostHR\\\">6/10/16 - first ever PSA results in a 15.1<br>7/25/16 - Biopsy results in G6, 4mm 30% of tissue<br>8/1/16 - started antibiotics to rule out prostatitis  <br>8/5/16 - Hopkins Results in Upgrade to G3+4=7 (Grade group 2), 70%, 10% G4<br>8/5/16 - CT of Prostate shows no lymph node involvement<br>8/10/16 - Laid off from new job when boss learns of my cancer<br>8/17/16 - PSA tested @ 18.0</div>\"\n",
    "ss = body_parser(s)\n",
    "print(ss)"
   ]
  },
  {
   "cell_type": "code",
   "execution_count": 33,
   "metadata": {
    "collapsed": false
   },
   "outputs": [],
   "source": [
    "body = s\n",
    "body = body.replace(\"<br>\",\"NEWLINE\")\n",
    "body\n",
    "soup = BeautifulSoup(body,\"html.parser\")"
   ]
  },
  {
   "cell_type": "code",
   "execution_count": 34,
   "metadata": {
    "collapsed": false
   },
   "outputs": [
    {
     "data": {
      "text/plain": [
       "<div class=\"PostMessageBody\">Hi allNEWLINENEWLINEI have been waking up with some discomfort on my right side, i believe it's my lymph node... when I feel carefully I can fill it inflamed.... my CT showed no lymph node involvement, but I'm having some considerable discomfort on the same side my cancer was found with the biopsy (R apex)... feels like a small swollen small rock.NEWLINENEWLINEGoing for my Cysto tomorrow, I think I'm going to ask my urologist about<strong></strong> it ... has anyone else had similar symptoms?NEWLINENEWLINEThanksNEWLINEZzarth<hr class=\"PostHR\">6/10/16 - first ever PSA results in a 15.1NEWLINE7/25/16 - Biopsy results in G6, 4mm 30% of tissueNEWLINE8/1/16 - started antibiotics to rule out prostatitis  NEWLINE8/5/16 - Hopkins Results in Upgrade to G3+4=7 (Grade group 2), 70%, 10% G4NEWLINE8/5/16 - CT of Prostate shows no lymph node involvementNEWLINE8/10/16 - Laid off from new job when boss learns of my cancerNEWLINE8/17/16 - PSA tested @ 18.0</hr></div>"
      ]
     },
     "execution_count": 34,
     "metadata": {},
     "output_type": "execute_result"
    }
   ],
   "source": [
    "soup"
   ]
  },
  {
   "cell_type": "code",
   "execution_count": null,
   "metadata": {
    "collapsed": true
   },
   "outputs": [],
   "source": []
  }
 ],
 "metadata": {
  "kernelspec": {
   "display_name": "Python 3",
   "language": "python",
   "name": "python3"
  },
  "language_info": {
   "codemirror_mode": {
    "name": "ipython",
    "version": 3
   },
   "file_extension": ".py",
   "mimetype": "text/x-python",
   "name": "python",
   "nbconvert_exporter": "python",
   "pygments_lexer": "ipython3",
   "version": "3.5.1"
  }
 },
 "nbformat": 4,
 "nbformat_minor": 0
}
